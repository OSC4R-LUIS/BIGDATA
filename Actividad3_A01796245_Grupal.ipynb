{
 "cells": [
  {
   "cell_type": "markdown",
   "id": "bb3c6a9b",
   "metadata": {},
   "source": [
    "# **Maestría en Inteligencia Artificial Aplicada**\n",
    "\n",
    "## Curso: **Análisis de grandes volúmenes de datos**\n",
    "\n",
    "## Tecnológico de Monterrey\n",
    "\n",
    "## **Actividad 3:**  Aprendizaje supervisado y no supervisado\n",
    "\n",
    "## Nombre: **Oscar Luis Guadarrama Jiménez** \n",
    "## Matricula:  **A01796245**\n",
    "\n"
   ]
  },
  {
   "cell_type": "markdown",
   "id": "be9f40d6",
   "metadata": {},
   "source": [
    "# **1.Introducción**\n",
    "\n",
    "En el contexto del análisis de grandes volúmenes de datos, el aprendizaje automático se ha convertido en una herramienta fundamental para extraer conocimiento útil. Esta práctica tiene como objetivo aplicar dos tipos de algoritmos de *Machine Learning* en PySpark: uno de **aprendizaje supervisado** y otro de **aprendizaje no supervisado**, utilizando una muestra representativa del dataset **Lending Club**, el cual contiene información financiera de clientes que solicitaron préstamos.\n",
    "\n",
    "---\n",
    "\n",
    "## Aprendizaje Supervisado\n",
    "\n",
    "El aprendizaje supervisado se refiere a técnicas que aprenden a partir de un conjunto de datos etiquetado, es decir, que incluye una **variable objetivo** conocida (también llamada *label* o *target*). El algoritmo aprende la relación entre las variables predictoras (features) y la etiqueta, con el fin de hacer predicciones sobre datos nuevos o desconocidos.\n",
    "\n",
    "### Ejemplos de algoritmos supervisados\n",
    "\n",
    "- **Árboles de Decisión**: construyen un modelo en forma de árbol, donde cada nodo representa una condición sobre una variable, y las hojas una predicción. Son fáciles de interpretar y adecuados para datos estructurados.\n",
    "  \n",
    "- **Random Forest**: consiste en la combinación de varios árboles de decisión, generados aleatoriamente, para mejorar la precisión del modelo y reducir el sobreajuste.\n",
    "\n",
    "- **Multilayer Perceptron**: es un tipo de red neuronal artificial con múltiples capas ocultas. Captura relaciones complejas entre las variables pero requiere más datos y tiempo de entrenamiento.\n",
    "\n",
    "---\n",
    "\n",
    "## Aprendizaje No Supervisado\n",
    "\n",
    "El aprendizaje no supervisado trabaja con datos sin etiquetas. El objetivo es encontrar **estructuras internas**, **agrupamientos** o **relaciones ocultas** entre las observaciones sin que se indique explícitamente qué se debe predecir.\n",
    "\n",
    "### Ejemplos de algoritmos no supervisados\n",
    "\n",
    "- **KMeans**: divide el conjunto de datos en *k* grupos (clusters) que comparten características similares. Es ampliamente usado en segmentación de clientes, análisis de comportamiento o agrupamiento de documentos.\n",
    "\n",
    "- **Gaussian Mixture Model (GMM)**: a diferencia de KMeans que asigna cada punto a un único clúster, GMM calcula la probabilidad de que un punto pertenezca a cada clúster.\n",
    "\n",
    "- **Power Iteration Clustering (PIC)**: técnica más avanzada basada en grafos, útil en redes complejas o cuando los datos tienen forma de red o conectividad.\n",
    "\n",
    "---\n",
    "\n",
    "## Objetivo de la Práctica\n",
    "\n",
    "Aplicar algoritmos de aprendizaje supervisado y no supervisado mediante PySpark para la resolución de problemas en análisis de datos, fomentando el desarrollo de habilidades prácticas en el manejo y procesamiento eficiente de grandes conjuntos de datos."
   ]
  },
  {
   "cell_type": "markdown",
   "id": "0910e160",
   "metadata": {},
   "source": [
    "## Librerías utilizadas\n",
    "\n",
    "A continuación, se importan las librerías necesarias para el procesamiento, modelado y evaluación de datos usando PySpark.\n"
   ]
  },
  {
   "cell_type": "code",
   "execution_count": 1,
   "id": "ed5f07c1",
   "metadata": {},
   "outputs": [],
   "source": [
    "# Sesión de Spark\n",
    "from pyspark.sql import SparkSession\n",
    "\n",
    "# Transformaciones sobre columnas\n",
    "from pyspark.sql.functions import col, when, isnan, count,round,regexp_replace\n",
    "\n",
    "\n",
    "# Preprocesamiento\n",
    "from pyspark.ml.feature import StringIndexer, VectorAssembler, OneHotEncoder\n",
    "from pyspark.ml import Pipeline\n",
    "\n",
    "# Modelos supervisados\n",
    "from pyspark.ml.classification import DecisionTreeClassifier\n",
    "\n",
    "# Modelos no supervisados\n",
    "from pyspark.ml.clustering import KMeans\n",
    "\n",
    "# Evaluación\n",
    "from pyspark.ml.evaluation import MulticlassClassificationEvaluator, ClusteringEvaluator\n",
    "\n",
    "#Visualización y análisis con Pandas y Matplotlib\n",
    "import pandas as pd\n",
    "#import matplotlib.pyplot as plt\n",
    "#import seaborn as sns\n"
   ]
  },
  {
   "cell_type": "code",
   "execution_count": 2,
   "id": "4302f25f",
   "metadata": {},
   "outputs": [
    {
     "data": {
      "text/html": [
       "\n",
       "            <div>\n",
       "                <p><b>SparkSession - in-memory</b></p>\n",
       "                \n",
       "        <div>\n",
       "            <p><b>SparkContext</b></p>\n",
       "\n",
       "            <p><a href=\"http://LAPTOP-INGS482K:4040\">Spark UI</a></p>\n",
       "\n",
       "            <dl>\n",
       "              <dt>Version</dt>\n",
       "                <dd><code>v3.5.4</code></dd>\n",
       "              <dt>Master</dt>\n",
       "                <dd><code>local[*]</code></dd>\n",
       "              <dt>AppName</dt>\n",
       "                <dd><code>LendingClubLoanData</code></dd>\n",
       "            </dl>\n",
       "        </div>\n",
       "        \n",
       "            </div>\n",
       "        "
      ],
      "text/plain": [
       "<pyspark.sql.session.SparkSession at 0x225c357aa20>"
      ]
     },
     "execution_count": 2,
     "metadata": {},
     "output_type": "execute_result"
    }
   ],
   "source": [
    "spark = SparkSession.builder.appName(\"LendingClubLoanData\").getOrCreate()\n",
    "spark"
   ]
  },
  {
   "cell_type": "markdown",
   "id": "2a34cc82",
   "metadata": {},
   "source": [
    "# **2.Selección de los datos**\n",
    "\n"
   ]
  },
  {
   "cell_type": "code",
   "execution_count": 3,
   "id": "c73ea816",
   "metadata": {},
   "outputs": [
    {
     "name": "stdout",
     "output_type": "stream",
     "text": [
      "+----+---------+---------+-----------+---------------+----------+--------+-----------+-----+---------+--------------+----------+--------------+----------+-------------------+--------+-----------+----------+----+----+------------------+------------------+--------+----------+-----+-----------+----------------+--------------+----------------------+----------------------+--------+-------+---------+----------+---------+-------------------+---------+-------------+-----------+---------------+---------------+-------------+------------------+----------+-----------------------+------------+---------------+------------+------------------+--------------------------+---------------------------+-----------+----------------+----------------+---------+-------------------------+--------------+------------+-----------+-----------+-----------+-----------+-----------+------------------+------------+-------+-----------+-----------+----------+--------+----------------+------+-----------+------------+--------------------+-----------+--------------+-------+------------------------+-----------+------------------+--------------------+---------------------+--------------+--------+--------------------+------------------------+---------------------+------------------------------+---------------------+--------------+---------------+-----------+---------+---------+-------------+-------------+-------------------+--------+----------------+------------+------------------+------------------+--------------+----------------+--------------------+---------+---------------+-----------------+--------------+--------------------------+---------------+------------------------+----------------------+----------------+----------------+------------------+-------------------+---------------------+--------------------------------+----------------------------------+-----------------------------------+-------------+-------------+---------------+---------------+-------------+---------------+-------------------+-----------------+-----------------------+---------------+------------+--------------------+------------------------------------------+------------------------------+----------------------------+-------------------+--------------------+-------------------------+-----------------+---------------+-----------------+---------------------+---------------+\n",
      "|  id|member_id|loan_amnt|funded_amnt|funded_amnt_inv|      term|int_rate|installment|grade|sub_grade|     emp_title|emp_length|home_ownership|annual_inc|verification_status| issue_d|loan_status|pymnt_plan| url|desc|           purpose|             title|zip_code|addr_state|  dti|delinq_2yrs|earliest_cr_line|inq_last_6mths|mths_since_last_delinq|mths_since_last_record|open_acc|pub_rec|revol_bal|revol_util|total_acc|initial_list_status|out_prncp|out_prncp_inv|total_pymnt|total_pymnt_inv|total_rec_prncp|total_rec_int|total_rec_late_fee|recoveries|collection_recovery_fee|last_pymnt_d|last_pymnt_amnt|next_pymnt_d|last_credit_pull_d|collections_12_mths_ex_med|mths_since_last_major_derog|policy_code|application_type|annual_inc_joint|dti_joint|verification_status_joint|acc_now_delinq|tot_coll_amt|tot_cur_bal|open_acc_6m|open_act_il|open_il_12m|open_il_24m|mths_since_rcnt_il|total_bal_il|il_util|open_rv_12m|open_rv_24m|max_bal_bc|all_util|total_rev_hi_lim|inq_fi|total_cu_tl|inq_last_12m|acc_open_past_24mths|avg_cur_bal|bc_open_to_buy|bc_util|chargeoff_within_12_mths|delinq_amnt|mo_sin_old_il_acct|mo_sin_old_rev_tl_op|mo_sin_rcnt_rev_tl_op|mo_sin_rcnt_tl|mort_acc|mths_since_recent_bc|mths_since_recent_bc_dlq|mths_since_recent_inq|mths_since_recent_revol_delinq|num_accts_ever_120_pd|num_actv_bc_tl|num_actv_rev_tl|num_bc_sats|num_bc_tl|num_il_tl|num_op_rev_tl|num_rev_accts|num_rev_tl_bal_gt_0|num_sats|num_tl_120dpd_2m|num_tl_30dpd|num_tl_90g_dpd_24m|num_tl_op_past_12m|pct_tl_nvr_dlq|percent_bc_gt_75|pub_rec_bankruptcies|tax_liens|tot_hi_cred_lim|total_bal_ex_mort|total_bc_limit|total_il_high_credit_limit|revol_bal_joint|sec_app_earliest_cr_line|sec_app_inq_last_6mths|sec_app_mort_acc|sec_app_open_acc|sec_app_revol_util|sec_app_open_act_il|sec_app_num_rev_accts|sec_app_chargeoff_within_12_mths|sec_app_collections_12_mths_ex_med|sec_app_mths_since_last_major_derog|hardship_flag|hardship_type|hardship_reason|hardship_status|deferral_term|hardship_amount|hardship_start_date|hardship_end_date|payment_plan_start_date|hardship_length|hardship_dpd|hardship_loan_status|orig_projected_additional_accrued_interest|hardship_payoff_balance_amount|hardship_last_payment_amount|disbursement_method|debt_settlement_flag|debt_settlement_flag_date|settlement_status|settlement_date|settlement_amount|settlement_percentage|settlement_term|\n",
      "+----+---------+---------+-----------+---------------+----------+--------+-----------+-----+---------+--------------+----------+--------------+----------+-------------------+--------+-----------+----------+----+----+------------------+------------------+--------+----------+-----+-----------+----------------+--------------+----------------------+----------------------+--------+-------+---------+----------+---------+-------------------+---------+-------------+-----------+---------------+---------------+-------------+------------------+----------+-----------------------+------------+---------------+------------+------------------+--------------------------+---------------------------+-----------+----------------+----------------+---------+-------------------------+--------------+------------+-----------+-----------+-----------+-----------+-----------+------------------+------------+-------+-----------+-----------+----------+--------+----------------+------+-----------+------------+--------------------+-----------+--------------+-------+------------------------+-----------+------------------+--------------------+---------------------+--------------+--------+--------------------+------------------------+---------------------+------------------------------+---------------------+--------------+---------------+-----------+---------+---------+-------------+-------------+-------------------+--------+----------------+------------+------------------+------------------+--------------+----------------+--------------------+---------+---------------+-----------------+--------------+--------------------------+---------------+------------------------+----------------------+----------------+----------------+------------------+-------------------+---------------------+--------------------------------+----------------------------------+-----------------------------------+-------------+-------------+---------------+---------------+-------------+---------------+-------------------+-----------------+-----------------------+---------------+------------+--------------------+------------------------------------------+------------------------------+----------------------------+-------------------+--------------------+-------------------------+-----------------+---------------+-----------------+---------------------+---------------+\n",
      "|NULL|     NULL|     2500|       2500|         2500.0| 36 months|   13.56|      84.92|    C|       C1|          Chef| 10+ years|          RENT|     55000|       Not Verified|Dec-2018|    Current|         n|NULL|NULL|debt_consolidation|Debt consolidation|   109xx|        NY|18.24|          0|        Apr-2001|             1|                  NULL|                    45|       9|      1|     4341|      10.3|       34|                  w|  2386.02|      2386.02|     167.02|         167.02|         113.98|        53.04|               0.0|       0.0|                    0.0|    Feb-2019|          84.92|    Mar-2019|          Feb-2019|                         0|                       NULL|          1|      Individual|            NULL|     NULL|                     NULL|             0|           0|      16901|          2|          2|          1|          2|                 2|       12560|     69|          2|          7|      2137|      28|           42000|     1|         11|           2|                   9|       1878|         34360|    5.9|                     0.0|          0|             140.0|                 212|                    1|             1|       0|                   1|                    NULL|                    2|                          NULL|                    0|             2|              5|          3|        3|       16|            7|           18|                  5|       9|               0|           0|                 0|                 3|         100.0|             0.0|                   1|        0|          60124|            16901|         36500|                     18124|           NULL|                    NULL|                  NULL|            NULL|            NULL|              NULL|               NULL|                 NULL|                            NULL|                              NULL|                               NULL|            N|         NULL|           NULL|           NULL|         NULL|           NULL|               NULL|             NULL|                   NULL|           NULL|        NULL|                NULL|                                      NULL|                          NULL|                        NULL|               Cash|                   N|                     NULL|             NULL|           NULL|             NULL|                 NULL|           NULL|\n",
      "|NULL|     NULL|    30000|      30000|        30000.0| 60 months|   18.94|     777.23|    D|       D2|   Postmaster | 10+ years|      MORTGAGE|     90000|    Source Verified|Dec-2018|    Current|         n|NULL|NULL|debt_consolidation|Debt consolidation|   713xx|        LA|26.52|          0|        Jun-1987|             0|                    71|                    75|      13|      1|    12315|      24.2|       44|                  w| 29387.75|     29387.75|    1507.11|        1507.11|         612.25|       894.86|               0.0|       0.0|                    0.0|    Feb-2019|         777.23|    Mar-2019|          Feb-2019|                         0|                       NULL|          1|      Individual|            NULL|     NULL|                     NULL|             0|        1208|     321915|          4|          4|          2|          3|                 3|       87153|     88|          4|          5|       998|      57|           50800|     2|         15|           2|                  10|      24763|         13761|    8.3|                     0.0|          0|             163.0|                 378|                    4|             3|       3|                   4|                    NULL|                    4|                          NULL|                    0|             2|              4|          4|        9|       27|            8|           14|                  4|      13|               0|           0|                 0|                 6|          95.0|             0.0|                   1|        0|         372872|            99468|         15000|                     94072|           NULL|                    NULL|                  NULL|            NULL|            NULL|              NULL|               NULL|                 NULL|                            NULL|                              NULL|                               NULL|            N|         NULL|           NULL|           NULL|         NULL|           NULL|               NULL|             NULL|                   NULL|           NULL|        NULL|                NULL|                                      NULL|                          NULL|                        NULL|               Cash|                   N|                     NULL|             NULL|           NULL|             NULL|                 NULL|           NULL|\n",
      "|NULL|     NULL|     5000|       5000|         5000.0| 36 months|   17.97|     180.69|    D|       D1|Administrative|   6 years|      MORTGAGE|     59280|    Source Verified|Dec-2018|    Current|         n|NULL|NULL|debt_consolidation|Debt consolidation|   490xx|        MI|10.51|          0|        Apr-2011|             0|                  NULL|                  NULL|       8|      0|     4599|      19.1|       13|                  w|  4787.21|      4787.21|     353.89|         353.89|         212.79|       141.10|               0.0|       0.0|                    0.0|    Feb-2019|         180.69|    Mar-2019|          Feb-2019|                         0|                       NULL|          1|      Individual|            NULL|     NULL|                     NULL|             0|           0|     110299|          0|          1|          0|          2|                14|        7150|     72|          0|          2|         0|      35|           24100|     1|          5|           0|                   4|      18383|         13800|      0|                     0.0|          0|              87.0|                  92|                   15|            14|       2|                  77|                    NULL|                   14|                          NULL|                    0|             0|              3|          3|        3|        4|            6|            7|                  3|       8|               0|           0|                 0|                 0|         100.0|             0.0|                   0|        0|         136927|            11749|         13800|                     10000|           NULL|                    NULL|                  NULL|            NULL|            NULL|              NULL|               NULL|                 NULL|                            NULL|                              NULL|                               NULL|            N|         NULL|           NULL|           NULL|         NULL|           NULL|               NULL|             NULL|                   NULL|           NULL|        NULL|                NULL|                                      NULL|                          NULL|                        NULL|               Cash|                   N|                     NULL|             NULL|           NULL|             NULL|                 NULL|           NULL|\n",
      "|NULL|     NULL|     4000|       4000|         4000.0| 36 months|   18.94|     146.51|    D|       D2| IT Supervisor| 10+ years|      MORTGAGE|     92000|    Source Verified|Dec-2018|    Current|         n|NULL|NULL|debt_consolidation|Debt consolidation|   985xx|        WA|16.74|          0|        Feb-2006|             0|                  NULL|                  NULL|      10|      0|     5468|      78.1|       13|                  w|  3831.93|      3831.93|     286.71|         286.71|         168.07|       118.64|               0.0|       0.0|                    0.0|    Feb-2019|         146.51|    Mar-2019|          Feb-2019|                         0|                       NULL|          1|      Individual|            NULL|     NULL|                     NULL|             0|         686|     305049|          1|          5|          3|          5|                 5|       30683|     68|          0|          0|      3761|      70|            7000|     2|          4|           3|                   5|      30505|          1239|   75.2|                     0.0|          0|              62.0|                 154|                   64|             5|       3|                  64|                    NULL|                    5|                          NULL|                    0|             1|              2|          1|        2|        7|            2|            3|                  2|      10|               0|           0|                 0|                 3|         100.0|           100.0|                   0|        0|         385183|            36151|          5000|                     44984|           NULL|                    NULL|                  NULL|            NULL|            NULL|              NULL|               NULL|                 NULL|                            NULL|                              NULL|                               NULL|            N|         NULL|           NULL|           NULL|         NULL|           NULL|               NULL|             NULL|                   NULL|           NULL|        NULL|                NULL|                                      NULL|                          NULL|                        NULL|               Cash|                   N|                     NULL|             NULL|           NULL|             NULL|                 NULL|           NULL|\n",
      "|NULL|     NULL|    30000|      30000|        30000.0| 60 months|   16.14|     731.78|    C|       C4|      Mechanic| 10+ years|      MORTGAGE|     57250|       Not Verified|Dec-2018|    Current|         n|NULL|NULL|debt_consolidation|Debt consolidation|   212xx|        MD|26.35|          0|        Dec-2000|             0|                  NULL|                  NULL|      12|      0|      829|       3.6|       26|                  w| 29339.02|     29339.02|    1423.21|        1423.21|         660.98|       762.23|               0.0|       0.0|                    0.0|    Feb-2019|         731.78|    Mar-2019|          Feb-2019|                         0|                       NULL|          1|      Individual|            NULL|     NULL|                     NULL|             0|           0|     116007|          3|          5|          3|          5|                 4|       28845|     89|          2|          4|       516|      54|           23100|     1|          0|           0|                   9|       9667|          8471|    8.9|                     0.0|          0|              53.0|                 216|                    2|             2|       2|                   2|                    NULL|                   13|                          NULL|                    0|             2|              2|          3|        8|        9|            6|           15|                  2|      12|               0|           0|                 0|                 5|          92.3|             0.0|                   0|        0|         157548|            29674|          9300|                     32332|           NULL|                    NULL|                  NULL|            NULL|            NULL|              NULL|               NULL|                 NULL|                            NULL|                              NULL|                               NULL|            N|         NULL|           NULL|           NULL|         NULL|           NULL|               NULL|             NULL|                   NULL|           NULL|        NULL|                NULL|                                      NULL|                          NULL|                        NULL|               Cash|                   N|                     NULL|             NULL|           NULL|             NULL|                 NULL|           NULL|\n",
      "+----+---------+---------+-----------+---------------+----------+--------+-----------+-----+---------+--------------+----------+--------------+----------+-------------------+--------+-----------+----------+----+----+------------------+------------------+--------+----------+-----+-----------+----------------+--------------+----------------------+----------------------+--------+-------+---------+----------+---------+-------------------+---------+-------------+-----------+---------------+---------------+-------------+------------------+----------+-----------------------+------------+---------------+------------+------------------+--------------------------+---------------------------+-----------+----------------+----------------+---------+-------------------------+--------------+------------+-----------+-----------+-----------+-----------+-----------+------------------+------------+-------+-----------+-----------+----------+--------+----------------+------+-----------+------------+--------------------+-----------+--------------+-------+------------------------+-----------+------------------+--------------------+---------------------+--------------+--------+--------------------+------------------------+---------------------+------------------------------+---------------------+--------------+---------------+-----------+---------+---------+-------------+-------------+-------------------+--------+----------------+------------+------------------+------------------+--------------+----------------+--------------------+---------+---------------+-----------------+--------------+--------------------------+---------------+------------------------+----------------------+----------------+----------------+------------------+-------------------+---------------------+--------------------------------+----------------------------------+-----------------------------------+-------------+-------------+---------------+---------------+-------------+---------------+-------------------+-----------------+-----------------------+---------------+------------+--------------------+------------------------------------------+------------------------------+----------------------------+-------------------+--------------------+-------------------------+-----------------+---------------+-----------------+---------------------+---------------+\n",
      "only showing top 5 rows\n",
      "\n"
     ]
    }
   ],
   "source": [
    "# Cargar el dataset\n",
    "df = spark.read.option(\"header\", True).option(\"inferSchema\", True).csv(\"C:\\\\Users\\\\jasso\\\\anaconda3\\\\envs\\\\env-pyspark-alan\\\\loan.csv\")\n",
    "\n",
    "# Mostrar las primeras filas\n",
    "df.show(5)"
   ]
  },
  {
   "cell_type": "markdown",
   "id": "b38ac41b",
   "metadata": {},
   "source": [
    "## **Procesamiento de datos crudos**\n",
    "\n",
    "En esta sección se realiza la depuración inicial del conjunto de datos. El dataset original cuenta con 145 columnas, muchas de las cuales presentan problemas como:\n",
    "\n",
    "- Altos porcentajes de valores nulos o ceros\n",
    "- Redundancia con otras variables\n",
    "- Columnas irrelevantes o poco explicativas\n",
    "- Tipos de datos incorrectos\n",
    "- Fugas de información o riesgo de data leakage\n",
    "\n",
    "### Objetivos del procesamiento:\n",
    "\n",
    "1. Reducir la dimensionalidad sin perder información relevante.\n",
    "2. Preparar las variables para su uso en modelos de machine learning.\n",
    "3. Asegurar consistencia tipológica entre variables categóricas y numéricas.\n",
    "\n",
    "### Etapas aplicadas en la depuración:\n",
    "\n",
    "- Conversión de columnas `string` a tipos numéricos apropiados (`double` o `int`).\n",
    "- Eliminación de columnas con más de 20% de valores nulos \n",
    "- Detección de columnas con un solo valor dominante (sin varianza).\n",
    "- Remoción de variables redundantes o subsumidas por otras (por ejemplo: `total_bc_limit` vs `tot_hi_cred_lim`).\n",
    "- Agrupación de categorías infrecuentes en columnas categóricas (como `purpose`).\n",
    "- Reducción de clases en variables como `loan_status` para simplificación del modelo.\n",
    "\n",
    "El resultado es un dataset más compacto, consistente y orientado a modelado, conservando únicamente las variables más informativas."
   ]
  },
  {
   "cell_type": "code",
   "execution_count": 4,
   "id": "322d1cab",
   "metadata": {},
   "outputs": [
    {
     "name": "stdout",
     "output_type": "stream",
     "text": [
      "Número total de columnas en el dataset original: 145\n"
     ]
    }
   ],
   "source": [
    "# 1. Número total de columnas al inicio\n",
    "print(f\"Número total de columnas en el dataset original: {len(df.columns)}\")"
   ]
  },
  {
   "cell_type": "code",
   "execution_count": 5,
   "id": "a94fdc81",
   "metadata": {},
   "outputs": [
    {
     "name": "stdout",
     "output_type": "stream",
     "text": [
      "Valores nulos por columna:\n",
      "+-------+---------+---------+-----------+---------------+----+--------+-----------+-----+---------+---------+----------+--------------+----------+-------------------+-------+-----------+----------+-------+-------+-------+-----+--------+----------+----+-----------+----------------+--------------+----------------------+----------------------+--------+-------+---------+----------+---------+-------------------+---------+-------------+-----------+---------------+---------------+-------------+------------------+----------+-----------------------+------------+---------------+------------+------------------+--------------------------+---------------------------+-----------+----------------+----------------+---------+-------------------------+--------------+------------+-----------+-----------+-----------+-----------+-----------+------------------+------------+-------+-----------+-----------+----------+--------+----------------+------+-----------+------------+--------------------+-----------+--------------+-------+------------------------+-----------+------------------+--------------------+---------------------+--------------+--------+--------------------+------------------------+---------------------+------------------------------+---------------------+--------------+---------------+-----------+---------+---------+-------------+-------------+-------------------+--------+----------------+------------+------------------+------------------+--------------+----------------+--------------------+---------+---------------+-----------------+--------------+--------------------------+---------------+------------------------+----------------------+----------------+----------------+------------------+-------------------+---------------------+--------------------------------+----------------------------------+-----------------------------------+-------------+-------------+---------------+---------------+-------------+---------------+-------------------+-----------------+-----------------------+---------------+------------+--------------------+------------------------------------------+------------------------------+----------------------------+-------------------+--------------------+-------------------------+-----------------+---------------+-----------------+---------------------+---------------+\n",
      "|id     |member_id|loan_amnt|funded_amnt|funded_amnt_inv|term|int_rate|installment|grade|sub_grade|emp_title|emp_length|home_ownership|annual_inc|verification_status|issue_d|loan_status|pymnt_plan|url    |desc   |purpose|title|zip_code|addr_state|dti |delinq_2yrs|earliest_cr_line|inq_last_6mths|mths_since_last_delinq|mths_since_last_record|open_acc|pub_rec|revol_bal|revol_util|total_acc|initial_list_status|out_prncp|out_prncp_inv|total_pymnt|total_pymnt_inv|total_rec_prncp|total_rec_int|total_rec_late_fee|recoveries|collection_recovery_fee|last_pymnt_d|last_pymnt_amnt|next_pymnt_d|last_credit_pull_d|collections_12_mths_ex_med|mths_since_last_major_derog|policy_code|application_type|annual_inc_joint|dti_joint|verification_status_joint|acc_now_delinq|tot_coll_amt|tot_cur_bal|open_acc_6m|open_act_il|open_il_12m|open_il_24m|mths_since_rcnt_il|total_bal_il|il_util|open_rv_12m|open_rv_24m|max_bal_bc|all_util|total_rev_hi_lim|inq_fi|total_cu_tl|inq_last_12m|acc_open_past_24mths|avg_cur_bal|bc_open_to_buy|bc_util|chargeoff_within_12_mths|delinq_amnt|mo_sin_old_il_acct|mo_sin_old_rev_tl_op|mo_sin_rcnt_rev_tl_op|mo_sin_rcnt_tl|mort_acc|mths_since_recent_bc|mths_since_recent_bc_dlq|mths_since_recent_inq|mths_since_recent_revol_delinq|num_accts_ever_120_pd|num_actv_bc_tl|num_actv_rev_tl|num_bc_sats|num_bc_tl|num_il_tl|num_op_rev_tl|num_rev_accts|num_rev_tl_bal_gt_0|num_sats|num_tl_120dpd_2m|num_tl_30dpd|num_tl_90g_dpd_24m|num_tl_op_past_12m|pct_tl_nvr_dlq|percent_bc_gt_75|pub_rec_bankruptcies|tax_liens|tot_hi_cred_lim|total_bal_ex_mort|total_bc_limit|total_il_high_credit_limit|revol_bal_joint|sec_app_earliest_cr_line|sec_app_inq_last_6mths|sec_app_mort_acc|sec_app_open_acc|sec_app_revol_util|sec_app_open_act_il|sec_app_num_rev_accts|sec_app_chargeoff_within_12_mths|sec_app_collections_12_mths_ex_med|sec_app_mths_since_last_major_derog|hardship_flag|hardship_type|hardship_reason|hardship_status|deferral_term|hardship_amount|hardship_start_date|hardship_end_date|payment_plan_start_date|hardship_length|hardship_dpd|hardship_loan_status|orig_projected_additional_accrued_interest|hardship_payoff_balance_amount|hardship_last_payment_amount|disbursement_method|debt_settlement_flag|debt_settlement_flag_date|settlement_status|settlement_date|settlement_amount|settlement_percentage|settlement_term|\n",
      "+-------+---------+---------+-----------+---------------+----+--------+-----------+-----+---------+---------+----------+--------------+----------+-------------------+-------+-----------+----------+-------+-------+-------+-----+--------+----------+----+-----------+----------------+--------------+----------------------+----------------------+--------+-------+---------+----------+---------+-------------------+---------+-------------+-----------+---------------+---------------+-------------+------------------+----------+-----------------------+------------+---------------+------------+------------------+--------------------------+---------------------------+-----------+----------------+----------------+---------+-------------------------+--------------+------------+-----------+-----------+-----------+-----------+-----------+------------------+------------+-------+-----------+-----------+----------+--------+----------------+------+-----------+------------+--------------------+-----------+--------------+-------+------------------------+-----------+------------------+--------------------+---------------------+--------------+--------+--------------------+------------------------+---------------------+------------------------------+---------------------+--------------+---------------+-----------+---------+---------+-------------+-------------+-------------------+--------+----------------+------------+------------------+------------------+--------------+----------------+--------------------+---------+---------------+-----------------+--------------+--------------------------+---------------+------------------------+----------------------+----------------+----------------+------------------+-------------------+---------------------+--------------------------------+----------------------------------+-----------------------------------+-------------+-------------+---------------+---------------+-------------+---------------+-------------------+-----------------+-----------------------+---------------+------------+--------------------+------------------------------------------+------------------------------+----------------------------+-------------------+--------------------+-------------------------+-----------------+---------------+-----------------+---------------------+---------------+\n",
      "|2260668|2260668  |0        |0          |0              |0   |0       |0          |0    |0        |166931   |0         |0             |4         |0                  |0      |0          |0         |2260667|2134600|1      |23323|2       |1         |1712|30         |30              |31            |1158341               |1901321               |110     |92     |54       |1834      |50       |17                 |17       |21           |13         |11             |9              |3            |3                 |2         |6                      |2433        |3              |1303383     |126               |188                       |1679672                    |80         |61              |2139751         |2139795  |2144813                  |191           |70146       |70177      |866036     |866060     |866079     |866090     |909895            |866100      |1068826|866114     |866110     |866115    |866341  |70273           |866122|866120     |866128      |50027               |70343      |74933         |76070  |399                     |225        |138970            |70192               |70216                |70238         |50005   |73392               |1740941                 |295413               |1520290                       |70264                |70267         |70274          |58588      |70274    |70269    |70269        |70275        |70274              |58588   |153656          |70276       |70274             |70274             |70430         |75378           |1604                |305      |70179          |49948            |49970         |70238                     |2152621        |2152627                 |2152622               |2152624         |2152632         |2154471           |2152638            |2152644              |2152645                         |2152645                           |2224719                            |249          |2249996      |2250008        |2250013        |2250032      |2250039        |2250044            |2250042          |2250042                |2250044        |2250048     |2250048             |2252240                                   |2250054                       |2250054                     |255                |193                 |2227510                  |2227527          |2227550        |2227574          |2227588              |2227592        |\n",
      "+-------+---------+---------+-----------+---------------+----+--------+-----------+-----+---------+---------+----------+--------------+----------+-------------------+-------+-----------+----------+-------+-------+-------+-----+--------+----------+----+-----------+----------------+--------------+----------------------+----------------------+--------+-------+---------+----------+---------+-------------------+---------+-------------+-----------+---------------+---------------+-------------+------------------+----------+-----------------------+------------+---------------+------------+------------------+--------------------------+---------------------------+-----------+----------------+----------------+---------+-------------------------+--------------+------------+-----------+-----------+-----------+-----------+-----------+------------------+------------+-------+-----------+-----------+----------+--------+----------------+------+-----------+------------+--------------------+-----------+--------------+-------+------------------------+-----------+------------------+--------------------+---------------------+--------------+--------+--------------------+------------------------+---------------------+------------------------------+---------------------+--------------+---------------+-----------+---------+---------+-------------+-------------+-------------------+--------+----------------+------------+------------------+------------------+--------------+----------------+--------------------+---------+---------------+-----------------+--------------+--------------------------+---------------+------------------------+----------------------+----------------+----------------+------------------+-------------------+---------------------+--------------------------------+----------------------------------+-----------------------------------+-------------+-------------+---------------+---------------+-------------+---------------+-------------------+-----------------+-----------------------+---------------+------------+--------------------+------------------------------------------+------------------------------+----------------------------+-------------------+--------------------+-------------------------+-----------------+---------------+-----------------+---------------------+---------------+\n",
      "\n"
     ]
    }
   ],
   "source": [
    "# 2. Ver cuántos valores nulos hay por columna \n",
    "print(\"Valores nulos por columna:\")\n",
    "df.select([count(when(col(c).isNull(), c)).alias(c) for c in df.columns]).show(truncate=False)\n"
   ]
  },
  {
   "cell_type": "code",
   "execution_count": 6,
   "id": "fee5e885",
   "metadata": {},
   "outputs": [],
   "source": [
    "tipos_esperados = {\n",
    "    \"loan_amnt\": \"int\",\n",
    "    \"funded_amnt\": \"int\",\n",
    "    \"funded_amnt_inv\": \"double\",\n",
    "    \"term\": \"string\",\n",
    "    \"int_rate\": \"double\",\n",
    "    \"installment\": \"double\",\n",
    "    \"grade\": \"string\",\n",
    "    \"sub_grade\": \"string\",\n",
    "    \"emp_title\": \"string\",\n",
    "    \"emp_length\": \"string\",\n",
    "    \"home_ownership\": \"string\",\n",
    "    \"annual_inc\": \"double\",\n",
    "    \"verification_status\": \"string\",\n",
    "    \"issue_d\": \"string\",\n",
    "    \"loan_status\": \"string\",\n",
    "    \"pymnt_plan\": \"string\",\n",
    "    \"purpose\": \"string\",\n",
    "    \"title\": \"string\",\n",
    "    \"zip_code\": \"string\",\n",
    "    \"addr_state\": \"string\",\n",
    "    \"dti\": \"double\",\n",
    "    \"delinq_2yrs\": \"int\",\n",
    "    \"earliest_cr_line\": \"int\",\n",
    "    \"inq_last_6mths\": \"int\",\n",
    "    \"open_acc\": \"int\",\n",
    "    \"pub_rec\": \"int\",\n",
    "    \"revol_bal\": \"int\",\n",
    "    \"revol_util\": \"double\",\n",
    "    \"total_acc\": \"int\",\n",
    "    \"initial_list_status\": \"string\",\n",
    "    \"out_prncp\": \"int\",\n",
    "    \"out_prncp_inv\": \"double\",\n",
    "    \"total_pymnt\": \"double\",\n",
    "    \"total_pymnt_inv\": \"double\",\n",
    "    \"total_rec_prncp\": \"double\",\n",
    "    \"total_rec_int\": \"double\",\n",
    "    \"total_rec_late_fee\": \"double\",\n",
    "    \"recoveries\": \"double\",\n",
    "    \"collection_recovery_fee\": \"double\",\n",
    "    \"last_pymnt_d\": \"string\",\n",
    "    \"last_pymnt_amnt\": \"double\",\n",
    "    \"last_credit_pull_d\": \"string\",\n",
    "    \"collections_12_mths_ex_med\": \"int\",\n",
    "    \"policy_code\": \"int\",\n",
    "    \"application_type\": \"string\",\n",
    "    \"acc_now_delinq\": \"int\",\n",
    "    \"tot_coll_amt\": \"int\",\n",
    "    \"tot_cur_bal\": \"int\",\n",
    "    \"total_rev_hi_lim\": \"int\",\n",
    "    \"acc_open_past_24mths\": \"int\",\n",
    "    \"avg_cur_bal\": \"double\",\n",
    "    \"bc_open_to_buy\": \"int\",\n",
    "    \"bc_util\": \"double\",\n",
    "    \"chargeoff_within_12_mths\": \"double\",\n",
    "    \"delinq_amnt\": \"int\",\n",
    "    \"mo_sin_old_il_acct\": \"int\",\n",
    "    \"mo_sin_old_rev_tl_op\": \"int\",\n",
    "    \"mo_sin_rcnt_rev_tl_op\": \"int\",\n",
    "    \"mo_sin_rcnt_tl\": \"int\",\n",
    "    \"mort_acc\": \"int\",\n",
    "    \"mths_since_recent_bc\": \"int\",\n",
    "    \"mths_since_recent_inq\": \"int\",\n",
    "    \"num_accts_ever_120_pd\": \"int\",\n",
    "    \"num_actv_bc_tl\": \"int\",\n",
    "    \"num_actv_rev_tl\": \"int\",\n",
    "    \"num_bc_sats\": \"int\",\n",
    "    \"num_bc_tl\": \"int\",\n",
    "    \"num_il_tl\": \"int\",\n",
    "    \"num_op_rev_tl\": \"int\",\n",
    "    \"num_rev_accts\": \"int\",\n",
    "    \"num_rev_tl_bal_gt_0\": \"int\",\n",
    "    \"num_sats\": \"int\",\n",
    "    \"num_tl_120dpd_2m\": \"int\",\n",
    "    \"num_tl_30dpd\": \"int\",\n",
    "    \"num_tl_90g_dpd_24m\": \"int\",\n",
    "    \"num_tl_op_past_12m\": \"int\",\n",
    "    \"pct_tl_nvr_dlq\": \"double\",\n",
    "    \"percent_bc_gt_75\": \"double\",\n",
    "    \"pub_rec_bankruptcies\": \"int\",\n",
    "    \"tax_liens\": \"int\",\n",
    "    \"tot_hi_cred_lim\": \"int\",\n",
    "    \"total_bal_ex_mort\": \"int\",\n",
    "    \"total_bc_limit\": \"int\",\n",
    "    \"total_il_high_credit_limit\": \"int\",\n",
    "    \"hardship_flag\": \"string\",\n",
    "    \"disbursement_method\": \"string\",\n",
    "    \"debt_settlement_flag\": \"string\",\n",
    "}\n"
   ]
  },
  {
   "cell_type": "code",
   "execution_count": 7,
   "id": "aa70c293",
   "metadata": {},
   "outputs": [
    {
     "name": "stdout",
     "output_type": "stream",
     "text": [
      "Corrigiendo: annual_inc de string a double\n",
      "Corrigiendo: dti de string a double\n",
      "Corrigiendo: delinq_2yrs de string a int\n",
      "Corrigiendo: earliest_cr_line de string a int\n",
      "Corrigiendo: inq_last_6mths de string a int\n",
      "Corrigiendo: open_acc de string a int\n",
      "Corrigiendo: pub_rec de string a int\n",
      "Corrigiendo: revol_bal de string a int\n",
      "Corrigiendo: revol_util de string a double\n",
      "Corrigiendo: total_acc de string a int\n",
      "Corrigiendo: out_prncp de string a int\n",
      "Corrigiendo: out_prncp_inv de string a double\n",
      "Corrigiendo: total_pymnt de string a double\n",
      "Corrigiendo: total_pymnt_inv de string a double\n",
      "Corrigiendo: total_rec_prncp de string a double\n",
      "Corrigiendo: total_rec_int de string a double\n",
      "Corrigiendo: total_rec_late_fee de string a double\n",
      "Corrigiendo: recoveries de string a double\n",
      "Corrigiendo: collection_recovery_fee de string a double\n",
      "Corrigiendo: last_pymnt_amnt de string a double\n",
      "Corrigiendo: collections_12_mths_ex_med de string a int\n",
      "Corrigiendo: policy_code de string a int\n",
      "Corrigiendo: acc_now_delinq de string a int\n",
      "Corrigiendo: tot_coll_amt de string a int\n",
      "Corrigiendo: tot_cur_bal de string a int\n",
      "Corrigiendo: total_rev_hi_lim de string a int\n",
      "Corrigiendo: avg_cur_bal de string a double\n",
      "Corrigiendo: bc_util de string a double\n",
      "Corrigiendo: mo_sin_old_il_acct de double a int\n"
     ]
    }
   ],
   "source": [
    "# Corrección automática de tipos según tipos_esperados\n",
    "for columna, tipo_esperado in tipos_esperados.items():\n",
    "    if columna in dict(df.dtypes):\n",
    "        tipo_actual = dict(df.dtypes)[columna]\n",
    "        if tipo_actual != tipo_esperado:\n",
    "            print(f\"Corrigiendo: {columna} de {tipo_actual} a {tipo_esperado}\")\n",
    "            \n",
    "            # Limpieza de strings si es necesario para convertir a double\n",
    "            if tipo_esperado == \"double\" and tipo_actual == \"string\":\n",
    "                df = df.withColumn(columna, regexp_replace(col(columna), \"[,%$]\", \"\").cast(\"double\"))\n",
    "            else:\n",
    "                df = df.withColumn(columna, col(columna).cast(tipo_esperado))\n"
   ]
  },
  {
   "cell_type": "code",
   "execution_count": 8,
   "id": "5d0473b5",
   "metadata": {},
   "outputs": [
    {
     "name": "stdout",
     "output_type": "stream",
     "text": [
      "Columnas seleccionadas con <20% de nulos: 86\n"
     ]
    }
   ],
   "source": [
    "from pyspark.sql.functions import col, when, sum as _sum\n",
    "\n",
    "#ELminar columans con el 20% de vlaores nuloso \n",
    "# Calcular total de registros\n",
    "total_rows = df.count()\n",
    "\n",
    "# Calcular porcentaje de nulos por columna y quedarte con las que tienen menos del 20%\n",
    "col_porcentaje_nulos = [\n",
    "    (_sum(when(col(c).isNull() | (col(c) == ''), 1).otherwise(0)) / total_rows).alias(c)\n",
    "    for c in df.columns\n",
    "]\n",
    "\n",
    "# Generar DataFrame con porcentaje de nulos\n",
    "porcentaje_nulos_df = df.select(col_porcentaje_nulos)\n",
    "porcentaje_nulos = porcentaje_nulos_df.collect()[0].asDict()\n",
    "\n",
    "# Filtrar columnas que tienen menos de 20% de nulos\n",
    "columnas_validas = [k for k, v in porcentaje_nulos.items() if v < 0.2]\n",
    "\n",
    "# Seleccionar solo las columnas válidas\n",
    "df = df.select(*columnas_validas)\n",
    "\n",
    "print(f\"Columnas seleccionadas con <20% de nulos: {len(columnas_validas)}\")\n"
   ]
  },
  {
   "cell_type": "code",
   "execution_count": 9,
   "id": "702a3786",
   "metadata": {},
   "outputs": [
    {
     "name": "stdout",
     "output_type": "stream",
     "text": [
      "Columnas con texto libre o muchas categorías únicas:\n",
      "['emp_title', 'title']\n"
     ]
    }
   ],
   "source": [
    "# Columnas con más de 10,000 valores únicos de tipo string (texto libre)\n",
    "columnas_texto_libre = []\n",
    "\n",
    "for c in df.columns:\n",
    "    if dict(df.dtypes)[c] == \"string\" and df.select(c).distinct().count() > 10000:\n",
    "        columnas_texto_libre.append(c)\n",
    "\n",
    "print(\"Columnas con texto libre o muchas categorías únicas:\")\n",
    "print(columnas_texto_libre)\n"
   ]
  },
  {
   "cell_type": "code",
   "execution_count": 10,
   "id": "8e7d8810",
   "metadata": {},
   "outputs": [
    {
     "name": "stdout",
     "output_type": "stream",
     "text": [
      "Columnas eliminadas por texto libre o alta cardinalidad: 2\n",
      "Total de columnas restantes: 84\n"
     ]
    }
   ],
   "source": [
    "df = df.drop(*columnas_texto_libre)\n",
    "\n",
    "print(f\"Columnas eliminadas por texto libre o alta cardinalidad: {len(columnas_texto_libre)}\")\n",
    "print(f\"Total de columnas restantes: {len(df.columns)}\")\n"
   ]
  },
  {
   "cell_type": "code",
   "execution_count": 11,
   "id": "526bc24d",
   "metadata": {},
   "outputs": [
    {
     "name": "stdout",
     "output_type": "stream",
     "text": [
      "Alta correlación entre: loan_amnt y funded_amnt (r = 0.9998)\n",
      "Alta correlación entre: funded_amnt y funded_amnt_inv (r = 0.9993)\n",
      "Alta correlación entre: out_prncp y out_prncp_inv (r = 1.0000)\n",
      "Alta correlación entre: total_pymnt y total_pymnt_inv (r = 0.9993)\n"
     ]
    }
   ],
   "source": [
    "# Seleccionar solo columnas numéricas del DataFrame\n",
    "columnas_numericas = [c for c, t in df.dtypes if t in (\"double\", \"int\")]\n",
    "\n",
    "# Convertimos a Pandas una muestra del dataframe para no saturar memoria\n",
    "df_sample_pd = df.select(columnas_numericas).sample(False, 0.10, seed=1).toPandas()\n",
    "\n",
    "# Calculamos matriz de correlación absoluta\n",
    "cor_matrix = df_sample_pd.corr().abs()\n",
    "\n",
    "columnas_correladas = set()\n",
    "umbral = 0.999\n",
    "\n",
    "for i in range(len(cor_matrix.columns)):\n",
    "    for j in range(i + 1, len(cor_matrix.columns)):\n",
    "        col1 = cor_matrix.columns[i]\n",
    "        col2 = cor_matrix.columns[j]\n",
    "        if cor_matrix.iloc[i, j] > umbral:\n",
    "            print(f\"Alta correlación entre: {col1} y {col2} (r = {cor_matrix.iloc[i, j]:.4f})\")\n",
    "            columnas_correladas.add(col2)  # Podrías quedarte con el primero, y marcar el segundo para eliminar\n",
    "\n",
    "# Resultado: columnas candidatas a eliminar por redundancia lineal\n",
    "columnas_correladas = list(columnas_correladas)\n"
   ]
  },
  {
   "cell_type": "code",
   "execution_count": 12,
   "id": "543c015c",
   "metadata": {},
   "outputs": [
    {
     "name": "stdout",
     "output_type": "stream",
     "text": [
      "Columnas eliminadas por redundancia lineal: 4\n",
      "Total de columnas restantes: 80\n"
     ]
    }
   ],
   "source": [
    "# Eliminamos columnas por redundancia lineal\n",
    "df = df.drop(*list(columnas_correladas))\n",
    "print(f\"Columnas eliminadas por redundancia lineal: {len(columnas_correladas)}\")\n",
    "print(f\"Total de columnas restantes: {len(df.columns)}\")"
   ]
  },
  {
   "cell_type": "code",
   "execution_count": 13,
   "id": "e6c073ee",
   "metadata": {},
   "outputs": [
    {
     "name": "stdout",
     "output_type": "stream",
     "text": [
      "Columnas categóricas detectadas: 19\n",
      "['term', 'grade', 'sub_grade', 'emp_length', 'home_ownership', 'verification_status', 'issue_d', 'loan_status', 'pymnt_plan', 'purpose', 'zip_code', 'addr_state', 'initial_list_status', 'last_pymnt_d', 'last_credit_pull_d', 'application_type', 'hardship_flag', 'disbursement_method', 'debt_settlement_flag']\n"
     ]
    }
   ],
   "source": [
    "# Detectamos columnas categóricas automáticamente (tipo string o categoricas enteras conocidas)\n",
    "columnas_categoricas = [c for c, t in df.dtypes if t == \"string\" or \"emp_length\" in c]\n",
    "print(f\"Columnas categóricas detectadas: {len(columnas_categoricas)}\")\n",
    "print(columnas_categoricas)\n"
   ]
  },
  {
   "cell_type": "code",
   "execution_count": 14,
   "id": "e12e1119",
   "metadata": {},
   "outputs": [
    {
     "name": "stdout",
     "output_type": "stream",
     "text": [
      "term: 71.21% del dataset tiene ' 36 months'\n",
      "pymnt_plan: 99.97% del dataset tiene 'n'\n",
      "application_type: 94.65% del dataset tiene 'Individual'\n",
      "hardship_flag: 99.95% del dataset tiene 'N'\n",
      "disbursement_method: 96.53% del dataset tiene 'Cash'\n",
      "debt_settlement_flag: 98.53% del dataset tiene 'N'\n"
     ]
    }
   ],
   "source": [
    "# Eliminamos columnas por  baja varianza\n",
    "columnas_baja_varianza = []\n",
    "umbral = 0.70\n",
    "total_rows = df.count()\n",
    "\n",
    "for c in columnas_categoricas:\n",
    "    top_valor = df.groupBy(c).count().orderBy(\"count\", ascending=False).first()\n",
    "    if top_valor and (top_valor[\"count\"] / total_rows) >= umbral:\n",
    "        print(f\"{c}: {top_valor['count'] / total_rows:.2%} del dataset tiene '{top_valor[c]}'\")\n",
    "        columnas_baja_varianza.append(c)\n",
    "\n"
   ]
  },
  {
   "cell_type": "code",
   "execution_count": 15,
   "id": "904d4c67",
   "metadata": {},
   "outputs": [
    {
     "name": "stdout",
     "output_type": "stream",
     "text": [
      "Columnas eliminadas por baja varianza: 6\n",
      "Total de columnas restantes: 74\n"
     ]
    }
   ],
   "source": [
    "df = df.drop(*columnas_baja_varianza)\n",
    "print(f\"Columnas eliminadas por baja varianza: {len(columnas_baja_varianza)}\")\n",
    "print(f\"Total de columnas restantes: {len(df.columns)}\")"
   ]
  },
  {
   "cell_type": "code",
   "execution_count": 16,
   "id": "a272f75e",
   "metadata": {},
   "outputs": [
    {
     "name": "stdout",
     "output_type": "stream",
     "text": [
      "Columnas eliminadas por fuga de informacion: 3\n",
      "Total de columnas restantes: 71\n"
     ]
    }
   ],
   "source": [
    "# Eliminaipn por fuga de informacion\n",
    "columnas_fuga_info = [\n",
    "    \"issue_d\",             # Fecha del préstamo\n",
    "    \"last_pymnt_d\",        # Fecha del último pago\n",
    "    \"last_credit_pull_d\",  # Fecha del último análisis de crédito\n",
    "]\n",
    "df = df.drop(*columnas_fuga_info)\n",
    "print(f\"Columnas eliminadas por fuga de informacion: {len(columnas_fuga_info)}\")\n",
    "print(f\"Total de columnas restantes: {len(df.columns)}\")\n",
    "\n"
   ]
  },
  {
   "cell_type": "code",
   "execution_count": 17,
   "id": "dfda1e59",
   "metadata": {},
   "outputs": [
    {
     "name": "stdout",
     "output_type": "stream",
     "text": [
      "delinq_2yrs: 81.34% de los valores son '0'\n",
      "pub_rec: 84.16% de los valores son '0'\n",
      "total_rec_late_fee: 96.25% de los valores son '0.0'\n",
      "recoveries: 92.14% de los valores son '0.0'\n",
      "collection_recovery_fee: 92.52% de los valores son '0.0'\n",
      "collections_12_mths_ex_med: 98.33% de los valores son '0'\n",
      "policy_code: 99.99% de los valores son '1'\n",
      "acc_now_delinq: 99.60% de los valores son '0'\n",
      "tot_coll_amt: 82.11% de los valores son '0'\n",
      "chargeoff_within_12_mths: 99.22% de los valores son '0.0'\n",
      "delinq_amnt: 99.67% de los valores son '0'\n",
      "num_accts_ever_120_pd: 74.64% de los valores son '0'\n",
      "num_tl_120dpd_2m: 93.15% de los valores son '0'\n",
      "num_tl_30dpd: 96.63% de los valores son '0'\n",
      "num_tl_90g_dpd_24m: 91.70% de los valores son '0'\n",
      "pub_rec_bankruptcies: 87.90% de los valores son '0'\n",
      "tax_liens: 97.13% de los valores son '0'\n"
     ]
    }
   ],
   "source": [
    "# Detectar columnas numéricas \n",
    "columnas_numericas = [c for c, t in df.dtypes if t in [\"double\", \"int\"]]\n",
    "\n",
    "umbral = 0.70\n",
    "total_rows = df.count()\n",
    "columnas_valor_dominante = []\n",
    "\n",
    "for c in columnas_numericas:\n",
    "    valor_mas_frecuente = (\n",
    "        df.groupBy(c)\n",
    "        .count()\n",
    "        .orderBy(\"count\", ascending=False)\n",
    "        .first()\n",
    "    )\n",
    "\n",
    "    if valor_mas_frecuente:\n",
    "        valor = valor_mas_frecuente[0]  # el valor dominante\n",
    "        cuenta = valor_mas_frecuente[\"count\"]\n",
    "        porcentaje = cuenta / total_rows\n",
    "\n",
    "        if porcentaje >= umbral:\n",
    "            print(f\"{c}: {porcentaje:.2%} de los valores son '{valor}'\")\n",
    "            columnas_valor_dominante.append(c)\n"
   ]
  },
  {
   "cell_type": "code",
   "execution_count": 18,
   "id": "bd92fd0b",
   "metadata": {},
   "outputs": [
    {
     "name": "stdout",
     "output_type": "stream",
     "text": [
      "Columnas eliminadas por tener >70% ceros: 17\n",
      "Total de columnas restantes: 54\n"
     ]
    }
   ],
   "source": [
    "df = df.drop(*columnas_valor_dominante)\n",
    "print(f\"Columnas eliminadas por tener >70% ceros: {len(columnas_valor_dominante)}\")\n",
    "print(f\"Total de columnas restantes: {len(df.columns)}\")"
   ]
  },
  {
   "cell_type": "code",
   "execution_count": 19,
   "id": "ec3cca70",
   "metadata": {},
   "outputs": [
    {
     "name": "stdout",
     "output_type": "stream",
     "text": [
      "Columnas eliminadas por irrelevancia justificada: 4\n",
      "Columnas finales restantes: 50\n"
     ]
    }
   ],
   "source": [
    "# Lista de columnas irrelevantes\n",
    "\n",
    "columnas_irrelevantes = [\n",
    "\n",
    "     \"zip_code\", # zip_code: Dato personal, alta cardinalidad, difícil de codificar.\n",
    "      \"addr_state\", # addr_state: Redundante con home_ownership; baja capacidad predictiva.\n",
    "      \"sub_grade\",# sub_grade: Desglose innecesario de grade (A1, A2...), ya se usa grade.\n",
    "      \"initial_list_status\",    # initial_list_status: metadato técnico sin valor predictivo\n",
    " ]\n",
    "# Eliminamos del DataFrame\n",
    "df = df.drop(*[c for c in columnas_irrelevantes if c in df.columns])\n",
    "\n",
    "print(f\"Columnas eliminadas por irrelevancia justificada: {len(columnas_irrelevantes)}\")\n",
    "print(f\"Columnas finales restantes: {len(df.columns)}\")\n"
   ]
  },
  {
   "cell_type": "code",
   "execution_count": 20,
   "id": "a05d02f2",
   "metadata": {},
   "outputs": [
    {
     "name": "stdout",
     "output_type": "stream",
     "text": [
      "Columnas eliminadas por definición: 9\n",
      "Columnas finales restantes: 41\n"
     ]
    }
   ],
   "source": [
    "# Lista de columnas que se eliminan por definición técnica o redundancia\n",
    "columnas_a_eliminar_por_definicion = [\n",
    "    \"bc_open_to_buy\",          # Redundante con bc_util (porcentaje de uso vs. crédito disponible)\n",
    "    \"mo_sin_old_il_acct\",      # Tiempo desde cuenta a plazo más antigua; técnica, poco explicativa\n",
    "    \"mo_sin_old_rev_tl_op\",    # Tiempo desde cuenta revolvente antigua; similar a la anterior\n",
    "    \"mo_sin_rcnt_rev_tl_op\",   # Tiempo desde última línea revolvente; se solapa con mo_sin_rcnt_tl\n",
    "    \"mo_sin_rcnt_tl\",          # Tiempo desde última cuenta abierta; técnica, poco interpretable\n",
    "    \"num_bc_tl\",               # Total de tarjetas de crédito abiertas históricamente; poco diferenciador\n",
    "    \"num_op_rev_tl\",           # Líneas revolventes abiertas; similar a num_rev_tl_bal_gt_0\n",
    "    \"num_rev_accts\",           # Cuentas revolventes históricas; métrica muy general\n",
    "    \"total_bc_limit\"           # Límite total en tarjetas; ya considerado en tot_hi_cred_lim\n",
    "]\n",
    "\n",
    "# Eliminar solo si existen en el DataFrame\n",
    "df = df.drop(*[c for c in columnas_a_eliminar_por_definicion if c in df.columns])\n",
    "\n",
    "# Reportar cuántas columnas se eliminaron\n",
    "print(f\"Columnas eliminadas por definición: {len(columnas_a_eliminar_por_definicion)}\")\n",
    "print(f\"Columnas finales restantes: {len(df.columns)}\")\n"
   ]
  },
  {
   "cell_type": "code",
   "execution_count": 21,
   "id": "f8f33a0f",
   "metadata": {},
   "outputs": [
    {
     "name": "stdout",
     "output_type": "stream",
     "text": [
      "+-----+------+\n",
      "|grade| count|\n",
      "+-----+------+\n",
      "|    B|663557|\n",
      "|    C|650053|\n",
      "|    A|433027|\n",
      "|    D|324424|\n",
      "|    E|135639|\n",
      "|    F| 41800|\n",
      "|    G| 12168|\n",
      "+-----+------+\n",
      "\n",
      "+----------+------+\n",
      "|emp_length| count|\n",
      "+----------+------+\n",
      "| 10+ years|748005|\n",
      "|   2 years|203676|\n",
      "|  < 1 year|189988|\n",
      "|   3 years|180753|\n",
      "|    1 year|148403|\n",
      "|       n/a|146907|\n",
      "|   5 years|139698|\n",
      "|   4 years|136605|\n",
      "|   6 years|102628|\n",
      "|   7 years| 92695|\n",
      "|   8 years| 91914|\n",
      "|   9 years| 79395|\n",
      "| reactors\"|     1|\n",
      "+----------+------+\n",
      "\n",
      "+--------------+-------+\n",
      "|home_ownership|  count|\n",
      "+--------------+-------+\n",
      "|      MORTGAGE|1111449|\n",
      "|          RENT| 894929|\n",
      "|           OWN| 253057|\n",
      "|           ANY|    996|\n",
      "|         OTHER|    182|\n",
      "|          NONE|     54|\n",
      "|       2 years|      1|\n",
      "+--------------+-------+\n",
      "\n",
      "+-------------------+------+\n",
      "|verification_status| count|\n",
      "+-------------------+------+\n",
      "|    Source Verified|886230|\n",
      "|       Not Verified|744806|\n",
      "|           Verified|629631|\n",
      "|              38000|     1|\n",
      "+-------------------+------+\n",
      "\n",
      "+--------------------+-------+\n",
      "|         loan_status|  count|\n",
      "+--------------------+-------+\n",
      "|          Fully Paid|1041952|\n",
      "|             Current| 919695|\n",
      "|         Charged Off| 261654|\n",
      "|  Late (31-120 days)|  21897|\n",
      "|     In Grace Period|   8952|\n",
      "|   Late (16-30 days)|   3737|\n",
      "|Does not meet the...|   1988|\n",
      "|Does not meet the...|    761|\n",
      "|             Default|     31|\n",
      "|            Oct-2015|      1|\n",
      "+--------------------+-------+\n",
      "\n",
      "+--------------------+-------+\n",
      "|             purpose|  count|\n",
      "+--------------------+-------+\n",
      "|  debt_consolidation|1277790|\n",
      "|         credit_card| 516926|\n",
      "|    home_improvement| 150440|\n",
      "|               other| 139413|\n",
      "|      major_purchase|  50429|\n",
      "|             medical|  27481|\n",
      "|      small_business|  24659|\n",
      "|                 car|  24009|\n",
      "|            vacation|  15525|\n",
      "|              moving|  15402|\n",
      "|               house|  14131|\n",
      "|             wedding|   2351|\n",
      "|    renewable_energy|   1445|\n",
      "|         educational|    412|\n",
      "| and also pay off...|      1|\n",
      "|                NULL|      1|\n",
      "| I am not comfort...|      1|\n",
      "|<br/><br/>Lending...|      1|\n",
      "| and have a solid...|      1|\n",
      "| which is $250 a ...|      1|\n",
      "+--------------------+-------+\n",
      "only showing top 20 rows\n",
      "\n"
     ]
    }
   ],
   "source": [
    "columnas_categoricas = [c for c, t in df.dtypes if t == \"string\"]\n",
    "\n",
    "for col_name in columnas_categoricas:\n",
    "    total_distintos = df.select(col_name).distinct().count()\n",
    "    df.groupBy(col_name).count().orderBy(\"count\", ascending=False).show()\n",
    "    "
   ]
  },
  {
   "cell_type": "code",
   "execution_count": 22,
   "id": "20d50036",
   "metadata": {},
   "outputs": [
    {
     "name": "stdout",
     "output_type": "stream",
     "text": [
      "+-------+------------------+------------------+------------------+------------------+------------------+------------------+------------------+------------------+------------------+------------------+-----------------+------------------+-----------------+-----------------+------------------+------------------+-----------------+--------------------+-----------------+------------------+------------------+--------------------+---------------------+------------------+------------------+------------------+-----------------+-------------------+------------------+------------------+-----------------+-----------------+------------------+-----------------+--------------------------+\n",
      "|summary|         loan_amnt|          int_rate|       installment|        annual_inc|               dti|    inq_last_6mths|          open_acc|         revol_bal|        revol_util|         total_acc|        out_prncp|       total_pymnt|  total_rec_prncp|    total_rec_int|   last_pymnt_amnt|       tot_cur_bal| total_rev_hi_lim|acc_open_past_24mths|      avg_cur_bal|           bc_util|          mort_acc|mths_since_recent_bc|mths_since_recent_inq|    num_actv_bc_tl|   num_actv_rev_tl|       num_bc_sats|        num_il_tl|num_rev_tl_bal_gt_0|          num_sats|num_tl_op_past_12m|   pct_tl_nvr_dlq| percent_bc_gt_75|   tot_hi_cred_lim|total_bal_ex_mort|total_il_high_credit_limit|\n",
      "+-------+------------------+------------------+------------------+------------------+------------------+------------------+------------------+------------------+------------------+------------------+-----------------+------------------+-----------------+-----------------+------------------+------------------+-----------------+--------------------+-----------------+------------------+------------------+--------------------+---------------------+------------------+------------------+------------------+-----------------+-------------------+------------------+------------------+-----------------+-----------------+------------------+-----------------+--------------------------+\n",
      "|  count|           2260668|           2260668|           2260668|           2260663|           2258701|           2260468|           2260472|           2260563|           2258791|           2260580|          2260571|           2260599|          2260635|          2260649|           2260597|           2190472|          2190393|             2210641|          2190323|           2184597|           2210663|             2187276|              1965255|           2190401|           2190394|           2202080|          2190399|            2190394|           2202080|           2190394|          2190238|          2185290|           2190489|          2210720|                   2190430|\n",
      "|   mean|15046.931227849467|13.092912944313507| 445.8076459258695| 77992.44637764228| 18.82490714795797|0.5773215988901413|11.612555696332448|16657.444213233604|50.858204017104825|24.455899813322244|4446.382677208546|11823.061164758265|9299.725356411973|2386.934820251529|3364.0394377030943|    142486.8227204|34573.91351871559|   4.521646436486069| 13547.7745743436|57.899920442992666|1.5553885870437965|  24.844592543419303|   7.0241154455783095|3.6760510974931075| 5.629459357540242| 4.774177595727676|  8.4134064159087|  5.577955381543229|11.628111149458693|2.0767505754672446|94.11444263135131|42.43507966448372| 178234.6850242115|51021.07118766737|         43731.26470236437|\n",
      "| stddev| 9190.245488232767| 4.832114232872253|267.17372499366576|112696.22136091437|14.183773199305042|1.0377791865937096|5.6423418928275835| 22948.08256252245|185.30574161757542|104.00260846034934|7547.649286879481|  9889.99558689765| 8305.14121980829|2666.492109752136| 5971.895756133408|160692.05138378378|  36728.504333506|  3.1642305510837874|16474.07587490408|28.583499412865972|1.9052379160587216|  32.319180556619855|     5.96542434561214| 2.324655949949571|3.3828790430237294|3.0379241719842573|7.359113842750374| 3.2934507160285844| 5.644036256749404|1.8307108699092143|  9.0368031148743|36.21616984315226|181574.74201748127|49911.37555949451|         45072.97471125267|\n",
      "|    min|               500|              5.31|              4.93|               0.0|              -1.0|                 0|                 0|                 0|               0.0|                 0|                0|               0.0|              0.0|              0.0|               0.0|                 0|                0|                   0|              0.0|               0.0|                 0|                   0|                    0|                 0|                 0|                 0|                0|                  0|                 0|                 0|              0.0|              0.0|                 0|                0|                         0|\n",
      "|    max|             40000|             30.99|           1719.83|             1.1E8|             999.0|               809|               101|           2904836|          152002.0|             89832|            57451|   63296.877868241|          40000.0|         149527.0|          42192.05|           9971659|          9999999|                  64|         958084.0|             339.6|                94|                 661|                   25|                50|                72|                71|              159|                 65|               101|                32|            100.0|            100.0|           9999999|          3408095|                   2118996|\n",
      "+-------+------------------+------------------+------------------+------------------+------------------+------------------+------------------+------------------+------------------+------------------+-----------------+------------------+-----------------+-----------------+------------------+------------------+-----------------+--------------------+-----------------+------------------+------------------+--------------------+---------------------+------------------+------------------+------------------+-----------------+-------------------+------------------+------------------+-----------------+-----------------+------------------+-----------------+--------------------------+\n",
      "\n"
     ]
    }
   ],
   "source": [
    "# Detectar columnas numéricas\n",
    "columnas_numericas = [c for c, t in df.dtypes if t in [\"int\", \"double\"]]\n",
    "\n",
    "# Usar describe para estadísticas generales\n",
    "df.select(columnas_numericas).describe().show()\n"
   ]
  },
  {
   "cell_type": "code",
   "execution_count": 23,
   "id": "12e2f0db",
   "metadata": {},
   "outputs": [],
   "source": [
    "categorias_frecuentes = ['MORTGAGE','RENT','OWN']\n",
    "# Reducir categories en 'home_ownership'\n",
    "df = df.withColumn(\n",
    "    \"home_ownership\",\n",
    "    when(col(\"home_ownership\").isin(categorias_frecuentes), col(\"home_ownership\"))\n",
    "    .otherwise(\"OTHER\")\n",
    ")\n",
    "# Reducir categories en 'purpose'\n",
    "df = df.withColumn(\"purpose\", when(col(\"purpose\").isin(\n",
    "    \"debt_consolidation\", \"credit_card\"), \"debt_related\")\n",
    "    .when(col(\"purpose\").isin(\"home_improvement\", \"major_purchase\"), \"large_expense\")\n",
    "    .when(col(\"purpose\").isin(\"small_business\", \"car\", \"vacation\", \"house\"), \"personal_use\")\n",
    "    .when(col(\"purpose\").isin(\"medical\", \"wedding\", \"moving\"), \"life_event\")\n",
    "    .otherwise(\"other\"))\n",
    "\n",
    "# Reducir categories en 'purpose'\n",
    "df = df.withColumn(\"loan_status\",\n",
    "    when(col(\"loan_status\").isin(\"Fully Paid\", \"Current\"), \"No_riesgo\")\n",
    "    .when(col(\"loan_status\").isin(\"Late (16-30 days)\", \"In Grace Period\"), \"riesgo_medio\")\n",
    "    .when(col(\"loan_status\").isin(\n",
    "        \"Charged Off\", \"Default\", \"Late (31-120 days)\",\n",
    "        \"Does not meet the credit policy. Status:Fully Paid\",\n",
    "        \"Does not meet the credit policy. Status:Charged Off\",\n",
    "        \"Oct-2015\", None), \"riesgo_alto\")\n",
    ")\n"
   ]
  },
  {
   "cell_type": "code",
   "execution_count": 24,
   "id": "8fae4af1",
   "metadata": {},
   "outputs": [
    {
     "name": "stdout",
     "output_type": "stream",
     "text": [
      "+-----+------+\n",
      "|grade| count|\n",
      "+-----+------+\n",
      "|    B|663557|\n",
      "|    C|650053|\n",
      "|    A|433027|\n",
      "|    D|324424|\n",
      "|    E|135639|\n",
      "|    F| 41800|\n",
      "|    G| 12168|\n",
      "+-----+------+\n",
      "\n",
      "+----------+------+\n",
      "|emp_length| count|\n",
      "+----------+------+\n",
      "| 10+ years|748005|\n",
      "|   2 years|203676|\n",
      "|  < 1 year|189988|\n",
      "|   3 years|180753|\n",
      "|    1 year|148403|\n",
      "|       n/a|146907|\n",
      "|   5 years|139698|\n",
      "|   4 years|136605|\n",
      "|   6 years|102628|\n",
      "|   7 years| 92695|\n",
      "|   8 years| 91914|\n",
      "|   9 years| 79395|\n",
      "| reactors\"|     1|\n",
      "+----------+------+\n",
      "\n",
      "+--------------+-------+\n",
      "|home_ownership|  count|\n",
      "+--------------+-------+\n",
      "|      MORTGAGE|1111449|\n",
      "|          RENT| 894929|\n",
      "|           OWN| 253057|\n",
      "|         OTHER|   1233|\n",
      "+--------------+-------+\n",
      "\n",
      "+-------------------+------+\n",
      "|verification_status| count|\n",
      "+-------------------+------+\n",
      "|    Source Verified|886230|\n",
      "|       Not Verified|744806|\n",
      "|           Verified|629631|\n",
      "|              38000|     1|\n",
      "+-------------------+------+\n",
      "\n",
      "+------------+-------+\n",
      "| loan_status|  count|\n",
      "+------------+-------+\n",
      "|   No_riesgo|1961647|\n",
      "| riesgo_alto| 286332|\n",
      "|riesgo_medio|  12689|\n",
      "+------------+-------+\n",
      "\n",
      "+-------------+-------+\n",
      "|      purpose|  count|\n",
      "+-------------+-------+\n",
      "| debt_related|1794716|\n",
      "|large_expense| 200869|\n",
      "|        other| 141525|\n",
      "| personal_use|  78324|\n",
      "|   life_event|  45234|\n",
      "+-------------+-------+\n",
      "\n"
     ]
    }
   ],
   "source": [
    "columnas_categoricas = [c for c, t in df.dtypes if t == \"string\"]\n",
    "\n",
    "for col_name in columnas_categoricas:\n",
    "    total_distintos = df.select(col_name).distinct().count()\n",
    "    df.groupBy(col_name).count().orderBy(\"count\", ascending=False).show()\n",
    "    "
   ]
  },
  {
   "cell_type": "markdown",
   "id": "bb635767",
   "metadata": {},
   "source": [
    "## **Construcción de la muestra representativa (`muestra_M`)**\n",
    "\n",
    "Se utilizó el conjunto de datos Lending Club, del cual se extrajo una muestra representativa llamada `muestra_M` a partir de **4 combinaciones específicas de variables categóricas**:\n",
    "\n",
    "- `purpose`\n",
    "- `home_ownership`\n",
    "- `verification_status`\n",
    "\n",
    "Estas combinaciones fueron seleccionadas por su alta frecuencia y por representar perfiles distintos en términos de riesgo crediticio.\n",
    "\n",
    "### Combinaciones seleccionadas:\n",
    "1. debt_related + MORTGAGE + Source Verified  \n",
    "2. debt_related + RENT + Source Verified  \n",
    "3. debt_related + MORTGAGE + Not Verified  \n",
    "4. debt_related + MORTGAGE + Verified\n",
    "\n",
    "Cada subconjunto fue filtrado del DataFrame original utilizando estas condiciones, y posteriormente unido para formar el conjunto `muestra_M`, el cual servirá como base para el análisis supervisado y no supervisado.\n"
   ]
  },
  {
   "cell_type": "code",
   "execution_count": 25,
   "id": "6521a3b1",
   "metadata": {},
   "outputs": [
    {
     "name": "stdout",
     "output_type": "stream",
     "text": [
      "Combinaciones posibles: 61\n",
      "+-------------+--------------+-------------------+----------+----------------+\n",
      "|purpose      |home_ownership|verification_status|frecuencia|probabilidad (%)|\n",
      "+-------------+--------------+-------------------+----------+----------------+\n",
      "|debt_related |MORTGAGE      |Source Verified    |325538    |14.4            |\n",
      "|debt_related |RENT          |Source Verified    |301930    |13.36           |\n",
      "|debt_related |MORTGAGE      |Not Verified       |283745    |12.55           |\n",
      "|debt_related |MORTGAGE      |Verified           |263046    |11.64           |\n",
      "|debt_related |RENT          |Not Verified       |241428    |10.68           |\n",
      "|debt_related |RENT          |Verified           |189385    |8.38            |\n",
      "|debt_related |OWN           |Source Verified    |75220     |3.33            |\n",
      "|debt_related |OWN           |Not Verified       |63639     |2.82            |\n",
      "|large_expense|MORTGAGE      |Not Verified       |51856     |2.29            |\n",
      "|debt_related |OWN           |Verified           |49835     |2.2             |\n",
      "|large_expense|MORTGAGE      |Source Verified    |49534     |2.19            |\n",
      "|large_expense|MORTGAGE      |Verified           |33781     |1.49            |\n",
      "|other        |RENT          |Source Verified    |29090     |1.29            |\n",
      "|other        |MORTGAGE      |Source Verified    |20770     |0.92            |\n",
      "|other        |RENT          |Not Verified       |19273     |0.85            |\n",
      "|other        |RENT          |Verified           |18853     |0.83            |\n",
      "|other        |MORTGAGE      |Not Verified       |18317     |0.81            |\n",
      "|other        |MORTGAGE      |Verified           |16673     |0.74            |\n",
      "|personal_use |RENT          |Source Verified    |15135     |0.67            |\n",
      "|large_expense|RENT          |Source Verified    |14830     |0.66            |\n",
      "+-------------+--------------+-------------------+----------+----------------+\n",
      "only showing top 20 rows\n",
      "\n"
     ]
    }
   ],
   "source": [
    "total = df.count()\n",
    "\n",
    "combinaciones = df.groupBy('purpose', 'home_ownership','verification_status') \\\n",
    "    .count() \\\n",
    "    .withColumnRenamed(\"count\", \"frecuencia\") \\\n",
    "    .withColumn(\"probabilidad (%)\", round((col(\"frecuencia\") / total) * 100, 2)) \\\n",
    "    .orderBy(\"frecuencia\", ascending=False)\n",
    "\n",
    "print(\"Combinaciones posibles:\", combinaciones.count())\n",
    "combinaciones.show(truncate=False)"
   ]
  },
  {
   "cell_type": "code",
   "execution_count": 26,
   "id": "56348a5f",
   "metadata": {},
   "outputs": [],
   "source": [
    "df_part1 = df.filter((df.purpose == \"debt_related\") & (df.home_ownership == \"MORTGAGE\") & (df.verification_status == \"Source Verified\"))\n",
    "df_part2 = df.filter((df.purpose == \"debt_related\") & (df.home_ownership == \"RENT\") & (df.verification_status == \"Source Verified\"))\n",
    "df_part3 = df.filter((df.purpose == \"debt_related\") & (df.home_ownership == \"MORTGAGE\") & (df.verification_status == \"Not Verified\"))\n",
    "df_part4 = df.filter((df.purpose == \"debt_related\") & (df.home_ownership == \"MORTGAGE\") & (df.verification_status == \"Verified\"))"
   ]
  },
  {
   "cell_type": "markdown",
   "id": "efe6b883",
   "metadata": {},
   "source": [
    "**Aplicar muestreo aleatorio al 10%**"
   ]
  },
  {
   "cell_type": "code",
   "execution_count": 27,
   "id": "ae8a5427",
   "metadata": {},
   "outputs": [],
   "source": [
    "# Muestreo sin reemplazo\n",
    "sample1 = df_part1.sample(withReplacement=False, fraction=0.1, seed=1)\n",
    "sample2 = df_part2.sample(withReplacement=False, fraction=0.1, seed=1)\n",
    "sample3 = df_part3.sample(withReplacement=False, fraction=0.1, seed=1)\n",
    "sample4 = df_part4.sample(withReplacement=False, fraction=0.1, seed=1)"
   ]
  },
  {
   "cell_type": "markdown",
   "id": "6b988da3",
   "metadata": {},
   "source": [
    " **Unir las muestras en una sola: muestra_M**"
   ]
  },
  {
   "cell_type": "code",
   "execution_count": 28,
   "id": "3b78c7c9",
   "metadata": {},
   "outputs": [
    {
     "name": "stdout",
     "output_type": "stream",
     "text": [
      "+---------+--------+-----------+-----+----------+--------------+----------+-------------------+-----------+------------+-----+--------------+--------+---------+----------+---------+---------+-----------+---------------+-------------+---------------+-----------+----------------+--------------------+-----------+-------+--------+--------------------+---------------------+--------------+---------------+-----------+---------+-------------------+--------+------------------+--------------+----------------+---------------+-----------------+--------------------------+\n",
      "|loan_amnt|int_rate|installment|grade|emp_length|home_ownership|annual_inc|verification_status|loan_status|     purpose|  dti|inq_last_6mths|open_acc|revol_bal|revol_util|total_acc|out_prncp|total_pymnt|total_rec_prncp|total_rec_int|last_pymnt_amnt|tot_cur_bal|total_rev_hi_lim|acc_open_past_24mths|avg_cur_bal|bc_util|mort_acc|mths_since_recent_bc|mths_since_recent_inq|num_actv_bc_tl|num_actv_rev_tl|num_bc_sats|num_il_tl|num_rev_tl_bal_gt_0|num_sats|num_tl_op_past_12m|pct_tl_nvr_dlq|percent_bc_gt_75|tot_hi_cred_lim|total_bal_ex_mort|total_il_high_credit_limit|\n",
      "+---------+--------+-----------+-----+----------+--------------+----------+-------------------+-----------+------------+-----+--------------+--------+---------+----------+---------+---------+-----------+---------------+-------------+---------------+-----------+----------------+--------------------+-----------+-------+--------+--------------------+---------------------+--------------+---------------+-----------+---------+-------------------+--------+------------------+--------------+----------------+---------------+-----------------+--------------------------+\n",
      "|     5000|   17.97|     180.69|    D| 10+ years|      MORTGAGE|   53580.0|    Source Verified|  No_riesgo|debt_related|21.16|             1|       8|     8018|      35.2|       38|     4786|     353.89|         213.21|       140.68|         180.69|      41882|           22800|                  12|     5235.0|   35.9|       3|                   6|                    2|             4|              5|          5|       20|                  5|       8|                 6|          78.9|            60.0|          57426|            41882|                     34626|\n",
      "|    27000|   15.02|     642.62|    C| 10+ years|      MORTGAGE|   45000.0|    Source Verified|  No_riesgo|debt_related|23.55|             0|      11|    12903|      64.8|       24|    26387|    1251.44|         612.14|        639.3|         642.62|      21902|           19900|                   1|     1991.0|   78.1|       1|                  17|                 NULL|             6|              8|          7|        5|                  8|      11|                 0|          87.5|            57.1|          41500|            21902|                     21600|\n",
      "|     8000|   12.98|     269.48|    B|   4 years|      MORTGAGE|   95000.0|    Source Verified|  No_riesgo|debt_related| 9.44|             2|       7|    11434|      33.3|       20|     7632|     530.31|         367.87|       162.44|         269.48|     247933|           34300|                  10|    35419.0|   33.3|       1|                   6|                    2|             3|              3|          5|        4|                  3|       7|                 8|         100.0|            20.0|         271550|            25150|                     14000|\n",
      "|    12000|   14.47|     282.16|    C|   6 years|      MORTGAGE|   39000.0|    Source Verified|  No_riesgo|debt_related|16.06|             0|      11|     7899|      28.9|       24|    11723|     482.33|         276.58|       205.75|         282.16|     100619|           27300|                   5|     9147.0|   17.1|       1|                  15|                    7|             2|              5|          5|        9|                  5|      11|                 1|         100.0|             0.0|         123639|            17353|                     11939|\n",
      "|    40000|    8.19|      814.7|    A| 10+ years|      MORTGAGE|   99000.0|    Source Verified|  No_riesgo|debt_related|21.75|             0|      11|    48071|      72.2|       22|    38912|     1602.1|         1087.1|        515.0|          814.7|     190439|           66600|                   0|    17313.0|   76.7|       2|                  83|                   19|             7|              9|          7|        6|                  9|      11|                 0|         100.0|            28.6|         242324|            54990|                     23340|\n",
      "+---------+--------+-----------+-----+----------+--------------+----------+-------------------+-----------+------------+-----+--------------+--------+---------+----------+---------+---------+-----------+---------------+-------------+---------------+-----------+----------------+--------------------+-----------+-------+--------+--------------------+---------------------+--------------+---------------+-----------+---------+-------------------+--------+------------------+--------------+----------------+---------------+-----------------+--------------------------+\n",
      "only showing top 5 rows\n",
      "\n"
     ]
    }
   ],
   "source": [
    "# Unión de las muestras\n",
    "muestra_M = sample1.union(sample2).union(sample3).union(sample4)\n",
    "\n",
    "# Mostrar las primeras filas\n",
    "muestra_M.show(5)\n"
   ]
  },
  {
   "cell_type": "markdown",
   "id": "6eb6ab5e",
   "metadata": {},
   "source": [
    "# **3.Preparación de los datos**\n",
    "\n",
    "Antes de aplicar los algoritmos de aprendizaje, es necesario preparar la muestra `muestra_M` para que cumpla con los requisitos del modelo.\n",
    "\n",
    "Acciones a implementar:\n",
    "\n",
    "- Eliminación de registros con valores nulos en las variables numéricas y categóricas seleccionadas.\n",
    "- Indexación de la variable objetivo (`loan_status`) para usarla como etiqueta en aprendizaje supervisado.\n",
    "- Construcción del vector de características (`features`) usando variables numéricas como `loan_amnt`, `int_rate`, `annual_inc`, `installment`, entre otras.\n"
   ]
  },
  {
   "cell_type": "code",
   "execution_count": 29,
   "id": "0196172b",
   "metadata": {},
   "outputs": [
    {
     "name": "stdout",
     "output_type": "stream",
     "text": [
      "+---------+--------+-----------+-----+----------+--------------+----------+-------------------+-----------+------------+-----+--------------+--------+---------+----------+---------+---------+-----------+---------------+-------------+---------------+-----------+----------------+--------------------+-----------+-------+--------+--------------------+---------------------+--------------+---------------+-----------+---------+-------------------+--------+------------------+--------------+----------------+---------------+-----------------+--------------------------+\n",
      "|loan_amnt|int_rate|installment|grade|emp_length|home_ownership|annual_inc|verification_status|loan_status|     purpose|  dti|inq_last_6mths|open_acc|revol_bal|revol_util|total_acc|out_prncp|total_pymnt|total_rec_prncp|total_rec_int|last_pymnt_amnt|tot_cur_bal|total_rev_hi_lim|acc_open_past_24mths|avg_cur_bal|bc_util|mort_acc|mths_since_recent_bc|mths_since_recent_inq|num_actv_bc_tl|num_actv_rev_tl|num_bc_sats|num_il_tl|num_rev_tl_bal_gt_0|num_sats|num_tl_op_past_12m|pct_tl_nvr_dlq|percent_bc_gt_75|tot_hi_cred_lim|total_bal_ex_mort|total_il_high_credit_limit|\n",
      "+---------+--------+-----------+-----+----------+--------------+----------+-------------------+-----------+------------+-----+--------------+--------+---------+----------+---------+---------+-----------+---------------+-------------+---------------+-----------+----------------+--------------------+-----------+-------+--------+--------------------+---------------------+--------------+---------------+-----------+---------+-------------------+--------+------------------+--------------+----------------+---------------+-----------------+--------------------------+\n",
      "|     5000|   17.97|     180.69|    D| 10+ years|      MORTGAGE|   53580.0|    Source Verified|  No_riesgo|debt_related|21.16|             1|       8|     8018|      35.2|       38|     4786|     353.89|         213.21|       140.68|         180.69|      41882|           22800|                  12|     5235.0|   35.9|       3|                   6|                    2|             4|              5|          5|       20|                  5|       8|                 6|          78.9|            60.0|          57426|            41882|                     34626|\n",
      "|    27000|   15.02|     642.62|    C| 10+ years|      MORTGAGE|   45000.0|    Source Verified|  No_riesgo|debt_related|23.55|             0|      11|    12903|      64.8|       24|    26387|    1251.44|         612.14|        639.3|         642.62|      21902|           19900|                   1|     1991.0|   78.1|       1|                  17|                 NULL|             6|              8|          7|        5|                  8|      11|                 0|          87.5|            57.1|          41500|            21902|                     21600|\n",
      "|     8000|   12.98|     269.48|    B|   4 years|      MORTGAGE|   95000.0|    Source Verified|  No_riesgo|debt_related| 9.44|             2|       7|    11434|      33.3|       20|     7632|     530.31|         367.87|       162.44|         269.48|     247933|           34300|                  10|    35419.0|   33.3|       1|                   6|                    2|             3|              3|          5|        4|                  3|       7|                 8|         100.0|            20.0|         271550|            25150|                     14000|\n",
      "|    12000|   14.47|     282.16|    C|   6 years|      MORTGAGE|   39000.0|    Source Verified|  No_riesgo|debt_related|16.06|             0|      11|     7899|      28.9|       24|    11723|     482.33|         276.58|       205.75|         282.16|     100619|           27300|                   5|     9147.0|   17.1|       1|                  15|                    7|             2|              5|          5|        9|                  5|      11|                 1|         100.0|             0.0|         123639|            17353|                     11939|\n",
      "|    40000|    8.19|      814.7|    A| 10+ years|      MORTGAGE|   99000.0|    Source Verified|  No_riesgo|debt_related|21.75|             0|      11|    48071|      72.2|       22|    38912|     1602.1|         1087.1|        515.0|          814.7|     190439|           66600|                   0|    17313.0|   76.7|       2|                  83|                   19|             7|              9|          7|        6|                  9|      11|                 0|         100.0|            28.6|         242324|            54990|                     23340|\n",
      "|     5000|   14.47|     172.04|    C|   5 years|      MORTGAGE|   30000.0|    Source Verified|  No_riesgo|debt_related|24.11|             1|       9|     7598|      37.8|       12|     4775|     338.05|         224.84|       113.21|         172.04|     117170|           20100|                   3|    13019.0|   47.7|       1|                   6|                    3|             3|              5|          3|        3|                  5|       9|                 2|          91.7|            66.7|         136958|            24126|                     22858|\n",
      "|    20000|   10.72|     432.07|    B|    1 year|      MORTGAGE|  120000.0|    Source Verified|  No_riesgo|debt_related| 28.8|             1|      14|    17349|      33.0|       22|    19490|     846.27|         509.07|        337.2|         432.07|     415882|           52500|                   3|    29706.0|    6.4|       3|                  43|                    6|             2|              3|          3|        6|                  3|      14|                 1|         100.0|             0.0|         517791|           109522|                    130548|\n",
      "|    30000|   26.31|     903.73|    E| 10+ years|      MORTGAGE|  120000.0|    Source Verified|  No_riesgo|debt_related|12.23|             0|      14|    29040|      33.2|       27|    29754|     859.88|         245.99|       613.89|         925.66|     504219|           87600|                   5|    38786.0|   54.9|       1|                  13|                    0|             5|              9|          6|        6|                  9|      14|                 2|         100.0|            40.0|         573600|            48391|                     22000|\n",
      "|    10000|    11.8|     221.44|    B|   2 years|      MORTGAGE|   50000.0|    Source Verified|  No_riesgo|debt_related| 13.3|             2|       9|     1093|       5.4|       12|     9752|     433.05|         247.42|       185.63|         221.44|     201049|           20400|                   6|    22339.0|   10.1|       2|                   2|                    2|             2|              3|          3|        3|                  3|       9|                 6|         100.0|             0.0|         228912|            21244|                     26637|\n",
      "|     8000|    6.46|     245.05|    A|   5 years|      MORTGAGE|   52000.0|    Source Verified|  No_riesgo|debt_related| 5.58|             0|       3|     8060|     100.8|       10|     7594|     485.79|         405.05|        80.74|         245.05|     258732|            8000|                   1|   129366.0|   NULL|       3|                NULL|                   23|             0|              1|          0|        2|                  1|       3|                 0|         100.0|            NULL|         265345|             8060|                         0|\n",
      "|    10000|    6.46|     306.31|    A| 10+ years|      MORTGAGE|  105000.0|    Source Verified|  No_riesgo|debt_related|15.58|             2|      11|    12282|      33.6|       24|     9747|     300.93|         252.48|        48.45|         306.31|     132853|           36600|                  11|    12078.0|   35.0|       1|                   2|                    2|             5|              7|          6|       11|                  7|      10|                 6|          95.7|             0.0|         187909|            47135|                     40605|\n",
      "|    12000|    7.56|     373.61|    A| 10+ years|      MORTGAGE|   94992.0|    Source Verified|  No_riesgo|debt_related|14.74|             1|       5|     4086|      17.0|       14|    11402|     739.66|          597.9|       141.76|         373.61|     225033|           24000|                   3|    45007.0|   NULL|       3|                NULL|                    0|             0|              1|          0|        4|                  1|       5|                 2|         100.0|            NULL|         264744|            54041|                     62244|\n",
      "|    15000|   19.92|     556.85|    D| 10+ years|      MORTGAGE|   82038.0|    Source Verified|  No_riesgo|debt_related|27.63|             1|      14|    27368|      67.2|       42|    14379|     1088.8|         620.81|       467.99|         556.85|     328543|           40700|                   8|    23467.0|   85.5|       2|                   8|                    4|             4|              4|          4|       28|                  4|      14|                 3|          97.6|            75.0|         351424|           152180|                    128360|\n",
      "|     6000|   19.92|     222.74|    D| 10+ years|      MORTGAGE|   65000.0|    Source Verified|  No_riesgo|debt_related|25.13|             0|      16|    26260|      52.8|       23|     5751|     435.52|         248.32|        187.2|         222.74|     146023|           49700|                   5|     9126.0|   51.4|       1|                  22|                   10|             2|             10|          3|        7|                 10|      16|                 2|          87.0|            33.3|         185047|            56304|                     33307|\n",
      "|    30000|   14.47|     705.38|    C|   4 years|      MORTGAGE|   80000.0|    Source Verified|  No_riesgo|debt_related|12.32|             0|       8|     7149|      54.6|       17|    29308|    1374.58|          691.4|       683.18|         705.38|     292045|           13100|                   2|    36506.0|   92.9|       1|                  24|                   16|             1|              2|          1|        2|                  2|       8|                 0|          88.2|           100.0|         323264|            22945|                     29085|\n",
      "|    20000|   16.14|     487.86|    C|   8 years|      MORTGAGE|   62000.0|    Source Verified|  No_riesgo|debt_related|17.03|             0|       5|    12122|      63.8|       13|    19559|     948.82|         440.66|       508.16|         487.86|     247534|           19000|                   4|    49507.0|   63.8|       1|                  10|                    8|             3|              3|          3|        6|                  3|       5|                 2|          92.3|            66.7|         260735|            49820|                     42814|\n",
      "|    40000|    11.8|     885.75|    B| 10+ years|      MORTGAGE|  200000.0|    Source Verified|  No_riesgo|debt_related| 5.11|             0|      13|    25925|      33.9|       21|    39010|    1732.17|         989.68|       742.49|         885.75|     444234|           76500|                   5|    37020.0|   42.2|       2|                   7|                    8|             6|              6|          7|        2|                  6|      13|                 3|         100.0|            16.7|         510000|            48438|                     25000|\n",
      "|    16000|   10.33|     342.56|    B|   6 years|      MORTGAGE|   65000.0|    Source Verified|  No_riesgo|debt_related|18.65|             1|      13|    16149|      45.4|       15|    15588|     671.35|         411.42|       259.93|         342.56|      82589|           35600|                   3|     6353.0|   49.1|       1|                   8|                    0|             8|              9|         10|        1|                  9|      13|                 2|         100.0|             0.0|         117054|            31264|                     23954|\n",
      "|    22000|   16.14|     536.64|    C|   7 years|      MORTGAGE|  107200.0|    Source Verified|  No_riesgo|debt_related|20.63|             1|      15|    16151|      76.2|       33|    21515|    1043.69|         484.72|       558.97|         536.64|     395095|           21200|                  10|    26340.0|   68.3|       3|                  15|                    4|             3|             10|          4|       16|                 11|      15|                 3|          96.8|            50.0|         416590|            59186|                     54481|\n",
      "|    40000|    8.19|      814.7|    A|    1 year|      MORTGAGE|  130000.0|    Source Verified|  No_riesgo|debt_related|12.55|             0|       9|    46474|      71.7|       28|    38912|     1565.7|         1087.1|        478.6|          814.7|     260545|           64800|                   1|    28949.0|   77.4|       4|                  25|                   10|             4|              5|          5|        9|                  5|       9|                 1|         100.0|            40.0|         341050|            46474|                         0|\n",
      "+---------+--------+-----------+-----+----------+--------------+----------+-------------------+-----------+------------+-----+--------------+--------+---------+----------+---------+---------+-----------+---------------+-------------+---------------+-----------+----------------+--------------------+-----------+-------+--------+--------------------+---------------------+--------------+---------------+-----------+---------+-------------------+--------+------------------+--------------+----------------+---------------+-----------------+--------------------------+\n",
      "only showing top 20 rows\n",
      "\n"
     ]
    }
   ],
   "source": [
    "muestra_M.show()"
   ]
  },
  {
   "cell_type": "code",
   "execution_count": 30,
   "id": "f5a36e2a-e32c-41ad-8ef9-abbdf8b08683",
   "metadata": {},
   "outputs": [
    {
     "name": "stdout",
     "output_type": "stream",
     "text": [
      "+-----------+---------+--------+----------+-----------+\n",
      "|loan_status|loan_amnt|int_rate|annual_inc|installment|\n",
      "+-----------+---------+--------+----------+-----------+\n",
      "|  No_riesgo|     5000|   17.97|   53580.0|     180.69|\n",
      "|  No_riesgo|    27000|   15.02|   45000.0|     642.62|\n",
      "|  No_riesgo|     8000|   12.98|   95000.0|     269.48|\n",
      "|  No_riesgo|    12000|   14.47|   39000.0|     282.16|\n",
      "|  No_riesgo|    40000|    8.19|   99000.0|      814.7|\n",
      "|  No_riesgo|     5000|   14.47|   30000.0|     172.04|\n",
      "|  No_riesgo|    20000|   10.72|  120000.0|     432.07|\n",
      "|  No_riesgo|    30000|   26.31|  120000.0|     903.73|\n",
      "|  No_riesgo|    10000|    11.8|   50000.0|     221.44|\n",
      "|  No_riesgo|     8000|    6.46|   52000.0|     245.05|\n",
      "|  No_riesgo|    10000|    6.46|  105000.0|     306.31|\n",
      "|  No_riesgo|    12000|    7.56|   94992.0|     373.61|\n",
      "|  No_riesgo|    15000|   19.92|   82038.0|     556.85|\n",
      "|  No_riesgo|     6000|   19.92|   65000.0|     222.74|\n",
      "|  No_riesgo|    30000|   14.47|   80000.0|     705.38|\n",
      "|  No_riesgo|    20000|   16.14|   62000.0|     487.86|\n",
      "|  No_riesgo|    40000|    11.8|  200000.0|     885.75|\n",
      "|  No_riesgo|    16000|   10.33|   65000.0|     342.56|\n",
      "|  No_riesgo|    22000|   16.14|  107200.0|     536.64|\n",
      "|  No_riesgo|    40000|    8.19|  130000.0|      814.7|\n",
      "+-----------+---------+--------+----------+-----------+\n",
      "only showing top 20 rows\n",
      "\n"
     ]
    }
   ],
   "source": [
    "# Eliminación de registros con valores nulos en las variables numéricas y categóricas seleccionadas.\n",
    "columnas_usadas = ['loan_status', 'loan_amnt', 'int_rate', 'annual_inc', 'installment']\n",
    "muestra_m_Limpia = muestra_M.select(columnas_usadas).dropna()\n",
    "muestra_m_Limpia.show()"
   ]
  },
  {
   "cell_type": "code",
   "execution_count": 31,
   "id": "39b96630-ade6-4dc2-a666-4bbddfb155f6",
   "metadata": {},
   "outputs": [
    {
     "name": "stdout",
     "output_type": "stream",
     "text": [
      "+-------------------------------+-----------+\n",
      "|features                       |loan_status|\n",
      "+-------------------------------+-----------+\n",
      "|[5000.0,17.97,53580.0,180.69]  |No_riesgo  |\n",
      "|[27000.0,15.02,45000.0,642.62] |No_riesgo  |\n",
      "|[8000.0,12.98,95000.0,269.48]  |No_riesgo  |\n",
      "|[12000.0,14.47,39000.0,282.16] |No_riesgo  |\n",
      "|[40000.0,8.19,99000.0,814.7]   |No_riesgo  |\n",
      "|[5000.0,14.47,30000.0,172.04]  |No_riesgo  |\n",
      "|[20000.0,10.72,120000.0,432.07]|No_riesgo  |\n",
      "|[30000.0,26.31,120000.0,903.73]|No_riesgo  |\n",
      "|[10000.0,11.8,50000.0,221.44]  |No_riesgo  |\n",
      "|[8000.0,6.46,52000.0,245.05]   |No_riesgo  |\n",
      "|[10000.0,6.46,105000.0,306.31] |No_riesgo  |\n",
      "|[12000.0,7.56,94992.0,373.61]  |No_riesgo  |\n",
      "|[15000.0,19.92,82038.0,556.85] |No_riesgo  |\n",
      "|[6000.0,19.92,65000.0,222.74]  |No_riesgo  |\n",
      "|[30000.0,14.47,80000.0,705.38] |No_riesgo  |\n",
      "|[20000.0,16.14,62000.0,487.86] |No_riesgo  |\n",
      "|[40000.0,11.8,200000.0,885.75] |No_riesgo  |\n",
      "|[16000.0,10.33,65000.0,342.56] |No_riesgo  |\n",
      "|[22000.0,16.14,107200.0,536.64]|No_riesgo  |\n",
      "|[40000.0,8.19,130000.0,814.7]  |No_riesgo  |\n",
      "+-------------------------------+-----------+\n",
      "only showing top 20 rows\n",
      "\n"
     ]
    }
   ],
   "source": [
    "from pyspark.ml.feature import VectorAssembler\n",
    "\n",
    "# Definir las columnas numéricas que usarás como características\n",
    "columnas_caracteristicas = ['loan_amnt', 'int_rate', 'annual_inc', 'installment']\n",
    "\n",
    "# Inicializar el VectorAssembler\n",
    "assembler = VectorAssembler(\n",
    "    inputCols=columnas_caracteristicas,\n",
    "    outputCol='features'\n",
    ")\n",
    "\n",
    "# Transformar el DataFrame limpio\n",
    "muestra_m_Features = assembler.transform(muestra_m_Limpia)\n",
    "\n",
    "# Mostrar el resultado con la nueva columna 'features'\n",
    "muestra_m_Features.select('features', 'loan_status').show(truncate=False)\n"
   ]
  },
  {
   "cell_type": "markdown",
   "id": "e1d6da53-af79-4266-be94-d13d22dc31f9",
   "metadata": {},
   "source": [
    "# **4. Preparación del conjunto de entrenamiento y prueba**"
   ]
  },
  {
   "cell_type": "code",
   "execution_count": 32,
   "id": "caaefcd7-71fd-43ae-9d22-de789bd4a224",
   "metadata": {},
   "outputs": [],
   "source": [
    "\n",
    "df_train, df_test = df.randomSplit([.8,.2], seed=42)"
   ]
  },
  {
   "cell_type": "markdown",
   "id": "7cd2a3a4-9aad-4585-bca4-16370ad32621",
   "metadata": {},
   "source": [
    "# 5. Construcción de Modelo"
   ]
  },
  {
   "cell_type": "code",
   "execution_count": 33,
   "id": "f46d4430-cf29-47b4-9016-cfea795ea63c",
   "metadata": {},
   "outputs": [
    {
     "ename": "IllegalArgumentException",
     "evalue": "features does not exist. Available: _c0, _c1, _c2, _c3, _c4, _c5, _c6, _c7, _c8, _c9, _c10, _c11, _c12, _c13, _c14, _c15, _c16, _c17, _c18, _c19, _c20, _c21, _c22, _c23, _c24, _c25, _c26, _c27, _c28, _c29, _c30, _c31, _c32, _c33, _c34, _c35, _c36, _c37, _c38, _c39, _c40, _c41, _c42, _c43, _c44, _c45, _c46, _c47, _c48, _c49, _c50, _c51, _c52, _c53, _c54, _c55, _c56, _c57, _c58, _c59, _c60, _c61, _c62, _c63, _c64, _c65, _c66, _c67, _c68, _c69, _c70, _c71, _c72, _c73, _c74, _c75, _c76, _c77, _c78, _c79, _c80, _c81, _c82, _c83, _c84, _c85, _c86, _c87, _c88, _c89, _c90, _c91, _c92, _c93, _c94, _c95, _c96, _c97, _c98, _c99, _c100, _c101, _c102, _c103, _c104, _c105, _c106, _c107, _c108, _c109, _c110, _c111, _c112, _c113, _c114, _c115, _c116, _c117, _c118, _c119, _c120, _c121, _c122, _c123, _c124, _c125, _c126, _c127, _c128, _c129, _c130, _c131, _c132, _c133, _c134, _c135, _c136, _c137, _c138, _c139, _c140, _c141, _c142, _c143, _c144",
     "output_type": "error",
     "traceback": [
      "\u001b[1;31m---------------------------------------------------------------------------\u001b[0m",
      "\u001b[1;31mIllegalArgumentException\u001b[0m                  Traceback (most recent call last)",
      "Cell \u001b[1;32mIn[33], line 10\u001b[0m\n\u001b[0;32m      7\u001b[0m lr \u001b[38;5;241m=\u001b[39m LogisticRegression(maxIter\u001b[38;5;241m=\u001b[39m\u001b[38;5;241m10\u001b[39m, regParam\u001b[38;5;241m=\u001b[39m\u001b[38;5;241m0.3\u001b[39m, elasticNetParam\u001b[38;5;241m=\u001b[39m\u001b[38;5;241m0.8\u001b[39m)\n\u001b[0;32m      9\u001b[0m \u001b[38;5;66;03m# Fit the model\u001b[39;00m\n\u001b[1;32m---> 10\u001b[0m lrModel \u001b[38;5;241m=\u001b[39m lr\u001b[38;5;241m.\u001b[39mfit(training)\n\u001b[0;32m     12\u001b[0m \u001b[38;5;66;03m# Print the coefficients and intercept for logistic regression\u001b[39;00m\n\u001b[0;32m     13\u001b[0m \u001b[38;5;28mprint\u001b[39m(\u001b[38;5;124m\"\u001b[39m\u001b[38;5;124mCoefficients: \u001b[39m\u001b[38;5;124m\"\u001b[39m \u001b[38;5;241m+\u001b[39m \u001b[38;5;28mstr\u001b[39m(lrModel\u001b[38;5;241m.\u001b[39mcoefficients))\n",
      "File \u001b[1;32m~\\anaconda3\\envs\\env-pyspark-alan\\Lib\\site-packages\\pyspark\\ml\\base.py:205\u001b[0m, in \u001b[0;36mEstimator.fit\u001b[1;34m(self, dataset, params)\u001b[0m\n\u001b[0;32m    203\u001b[0m         \u001b[38;5;28;01mreturn\u001b[39;00m \u001b[38;5;28mself\u001b[39m\u001b[38;5;241m.\u001b[39mcopy(params)\u001b[38;5;241m.\u001b[39m_fit(dataset)\n\u001b[0;32m    204\u001b[0m     \u001b[38;5;28;01melse\u001b[39;00m:\n\u001b[1;32m--> 205\u001b[0m         \u001b[38;5;28;01mreturn\u001b[39;00m \u001b[38;5;28mself\u001b[39m\u001b[38;5;241m.\u001b[39m_fit(dataset)\n\u001b[0;32m    206\u001b[0m \u001b[38;5;28;01melse\u001b[39;00m:\n\u001b[0;32m    207\u001b[0m     \u001b[38;5;28;01mraise\u001b[39;00m \u001b[38;5;167;01mTypeError\u001b[39;00m(\n\u001b[0;32m    208\u001b[0m         \u001b[38;5;124m\"\u001b[39m\u001b[38;5;124mParams must be either a param map or a list/tuple of param maps, \u001b[39m\u001b[38;5;124m\"\u001b[39m\n\u001b[0;32m    209\u001b[0m         \u001b[38;5;124m\"\u001b[39m\u001b[38;5;124mbut got \u001b[39m\u001b[38;5;132;01m%s\u001b[39;00m\u001b[38;5;124m.\u001b[39m\u001b[38;5;124m\"\u001b[39m \u001b[38;5;241m%\u001b[39m \u001b[38;5;28mtype\u001b[39m(params)\n\u001b[0;32m    210\u001b[0m     )\n",
      "File \u001b[1;32m~\\anaconda3\\envs\\env-pyspark-alan\\Lib\\site-packages\\pyspark\\ml\\wrapper.py:381\u001b[0m, in \u001b[0;36mJavaEstimator._fit\u001b[1;34m(self, dataset)\u001b[0m\n\u001b[0;32m    380\u001b[0m \u001b[38;5;28;01mdef\u001b[39;00m \u001b[38;5;21m_fit\u001b[39m(\u001b[38;5;28mself\u001b[39m, dataset: DataFrame) \u001b[38;5;241m-\u001b[39m\u001b[38;5;241m>\u001b[39m JM:\n\u001b[1;32m--> 381\u001b[0m     java_model \u001b[38;5;241m=\u001b[39m \u001b[38;5;28mself\u001b[39m\u001b[38;5;241m.\u001b[39m_fit_java(dataset)\n\u001b[0;32m    382\u001b[0m     model \u001b[38;5;241m=\u001b[39m \u001b[38;5;28mself\u001b[39m\u001b[38;5;241m.\u001b[39m_create_model(java_model)\n\u001b[0;32m    383\u001b[0m     \u001b[38;5;28;01mreturn\u001b[39;00m \u001b[38;5;28mself\u001b[39m\u001b[38;5;241m.\u001b[39m_copyValues(model)\n",
      "File \u001b[1;32m~\\anaconda3\\envs\\env-pyspark-alan\\Lib\\site-packages\\pyspark\\ml\\wrapper.py:378\u001b[0m, in \u001b[0;36mJavaEstimator._fit_java\u001b[1;34m(self, dataset)\u001b[0m\n\u001b[0;32m    375\u001b[0m \u001b[38;5;28;01massert\u001b[39;00m \u001b[38;5;28mself\u001b[39m\u001b[38;5;241m.\u001b[39m_java_obj \u001b[38;5;129;01mis\u001b[39;00m \u001b[38;5;129;01mnot\u001b[39;00m \u001b[38;5;28;01mNone\u001b[39;00m\n\u001b[0;32m    377\u001b[0m \u001b[38;5;28mself\u001b[39m\u001b[38;5;241m.\u001b[39m_transfer_params_to_java()\n\u001b[1;32m--> 378\u001b[0m \u001b[38;5;28;01mreturn\u001b[39;00m \u001b[38;5;28mself\u001b[39m\u001b[38;5;241m.\u001b[39m_java_obj\u001b[38;5;241m.\u001b[39mfit(dataset\u001b[38;5;241m.\u001b[39m_jdf)\n",
      "File \u001b[1;32m~\\anaconda3\\envs\\env-pyspark-alan\\Lib\\site-packages\\py4j\\java_gateway.py:1322\u001b[0m, in \u001b[0;36mJavaMember.__call__\u001b[1;34m(self, *args)\u001b[0m\n\u001b[0;32m   1316\u001b[0m command \u001b[38;5;241m=\u001b[39m proto\u001b[38;5;241m.\u001b[39mCALL_COMMAND_NAME \u001b[38;5;241m+\u001b[39m\\\n\u001b[0;32m   1317\u001b[0m     \u001b[38;5;28mself\u001b[39m\u001b[38;5;241m.\u001b[39mcommand_header \u001b[38;5;241m+\u001b[39m\\\n\u001b[0;32m   1318\u001b[0m     args_command \u001b[38;5;241m+\u001b[39m\\\n\u001b[0;32m   1319\u001b[0m     proto\u001b[38;5;241m.\u001b[39mEND_COMMAND_PART\n\u001b[0;32m   1321\u001b[0m answer \u001b[38;5;241m=\u001b[39m \u001b[38;5;28mself\u001b[39m\u001b[38;5;241m.\u001b[39mgateway_client\u001b[38;5;241m.\u001b[39msend_command(command)\n\u001b[1;32m-> 1322\u001b[0m return_value \u001b[38;5;241m=\u001b[39m get_return_value(\n\u001b[0;32m   1323\u001b[0m     answer, \u001b[38;5;28mself\u001b[39m\u001b[38;5;241m.\u001b[39mgateway_client, \u001b[38;5;28mself\u001b[39m\u001b[38;5;241m.\u001b[39mtarget_id, \u001b[38;5;28mself\u001b[39m\u001b[38;5;241m.\u001b[39mname)\n\u001b[0;32m   1325\u001b[0m \u001b[38;5;28;01mfor\u001b[39;00m temp_arg \u001b[38;5;129;01min\u001b[39;00m temp_args:\n\u001b[0;32m   1326\u001b[0m     \u001b[38;5;28;01mif\u001b[39;00m \u001b[38;5;28mhasattr\u001b[39m(temp_arg, \u001b[38;5;124m\"\u001b[39m\u001b[38;5;124m_detach\u001b[39m\u001b[38;5;124m\"\u001b[39m):\n",
      "File \u001b[1;32m~\\anaconda3\\envs\\env-pyspark-alan\\Lib\\site-packages\\pyspark\\errors\\exceptions\\captured.py:185\u001b[0m, in \u001b[0;36mcapture_sql_exception.<locals>.deco\u001b[1;34m(*a, **kw)\u001b[0m\n\u001b[0;32m    181\u001b[0m converted \u001b[38;5;241m=\u001b[39m convert_exception(e\u001b[38;5;241m.\u001b[39mjava_exception)\n\u001b[0;32m    182\u001b[0m \u001b[38;5;28;01mif\u001b[39;00m \u001b[38;5;129;01mnot\u001b[39;00m \u001b[38;5;28misinstance\u001b[39m(converted, UnknownException):\n\u001b[0;32m    183\u001b[0m     \u001b[38;5;66;03m# Hide where the exception came from that shows a non-Pythonic\u001b[39;00m\n\u001b[0;32m    184\u001b[0m     \u001b[38;5;66;03m# JVM exception message.\u001b[39;00m\n\u001b[1;32m--> 185\u001b[0m     \u001b[38;5;28;01mraise\u001b[39;00m converted \u001b[38;5;28;01mfrom\u001b[39;00m \u001b[38;5;28;01mNone\u001b[39;00m\n\u001b[0;32m    186\u001b[0m \u001b[38;5;28;01melse\u001b[39;00m:\n\u001b[0;32m    187\u001b[0m     \u001b[38;5;28;01mraise\u001b[39;00m\n",
      "\u001b[1;31mIllegalArgumentException\u001b[0m: features does not exist. Available: _c0, _c1, _c2, _c3, _c4, _c5, _c6, _c7, _c8, _c9, _c10, _c11, _c12, _c13, _c14, _c15, _c16, _c17, _c18, _c19, _c20, _c21, _c22, _c23, _c24, _c25, _c26, _c27, _c28, _c29, _c30, _c31, _c32, _c33, _c34, _c35, _c36, _c37, _c38, _c39, _c40, _c41, _c42, _c43, _c44, _c45, _c46, _c47, _c48, _c49, _c50, _c51, _c52, _c53, _c54, _c55, _c56, _c57, _c58, _c59, _c60, _c61, _c62, _c63, _c64, _c65, _c66, _c67, _c68, _c69, _c70, _c71, _c72, _c73, _c74, _c75, _c76, _c77, _c78, _c79, _c80, _c81, _c82, _c83, _c84, _c85, _c86, _c87, _c88, _c89, _c90, _c91, _c92, _c93, _c94, _c95, _c96, _c97, _c98, _c99, _c100, _c101, _c102, _c103, _c104, _c105, _c106, _c107, _c108, _c109, _c110, _c111, _c112, _c113, _c114, _c115, _c116, _c117, _c118, _c119, _c120, _c121, _c122, _c123, _c124, _c125, _c126, _c127, _c128, _c129, _c130, _c131, _c132, _c133, _c134, _c135, _c136, _c137, _c138, _c139, _c140, _c141, _c142, _c143, _c144"
     ]
    }
   ],
   "source": [
    "# 5. Aprendizaje supervisado - Regresión líneal\n",
    "from pyspark.ml.classification import LogisticRegression\n",
    "\n",
    "# Load training data\n",
    "training = spark.read.format(\"csv\").load(\"C:\\\\Users\\\\jasso\\\\anaconda3\\\\envs\\\\env-pyspark-alan\\\\loan.csv\")\n",
    "\n",
    "lr = LogisticRegression(maxIter=10, regParam=0.3, elasticNetParam=0.8)\n",
    "\n",
    "# Fit the model\n",
    "lrModel = lr.fit(training)\n",
    "\n",
    "# Print the coefficients and intercept for logistic regression\n",
    "print(\"Coefficients: \" + str(lrModel.coefficients))\n",
    "print(\"Intercept: \" + str(lrModel.intercept))\n",
    "\n",
    "# We can also use the multinomial family for binary classification\n",
    "mlr = LogisticRegression(maxIter=10, regParam=0.3, elasticNetParam=0.8, family=\"multinomial\")\n",
    "\n",
    "# Fit the model\n",
    "mlrModel = mlr.fit(training)\n",
    "\n",
    "# Print the coefficients and intercepts for logistic regression with multinomial family\n",
    "print(\"Multinomial coefficients: \" + str(mlrModel.coefficientMatrix))\n",
    "print(\"Multinomial intercepts: \" + str(mlrModel.interceptVector))"
   ]
  },
  {
   "cell_type": "code",
   "execution_count": 39,
   "id": "077ab6d7-955f-4eb8-9670-73cccf8862ba",
   "metadata": {},
   "outputs": [
    {
     "name": "stdout",
     "output_type": "stream",
     "text": [
      "+-----------------------------------------------------------------------------------+----------+\n",
      "|features_escaladas                                                                 |prediction|\n",
      "+-----------------------------------------------------------------------------------+----------+\n",
      "|[-1.2731033766898099,1.0755417746155223,-0.39900182079764396,-1.15141425801761]    |1         |\n",
      "|[1.1352331516425656,0.4477060636020421,-0.5181112937635837,0.5917886501765097]     |0         |\n",
      "|[-0.9446938500990313,0.013541707511364347,0.17599985405657784,-0.8163440391131096] |2         |\n",
      "|[-0.5068144813113268,0.33065194798935954,-0.6014046315020031,-0.7684930381478087]  |2         |\n",
      "|[2.5583411002026053,-1.0058932266427276,0.23152874588219075,1.2411735276298992]    |0         |\n",
      "|[-1.2731033766898099,0.33065194798935954,-0.7263446381096321,-1.1840570938496173]  |2         |\n",
      "|[0.36894425626408245,-0.46744429482438665,0.5230554279666586,-0.2027719376187665]  |2         |\n",
      "|[1.463642678233344,2.850507818633294,0.5230554279666586,1.5771494437135536]        |1         |\n",
      "|[-0.725754165705179,-0.23759257689402774,-0.4487001789815675,-0.9976344244737607]  |2         |\n",
      "|[-0.9446938500990313,-1.3740816266608025,-0.42093573306876103,-0.9085364644744898] |2         |\n",
      "|[-0.725754165705179,-1.3740816266608025,0.31482208362061015,-0.6773572594954416]   |2         |\n",
      "|[-0.5068144813113268,-1.139973395435437,0.1758887962729266,-0.4233846755076852]    |2         |\n",
      "|[-0.1784049547205483,1.490551820878671,-0.003941519904320827,0.26811512077636335]  |1         |\n",
      "|[-1.1636335344928836,1.490551820878671,-0.24046683463551904,-0.9927285647533434]   |1         |\n",
      "|[1.463642678233344,0.33065194798935954,-0.03223349028947061,0.8286284625252703]    |0         |\n",
      "|[0.36894425626408245,0.6860708081224145,-0.28211350350472875,0.007764919152064547] |1         |\n",
      "|[2.5583411002026053,-0.23759257689402774,1.6336332644789169,1.509297630041936]     |0         |\n",
      "|[-0.06893511252362214,-0.5504463040770163,-0.24046683463551904,-0.5405592480607289]|2         |\n",
      "|[0.5878839406579348,0.6860708081224145,0.34536297412469724,0.19184787081510682]    |1         |\n",
      "|[2.5583411002026053,-1.0058932266427276,0.6618776575306908,1.2411735276298992]     |0         |\n",
      "+-----------------------------------------------------------------------------------+----------+\n",
      "only showing top 20 rows\n",
      "\n",
      "Centros de los clusters:\n",
      "Cluster 0: [ 1.29814406 -0.13135835  0.55539263  1.27721451]\n",
      "Cluster 1: [-0.06755234  1.16401604 -0.22021417 -0.08550646]\n",
      "Cluster 2: [-0.66803221 -0.4972928  -0.19241666 -0.64796558]\n"
     ]
    }
   ],
   "source": [
    "# 5. Aprendizaje NO supervisado - KMeans\n",
    "from pyspark.ml.feature import StandardScaler\n",
    "from pyspark.ml.clustering import KMeans\n",
    "\n",
    "scaler = StandardScaler(inputCol=\"features\", outputCol=\"features_escaladas\", withStd=True, withMean=True)\n",
    "scaler_model = scaler.fit(muestra_m_Features) \n",
    "df_escalado = scaler_model.transform(muestra_m_Features)\n",
    "\n",
    "#Aplicacion de modelo KMeans\n",
    "kmeans = KMeans(featuresCol='features_escaladas', k=3, seed=1)\n",
    "modelo_kmeans = kmeans.fit(df_escalado)\n",
    "# Predecir los clusters para cada fila\n",
    "predicciones = modelo_kmeans.transform(df_escalado)\n",
    "\n",
    "# Mostrar las predicciones junto a las características originales\n",
    "predicciones.select(\"features_escaladas\", \"prediction\").show(truncate=False)\n",
    "\n",
    "# Mostrar los centros de los clusters\n",
    "centros = modelo_kmeans.clusterCenters()\n",
    "print(\"Centros de los clusters:\")\n",
    "for i, centro in enumerate(centros):\n",
    "    print(f\"Cluster {i}: {centro}\")"
   ]
  },
  {
   "cell_type": "code",
   "execution_count": null,
   "id": "81240438-4f04-4ff0-a13f-2a053ca3051d",
   "metadata": {},
   "outputs": [],
   "source": []
  }
 ],
 "metadata": {
  "kernelspec": {
   "display_name": "env-pyspark-alan",
   "language": "python",
   "name": "env-pyspark-alan"
  },
  "language_info": {
   "codemirror_mode": {
    "name": "ipython",
    "version": 3
   },
   "file_extension": ".py",
   "mimetype": "text/x-python",
   "name": "python",
   "nbconvert_exporter": "python",
   "pygments_lexer": "ipython3",
   "version": "3.12.9"
  }
 },
 "nbformat": 4,
 "nbformat_minor": 5
}
