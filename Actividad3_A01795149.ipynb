{
 "cells": [
  {
   "cell_type": "markdown",
   "id": "bb3c6a9b",
   "metadata": {},
   "source": [
    "# **Maestría en Inteligencia Artificial Aplicada**\n",
    "\n",
    "## Curso: **Análisis de grandes volúmenes de datos**\n",
    "\n",
    "## Tecnológico de Monterrey\n",
    "\n",
    "## **Actividad 3:**  Aprendizaje supervisado y no supervisado\n",
    "\n",
    "## Nombre: **Kevin Balderas Sánchez** \n",
    "## Matricula:  **A01795149**\n",
    "\n"
   ]
  },
  {
   "cell_type": "markdown",
   "id": "be9f40d6",
   "metadata": {},
   "source": [
    "# **1.Introducción**\n",
    "\n",
    "En el contexto del análisis de grandes volúmenes de datos, el aprendizaje automático se ha convertido en una herramienta fundamental para extraer conocimiento útil. Esta práctica tiene como objetivo aplicar dos tipos de algoritmos de *Machine Learning* en PySpark: uno de **aprendizaje supervisado** y otro de **aprendizaje no supervisado**, utilizando una muestra representativa del dataset **Lending Club**, el cual contiene información financiera de clientes que solicitaron préstamos.\n",
    "\n",
    "---\n",
    "\n",
    "## Aprendizaje Supervisado\n",
    "\n",
    "El aprendizaje supervisado se refiere a técnicas que aprenden a partir de un conjunto de datos etiquetado, es decir, que incluye una **variable objetivo** conocida (también llamada *label* o *target*). El algoritmo aprende la relación entre las variables predictoras (features) y la etiqueta, con el fin de hacer predicciones sobre datos nuevos o desconocidos.\n",
    "\n",
    "### Ejemplos de algoritmos supervisados\n",
    "\n",
    "- **Árboles de Decisión**: construyen un modelo en forma de árbol, donde cada nodo representa una condición sobre una variable, y las hojas una predicción. Son fáciles de interpretar y adecuados para datos estructurados.\n",
    "  \n",
    "- **Random Forest**: consiste en la combinación de varios árboles de decisión, generados aleatoriamente, para mejorar la precisión del modelo y reducir el sobreajuste.\n",
    "\n",
    "- **Multilayer Perceptron**: es un tipo de red neuronal artificial con múltiples capas ocultas. Captura relaciones complejas entre las variables pero requiere más datos y tiempo de entrenamiento.\n",
    "\n",
    "---\n",
    "\n",
    "## Aprendizaje No Supervisado\n",
    "\n",
    "El aprendizaje no supervisado trabaja con datos sin etiquetas. El objetivo es encontrar **estructuras internas**, **agrupamientos** o **relaciones ocultas** entre las observaciones sin que se indique explícitamente qué se debe predecir.\n",
    "\n",
    "### Ejemplos de algoritmos no supervisados\n",
    "\n",
    "- **KMeans**: divide el conjunto de datos en *k* grupos (clusters) que comparten características similares. Es ampliamente usado en segmentación de clientes, análisis de comportamiento o agrupamiento de documentos.\n",
    "\n",
    "- **Gaussian Mixture Model (GMM)**: a diferencia de KMeans que asigna cada punto a un único clúster, GMM calcula la probabilidad de que un punto pertenezca a cada clúster.\n",
    "\n",
    "- **Power Iteration Clustering (PIC)**: técnica más avanzada basada en grafos, útil en redes complejas o cuando los datos tienen forma de red o conectividad.\n",
    "\n",
    "---\n",
    "\n",
    "## Objetivo de la Práctica\n",
    "\n",
    "Aplicar algoritmos de aprendizaje supervisado y no supervisado mediante PySpark para la resolución de problemas en análisis de datos, fomentando el desarrollo de habilidades prácticas en el manejo y procesamiento eficiente de grandes conjuntos de datos."
   ]
  },
  {
   "cell_type": "markdown",
   "id": "0910e160",
   "metadata": {},
   "source": [
    "## Librerías utilizadas\n",
    "\n",
    "A continuación, se importan las librerías necesarias para el procesamiento, modelado y evaluación de datos usando PySpark.\n"
   ]
  },
  {
   "cell_type": "code",
   "execution_count": 1,
   "id": "ed5f07c1",
   "metadata": {},
   "outputs": [],
   "source": [
    "# Sesión de Spark\n",
    "from pyspark.sql import SparkSession\n",
    "\n",
    "# Transformaciones sobre columnas\n",
    "from pyspark.sql.functions import col, when, isnan, count,round,regexp_replace, sum\n",
    "\n",
    "\n",
    "# Preprocesamiento\n",
    "from pyspark.ml.feature import StringIndexer, VectorAssembler, OneHotEncoder\n",
    "from pyspark.ml import Pipeline\n",
    "\n",
    "# Modelos supervisados\n",
    "from pyspark.ml.classification import DecisionTreeClassifier\n",
    "\n",
    "# Modelos no supervisados\n",
    "from pyspark.ml.clustering import KMeans\n",
    "\n",
    "# Evaluación\n",
    "from pyspark.ml.evaluation import MulticlassClassificationEvaluator, ClusteringEvaluator\n",
    "\n",
    "#Visualización y análisis con Pandas y Matplotlib\n",
    "import pandas as pd\n",
    "import matplotlib.pyplot as plt\n",
    "import seaborn as sns\n"
   ]
  },
  {
   "cell_type": "code",
   "execution_count": 2,
   "id": "4302f25f",
   "metadata": {},
   "outputs": [
    {
     "data": {
      "text/html": [
       "\n",
       "            <div>\n",
       "                <p><b>SparkSession - in-memory</b></p>\n",
       "                \n",
       "        <div>\n",
       "            <p><b>SparkContext</b></p>\n",
       "\n",
       "            <p><a href=\"http://localhost:4041\">Spark UI</a></p>\n",
       "\n",
       "            <dl>\n",
       "              <dt>Version</dt>\n",
       "                <dd><code>v3.5.5</code></dd>\n",
       "              <dt>Master</dt>\n",
       "                <dd><code>local[*]</code></dd>\n",
       "              <dt>AppName</dt>\n",
       "                <dd><code>LendingClubLoanData</code></dd>\n",
       "            </dl>\n",
       "        </div>\n",
       "        \n",
       "            </div>\n",
       "        "
      ],
      "text/plain": [
       "<pyspark.sql.session.SparkSession at 0x1f93ac702e0>"
      ]
     },
     "execution_count": 2,
     "metadata": {},
     "output_type": "execute_result"
    }
   ],
   "source": [
    "spark = SparkSession.builder.appName(\"LendingClubLoanData\").getOrCreate()\n",
    "spark"
   ]
  },
  {
   "cell_type": "markdown",
   "id": "2a34cc82",
   "metadata": {},
   "source": [
    "# **2.Selección de los datos**\n",
    "\n"
   ]
  },
  {
   "cell_type": "code",
   "execution_count": 3,
   "id": "c73ea816",
   "metadata": {},
   "outputs": [
    {
     "name": "stdout",
     "output_type": "stream",
     "text": [
      "+----+---------+---------+-----------+---------------+----------+--------+-----------+-----+---------+--------------+----------+--------------+----------+-------------------+--------+-----------+----------+----+----+------------------+------------------+--------+----------+-----+-----------+----------------+--------------+----------------------+----------------------+--------+-------+---------+----------+---------+-------------------+---------+-------------+-----------+---------------+---------------+-------------+------------------+----------+-----------------------+------------+---------------+------------+------------------+--------------------------+---------------------------+-----------+----------------+----------------+---------+-------------------------+--------------+------------+-----------+-----------+-----------+-----------+-----------+------------------+------------+-------+-----------+-----------+----------+--------+----------------+------+-----------+------------+--------------------+-----------+--------------+-------+------------------------+-----------+------------------+--------------------+---------------------+--------------+--------+--------------------+------------------------+---------------------+------------------------------+---------------------+--------------+---------------+-----------+---------+---------+-------------+-------------+-------------------+--------+----------------+------------+------------------+------------------+--------------+----------------+--------------------+---------+---------------+-----------------+--------------+--------------------------+---------------+------------------------+----------------------+----------------+----------------+------------------+-------------------+---------------------+--------------------------------+----------------------------------+-----------------------------------+-------------+-------------+---------------+---------------+-------------+---------------+-------------------+-----------------+-----------------------+---------------+------------+--------------------+------------------------------------------+------------------------------+----------------------------+-------------------+--------------------+-------------------------+-----------------+---------------+-----------------+---------------------+---------------+\n",
      "|  id|member_id|loan_amnt|funded_amnt|funded_amnt_inv|      term|int_rate|installment|grade|sub_grade|     emp_title|emp_length|home_ownership|annual_inc|verification_status| issue_d|loan_status|pymnt_plan| url|desc|           purpose|             title|zip_code|addr_state|  dti|delinq_2yrs|earliest_cr_line|inq_last_6mths|mths_since_last_delinq|mths_since_last_record|open_acc|pub_rec|revol_bal|revol_util|total_acc|initial_list_status|out_prncp|out_prncp_inv|total_pymnt|total_pymnt_inv|total_rec_prncp|total_rec_int|total_rec_late_fee|recoveries|collection_recovery_fee|last_pymnt_d|last_pymnt_amnt|next_pymnt_d|last_credit_pull_d|collections_12_mths_ex_med|mths_since_last_major_derog|policy_code|application_type|annual_inc_joint|dti_joint|verification_status_joint|acc_now_delinq|tot_coll_amt|tot_cur_bal|open_acc_6m|open_act_il|open_il_12m|open_il_24m|mths_since_rcnt_il|total_bal_il|il_util|open_rv_12m|open_rv_24m|max_bal_bc|all_util|total_rev_hi_lim|inq_fi|total_cu_tl|inq_last_12m|acc_open_past_24mths|avg_cur_bal|bc_open_to_buy|bc_util|chargeoff_within_12_mths|delinq_amnt|mo_sin_old_il_acct|mo_sin_old_rev_tl_op|mo_sin_rcnt_rev_tl_op|mo_sin_rcnt_tl|mort_acc|mths_since_recent_bc|mths_since_recent_bc_dlq|mths_since_recent_inq|mths_since_recent_revol_delinq|num_accts_ever_120_pd|num_actv_bc_tl|num_actv_rev_tl|num_bc_sats|num_bc_tl|num_il_tl|num_op_rev_tl|num_rev_accts|num_rev_tl_bal_gt_0|num_sats|num_tl_120dpd_2m|num_tl_30dpd|num_tl_90g_dpd_24m|num_tl_op_past_12m|pct_tl_nvr_dlq|percent_bc_gt_75|pub_rec_bankruptcies|tax_liens|tot_hi_cred_lim|total_bal_ex_mort|total_bc_limit|total_il_high_credit_limit|revol_bal_joint|sec_app_earliest_cr_line|sec_app_inq_last_6mths|sec_app_mort_acc|sec_app_open_acc|sec_app_revol_util|sec_app_open_act_il|sec_app_num_rev_accts|sec_app_chargeoff_within_12_mths|sec_app_collections_12_mths_ex_med|sec_app_mths_since_last_major_derog|hardship_flag|hardship_type|hardship_reason|hardship_status|deferral_term|hardship_amount|hardship_start_date|hardship_end_date|payment_plan_start_date|hardship_length|hardship_dpd|hardship_loan_status|orig_projected_additional_accrued_interest|hardship_payoff_balance_amount|hardship_last_payment_amount|disbursement_method|debt_settlement_flag|debt_settlement_flag_date|settlement_status|settlement_date|settlement_amount|settlement_percentage|settlement_term|\n",
      "+----+---------+---------+-----------+---------------+----------+--------+-----------+-----+---------+--------------+----------+--------------+----------+-------------------+--------+-----------+----------+----+----+------------------+------------------+--------+----------+-----+-----------+----------------+--------------+----------------------+----------------------+--------+-------+---------+----------+---------+-------------------+---------+-------------+-----------+---------------+---------------+-------------+------------------+----------+-----------------------+------------+---------------+------------+------------------+--------------------------+---------------------------+-----------+----------------+----------------+---------+-------------------------+--------------+------------+-----------+-----------+-----------+-----------+-----------+------------------+------------+-------+-----------+-----------+----------+--------+----------------+------+-----------+------------+--------------------+-----------+--------------+-------+------------------------+-----------+------------------+--------------------+---------------------+--------------+--------+--------------------+------------------------+---------------------+------------------------------+---------------------+--------------+---------------+-----------+---------+---------+-------------+-------------+-------------------+--------+----------------+------------+------------------+------------------+--------------+----------------+--------------------+---------+---------------+-----------------+--------------+--------------------------+---------------+------------------------+----------------------+----------------+----------------+------------------+-------------------+---------------------+--------------------------------+----------------------------------+-----------------------------------+-------------+-------------+---------------+---------------+-------------+---------------+-------------------+-----------------+-----------------------+---------------+------------+--------------------+------------------------------------------+------------------------------+----------------------------+-------------------+--------------------+-------------------------+-----------------+---------------+-----------------+---------------------+---------------+\n",
      "|NULL|     NULL|     2500|       2500|         2500.0| 36 months|   13.56|      84.92|    C|       C1|          Chef| 10+ years|          RENT|     55000|       Not Verified|Dec-2018|    Current|         n|NULL|NULL|debt_consolidation|Debt consolidation|   109xx|        NY|18.24|          0|        Apr-2001|             1|                  NULL|                    45|       9|      1|     4341|      10.3|       34|                  w|  2386.02|      2386.02|     167.02|         167.02|         113.98|        53.04|               0.0|       0.0|                    0.0|    Feb-2019|          84.92|    Mar-2019|          Feb-2019|                         0|                       NULL|          1|      Individual|            NULL|     NULL|                     NULL|             0|           0|      16901|          2|          2|          1|          2|                 2|       12560|     69|          2|          7|      2137|      28|           42000|     1|         11|           2|                   9|       1878|         34360|    5.9|                     0.0|          0|             140.0|                 212|                    1|             1|       0|                   1|                    NULL|                    2|                          NULL|                    0|             2|              5|          3|        3|       16|            7|           18|                  5|       9|               0|           0|                 0|                 3|         100.0|             0.0|                   1|        0|          60124|            16901|         36500|                     18124|           NULL|                    NULL|                  NULL|            NULL|            NULL|              NULL|               NULL|                 NULL|                            NULL|                              NULL|                               NULL|            N|         NULL|           NULL|           NULL|         NULL|           NULL|               NULL|             NULL|                   NULL|           NULL|        NULL|                NULL|                                      NULL|                          NULL|                        NULL|               Cash|                   N|                     NULL|             NULL|           NULL|             NULL|                 NULL|           NULL|\n",
      "|NULL|     NULL|    30000|      30000|        30000.0| 60 months|   18.94|     777.23|    D|       D2|   Postmaster | 10+ years|      MORTGAGE|     90000|    Source Verified|Dec-2018|    Current|         n|NULL|NULL|debt_consolidation|Debt consolidation|   713xx|        LA|26.52|          0|        Jun-1987|             0|                    71|                    75|      13|      1|    12315|      24.2|       44|                  w| 29387.75|     29387.75|    1507.11|        1507.11|         612.25|       894.86|               0.0|       0.0|                    0.0|    Feb-2019|         777.23|    Mar-2019|          Feb-2019|                         0|                       NULL|          1|      Individual|            NULL|     NULL|                     NULL|             0|        1208|     321915|          4|          4|          2|          3|                 3|       87153|     88|          4|          5|       998|      57|           50800|     2|         15|           2|                  10|      24763|         13761|    8.3|                     0.0|          0|             163.0|                 378|                    4|             3|       3|                   4|                    NULL|                    4|                          NULL|                    0|             2|              4|          4|        9|       27|            8|           14|                  4|      13|               0|           0|                 0|                 6|          95.0|             0.0|                   1|        0|         372872|            99468|         15000|                     94072|           NULL|                    NULL|                  NULL|            NULL|            NULL|              NULL|               NULL|                 NULL|                            NULL|                              NULL|                               NULL|            N|         NULL|           NULL|           NULL|         NULL|           NULL|               NULL|             NULL|                   NULL|           NULL|        NULL|                NULL|                                      NULL|                          NULL|                        NULL|               Cash|                   N|                     NULL|             NULL|           NULL|             NULL|                 NULL|           NULL|\n",
      "|NULL|     NULL|     5000|       5000|         5000.0| 36 months|   17.97|     180.69|    D|       D1|Administrative|   6 years|      MORTGAGE|     59280|    Source Verified|Dec-2018|    Current|         n|NULL|NULL|debt_consolidation|Debt consolidation|   490xx|        MI|10.51|          0|        Apr-2011|             0|                  NULL|                  NULL|       8|      0|     4599|      19.1|       13|                  w|  4787.21|      4787.21|     353.89|         353.89|         212.79|       141.10|               0.0|       0.0|                    0.0|    Feb-2019|         180.69|    Mar-2019|          Feb-2019|                         0|                       NULL|          1|      Individual|            NULL|     NULL|                     NULL|             0|           0|     110299|          0|          1|          0|          2|                14|        7150|     72|          0|          2|         0|      35|           24100|     1|          5|           0|                   4|      18383|         13800|      0|                     0.0|          0|              87.0|                  92|                   15|            14|       2|                  77|                    NULL|                   14|                          NULL|                    0|             0|              3|          3|        3|        4|            6|            7|                  3|       8|               0|           0|                 0|                 0|         100.0|             0.0|                   0|        0|         136927|            11749|         13800|                     10000|           NULL|                    NULL|                  NULL|            NULL|            NULL|              NULL|               NULL|                 NULL|                            NULL|                              NULL|                               NULL|            N|         NULL|           NULL|           NULL|         NULL|           NULL|               NULL|             NULL|                   NULL|           NULL|        NULL|                NULL|                                      NULL|                          NULL|                        NULL|               Cash|                   N|                     NULL|             NULL|           NULL|             NULL|                 NULL|           NULL|\n",
      "|NULL|     NULL|     4000|       4000|         4000.0| 36 months|   18.94|     146.51|    D|       D2| IT Supervisor| 10+ years|      MORTGAGE|     92000|    Source Verified|Dec-2018|    Current|         n|NULL|NULL|debt_consolidation|Debt consolidation|   985xx|        WA|16.74|          0|        Feb-2006|             0|                  NULL|                  NULL|      10|      0|     5468|      78.1|       13|                  w|  3831.93|      3831.93|     286.71|         286.71|         168.07|       118.64|               0.0|       0.0|                    0.0|    Feb-2019|         146.51|    Mar-2019|          Feb-2019|                         0|                       NULL|          1|      Individual|            NULL|     NULL|                     NULL|             0|         686|     305049|          1|          5|          3|          5|                 5|       30683|     68|          0|          0|      3761|      70|            7000|     2|          4|           3|                   5|      30505|          1239|   75.2|                     0.0|          0|              62.0|                 154|                   64|             5|       3|                  64|                    NULL|                    5|                          NULL|                    0|             1|              2|          1|        2|        7|            2|            3|                  2|      10|               0|           0|                 0|                 3|         100.0|           100.0|                   0|        0|         385183|            36151|          5000|                     44984|           NULL|                    NULL|                  NULL|            NULL|            NULL|              NULL|               NULL|                 NULL|                            NULL|                              NULL|                               NULL|            N|         NULL|           NULL|           NULL|         NULL|           NULL|               NULL|             NULL|                   NULL|           NULL|        NULL|                NULL|                                      NULL|                          NULL|                        NULL|               Cash|                   N|                     NULL|             NULL|           NULL|             NULL|                 NULL|           NULL|\n",
      "|NULL|     NULL|    30000|      30000|        30000.0| 60 months|   16.14|     731.78|    C|       C4|      Mechanic| 10+ years|      MORTGAGE|     57250|       Not Verified|Dec-2018|    Current|         n|NULL|NULL|debt_consolidation|Debt consolidation|   212xx|        MD|26.35|          0|        Dec-2000|             0|                  NULL|                  NULL|      12|      0|      829|       3.6|       26|                  w| 29339.02|     29339.02|    1423.21|        1423.21|         660.98|       762.23|               0.0|       0.0|                    0.0|    Feb-2019|         731.78|    Mar-2019|          Feb-2019|                         0|                       NULL|          1|      Individual|            NULL|     NULL|                     NULL|             0|           0|     116007|          3|          5|          3|          5|                 4|       28845|     89|          2|          4|       516|      54|           23100|     1|          0|           0|                   9|       9667|          8471|    8.9|                     0.0|          0|              53.0|                 216|                    2|             2|       2|                   2|                    NULL|                   13|                          NULL|                    0|             2|              2|          3|        8|        9|            6|           15|                  2|      12|               0|           0|                 0|                 5|          92.3|             0.0|                   0|        0|         157548|            29674|          9300|                     32332|           NULL|                    NULL|                  NULL|            NULL|            NULL|              NULL|               NULL|                 NULL|                            NULL|                              NULL|                               NULL|            N|         NULL|           NULL|           NULL|         NULL|           NULL|               NULL|             NULL|                   NULL|           NULL|        NULL|                NULL|                                      NULL|                          NULL|                        NULL|               Cash|                   N|                     NULL|             NULL|           NULL|             NULL|                 NULL|           NULL|\n",
      "+----+---------+---------+-----------+---------------+----------+--------+-----------+-----+---------+--------------+----------+--------------+----------+-------------------+--------+-----------+----------+----+----+------------------+------------------+--------+----------+-----+-----------+----------------+--------------+----------------------+----------------------+--------+-------+---------+----------+---------+-------------------+---------+-------------+-----------+---------------+---------------+-------------+------------------+----------+-----------------------+------------+---------------+------------+------------------+--------------------------+---------------------------+-----------+----------------+----------------+---------+-------------------------+--------------+------------+-----------+-----------+-----------+-----------+-----------+------------------+------------+-------+-----------+-----------+----------+--------+----------------+------+-----------+------------+--------------------+-----------+--------------+-------+------------------------+-----------+------------------+--------------------+---------------------+--------------+--------+--------------------+------------------------+---------------------+------------------------------+---------------------+--------------+---------------+-----------+---------+---------+-------------+-------------+-------------------+--------+----------------+------------+------------------+------------------+--------------+----------------+--------------------+---------+---------------+-----------------+--------------+--------------------------+---------------+------------------------+----------------------+----------------+----------------+------------------+-------------------+---------------------+--------------------------------+----------------------------------+-----------------------------------+-------------+-------------+---------------+---------------+-------------+---------------+-------------------+-----------------+-----------------------+---------------+------------+--------------------+------------------------------------------+------------------------------+----------------------------+-------------------+--------------------+-------------------------+-----------------+---------------+-----------------+---------------------+---------------+\n",
      "only showing top 5 rows\n",
      "\n"
     ]
    }
   ],
   "source": [
    "# Cargar el dataset\n",
    "path = r\"./loan.csv\"\n",
    "df = spark.read.option(\"header\", True).option(\"inferSchema\", True).csv(path)\n",
    "\n",
    "# Mostrar las primeras filas\n",
    "df.show(5)"
   ]
  },
  {
   "cell_type": "markdown",
   "id": "b38ac41b",
   "metadata": {},
   "source": [
    "## **Procesamiento de datos crudos**\n",
    "\n",
    "En esta sección se realiza la depuración inicial del conjunto de datos. El dataset original cuenta con 145 columnas, muchas de las cuales presentan problemas como:\n",
    "\n",
    "- Altos porcentajes de valores nulos o ceros\n",
    "- Redundancia con otras variables\n",
    "- Columnas irrelevantes o poco explicativas\n",
    "- Tipos de datos incorrectos\n",
    "- Fugas de información o riesgo de data leakage\n",
    "\n",
    "### Objetivos del procesamiento:\n",
    "\n",
    "1. Reducir la dimensionalidad sin perder información relevante.\n",
    "2. Preparar las variables para su uso en modelos de machine learning.\n",
    "3. Asegurar consistencia tipológica entre variables categóricas y numéricas.\n",
    "\n",
    "### Etapas aplicadas en la depuración:\n",
    "\n",
    "- Conversión de columnas `string` a tipos numéricos apropiados (`double` o `int`).\n",
    "- Eliminación de columnas con más de 20% de valores nulos \n",
    "- Detección de columnas con un solo valor dominante (sin varianza).\n",
    "- Remoción de variables redundantes o subsumidas por otras (por ejemplo: `total_bc_limit` vs `tot_hi_cred_lim`).\n",
    "- Agrupación de categorías infrecuentes en columnas categóricas (como `purpose`).\n",
    "- Reducción de clases en variables como `loan_status` para simplificación del modelo.\n",
    "\n",
    "El resultado es un dataset más compacto, consistente y orientado a modelado, conservando únicamente las variables más informativas."
   ]
  },
  {
   "cell_type": "code",
   "execution_count": 4,
   "id": "322d1cab",
   "metadata": {},
   "outputs": [
    {
     "name": "stdout",
     "output_type": "stream",
     "text": [
      "Número total de columnas en el dataset original: 145\n"
     ]
    }
   ],
   "source": [
    "# 1. Número total de columnas al inicio\n",
    "print(f\"Número total de columnas en el dataset original: {len(df.columns)}\")"
   ]
  },
  {
   "cell_type": "code",
   "execution_count": 5,
   "id": "a94fdc81",
   "metadata": {},
   "outputs": [
    {
     "name": "stdout",
     "output_type": "stream",
     "text": [
      "Valores nulos por columna:\n",
      "+-------+---------+---------+-----------+---------------+----+--------+-----------+-----+---------+---------+----------+--------------+----------+-------------------+-------+-----------+----------+-------+-------+-------+-----+--------+----------+----+-----------+----------------+--------------+----------------------+----------------------+--------+-------+---------+----------+---------+-------------------+---------+-------------+-----------+---------------+---------------+-------------+------------------+----------+-----------------------+------------+---------------+------------+------------------+--------------------------+---------------------------+-----------+----------------+----------------+---------+-------------------------+--------------+------------+-----------+-----------+-----------+-----------+-----------+------------------+------------+-------+-----------+-----------+----------+--------+----------------+------+-----------+------------+--------------------+-----------+--------------+-------+------------------------+-----------+------------------+--------------------+---------------------+--------------+--------+--------------------+------------------------+---------------------+------------------------------+---------------------+--------------+---------------+-----------+---------+---------+-------------+-------------+-------------------+--------+----------------+------------+------------------+------------------+--------------+----------------+--------------------+---------+---------------+-----------------+--------------+--------------------------+---------------+------------------------+----------------------+----------------+----------------+------------------+-------------------+---------------------+--------------------------------+----------------------------------+-----------------------------------+-------------+-------------+---------------+---------------+-------------+---------------+-------------------+-----------------+-----------------------+---------------+------------+--------------------+------------------------------------------+------------------------------+----------------------------+-------------------+--------------------+-------------------------+-----------------+---------------+-----------------+---------------------+---------------+\n",
      "|id     |member_id|loan_amnt|funded_amnt|funded_amnt_inv|term|int_rate|installment|grade|sub_grade|emp_title|emp_length|home_ownership|annual_inc|verification_status|issue_d|loan_status|pymnt_plan|url    |desc   |purpose|title|zip_code|addr_state|dti |delinq_2yrs|earliest_cr_line|inq_last_6mths|mths_since_last_delinq|mths_since_last_record|open_acc|pub_rec|revol_bal|revol_util|total_acc|initial_list_status|out_prncp|out_prncp_inv|total_pymnt|total_pymnt_inv|total_rec_prncp|total_rec_int|total_rec_late_fee|recoveries|collection_recovery_fee|last_pymnt_d|last_pymnt_amnt|next_pymnt_d|last_credit_pull_d|collections_12_mths_ex_med|mths_since_last_major_derog|policy_code|application_type|annual_inc_joint|dti_joint|verification_status_joint|acc_now_delinq|tot_coll_amt|tot_cur_bal|open_acc_6m|open_act_il|open_il_12m|open_il_24m|mths_since_rcnt_il|total_bal_il|il_util|open_rv_12m|open_rv_24m|max_bal_bc|all_util|total_rev_hi_lim|inq_fi|total_cu_tl|inq_last_12m|acc_open_past_24mths|avg_cur_bal|bc_open_to_buy|bc_util|chargeoff_within_12_mths|delinq_amnt|mo_sin_old_il_acct|mo_sin_old_rev_tl_op|mo_sin_rcnt_rev_tl_op|mo_sin_rcnt_tl|mort_acc|mths_since_recent_bc|mths_since_recent_bc_dlq|mths_since_recent_inq|mths_since_recent_revol_delinq|num_accts_ever_120_pd|num_actv_bc_tl|num_actv_rev_tl|num_bc_sats|num_bc_tl|num_il_tl|num_op_rev_tl|num_rev_accts|num_rev_tl_bal_gt_0|num_sats|num_tl_120dpd_2m|num_tl_30dpd|num_tl_90g_dpd_24m|num_tl_op_past_12m|pct_tl_nvr_dlq|percent_bc_gt_75|pub_rec_bankruptcies|tax_liens|tot_hi_cred_lim|total_bal_ex_mort|total_bc_limit|total_il_high_credit_limit|revol_bal_joint|sec_app_earliest_cr_line|sec_app_inq_last_6mths|sec_app_mort_acc|sec_app_open_acc|sec_app_revol_util|sec_app_open_act_il|sec_app_num_rev_accts|sec_app_chargeoff_within_12_mths|sec_app_collections_12_mths_ex_med|sec_app_mths_since_last_major_derog|hardship_flag|hardship_type|hardship_reason|hardship_status|deferral_term|hardship_amount|hardship_start_date|hardship_end_date|payment_plan_start_date|hardship_length|hardship_dpd|hardship_loan_status|orig_projected_additional_accrued_interest|hardship_payoff_balance_amount|hardship_last_payment_amount|disbursement_method|debt_settlement_flag|debt_settlement_flag_date|settlement_status|settlement_date|settlement_amount|settlement_percentage|settlement_term|\n",
      "+-------+---------+---------+-----------+---------------+----+--------+-----------+-----+---------+---------+----------+--------------+----------+-------------------+-------+-----------+----------+-------+-------+-------+-----+--------+----------+----+-----------+----------------+--------------+----------------------+----------------------+--------+-------+---------+----------+---------+-------------------+---------+-------------+-----------+---------------+---------------+-------------+------------------+----------+-----------------------+------------+---------------+------------+------------------+--------------------------+---------------------------+-----------+----------------+----------------+---------+-------------------------+--------------+------------+-----------+-----------+-----------+-----------+-----------+------------------+------------+-------+-----------+-----------+----------+--------+----------------+------+-----------+------------+--------------------+-----------+--------------+-------+------------------------+-----------+------------------+--------------------+---------------------+--------------+--------+--------------------+------------------------+---------------------+------------------------------+---------------------+--------------+---------------+-----------+---------+---------+-------------+-------------+-------------------+--------+----------------+------------+------------------+------------------+--------------+----------------+--------------------+---------+---------------+-----------------+--------------+--------------------------+---------------+------------------------+----------------------+----------------+----------------+------------------+-------------------+---------------------+--------------------------------+----------------------------------+-----------------------------------+-------------+-------------+---------------+---------------+-------------+---------------+-------------------+-----------------+-----------------------+---------------+------------+--------------------+------------------------------------------+------------------------------+----------------------------+-------------------+--------------------+-------------------------+-----------------+---------------+-----------------+---------------------+---------------+\n",
      "|2260668|2260668  |0        |0          |0              |0   |0       |0          |0    |0        |166931   |0         |0             |4         |0                  |0      |0          |0         |2260667|2134600|1      |23323|2       |1         |1712|30         |30              |31            |1158341               |1901321               |110     |92     |54       |1834      |50       |17                 |17       |21           |13         |11             |9              |3            |3                 |2         |6                      |2433        |3              |1303383     |126               |188                       |1679672                    |80         |61              |2139751         |2139795  |2144813                  |191           |70146       |70177      |866036     |866060     |866079     |866090     |909895            |866100      |1068826|866114     |866110     |866115    |866341  |70273           |866122|866120     |866128      |50027               |70343      |74933         |76070  |399                     |225        |138970            |70192               |70216                |70238         |50005   |73392               |1740941                 |295413               |1520290                       |70264                |70267         |70274          |58588      |70274    |70269    |70269        |70275        |70274              |58588   |153656          |70276       |70274             |70274             |70430         |75378           |1604                |305      |70179          |49948            |49970         |70238                     |2152621        |2152627                 |2152622               |2152624         |2152632         |2154471           |2152638            |2152644              |2152645                         |2152645                           |2224719                            |249          |2249996      |2250008        |2250013        |2250032      |2250039        |2250044            |2250042          |2250042                |2250044        |2250048     |2250048             |2252240                                   |2250054                       |2250054                     |255                |193                 |2227510                  |2227527          |2227550        |2227574          |2227588              |2227592        |\n",
      "+-------+---------+---------+-----------+---------------+----+--------+-----------+-----+---------+---------+----------+--------------+----------+-------------------+-------+-----------+----------+-------+-------+-------+-----+--------+----------+----+-----------+----------------+--------------+----------------------+----------------------+--------+-------+---------+----------+---------+-------------------+---------+-------------+-----------+---------------+---------------+-------------+------------------+----------+-----------------------+------------+---------------+------------+------------------+--------------------------+---------------------------+-----------+----------------+----------------+---------+-------------------------+--------------+------------+-----------+-----------+-----------+-----------+-----------+------------------+------------+-------+-----------+-----------+----------+--------+----------------+------+-----------+------------+--------------------+-----------+--------------+-------+------------------------+-----------+------------------+--------------------+---------------------+--------------+--------+--------------------+------------------------+---------------------+------------------------------+---------------------+--------------+---------------+-----------+---------+---------+-------------+-------------+-------------------+--------+----------------+------------+------------------+------------------+--------------+----------------+--------------------+---------+---------------+-----------------+--------------+--------------------------+---------------+------------------------+----------------------+----------------+----------------+------------------+-------------------+---------------------+--------------------------------+----------------------------------+-----------------------------------+-------------+-------------+---------------+---------------+-------------+---------------+-------------------+-----------------+-----------------------+---------------+------------+--------------------+------------------------------------------+------------------------------+----------------------------+-------------------+--------------------+-------------------------+-----------------+---------------+-----------------+---------------------+---------------+\n",
      "\n"
     ]
    }
   ],
   "source": [
    "# 2. Ver cuántos valores nulos hay por columna \n",
    "print(\"Valores nulos por columna:\")\n",
    "df.select([count(when(col(c).isNull(), c)).alias(c) for c in df.columns]).show(truncate=False)\n"
   ]
  },
  {
   "cell_type": "code",
   "execution_count": 6,
   "id": "fee5e885",
   "metadata": {},
   "outputs": [],
   "source": [
    "tipos_esperados = {\n",
    "    \"loan_amnt\": \"int\",\n",
    "    \"funded_amnt\": \"int\",\n",
    "    \"funded_amnt_inv\": \"double\",\n",
    "    \"term\": \"string\",\n",
    "    \"int_rate\": \"double\",\n",
    "    \"installment\": \"double\",\n",
    "    \"grade\": \"string\",\n",
    "    \"sub_grade\": \"string\",\n",
    "    \"emp_title\": \"string\",\n",
    "    \"emp_length\": \"string\",\n",
    "    \"home_ownership\": \"string\",\n",
    "    \"annual_inc\": \"double\",\n",
    "    \"verification_status\": \"string\",\n",
    "    \"issue_d\": \"string\",\n",
    "    \"loan_status\": \"string\",\n",
    "    \"pymnt_plan\": \"string\",\n",
    "    \"purpose\": \"string\",\n",
    "    \"title\": \"string\",\n",
    "    \"zip_code\": \"string\",\n",
    "    \"addr_state\": \"string\",\n",
    "    \"dti\": \"double\",\n",
    "    \"delinq_2yrs\": \"int\",\n",
    "    \"earliest_cr_line\": \"int\",\n",
    "    \"inq_last_6mths\": \"int\",\n",
    "    \"open_acc\": \"int\",\n",
    "    \"pub_rec\": \"int\",\n",
    "    \"revol_bal\": \"int\",\n",
    "    \"revol_util\": \"double\",\n",
    "    \"total_acc\": \"int\",\n",
    "    \"initial_list_status\": \"string\",\n",
    "    \"out_prncp\": \"int\",\n",
    "    \"out_prncp_inv\": \"double\",\n",
    "    \"total_pymnt\": \"double\",\n",
    "    \"total_pymnt_inv\": \"double\",\n",
    "    \"total_rec_prncp\": \"double\",\n",
    "    \"total_rec_int\": \"double\",\n",
    "    \"total_rec_late_fee\": \"double\",\n",
    "    \"recoveries\": \"double\",\n",
    "    \"collection_recovery_fee\": \"double\",\n",
    "    \"last_pymnt_d\": \"string\",\n",
    "    \"last_pymnt_amnt\": \"double\",\n",
    "    \"last_credit_pull_d\": \"string\",\n",
    "    \"collections_12_mths_ex_med\": \"int\",\n",
    "    \"policy_code\": \"int\",\n",
    "    \"application_type\": \"string\",\n",
    "    \"acc_now_delinq\": \"int\",\n",
    "    \"tot_coll_amt\": \"int\",\n",
    "    \"tot_cur_bal\": \"int\",\n",
    "    \"total_rev_hi_lim\": \"int\",\n",
    "    \"acc_open_past_24mths\": \"int\",\n",
    "    \"avg_cur_bal\": \"double\",\n",
    "    \"bc_open_to_buy\": \"int\",\n",
    "    \"bc_util\": \"double\",\n",
    "    \"chargeoff_within_12_mths\": \"double\",\n",
    "    \"delinq_amnt\": \"int\",\n",
    "    \"mo_sin_old_il_acct\": \"int\",\n",
    "    \"mo_sin_old_rev_tl_op\": \"int\",\n",
    "    \"mo_sin_rcnt_rev_tl_op\": \"int\",\n",
    "    \"mo_sin_rcnt_tl\": \"int\",\n",
    "    \"mort_acc\": \"int\",\n",
    "    \"mths_since_recent_bc\": \"int\",\n",
    "    \"mths_since_recent_inq\": \"int\",\n",
    "    \"num_accts_ever_120_pd\": \"int\",\n",
    "    \"num_actv_bc_tl\": \"int\",\n",
    "    \"num_actv_rev_tl\": \"int\",\n",
    "    \"num_bc_sats\": \"int\",\n",
    "    \"num_bc_tl\": \"int\",\n",
    "    \"num_il_tl\": \"int\",\n",
    "    \"num_op_rev_tl\": \"int\",\n",
    "    \"num_rev_accts\": \"int\",\n",
    "    \"num_rev_tl_bal_gt_0\": \"int\",\n",
    "    \"num_sats\": \"int\",\n",
    "    \"num_tl_120dpd_2m\": \"int\",\n",
    "    \"num_tl_30dpd\": \"int\",\n",
    "    \"num_tl_90g_dpd_24m\": \"int\",\n",
    "    \"num_tl_op_past_12m\": \"int\",\n",
    "    \"pct_tl_nvr_dlq\": \"double\",\n",
    "    \"percent_bc_gt_75\": \"double\",\n",
    "    \"pub_rec_bankruptcies\": \"int\",\n",
    "    \"tax_liens\": \"int\",\n",
    "    \"tot_hi_cred_lim\": \"int\",\n",
    "    \"total_bal_ex_mort\": \"int\",\n",
    "    \"total_bc_limit\": \"int\",\n",
    "    \"total_il_high_credit_limit\": \"int\",\n",
    "    \"hardship_flag\": \"string\",\n",
    "    \"disbursement_method\": \"string\",\n",
    "    \"debt_settlement_flag\": \"string\",\n",
    "}\n"
   ]
  },
  {
   "cell_type": "code",
   "execution_count": 7,
   "id": "aa70c293",
   "metadata": {},
   "outputs": [
    {
     "name": "stdout",
     "output_type": "stream",
     "text": [
      "Corrigiendo: annual_inc de string a double\n",
      "Corrigiendo: dti de string a double\n",
      "Corrigiendo: delinq_2yrs de string a int\n",
      "Corrigiendo: earliest_cr_line de string a int\n",
      "Corrigiendo: inq_last_6mths de string a int\n",
      "Corrigiendo: open_acc de string a int\n",
      "Corrigiendo: pub_rec de string a int\n",
      "Corrigiendo: revol_bal de string a int\n",
      "Corrigiendo: revol_util de string a double\n",
      "Corrigiendo: total_acc de string a int\n",
      "Corrigiendo: out_prncp de string a int\n",
      "Corrigiendo: out_prncp_inv de string a double\n",
      "Corrigiendo: total_pymnt de string a double\n",
      "Corrigiendo: total_pymnt_inv de string a double\n",
      "Corrigiendo: total_rec_prncp de string a double\n",
      "Corrigiendo: total_rec_int de string a double\n",
      "Corrigiendo: total_rec_late_fee de string a double\n",
      "Corrigiendo: recoveries de string a double\n",
      "Corrigiendo: collection_recovery_fee de string a double\n",
      "Corrigiendo: last_pymnt_amnt de string a double\n",
      "Corrigiendo: collections_12_mths_ex_med de string a int\n",
      "Corrigiendo: policy_code de string a int\n",
      "Corrigiendo: acc_now_delinq de string a int\n",
      "Corrigiendo: tot_coll_amt de string a int\n",
      "Corrigiendo: tot_cur_bal de string a int\n",
      "Corrigiendo: total_rev_hi_lim de string a int\n",
      "Corrigiendo: avg_cur_bal de string a double\n",
      "Corrigiendo: bc_util de string a double\n",
      "Corrigiendo: mo_sin_old_il_acct de double a int\n"
     ]
    }
   ],
   "source": [
    "# Corrección automática de tipos según tipos_esperados\n",
    "for columna, tipo_esperado in tipos_esperados.items():\n",
    "    if columna in dict(df.dtypes):\n",
    "        tipo_actual = dict(df.dtypes)[columna]\n",
    "        if tipo_actual != tipo_esperado:\n",
    "            print(f\"Corrigiendo: {columna} de {tipo_actual} a {tipo_esperado}\")\n",
    "            \n",
    "            # Limpieza de strings si es necesario para convertir a double\n",
    "            if tipo_esperado == \"double\" and tipo_actual == \"string\":\n",
    "                df = df.withColumn(columna, regexp_replace(col(columna), \"[,%$]\", \"\").cast(\"double\"))\n",
    "            else:\n",
    "                df = df.withColumn(columna, col(columna).cast(tipo_esperado))\n"
   ]
  },
  {
   "cell_type": "code",
   "execution_count": 8,
   "id": "5d0473b5",
   "metadata": {},
   "outputs": [
    {
     "name": "stdout",
     "output_type": "stream",
     "text": [
      "Columnas seleccionadas con <20% de nulos: 86\n"
     ]
    }
   ],
   "source": [
    "#ELminar columans con el 20% de vlaores nuloso \n",
    "# Calcular total de registros\n",
    "total_rows = df.count()\n",
    "\n",
    "# Generar DataFrame con porcentaje de nulos\n",
    "porcentaje_nulos_df = df.select([((sum(when(col(c).isNull() | (col(c) == ''), 1).otherwise(0)) / total_rows).alias(c)) for c in df.columns])\n",
    "porcentaje_nulos = porcentaje_nulos_df.collect()[0].asDict()\n",
    "\n",
    "# Filtrar columnas que tienen menos de 20% de nulos\n",
    "columnas_validas = [k for k, v in porcentaje_nulos.items() if v < 0.2]\n",
    "\n",
    "# Seleccionar solo las columnas válidas\n",
    "df = df.select(*columnas_validas)\n",
    "\n",
    "print(f\"Columnas seleccionadas con <20% de nulos: {len(columnas_validas)}\")\n"
   ]
  },
  {
   "cell_type": "code",
   "execution_count": 9,
   "id": "702a3786",
   "metadata": {},
   "outputs": [
    {
     "name": "stdout",
     "output_type": "stream",
     "text": [
      "Columnas con texto libre o muchas categorías únicas:\n",
      "['emp_title', 'title']\n"
     ]
    }
   ],
   "source": [
    "# Columnas con más de 10,000 valores únicos de tipo string (texto libre)\n",
    "columnas_texto_libre = []\n",
    "\n",
    "for c in df.columns:\n",
    "    if dict(df.dtypes)[c] == \"string\" and df.select(c).distinct().count() > 10000:\n",
    "        columnas_texto_libre.append(c)\n",
    "\n",
    "print(\"Columnas con texto libre o muchas categorías únicas:\")\n",
    "print(columnas_texto_libre)\n"
   ]
  },
  {
   "cell_type": "code",
   "execution_count": 10,
   "id": "8e7d8810",
   "metadata": {},
   "outputs": [
    {
     "name": "stdout",
     "output_type": "stream",
     "text": [
      "Columnas eliminadas por texto libre o alta cardinalidad: 2\n",
      "Total de columnas restantes: 84\n"
     ]
    }
   ],
   "source": [
    "df = df.drop(*columnas_texto_libre)\n",
    "\n",
    "print(f\"Columnas eliminadas por texto libre o alta cardinalidad: {len(columnas_texto_libre)}\")\n",
    "print(f\"Total de columnas restantes: {len(df.columns)}\")\n"
   ]
  },
  {
   "cell_type": "code",
   "execution_count": 11,
   "id": "526bc24d",
   "metadata": {},
   "outputs": [
    {
     "name": "stdout",
     "output_type": "stream",
     "text": [
      "Alta correlación entre: loan_amnt y funded_amnt (r = 0.9998)\n",
      "Alta correlación entre: loan_amnt y funded_amnt_inv (r = 0.9990)\n",
      "Alta correlación entre: funded_amnt y funded_amnt_inv (r = 0.9994)\n",
      "Alta correlación entre: open_acc y num_sats (r = 0.9990)\n",
      "Alta correlación entre: out_prncp y out_prncp_inv (r = 0.9999)\n",
      "Alta correlación entre: total_pymnt y total_pymnt_inv (r = 0.9994)\n"
     ]
    }
   ],
   "source": [
    "# Seleccionar solo columnas numéricas del DataFrame\n",
    "columnas_numericas = [c for c, t in df.dtypes if t in (\"double\", \"int\")]\n",
    "\n",
    "# Convertimos a Pandas una muestra del dataframe para no saturar memoria\n",
    "df_sample_pd = df.select(columnas_numericas).sample(False, 0.10, seed=1).toPandas()\n",
    "\n",
    "# Calculamos matriz de correlación absoluta\n",
    "cor_matrix = df_sample_pd.corr().abs()\n",
    "\n",
    "columnas_correladas = set()\n",
    "umbral = 0.999\n",
    "\n",
    "for i in range(len(cor_matrix.columns)):\n",
    "    for j in range(i + 1, len(cor_matrix.columns)):\n",
    "        col1 = cor_matrix.columns[i]\n",
    "        col2 = cor_matrix.columns[j]\n",
    "        if cor_matrix.iloc[i, j] > umbral:\n",
    "            print(f\"Alta correlación entre: {col1} y {col2} (r = {cor_matrix.iloc[i, j]:.4f})\")\n",
    "            columnas_correladas.add(col2)  # Podrías quedarte con el primero, y marcar el segundo para eliminar\n",
    "\n",
    "# Resultado: columnas candidatas a eliminar por redundancia lineal\n",
    "columnas_correladas = list(columnas_correladas)\n"
   ]
  },
  {
   "cell_type": "code",
   "execution_count": 12,
   "id": "543c015c",
   "metadata": {},
   "outputs": [
    {
     "name": "stdout",
     "output_type": "stream",
     "text": [
      "Columnas eliminadas por redundancia lineal: 5\n",
      "Total de columnas restantes: 79\n"
     ]
    }
   ],
   "source": [
    "# Eliminamos columnas por redundancia lineal\n",
    "df = df.drop(*list(columnas_correladas))\n",
    "print(f\"Columnas eliminadas por redundancia lineal: {len(columnas_correladas)}\")\n",
    "print(f\"Total de columnas restantes: {len(df.columns)}\")"
   ]
  },
  {
   "cell_type": "code",
   "execution_count": 13,
   "id": "e6c073ee",
   "metadata": {},
   "outputs": [
    {
     "name": "stdout",
     "output_type": "stream",
     "text": [
      "Columnas categóricas detectadas: 19\n",
      "['term', 'grade', 'sub_grade', 'emp_length', 'home_ownership', 'verification_status', 'issue_d', 'loan_status', 'pymnt_plan', 'purpose', 'zip_code', 'addr_state', 'initial_list_status', 'last_pymnt_d', 'last_credit_pull_d', 'application_type', 'hardship_flag', 'disbursement_method', 'debt_settlement_flag']\n"
     ]
    }
   ],
   "source": [
    "# Detectamos columnas categóricas automáticamente (tipo string o categoricas enteras conocidas)\n",
    "columnas_categoricas = [c for c, t in df.dtypes if t == \"string\" or \"emp_length\" in c]\n",
    "print(f\"Columnas categóricas detectadas: {len(columnas_categoricas)}\")\n",
    "print(columnas_categoricas)\n"
   ]
  },
  {
   "cell_type": "code",
   "execution_count": 14,
   "id": "e12e1119",
   "metadata": {},
   "outputs": [
    {
     "name": "stdout",
     "output_type": "stream",
     "text": [
      "term: 71.21% del dataset tiene ' 36 months'\n",
      "pymnt_plan: 99.97% del dataset tiene 'n'\n",
      "application_type: 94.65% del dataset tiene 'Individual'\n",
      "hardship_flag: 99.95% del dataset tiene 'N'\n",
      "disbursement_method: 96.53% del dataset tiene 'Cash'\n",
      "debt_settlement_flag: 98.53% del dataset tiene 'N'\n"
     ]
    }
   ],
   "source": [
    "# Eliminamos columnas por  baja varianza\n",
    "columnas_baja_varianza = []\n",
    "umbral = 0.70\n",
    "total_rows = df.count()\n",
    "\n",
    "for c in columnas_categoricas:\n",
    "    top_valor = df.groupBy(c).count().orderBy(\"count\", ascending=False).first()\n",
    "    if top_valor and (top_valor[\"count\"] / total_rows) >= umbral:\n",
    "        print(f\"{c}: {top_valor['count'] / total_rows:.2%} del dataset tiene '{top_valor[c]}'\")\n",
    "        columnas_baja_varianza.append(c)\n",
    "\n"
   ]
  },
  {
   "cell_type": "code",
   "execution_count": 15,
   "id": "904d4c67",
   "metadata": {},
   "outputs": [
    {
     "name": "stdout",
     "output_type": "stream",
     "text": [
      "Columnas eliminadas por baja varianza: 6\n",
      "Total de columnas restantes: 73\n"
     ]
    }
   ],
   "source": [
    "df = df.drop(*columnas_baja_varianza)\n",
    "print(f\"Columnas eliminadas por baja varianza: {len(columnas_baja_varianza)}\")\n",
    "print(f\"Total de columnas restantes: {len(df.columns)}\")"
   ]
  },
  {
   "cell_type": "code",
   "execution_count": 16,
   "id": "a272f75e",
   "metadata": {},
   "outputs": [
    {
     "name": "stdout",
     "output_type": "stream",
     "text": [
      "Columnas eliminadas por fuga de informacion: 3\n",
      "Total de columnas restantes: 70\n"
     ]
    }
   ],
   "source": [
    "# Eliminaipn por fuga de informacion\n",
    "columnas_fuga_info = [\n",
    "    \"issue_d\",             # Fecha del préstamo\n",
    "    \"last_pymnt_d\",        # Fecha del último pago\n",
    "    \"last_credit_pull_d\",  # Fecha del último análisis de crédito\n",
    "]\n",
    "df = df.drop(*columnas_fuga_info)\n",
    "print(f\"Columnas eliminadas por fuga de informacion: {len(columnas_fuga_info)}\")\n",
    "print(f\"Total de columnas restantes: {len(df.columns)}\")\n",
    "\n"
   ]
  },
  {
   "cell_type": "code",
   "execution_count": 17,
   "id": "dfda1e59",
   "metadata": {},
   "outputs": [
    {
     "name": "stdout",
     "output_type": "stream",
     "text": [
      "delinq_2yrs: 81.34% de los valores son '0'\n",
      "pub_rec: 84.16% de los valores son '0'\n",
      "total_rec_late_fee: 96.25% de los valores son '0.0'\n",
      "recoveries: 92.14% de los valores son '0.0'\n",
      "collection_recovery_fee: 92.52% de los valores son '0.0'\n",
      "collections_12_mths_ex_med: 98.33% de los valores son '0'\n",
      "policy_code: 99.99% de los valores son '1'\n",
      "acc_now_delinq: 99.60% de los valores son '0'\n",
      "tot_coll_amt: 82.11% de los valores son '0'\n",
      "chargeoff_within_12_mths: 99.22% de los valores son '0.0'\n",
      "delinq_amnt: 99.67% de los valores son '0'\n",
      "num_accts_ever_120_pd: 74.64% de los valores son '0'\n",
      "num_tl_120dpd_2m: 93.15% de los valores son '0'\n",
      "num_tl_30dpd: 96.63% de los valores son '0'\n",
      "num_tl_90g_dpd_24m: 91.70% de los valores son '0'\n",
      "pub_rec_bankruptcies: 87.90% de los valores son '0'\n",
      "tax_liens: 97.13% de los valores son '0'\n"
     ]
    }
   ],
   "source": [
    "# Detectar columnas numéricas \n",
    "columnas_numericas = [c for c, t in df.dtypes if t in [\"double\", \"int\"]]\n",
    "\n",
    "umbral = 0.70\n",
    "total_rows = df.count()\n",
    "columnas_valor_dominante = []\n",
    "\n",
    "for c in columnas_numericas:\n",
    "    valor_mas_frecuente = (\n",
    "        df.groupBy(c)\n",
    "        .count()\n",
    "        .orderBy(\"count\", ascending=False)\n",
    "        .first()\n",
    "    )\n",
    "\n",
    "    if valor_mas_frecuente:\n",
    "        valor = valor_mas_frecuente[0]  # el valor dominante\n",
    "        cuenta = valor_mas_frecuente[\"count\"]\n",
    "        porcentaje = cuenta / total_rows\n",
    "\n",
    "        if porcentaje >= umbral:\n",
    "            print(f\"{c}: {porcentaje:.2%} de los valores son '{valor}'\")\n",
    "            columnas_valor_dominante.append(c)\n"
   ]
  },
  {
   "cell_type": "code",
   "execution_count": 18,
   "id": "bd92fd0b",
   "metadata": {},
   "outputs": [
    {
     "name": "stdout",
     "output_type": "stream",
     "text": [
      "Columnas eliminadas por tener >70% ceros: 17\n",
      "Total de columnas restantes: 53\n"
     ]
    }
   ],
   "source": [
    "df = df.drop(*columnas_valor_dominante)\n",
    "print(f\"Columnas eliminadas por tener >70% ceros: {len(columnas_valor_dominante)}\")\n",
    "print(f\"Total de columnas restantes: {len(df.columns)}\")"
   ]
  },
  {
   "cell_type": "code",
   "execution_count": 19,
   "id": "ec3cca70",
   "metadata": {},
   "outputs": [
    {
     "name": "stdout",
     "output_type": "stream",
     "text": [
      "Columnas eliminadas por irrelevancia justificada: 4\n",
      "Columnas finales restantes: 49\n"
     ]
    }
   ],
   "source": [
    "# Lista de columnas irrelevantes\n",
    "\n",
    "columnas_irrelevantes = [\n",
    "\n",
    "     \"zip_code\", # zip_code: Dato personal, alta cardinalidad, difícil de codificar.\n",
    "      \"addr_state\", # addr_state: Redundante con home_ownership; baja capacidad predictiva.\n",
    "      \"sub_grade\",# sub_grade: Desglose innecesario de grade (A1, A2...), ya se usa grade.\n",
    "      \"initial_list_status\",    # initial_list_status: metadato técnico sin valor predictivo\n",
    " ]\n",
    "# Eliminamos del DataFrame\n",
    "df = df.drop(*[c for c in columnas_irrelevantes if c in df.columns])\n",
    "\n",
    "print(f\"Columnas eliminadas por irrelevancia justificada: {len(columnas_irrelevantes)}\")\n",
    "print(f\"Columnas finales restantes: {len(df.columns)}\")\n"
   ]
  },
  {
   "cell_type": "code",
   "execution_count": 20,
   "id": "a05d02f2",
   "metadata": {},
   "outputs": [
    {
     "name": "stdout",
     "output_type": "stream",
     "text": [
      "Columnas eliminadas por definición: 9\n",
      "Columnas finales restantes: 40\n"
     ]
    }
   ],
   "source": [
    "# Lista de columnas que se eliminan por definición técnica o redundancia\n",
    "columnas_a_eliminar_por_definicion = [\n",
    "    \"bc_open_to_buy\",          # Redundante con bc_util (porcentaje de uso vs. crédito disponible)\n",
    "    \"mo_sin_old_il_acct\",      # Tiempo desde cuenta a plazo más antigua; técnica, poco explicativa\n",
    "    \"mo_sin_old_rev_tl_op\",    # Tiempo desde cuenta revolvente antigua; similar a la anterior\n",
    "    \"mo_sin_rcnt_rev_tl_op\",   # Tiempo desde última línea revolvente; se solapa con mo_sin_rcnt_tl\n",
    "    \"mo_sin_rcnt_tl\",          # Tiempo desde última cuenta abierta; técnica, poco interpretable\n",
    "    \"num_bc_tl\",               # Total de tarjetas de crédito abiertas históricamente; poco diferenciador\n",
    "    \"num_op_rev_tl\",           # Líneas revolventes abiertas; similar a num_rev_tl_bal_gt_0\n",
    "    \"num_rev_accts\",           # Cuentas revolventes históricas; métrica muy general\n",
    "    \"total_bc_limit\"           # Límite total en tarjetas; ya considerado en tot_hi_cred_lim\n",
    "]\n",
    "\n",
    "# Eliminar solo si existen en el DataFrame\n",
    "df = df.drop(*[c for c in columnas_a_eliminar_por_definicion if c in df.columns])\n",
    "\n",
    "# Reportar cuántas columnas se eliminaron\n",
    "print(f\"Columnas eliminadas por definición: {len(columnas_a_eliminar_por_definicion)}\")\n",
    "print(f\"Columnas finales restantes: {len(df.columns)}\")\n"
   ]
  },
  {
   "cell_type": "code",
   "execution_count": 21,
   "id": "f8f33a0f",
   "metadata": {},
   "outputs": [
    {
     "name": "stdout",
     "output_type": "stream",
     "text": [
      "+-----+------+\n",
      "|grade| count|\n",
      "+-----+------+\n",
      "|    B|663557|\n",
      "|    C|650053|\n",
      "|    A|433027|\n",
      "|    D|324424|\n",
      "|    E|135639|\n",
      "|    F| 41800|\n",
      "|    G| 12168|\n",
      "+-----+------+\n",
      "\n",
      "+----------+------+\n",
      "|emp_length| count|\n",
      "+----------+------+\n",
      "| 10+ years|748005|\n",
      "|   2 years|203676|\n",
      "|  < 1 year|189988|\n",
      "|   3 years|180753|\n",
      "|    1 year|148403|\n",
      "|       n/a|146907|\n",
      "|   5 years|139698|\n",
      "|   4 years|136605|\n",
      "|   6 years|102628|\n",
      "|   7 years| 92695|\n",
      "|   8 years| 91914|\n",
      "|   9 years| 79395|\n",
      "| reactors\"|     1|\n",
      "+----------+------+\n",
      "\n",
      "+--------------+-------+\n",
      "|home_ownership|  count|\n",
      "+--------------+-------+\n",
      "|      MORTGAGE|1111449|\n",
      "|          RENT| 894929|\n",
      "|           OWN| 253057|\n",
      "|           ANY|    996|\n",
      "|         OTHER|    182|\n",
      "|          NONE|     54|\n",
      "|       2 years|      1|\n",
      "+--------------+-------+\n",
      "\n",
      "+-------------------+------+\n",
      "|verification_status| count|\n",
      "+-------------------+------+\n",
      "|    Source Verified|886230|\n",
      "|       Not Verified|744806|\n",
      "|           Verified|629631|\n",
      "|              38000|     1|\n",
      "+-------------------+------+\n",
      "\n",
      "+--------------------+-------+\n",
      "|         loan_status|  count|\n",
      "+--------------------+-------+\n",
      "|          Fully Paid|1041952|\n",
      "|             Current| 919695|\n",
      "|         Charged Off| 261654|\n",
      "|  Late (31-120 days)|  21897|\n",
      "|     In Grace Period|   8952|\n",
      "|   Late (16-30 days)|   3737|\n",
      "|Does not meet the...|   1988|\n",
      "|Does not meet the...|    761|\n",
      "|             Default|     31|\n",
      "|            Oct-2015|      1|\n",
      "+--------------------+-------+\n",
      "\n",
      "+--------------------+-------+\n",
      "|             purpose|  count|\n",
      "+--------------------+-------+\n",
      "|  debt_consolidation|1277790|\n",
      "|         credit_card| 516926|\n",
      "|    home_improvement| 150440|\n",
      "|               other| 139413|\n",
      "|      major_purchase|  50429|\n",
      "|             medical|  27481|\n",
      "|      small_business|  24659|\n",
      "|                 car|  24009|\n",
      "|            vacation|  15525|\n",
      "|              moving|  15402|\n",
      "|               house|  14131|\n",
      "|             wedding|   2351|\n",
      "|    renewable_energy|   1445|\n",
      "|         educational|    412|\n",
      "| and also pay off...|      1|\n",
      "|                NULL|      1|\n",
      "| I have eliminate...|      1|\n",
      "| I am not comfort...|      1|\n",
      "| my cell is on a ...|      1|\n",
      "| MD\"\"... approx. ...|      1|\n",
      "+--------------------+-------+\n",
      "only showing top 20 rows\n",
      "\n"
     ]
    }
   ],
   "source": [
    "columnas_categoricas = [c for c, t in df.dtypes if t == \"string\"]\n",
    "\n",
    "for col_name in columnas_categoricas:\n",
    "    total_distintos = df.select(col_name).distinct().count()\n",
    "    df.groupBy(col_name).count().orderBy(\"count\", ascending=False).show()\n",
    "    "
   ]
  },
  {
   "cell_type": "code",
   "execution_count": 22,
   "id": "20d50036",
   "metadata": {},
   "outputs": [
    {
     "name": "stdout",
     "output_type": "stream",
     "text": [
      "+-------+------------------+------------------+------------------+------------------+------------------+------------------+------------------+------------------+-----------------+------------------+-----------------+------------------+-----------------+------------------+------------------+------------------+-----------------+--------------------+------------------+-----------------+------------------+--------------------+---------------------+------------------+------------------+-----------------+-----------------+-------------------+------------------+-----------------+-----------------+------------------+-----------------+--------------------------+\n",
      "|summary|         loan_amnt|          int_rate|       installment|        annual_inc|               dti|    inq_last_6mths|          open_acc|         revol_bal|       revol_util|         total_acc|        out_prncp|       total_pymnt|  total_rec_prncp|     total_rec_int|   last_pymnt_amnt|       tot_cur_bal| total_rev_hi_lim|acc_open_past_24mths|       avg_cur_bal|          bc_util|          mort_acc|mths_since_recent_bc|mths_since_recent_inq|    num_actv_bc_tl|   num_actv_rev_tl|      num_bc_sats|        num_il_tl|num_rev_tl_bal_gt_0|num_tl_op_past_12m|   pct_tl_nvr_dlq| percent_bc_gt_75|   tot_hi_cred_lim|total_bal_ex_mort|total_il_high_credit_limit|\n",
      "+-------+------------------+------------------+------------------+------------------+------------------+------------------+------------------+------------------+-----------------+------------------+-----------------+------------------+-----------------+------------------+------------------+------------------+-----------------+--------------------+------------------+-----------------+------------------+--------------------+---------------------+------------------+------------------+-----------------+-----------------+-------------------+------------------+-----------------+-----------------+------------------+-----------------+--------------------------+\n",
      "|  count|           2260668|           2260668|           2260668|           2260663|           2258701|           2260468|           2260472|           2260563|          2258791|           2260580|          2260571|           2260599|          2260635|           2260649|           2260597|           2190472|          2190393|             2210641|           2190323|          2184597|           2210663|             2187276|              1965255|           2190401|           2190394|          2202080|          2190399|            2190394|           2190394|          2190238|          2185290|           2190489|          2210720|                   2190430|\n",
      "|   mean|15046.931227849467|13.092912944327141| 445.8076459259164| 77992.44637764219|18.824907147958033|0.5773215988901413|11.612555696332448|16657.444213233604| 50.8582040171043|24.455899813322244|4446.382677208546|11823.061164758295|9299.725356411982|2386.9348202515403|3364.0394377031575|    142486.8227204|34573.91351871559|   4.521646436486069|  13547.7745743436|57.89992044299182|1.5553885870437965|  24.844592543419303|   7.0241154455783095|3.6760510974931075| 5.629459357540242|4.774177595727676|  8.4134064159087|  5.577955381543229|2.0767505754672446|94.11444263133808|42.43507966448116| 178234.6850242115|51021.07118766737|         43731.26470236437|\n",
      "| stddev| 9190.245488232787| 4.832114232872257|267.17372499366576|112696.22136091437|14.183773199305026|1.0377791865937052| 5.642341892827589|  22948.0825625224|185.3057416175736|104.00260846034871|7547.649286879447| 9889.995586897641| 8305.14121980833| 2666.492109752126| 5971.895756133391|160692.05138378384|  36728.504333506|   3.164230551083787|16474.075874904138|28.58349941286593|1.9052379160587263|   32.31918055661989|    5.965424345612165|2.3246559499495687|3.3828790430237308|3.037924171984263|7.359113842750394| 3.2934507160285817|1.8307108699092187|9.036803114874303|36.21616984315231|181574.74201748153|49911.37555949452|        45072.974711252726|\n",
      "|    min|               500|              5.31|              4.93|               0.0|              -1.0|                 0|                 0|                 0|              0.0|                 0|                0|               0.0|              0.0|               0.0|               0.0|                 0|                0|                   0|               0.0|              0.0|                 0|                   0|                    0|                 0|                 0|                0|                0|                  0|                 0|              0.0|              0.0|                 0|                0|                         0|\n",
      "|    max|             40000|             30.99|           1719.83|             1.1E8|             999.0|               809|               101|           2904836|         152002.0|             89832|            57451|   63296.877868241|          40000.0|          149527.0|          42192.05|           9971659|          9999999|                  64|          958084.0|            339.6|                94|                 661|                   25|                50|                72|               71|              159|                 65|                32|            100.0|            100.0|           9999999|          3408095|                   2118996|\n",
      "+-------+------------------+------------------+------------------+------------------+------------------+------------------+------------------+------------------+-----------------+------------------+-----------------+------------------+-----------------+------------------+------------------+------------------+-----------------+--------------------+------------------+-----------------+------------------+--------------------+---------------------+------------------+------------------+-----------------+-----------------+-------------------+------------------+-----------------+-----------------+------------------+-----------------+--------------------------+\n",
      "\n"
     ]
    }
   ],
   "source": [
    "# Detectar columnas numéricas\n",
    "columnas_numericas = [c for c, t in df.dtypes if t in [\"int\", \"double\"]]\n",
    "\n",
    "# Usar describe para estadísticas generales\n",
    "df.select(columnas_numericas).describe().show()\n"
   ]
  },
  {
   "cell_type": "code",
   "execution_count": 23,
   "id": "12e2f0db",
   "metadata": {},
   "outputs": [],
   "source": [
    "categorias_frecuentes = ['MORTGAGE','RENT','OWN']\n",
    "# Reducir categories en 'home_ownership'\n",
    "df = df.withColumn(\n",
    "    \"home_ownership\",\n",
    "    when(col(\"home_ownership\").isin(categorias_frecuentes), col(\"home_ownership\"))\n",
    "    .otherwise(\"OTHER\")\n",
    ")\n",
    "# Reducir categories en 'purpose'\n",
    "df = df.withColumn(\"purpose\", when(col(\"purpose\").isin(\n",
    "    \"debt_consolidation\", \"credit_card\"), \"debt_related\")\n",
    "    .when(col(\"purpose\").isin(\"home_improvement\", \"major_purchase\"), \"large_expense\")\n",
    "    .when(col(\"purpose\").isin(\"small_business\", \"car\", \"vacation\", \"house\"), \"personal_use\")\n",
    "    .when(col(\"purpose\").isin(\"medical\", \"wedding\", \"moving\"), \"life_event\")\n",
    "    .otherwise(\"other\"))\n",
    "\n",
    "# Reducir categories en 'purpose'\n",
    "df = df.withColumn(\"loan_status\",\n",
    "    when(col(\"loan_status\").isin(\"Fully Paid\", \"Current\"), \"No_riesgo\")\n",
    "    .when(col(\"loan_status\").isin(\"Late (16-30 days)\", \"In Grace Period\"), \"riesgo_medio\")\n",
    "    .when(col(\"loan_status\").isin(\n",
    "        \"Charged Off\", \"Default\", \"Late (31-120 days)\",\n",
    "        \"Does not meet the credit policy. Status:Fully Paid\",\n",
    "        \"Does not meet the credit policy. Status:Charged Off\",\n",
    "        \"Oct-2015\", None), \"riesgo_alto\")\n",
    ")\n"
   ]
  },
  {
   "cell_type": "code",
   "execution_count": 24,
   "id": "8fae4af1",
   "metadata": {},
   "outputs": [
    {
     "name": "stdout",
     "output_type": "stream",
     "text": [
      "+-----+------+\n",
      "|grade| count|\n",
      "+-----+------+\n",
      "|    B|663557|\n",
      "|    C|650053|\n",
      "|    A|433027|\n",
      "|    D|324424|\n",
      "|    E|135639|\n",
      "|    F| 41800|\n",
      "|    G| 12168|\n",
      "+-----+------+\n",
      "\n",
      "+----------+------+\n",
      "|emp_length| count|\n",
      "+----------+------+\n",
      "| 10+ years|748005|\n",
      "|   2 years|203676|\n",
      "|  < 1 year|189988|\n",
      "|   3 years|180753|\n",
      "|    1 year|148403|\n",
      "|       n/a|146907|\n",
      "|   5 years|139698|\n",
      "|   4 years|136605|\n",
      "|   6 years|102628|\n",
      "|   7 years| 92695|\n",
      "|   8 years| 91914|\n",
      "|   9 years| 79395|\n",
      "| reactors\"|     1|\n",
      "+----------+------+\n",
      "\n",
      "+--------------+-------+\n",
      "|home_ownership|  count|\n",
      "+--------------+-------+\n",
      "|      MORTGAGE|1111449|\n",
      "|          RENT| 894929|\n",
      "|           OWN| 253057|\n",
      "|         OTHER|   1233|\n",
      "+--------------+-------+\n",
      "\n",
      "+-------------------+------+\n",
      "|verification_status| count|\n",
      "+-------------------+------+\n",
      "|    Source Verified|886230|\n",
      "|       Not Verified|744806|\n",
      "|           Verified|629631|\n",
      "|              38000|     1|\n",
      "+-------------------+------+\n",
      "\n",
      "+------------+-------+\n",
      "| loan_status|  count|\n",
      "+------------+-------+\n",
      "|   No_riesgo|1961647|\n",
      "| riesgo_alto| 286332|\n",
      "|riesgo_medio|  12689|\n",
      "+------------+-------+\n",
      "\n",
      "+-------------+-------+\n",
      "|      purpose|  count|\n",
      "+-------------+-------+\n",
      "| debt_related|1794716|\n",
      "|large_expense| 200869|\n",
      "|        other| 141525|\n",
      "| personal_use|  78324|\n",
      "|   life_event|  45234|\n",
      "+-------------+-------+\n",
      "\n"
     ]
    }
   ],
   "source": [
    "columnas_categoricas = [c for c, t in df.dtypes if t == \"string\"]\n",
    "\n",
    "for col_name in columnas_categoricas:\n",
    "    total_distintos = df.select(col_name).distinct().count()\n",
    "    df.groupBy(col_name).count().orderBy(\"count\", ascending=False).show()\n",
    "    "
   ]
  },
  {
   "cell_type": "markdown",
   "id": "bb635767",
   "metadata": {},
   "source": [
    "## **Construcción de la muestra representativa (`muestra_M`)**\n",
    "\n",
    "Se utilizó el conjunto de datos Lending Club, del cual se extrajo una muestra representativa llamada `muestra_M` a partir de **4 combinaciones específicas de variables categóricas**:\n",
    "\n",
    "- `purpose`\n",
    "- `home_ownership`\n",
    "- `verification_status`\n",
    "\n",
    "Estas combinaciones fueron seleccionadas por su alta frecuencia y por representar perfiles distintos en términos de riesgo crediticio.\n",
    "\n",
    "### Combinaciones seleccionadas:\n",
    "1. debt_related + MORTGAGE + Source Verified  \n",
    "2. debt_related + RENT + Source Verified  \n",
    "3. debt_related + MORTGAGE + Not Verified  \n",
    "4. debt_related + MORTGAGE + Verified\n",
    "\n",
    "Cada subconjunto fue filtrado del DataFrame original utilizando estas condiciones, y posteriormente unido para formar el conjunto `muestra_M`, el cual servirá como base para el análisis supervisado y no supervisado.\n"
   ]
  },
  {
   "cell_type": "code",
   "execution_count": 25,
   "id": "6521a3b1",
   "metadata": {},
   "outputs": [
    {
     "name": "stdout",
     "output_type": "stream",
     "text": [
      "Combinaciones posibles: 61\n",
      "+-------------+--------------+-------------------+----------+----------------+\n",
      "|purpose      |home_ownership|verification_status|frecuencia|probabilidad (%)|\n",
      "+-------------+--------------+-------------------+----------+----------------+\n",
      "|debt_related |MORTGAGE      |Source Verified    |325538    |14.4            |\n",
      "|debt_related |RENT          |Source Verified    |301930    |13.36           |\n",
      "|debt_related |MORTGAGE      |Not Verified       |283745    |12.55           |\n",
      "|debt_related |MORTGAGE      |Verified           |263046    |11.64           |\n",
      "|debt_related |RENT          |Not Verified       |241428    |10.68           |\n",
      "|debt_related |RENT          |Verified           |189385    |8.38            |\n",
      "|debt_related |OWN           |Source Verified    |75220     |3.33            |\n",
      "|debt_related |OWN           |Not Verified       |63639     |2.82            |\n",
      "|large_expense|MORTGAGE      |Not Verified       |51856     |2.29            |\n",
      "|debt_related |OWN           |Verified           |49835     |2.2             |\n",
      "|large_expense|MORTGAGE      |Source Verified    |49534     |2.19            |\n",
      "|large_expense|MORTGAGE      |Verified           |33781     |1.49            |\n",
      "|other        |RENT          |Source Verified    |29090     |1.29            |\n",
      "|other        |MORTGAGE      |Source Verified    |20770     |0.92            |\n",
      "|other        |RENT          |Not Verified       |19273     |0.85            |\n",
      "|other        |RENT          |Verified           |18853     |0.83            |\n",
      "|other        |MORTGAGE      |Not Verified       |18317     |0.81            |\n",
      "|other        |MORTGAGE      |Verified           |16673     |0.74            |\n",
      "|personal_use |RENT          |Source Verified    |15135     |0.67            |\n",
      "|large_expense|RENT          |Source Verified    |14830     |0.66            |\n",
      "+-------------+--------------+-------------------+----------+----------------+\n",
      "only showing top 20 rows\n",
      "\n"
     ]
    }
   ],
   "source": [
    "total = df.count()\n",
    "\n",
    "combinaciones = df.groupBy('purpose', 'home_ownership','verification_status') \\\n",
    "    .count() \\\n",
    "    .withColumnRenamed(\"count\", \"frecuencia\") \\\n",
    "    .withColumn(\"probabilidad (%)\", round((col(\"frecuencia\") / total) * 100, 2)) \\\n",
    "    .orderBy(\"frecuencia\", ascending=False)\n",
    "\n",
    "print(\"Combinaciones posibles:\", combinaciones.count())\n",
    "combinaciones.show(truncate=False)"
   ]
  },
  {
   "cell_type": "code",
   "execution_count": 26,
   "id": "56348a5f",
   "metadata": {},
   "outputs": [],
   "source": [
    "df_part1 = df.filter((df.purpose == \"debt_related\") & (df.home_ownership == \"MORTGAGE\") & (df.verification_status == \"Source Verified\"))\n",
    "df_part2 = df.filter((df.purpose == \"debt_related\") & (df.home_ownership == \"RENT\") & (df.verification_status == \"Source Verified\"))\n",
    "df_part3 = df.filter((df.purpose == \"debt_related\") & (df.home_ownership == \"MORTGAGE\") & (df.verification_status == \"Not Verified\"))\n",
    "df_part4 = df.filter((df.purpose == \"debt_related\") & (df.home_ownership == \"MORTGAGE\") & (df.verification_status == \"Verified\"))"
   ]
  },
  {
   "cell_type": "markdown",
   "id": "efe6b883",
   "metadata": {},
   "source": [
    "**Aplicar muestreo aleatorio al 10%**"
   ]
  },
  {
   "cell_type": "code",
   "execution_count": 27,
   "id": "ae8a5427",
   "metadata": {},
   "outputs": [],
   "source": [
    "# Muestreo sin reemplazo\n",
    "sample1 = df_part1.sample(withReplacement=False, fraction=0.1, seed=1)\n",
    "sample2 = df_part2.sample(withReplacement=False, fraction=0.1, seed=1)\n",
    "sample3 = df_part3.sample(withReplacement=False, fraction=0.1, seed=1)\n",
    "sample4 = df_part4.sample(withReplacement=False, fraction=0.1, seed=1)"
   ]
  },
  {
   "cell_type": "markdown",
   "id": "6b988da3",
   "metadata": {},
   "source": [
    " **Unir las muestras en una sola: muestra_M**"
   ]
  },
  {
   "cell_type": "code",
   "execution_count": 28,
   "id": "3b78c7c9",
   "metadata": {},
   "outputs": [
    {
     "name": "stdout",
     "output_type": "stream",
     "text": [
      "+---------+--------+-----------+-----+----------+--------------+----------+-------------------+-----------+------------+-----+--------------+--------+---------+----------+---------+---------+-----------+---------------+-------------+---------------+-----------+----------------+--------------------+-----------+-------+--------+--------------------+---------------------+--------------+---------------+-----------+---------+-------------------+------------------+--------------+----------------+---------------+-----------------+--------------------------+\n",
      "|loan_amnt|int_rate|installment|grade|emp_length|home_ownership|annual_inc|verification_status|loan_status|     purpose|  dti|inq_last_6mths|open_acc|revol_bal|revol_util|total_acc|out_prncp|total_pymnt|total_rec_prncp|total_rec_int|last_pymnt_amnt|tot_cur_bal|total_rev_hi_lim|acc_open_past_24mths|avg_cur_bal|bc_util|mort_acc|mths_since_recent_bc|mths_since_recent_inq|num_actv_bc_tl|num_actv_rev_tl|num_bc_sats|num_il_tl|num_rev_tl_bal_gt_0|num_tl_op_past_12m|pct_tl_nvr_dlq|percent_bc_gt_75|tot_hi_cred_lim|total_bal_ex_mort|total_il_high_credit_limit|\n",
      "+---------+--------+-----------+-----+----------+--------------+----------+-------------------+-----------+------------+-----+--------------+--------+---------+----------+---------+---------+-----------+---------------+-------------+---------------+-----------+----------------+--------------------+-----------+-------+--------+--------------------+---------------------+--------------+---------------+-----------+---------+-------------------+------------------+--------------+----------------+---------------+-----------------+--------------------------+\n",
      "|     5000|   17.97|     180.69|    D| 10+ years|      MORTGAGE|   53580.0|    Source Verified|  No_riesgo|debt_related|21.16|             1|       8|     8018|      35.2|       38|     4786|     353.89|         213.21|       140.68|         180.69|      41882|           22800|                  12|     5235.0|   35.9|       3|                   6|                    2|             4|              5|          5|       20|                  5|                 6|          78.9|            60.0|          57426|            41882|                     34626|\n",
      "|    27000|   15.02|     642.62|    C| 10+ years|      MORTGAGE|   45000.0|    Source Verified|  No_riesgo|debt_related|23.55|             0|      11|    12903|      64.8|       24|    26387|    1251.44|         612.14|        639.3|         642.62|      21902|           19900|                   1|     1991.0|   78.1|       1|                  17|                 NULL|             6|              8|          7|        5|                  8|                 0|          87.5|            57.1|          41500|            21902|                     21600|\n",
      "|     8000|   12.98|     269.48|    B|   4 years|      MORTGAGE|   95000.0|    Source Verified|  No_riesgo|debt_related| 9.44|             2|       7|    11434|      33.3|       20|     7632|     530.31|         367.87|       162.44|         269.48|     247933|           34300|                  10|    35419.0|   33.3|       1|                   6|                    2|             3|              3|          5|        4|                  3|                 8|         100.0|            20.0|         271550|            25150|                     14000|\n",
      "|    12000|   14.47|     282.16|    C|   6 years|      MORTGAGE|   39000.0|    Source Verified|  No_riesgo|debt_related|16.06|             0|      11|     7899|      28.9|       24|    11723|     482.33|         276.58|       205.75|         282.16|     100619|           27300|                   5|     9147.0|   17.1|       1|                  15|                    7|             2|              5|          5|        9|                  5|                 1|         100.0|             0.0|         123639|            17353|                     11939|\n",
      "|    40000|    8.19|      814.7|    A| 10+ years|      MORTGAGE|   99000.0|    Source Verified|  No_riesgo|debt_related|21.75|             0|      11|    48071|      72.2|       22|    38912|     1602.1|         1087.1|        515.0|          814.7|     190439|           66600|                   0|    17313.0|   76.7|       2|                  83|                   19|             7|              9|          7|        6|                  9|                 0|         100.0|            28.6|         242324|            54990|                     23340|\n",
      "+---------+--------+-----------+-----+----------+--------------+----------+-------------------+-----------+------------+-----+--------------+--------+---------+----------+---------+---------+-----------+---------------+-------------+---------------+-----------+----------------+--------------------+-----------+-------+--------+--------------------+---------------------+--------------+---------------+-----------+---------+-------------------+------------------+--------------+----------------+---------------+-----------------+--------------------------+\n",
      "only showing top 5 rows\n",
      "\n"
     ]
    }
   ],
   "source": [
    "# Unión de las muestras\n",
    "muestra_M = sample1.union(sample2).union(sample3).union(sample4)\n",
    "\n",
    "# Mostrar las primeras filas\n",
    "muestra_M.show(5)\n"
   ]
  },
  {
   "cell_type": "markdown",
   "id": "6eb6ab5e",
   "metadata": {},
   "source": [
    "# **3.Preparación de los datos**\n",
    "\n",
    "Antes de aplicar los algoritmos de aprendizaje, es necesario preparar la muestra `muestra_M` para que cumpla con los requisitos del modelo.\n",
    "\n",
    "Acciones a implementar:\n",
    "\n",
    "- Eliminación de registros con valores nulos en las variables numéricas y categóricas seleccionadas.\n",
    "- Indexación de la variable objetivo (`loan_status`) para usarla como etiqueta en aprendizaje supervisado.\n",
    "- Construcción del vector de características (`features`) usando variables numéricas como `loan_amnt`, `int_rate`, `annual_inc`, `installment`, entre otras.\n"
   ]
  },
  {
   "cell_type": "code",
   "execution_count": 29,
   "id": "0196172b",
   "metadata": {},
   "outputs": [
    {
     "name": "stdout",
     "output_type": "stream",
     "text": [
      "+---------+--------+-----------+-----+----------+--------------+----------+-------------------+-----------+------------+-----+--------------+--------+---------+----------+---------+---------+-----------+---------------+-------------+---------------+-----------+----------------+--------------------+-----------+-------+--------+--------------------+---------------------+--------------+---------------+-----------+---------+-------------------+------------------+--------------+----------------+---------------+-----------------+--------------------------+\n",
      "|loan_amnt|int_rate|installment|grade|emp_length|home_ownership|annual_inc|verification_status|loan_status|     purpose|  dti|inq_last_6mths|open_acc|revol_bal|revol_util|total_acc|out_prncp|total_pymnt|total_rec_prncp|total_rec_int|last_pymnt_amnt|tot_cur_bal|total_rev_hi_lim|acc_open_past_24mths|avg_cur_bal|bc_util|mort_acc|mths_since_recent_bc|mths_since_recent_inq|num_actv_bc_tl|num_actv_rev_tl|num_bc_sats|num_il_tl|num_rev_tl_bal_gt_0|num_tl_op_past_12m|pct_tl_nvr_dlq|percent_bc_gt_75|tot_hi_cred_lim|total_bal_ex_mort|total_il_high_credit_limit|\n",
      "+---------+--------+-----------+-----+----------+--------------+----------+-------------------+-----------+------------+-----+--------------+--------+---------+----------+---------+---------+-----------+---------------+-------------+---------------+-----------+----------------+--------------------+-----------+-------+--------+--------------------+---------------------+--------------+---------------+-----------+---------+-------------------+------------------+--------------+----------------+---------------+-----------------+--------------------------+\n",
      "|     5000|   17.97|     180.69|    D| 10+ years|      MORTGAGE|   53580.0|    Source Verified|  No_riesgo|debt_related|21.16|             1|       8|     8018|      35.2|       38|     4786|     353.89|         213.21|       140.68|         180.69|      41882|           22800|                  12|     5235.0|   35.9|       3|                   6|                    2|             4|              5|          5|       20|                  5|                 6|          78.9|            60.0|          57426|            41882|                     34626|\n",
      "|    27000|   15.02|     642.62|    C| 10+ years|      MORTGAGE|   45000.0|    Source Verified|  No_riesgo|debt_related|23.55|             0|      11|    12903|      64.8|       24|    26387|    1251.44|         612.14|        639.3|         642.62|      21902|           19900|                   1|     1991.0|   78.1|       1|                  17|                 NULL|             6|              8|          7|        5|                  8|                 0|          87.5|            57.1|          41500|            21902|                     21600|\n",
      "|     8000|   12.98|     269.48|    B|   4 years|      MORTGAGE|   95000.0|    Source Verified|  No_riesgo|debt_related| 9.44|             2|       7|    11434|      33.3|       20|     7632|     530.31|         367.87|       162.44|         269.48|     247933|           34300|                  10|    35419.0|   33.3|       1|                   6|                    2|             3|              3|          5|        4|                  3|                 8|         100.0|            20.0|         271550|            25150|                     14000|\n",
      "|    12000|   14.47|     282.16|    C|   6 years|      MORTGAGE|   39000.0|    Source Verified|  No_riesgo|debt_related|16.06|             0|      11|     7899|      28.9|       24|    11723|     482.33|         276.58|       205.75|         282.16|     100619|           27300|                   5|     9147.0|   17.1|       1|                  15|                    7|             2|              5|          5|        9|                  5|                 1|         100.0|             0.0|         123639|            17353|                     11939|\n",
      "|    40000|    8.19|      814.7|    A| 10+ years|      MORTGAGE|   99000.0|    Source Verified|  No_riesgo|debt_related|21.75|             0|      11|    48071|      72.2|       22|    38912|     1602.1|         1087.1|        515.0|          814.7|     190439|           66600|                   0|    17313.0|   76.7|       2|                  83|                   19|             7|              9|          7|        6|                  9|                 0|         100.0|            28.6|         242324|            54990|                     23340|\n",
      "|     5000|   14.47|     172.04|    C|   5 years|      MORTGAGE|   30000.0|    Source Verified|  No_riesgo|debt_related|24.11|             1|       9|     7598|      37.8|       12|     4775|     338.05|         224.84|       113.21|         172.04|     117170|           20100|                   3|    13019.0|   47.7|       1|                   6|                    3|             3|              5|          3|        3|                  5|                 2|          91.7|            66.7|         136958|            24126|                     22858|\n",
      "|    20000|   10.72|     432.07|    B|    1 year|      MORTGAGE|  120000.0|    Source Verified|  No_riesgo|debt_related| 28.8|             1|      14|    17349|      33.0|       22|    19490|     846.27|         509.07|        337.2|         432.07|     415882|           52500|                   3|    29706.0|    6.4|       3|                  43|                    6|             2|              3|          3|        6|                  3|                 1|         100.0|             0.0|         517791|           109522|                    130548|\n",
      "|    30000|   26.31|     903.73|    E| 10+ years|      MORTGAGE|  120000.0|    Source Verified|  No_riesgo|debt_related|12.23|             0|      14|    29040|      33.2|       27|    29754|     859.88|         245.99|       613.89|         925.66|     504219|           87600|                   5|    38786.0|   54.9|       1|                  13|                    0|             5|              9|          6|        6|                  9|                 2|         100.0|            40.0|         573600|            48391|                     22000|\n",
      "|    10000|    11.8|     221.44|    B|   2 years|      MORTGAGE|   50000.0|    Source Verified|  No_riesgo|debt_related| 13.3|             2|       9|     1093|       5.4|       12|     9752|     433.05|         247.42|       185.63|         221.44|     201049|           20400|                   6|    22339.0|   10.1|       2|                   2|                    2|             2|              3|          3|        3|                  3|                 6|         100.0|             0.0|         228912|            21244|                     26637|\n",
      "|     8000|    6.46|     245.05|    A|   5 years|      MORTGAGE|   52000.0|    Source Verified|  No_riesgo|debt_related| 5.58|             0|       3|     8060|     100.8|       10|     7594|     485.79|         405.05|        80.74|         245.05|     258732|            8000|                   1|   129366.0|   NULL|       3|                NULL|                   23|             0|              1|          0|        2|                  1|                 0|         100.0|            NULL|         265345|             8060|                         0|\n",
      "|    10000|    6.46|     306.31|    A| 10+ years|      MORTGAGE|  105000.0|    Source Verified|  No_riesgo|debt_related|15.58|             2|      11|    12282|      33.6|       24|     9747|     300.93|         252.48|        48.45|         306.31|     132853|           36600|                  11|    12078.0|   35.0|       1|                   2|                    2|             5|              7|          6|       11|                  7|                 6|          95.7|             0.0|         187909|            47135|                     40605|\n",
      "|    12000|    7.56|     373.61|    A| 10+ years|      MORTGAGE|   94992.0|    Source Verified|  No_riesgo|debt_related|14.74|             1|       5|     4086|      17.0|       14|    11402|     739.66|          597.9|       141.76|         373.61|     225033|           24000|                   3|    45007.0|   NULL|       3|                NULL|                    0|             0|              1|          0|        4|                  1|                 2|         100.0|            NULL|         264744|            54041|                     62244|\n",
      "|    15000|   19.92|     556.85|    D| 10+ years|      MORTGAGE|   82038.0|    Source Verified|  No_riesgo|debt_related|27.63|             1|      14|    27368|      67.2|       42|    14379|     1088.8|         620.81|       467.99|         556.85|     328543|           40700|                   8|    23467.0|   85.5|       2|                   8|                    4|             4|              4|          4|       28|                  4|                 3|          97.6|            75.0|         351424|           152180|                    128360|\n",
      "|     6000|   19.92|     222.74|    D| 10+ years|      MORTGAGE|   65000.0|    Source Verified|  No_riesgo|debt_related|25.13|             0|      16|    26260|      52.8|       23|     5751|     435.52|         248.32|        187.2|         222.74|     146023|           49700|                   5|     9126.0|   51.4|       1|                  22|                   10|             2|             10|          3|        7|                 10|                 2|          87.0|            33.3|         185047|            56304|                     33307|\n",
      "|    30000|   14.47|     705.38|    C|   4 years|      MORTGAGE|   80000.0|    Source Verified|  No_riesgo|debt_related|12.32|             0|       8|     7149|      54.6|       17|    29308|    1374.58|          691.4|       683.18|         705.38|     292045|           13100|                   2|    36506.0|   92.9|       1|                  24|                   16|             1|              2|          1|        2|                  2|                 0|          88.2|           100.0|         323264|            22945|                     29085|\n",
      "|    20000|   16.14|     487.86|    C|   8 years|      MORTGAGE|   62000.0|    Source Verified|  No_riesgo|debt_related|17.03|             0|       5|    12122|      63.8|       13|    19559|     948.82|         440.66|       508.16|         487.86|     247534|           19000|                   4|    49507.0|   63.8|       1|                  10|                    8|             3|              3|          3|        6|                  3|                 2|          92.3|            66.7|         260735|            49820|                     42814|\n",
      "|    40000|    11.8|     885.75|    B| 10+ years|      MORTGAGE|  200000.0|    Source Verified|  No_riesgo|debt_related| 5.11|             0|      13|    25925|      33.9|       21|    39010|    1732.17|         989.68|       742.49|         885.75|     444234|           76500|                   5|    37020.0|   42.2|       2|                   7|                    8|             6|              6|          7|        2|                  6|                 3|         100.0|            16.7|         510000|            48438|                     25000|\n",
      "|    16000|   10.33|     342.56|    B|   6 years|      MORTGAGE|   65000.0|    Source Verified|  No_riesgo|debt_related|18.65|             1|      13|    16149|      45.4|       15|    15588|     671.35|         411.42|       259.93|         342.56|      82589|           35600|                   3|     6353.0|   49.1|       1|                   8|                    0|             8|              9|         10|        1|                  9|                 2|         100.0|             0.0|         117054|            31264|                     23954|\n",
      "|    22000|   16.14|     536.64|    C|   7 years|      MORTGAGE|  107200.0|    Source Verified|  No_riesgo|debt_related|20.63|             1|      15|    16151|      76.2|       33|    21515|    1043.69|         484.72|       558.97|         536.64|     395095|           21200|                  10|    26340.0|   68.3|       3|                  15|                    4|             3|             10|          4|       16|                 11|                 3|          96.8|            50.0|         416590|            59186|                     54481|\n",
      "|    40000|    8.19|      814.7|    A|    1 year|      MORTGAGE|  130000.0|    Source Verified|  No_riesgo|debt_related|12.55|             0|       9|    46474|      71.7|       28|    38912|     1565.7|         1087.1|        478.6|          814.7|     260545|           64800|                   1|    28949.0|   77.4|       4|                  25|                   10|             4|              5|          5|        9|                  5|                 1|         100.0|            40.0|         341050|            46474|                         0|\n",
      "+---------+--------+-----------+-----+----------+--------------+----------+-------------------+-----------+------------+-----+--------------+--------+---------+----------+---------+---------+-----------+---------------+-------------+---------------+-----------+----------------+--------------------+-----------+-------+--------+--------------------+---------------------+--------------+---------------+-----------+---------+-------------------+------------------+--------------+----------------+---------------+-----------------+--------------------------+\n",
      "only showing top 20 rows\n",
      "\n"
     ]
    }
   ],
   "source": [
    "muestra_M.show()"
   ]
  },
  {
   "cell_type": "code",
   "execution_count": 44,
   "id": "70d5511e",
   "metadata": {},
   "outputs": [
    {
     "name": "stdout",
     "output_type": "stream",
     "text": [
      "+------------+\n",
      "| loan_status|\n",
      "+------------+\n",
      "| riesgo_alto|\n",
      "|   No_riesgo|\n",
      "|riesgo_medio|\n",
      "+------------+\n",
      "\n"
     ]
    }
   ],
   "source": [
    "muestra_M.select('loan_status').distinct().show()"
   ]
  },
  {
   "cell_type": "markdown",
   "id": "41d80fda",
   "metadata": {},
   "source": [
    "# 4 Algoritmo de aprendizaje Supervisado"
   ]
  },
  {
   "cell_type": "code",
   "execution_count": 31,
   "id": "571e74b9",
   "metadata": {},
   "outputs": [],
   "source": [
    "from pyspark.ml.feature import VectorAssembler, StringIndexer, OneHotEncoder , Normalizer\n",
    "from pyspark.ml import Pipeline\n",
    "from pyspark.ml.classification import LogisticRegression\n",
    "from pyspark.ml.evaluation import BinaryClassificationEvaluator"
   ]
  },
  {
   "cell_type": "code",
   "execution_count": 32,
   "id": "f523d252",
   "metadata": {},
   "outputs": [
    {
     "name": "stdout",
     "output_type": "stream",
     "text": [
      "+---------+--------+-----------+-----+--------------+--------+---------+----------+---------+---------+-----------+---------------+-------------+---------------+-----------+----------------+--------------------+-----------+-------+--------+--------------------+---------------------+--------------+---------------+-----------+---------+-------------------+------------------+--------------+----------------+---------------+-----------------+--------------------------+-----------+\n",
      "|loan_amnt|int_rate|installment|  dti|inq_last_6mths|open_acc|revol_bal|revol_util|total_acc|out_prncp|total_pymnt|total_rec_prncp|total_rec_int|last_pymnt_amnt|tot_cur_bal|total_rev_hi_lim|acc_open_past_24mths|avg_cur_bal|bc_util|mort_acc|mths_since_recent_bc|mths_since_recent_inq|num_actv_bc_tl|num_actv_rev_tl|num_bc_sats|num_il_tl|num_rev_tl_bal_gt_0|num_tl_op_past_12m|pct_tl_nvr_dlq|percent_bc_gt_75|tot_hi_cred_lim|total_bal_ex_mort|total_il_high_credit_limit|loan_status|\n",
      "+---------+--------+-----------+-----+--------------+--------+---------+----------+---------+---------+-----------+---------------+-------------+---------------+-----------+----------------+--------------------+-----------+-------+--------+--------------------+---------------------+--------------+---------------+-----------+---------+-------------------+------------------+--------------+----------------+---------------+-----------------+--------------------------+-----------+\n",
      "|     2500|   13.56|      84.92|18.24|             1|       9|     4341|      10.3|       34|     2386|     167.02|         113.98|        53.04|          84.92|      16901|           42000|                   9|     1878.0|    5.9|       0|                   1|                    2|             2|              5|          3|       16|                  5|                 3|         100.0|             0.0|          60124|            16901|                     18124|  No_riesgo|\n",
      "|    30000|   18.94|     777.23|26.52|             0|      13|    12315|      24.2|       44|    29387|    1507.11|         612.25|       894.86|         777.23|     321915|           50800|                  10|    24763.0|    8.3|       3|                   4|                    4|             2|              4|          4|       27|                  4|                 6|          95.0|             0.0|         372872|            99468|                     94072|  No_riesgo|\n",
      "|     5000|   17.97|     180.69|10.51|             0|       8|     4599|      19.1|       13|     4787|     353.89|         212.79|        141.1|         180.69|     110299|           24100|                   4|    18383.0|    0.0|       2|                  77|                   14|             0|              3|          3|        4|                  3|                 0|         100.0|             0.0|         136927|            11749|                     10000|  No_riesgo|\n",
      "|     4000|   18.94|     146.51|16.74|             0|      10|     5468|      78.1|       13|     3831|     286.71|         168.07|       118.64|         146.51|     305049|            7000|                   5|    30505.0|   75.2|       3|                  64|                    5|             1|              2|          1|        7|                  2|                 3|         100.0|           100.0|         385183|            36151|                     44984|  No_riesgo|\n",
      "|    30000|   16.14|     731.78|26.35|             0|      12|      829|       3.6|       26|    29339|    1423.21|         660.98|       762.23|         731.78|     116007|           23100|                   9|     9667.0|    8.9|       2|                   2|                   13|             2|              2|          3|        9|                  2|                 5|          92.3|             0.0|         157548|            29674|                     32332|  No_riesgo|\n",
      "|     5550|   15.02|     192.45|37.94|             3|      18|    53854|      48.1|       44|     5302|     377.95|          247.5|       130.45|         192.45|     685749|          111900|                   8|    40338.0|   64.0|       6|                  20|                    3|             4|              6|          6|       23|                  7|                 4|         100.0|            60.0|         831687|           185378|                    203159|  No_riesgo|\n",
      "|     6000|   13.56|     203.79| 30.1|             0|      19|    38476|      69.3|       37|     5864|     201.53|         135.99|        65.54|         208.31|      91535|           55500|                   3|     5085.0|   90.8|       1|                  14|                   13|             7|             12|          8|       15|                 12|                 0|         100.0|            85.7|         117242|            91535|                     61742|  No_riesgo|\n",
      "|     5000|   17.97|     180.69|21.16|             1|       8|     8018|      35.2|       38|     4786|     353.89|         213.21|       140.68|         180.69|      41882|           22800|                  12|     5235.0|   35.9|       3|                   6|                    2|             4|              5|          5|       20|                  5|                 6|          78.9|            60.0|          57426|            41882|                     34626|  No_riesgo|\n",
      "|     6000|   14.47|     206.44|17.43|             1|      38|    65950|      49.8|       58|     5730|     405.64|          269.8|       135.84|         206.44|     349502|          132500|                  15|     9197.0|   60.6|       1|                   4|                    4|            16|             20|         19|        9|                 20|                 2|         100.0|            26.3|         477390|           105911|                     89600|  No_riesgo|\n",
      "|     5500|   22.35|     211.05|15.94|             0|       6|     4529|      94.4|       13|     5280|     411.86|         219.25|       192.61|         211.05|     228151|            4800|                   3|    38025.0|   94.4|       3|                   5|                    4|             3|              3|          3|        5|                  3|                 2|          84.6|           100.0|         243452|            18185|                     15649|  No_riesgo|\n",
      "|    28000|   11.31|     613.13|22.01|             1|      10|    56152|      55.9|       23|    27298|    1199.87|         701.75|       498.12|         613.13|     177406|          100400|                   2|    17741.0|   55.9|       1|                   6|                    6|             5|              5|          8|       13|                  5|                 1|         100.0|            37.5|         259435|            65636|                     17535|  No_riesgo|\n",
      "|    11200|    8.19|     351.95| 23.6|             0|      20|     8836|      16.6|       27|    10647|     696.26|          552.9|       143.36|         351.95|     249643|           53100|                   3|    12482.0|   24.7|       4|                  65|                    1|             4|              5|          5|       13|                  5|                 2|         100.0|            20.0|         345654|            78795|                    114578|  No_riesgo|\n",
      "|     6500|   17.97|      234.9|28.78|             0|      27|    23754|      60.4|       41|     6222|     460.07|         277.18|       182.89|          234.9|     116747|           39300|                  11|     4324.0|   62.8|       0|                  13|                    4|             5|             19|          5|       17|                 19|                 4|          90.2|            20.0|         169160|           116747|                    129860|  No_riesgo|\n",
      "|    22000|   12.98|     500.35|11.19|             0|       8|      134|       0.5|       16|    21472|      976.9|          527.6|        449.3|         500.35|      22337|           29500|                   2|     3191.0|    0.0|       1|                   4|                   15|             1|              2|          3|        6|                  2|                 1|         100.0|             0.0|          71932|            22337|                     38535|  No_riesgo|\n",
      "|     3500|   16.14|      123.3|13.63|             0|       7|     8952|      58.5|       27|     3346|     218.36|         153.48|        64.88|          123.3|      16085|           15300|                   4|     2298.0|   48.4|       2|                   7|                    7|             1|              3|          2|       10|                  3|                 3|          76.0|            50.0|          42328|            16085|                     27028|  No_riesgo|\n",
      "|     7000|   12.98|      235.8| 15.2|             0|       9|     1057|       7.2|       21|     6678|     464.03|          321.9|       142.13|          235.8|     174891|           14700|                   3|    19432.0|    0.0|       4|                  26|                   10|             0|              2|          2|        8|                  2|                 2|          80.0|             0.0|         214624|            76709|                     96826|  No_riesgo|\n",
      "|    16000|   20.89|     431.87|27.57|             0|      13|    18826|      82.2|       37|    15690|     835.89|         309.34|       526.55|         431.87|     434239|           22900|                   5|    33403.0|   96.8|       2|                  12|                    4|             2|              4|          2|       24|                  4|                 2|          86.5|           100.0|         444217|           266754|                    239338|  No_riesgo|\n",
      "|    13000|   14.47|     305.67|26.16|             1|       9|    15551|      58.2|       13|    12700|     595.66|         299.62|       296.04|         305.67|     131400|           26700|                   4|    14600.0|   58.2|       1|                  81|                    5|             3|              3|          3|        8|                  3|                 1|         100.0|            33.3|         176598|            50920|                     50898|  No_riesgo|\n",
      "|    10000|   13.56|     339.65|10.62|             1|      14|     9765|      74.0|       28|     9544|      668.0|         455.86|       212.14|         339.65|      45972|           13200|                   4|     3536.0|   84.5|       0|                   7|                    5|             5|              6|          5|       17|                  6|                 2|          77.8|            80.0|          48052|            45972|                     34852|  No_riesgo|\n",
      "|    13000|   14.47|     447.29|10.58|             0|       7|    13478|      82.2|       17|    12415|      878.9|         584.57|       294.33|         447.29|      34996|           16400|                   4|     4999.0|   78.2|       3|                  14|                   14|             3|              4|          4|        6|                  4|                 0|         100.0|            75.0|          41150|            13878|                      1000|  No_riesgo|\n",
      "+---------+--------+-----------+-----+--------------+--------+---------+----------+---------+---------+-----------+---------------+-------------+---------------+-----------+----------------+--------------------+-----------+-------+--------+--------------------+---------------------+--------------+---------------+-----------+---------+-------------------+------------------+--------------+----------------+---------------+-----------------+--------------------------+-----------+\n",
      "only showing top 20 rows\n",
      "\n"
     ]
    }
   ],
   "source": [
    "#Seleccionan columnas numéricas para trabajar y la variable objetivo \"loan_status\"\n",
    "cols_training = [\"loan_amnt\", \"int_rate\", \"installment\", \"dti\",\"inq_last_6mths\",\"open_acc\",\"revol_bal\",\"revol_util\",\n",
    "                 \"total_acc\",\"out_prncp\",\"total_pymnt\",\"total_rec_prncp\",\"total_rec_int\",\"last_pymnt_amnt\",\"tot_cur_bal\",\n",
    "                 \"total_rev_hi_lim\",\"acc_open_past_24mths\",\"avg_cur_bal\",\"bc_util\",\"mort_acc\",\"mths_since_recent_bc\",\n",
    "                 \"mths_since_recent_inq\",\"num_actv_bc_tl\",\"num_actv_rev_tl\",\"num_bc_sats\",\"num_il_tl\",\n",
    "                 \"num_rev_tl_bal_gt_0\",\"num_tl_op_past_12m\",\"pct_tl_nvr_dlq\",\"percent_bc_gt_75\",\"tot_hi_cred_lim\",\n",
    "                 \"total_bal_ex_mort\",\"total_il_high_credit_limit\", \"loan_status\"]\n",
    "\n",
    "#Limpiamos y quitamos nulos que todavía pudiera haber quedado\n",
    "df_ml = df.select(cols_training)\n",
    "df_ml = df_ml.na.drop()\n",
    "df_ml.show()"
   ]
  },
  {
   "cell_type": "code",
   "execution_count": 33,
   "id": "ad91050d",
   "metadata": {},
   "outputs": [],
   "source": [
    "# Converting the loan_status\n",
    "loan_Status_Idx = StringIndexer(inputCol='loan_status',\n",
    "                               outputCol='loan_status_index')\n",
    "#Escalamos variables\n",
    "escalador = Normalizer(inputCol='features', outputCol='features_scale')"
   ]
  },
  {
   "cell_type": "code",
   "execution_count": 34,
   "id": "9f15d83b",
   "metadata": {},
   "outputs": [],
   "source": [
    "#Assembler vector con los atributos necesarios para calcular variable objetivo\n",
    "assembler = VectorAssembler(inputCols=[\"loan_amnt\", \"int_rate\", \"installment\", \"dti\",\"inq_last_6mths\",\n",
    "                \"open_acc\",\"revol_bal\",\"revol_util\",\"total_acc\",\"out_prncp\",\"total_pymnt\",\"total_rec_prncp\",\n",
    "                \"total_rec_int\",\"last_pymnt_amnt\",\"tot_cur_bal\",\"total_rev_hi_lim\",\"acc_open_past_24mths\",\n",
    "                \"avg_cur_bal\",\"bc_util\",\"mort_acc\",\"mths_since_recent_bc\",\"mths_since_recent_inq\",\n",
    "                \"num_actv_bc_tl\",\"num_actv_rev_tl\",\"num_bc_sats\",\"num_il_tl\",\n",
    "                 \"num_rev_tl_bal_gt_0\",\"num_tl_op_past_12m\",\"pct_tl_nvr_dlq\",\"percent_bc_gt_75\",\"tot_hi_cred_lim\",\n",
    "                 \"total_bal_ex_mort\",\"total_il_high_credit_limit\"],\n",
    "                outputCol='features')"
   ]
  },
  {
   "cell_type": "code",
   "execution_count": 35,
   "id": "3e662e9e",
   "metadata": {},
   "outputs": [],
   "source": [
    "#Regresión Logística se escogió como algoritmo de aprendizaje supervisado debido a :\n",
    "#   -Variable dependiente como loan_status es dicótomatica, \n",
    "#   -\n",
    "#   -\n",
    "log_reg = LogisticRegression(featuresCol='features_scale',\n",
    "                             labelCol='loan_status_index')"
   ]
  },
  {
   "cell_type": "code",
   "execution_count": 36,
   "id": "c74a88bf",
   "metadata": {},
   "outputs": [],
   "source": [
    "#Creamos pipeline del proceso completo\n",
    "pipe = Pipeline(stages=[loan_Status_Idx, assembler, escalador, log_reg])"
   ]
  },
  {
   "cell_type": "code",
   "execution_count": 37,
   "id": "95b1535f",
   "metadata": {},
   "outputs": [],
   "source": [
    "#Dividimos todo el df en train y test\n",
    "train_data, test_data = df_ml.randomSplit([0.7, .3])"
   ]
  },
  {
   "cell_type": "code",
   "execution_count": 38,
   "id": "3de45937",
   "metadata": {},
   "outputs": [],
   "source": [
    "#Entrenamos modelo\n",
    "fit_model = pipe.fit(train_data)"
   ]
  },
  {
   "cell_type": "code",
   "execution_count": 39,
   "id": "928e69fa",
   "metadata": {},
   "outputs": [],
   "source": [
    "#Evaluamos resultados con datos de prueba\n",
    "results = fit_model.transform(test_data)"
   ]
  },
  {
   "cell_type": "code",
   "execution_count": 40,
   "id": "9501d765",
   "metadata": {},
   "outputs": [],
   "source": [
    "#Utilizamos métricas para el problema de clasificación como AUC\n",
    "res = BinaryClassificationEvaluator(rawPredictionCol='prediction',labelCol='loan_status_index')"
   ]
  },
  {
   "cell_type": "code",
   "execution_count": 41,
   "id": "dbafb91d",
   "metadata": {},
   "outputs": [],
   "source": [
    "#Evaluamos resultado\n",
    "roc_auc = res.evaluate(results)"
   ]
  },
  {
   "cell_type": "code",
   "execution_count": 42,
   "id": "38706a4e",
   "metadata": {},
   "outputs": [
    {
     "name": "stdout",
     "output_type": "stream",
     "text": [
      " El valor de la métrica ROC_AUC para los datos de test es de: 0.9314697001259066\n"
     ]
    }
   ],
   "source": [
    "print(f\" El valor de la métrica ROC_AUC para los datos de test es de: {roc_auc}\")"
   ]
  },
  {
   "cell_type": "markdown",
   "id": "1c0d408f",
   "metadata": {},
   "source": [
    "# 5 Algoritmo de aprendizaje no supervisado"
   ]
  },
  {
   "cell_type": "code",
   "execution_count": 49,
   "id": "9305ab64",
   "metadata": {},
   "outputs": [
    {
     "name": "stdout",
     "output_type": "stream",
     "text": [
      "Silhouette Score for k = 2 is 0.561683085324283\n",
      "Silhouette Score for k = 3 is 0.6373380797425203\n",
      "Silhouette Score for k = 4 is 0.5601078003581744\n",
      "Silhouette Score for k = 5 is 0.5597362714835197\n",
      "Silhouette Score for k = 6 is 0.4086400219386715\n",
      "Silhouette Score for k = 7 is 0.40574940758599526\n",
      "Silhouette Score for k = 8 is 0.40262026517616045\n",
      "Silhouette Score for k = 9 is 0.41520053685660085\n"
     ]
    }
   ],
   "source": [
    "#K-means clustering \n",
    "#Creamos pipeline del proceso completo\n",
    "silhouette_score=[]\n",
    "\n",
    "evaluator = ClusteringEvaluator(predictionCol='prediction',\n",
    "                                featuresCol='features_scale', \\\n",
    "                                metricName='silhouette', \n",
    "                                distanceMeasure='squaredEuclidean')\n",
    "\n",
    "for i in range(2,10):\n",
    "    kmeans=KMeans(featuresCol='features_scale', k=i)\n",
    "    pipe = Pipeline(stages=[loan_Status_Idx, assembler, escalador, kmeans])\n",
    "    model=pipe.fit(train_data)\n",
    "    predictions=model.transform(test_data)\n",
    "    score=evaluator.evaluate(predictions)\n",
    "    silhouette_score.append(score)\n",
    "    print('Silhouette Score for k =',i,'is',score)"
   ]
  },
  {
   "cell_type": "code",
   "execution_count": null,
   "id": "7dcddf0c",
   "metadata": {},
   "outputs": [
    {
     "data": {
      "image/png": "[encoded data removed]",
      "text/plain": [
       "<Figure size 640x480 with 1 Axes>"
      ]
     },
     "metadata": {},
     "output_type": "display_data"
    }
   ],
   "source": [
    "#Se visualizan los scores del algoritmos para hacer la toma del mejor valor de k\n",
    "plt.plot(range(2,10),silhouette_score)\n",
    "plt.xlabel('k')\n",
    "plt.ylabel('silhouette score')\n",
    "plt.title('Silhouette Score')\n",
    "plt.show()"
   ]
  },
  {
   "cell_type": "code",
   "execution_count": 51,
   "id": "8b082f0c",
   "metadata": {},
   "outputs": [],
   "source": [
    "#Se escoge 3 por a media que agregamos las cluster se va perdiendo el score y se van estbailidando en valores alrededor de 0.4\n",
    "kmeans=KMeans(featuresCol='features_scale', k=3)\n",
    "pipe = Pipeline(stages=[loan_Status_Idx, assembler, escalador, kmeans])\n",
    "model=pipe.fit(train_data)\n",
    "predictions=model.transform(test_data)"
   ]
  },
  {
   "cell_type": "code",
   "execution_count": 56,
   "id": "9d120aae",
   "metadata": {},
   "outputs": [
    {
     "name": "stdout",
     "output_type": "stream",
     "text": [
      "+----------+\n",
      "|prediction|\n",
      "+----------+\n",
      "|         2|\n",
      "|         2|\n",
      "|         2|\n",
      "|         1|\n",
      "|         0|\n",
      "+----------+\n",
      "only showing top 5 rows\n",
      "\n"
     ]
    }
   ],
   "source": [
    "# Imprimimos algunos clusters\n",
    "predictions.select('prediction').show(5)"
   ]
  },
  {
   "cell_type": "code",
   "execution_count": null,
   "id": "3dd1aaa0",
   "metadata": {},
   "outputs": [],
   "source": [
    "spark.stop()"
   ]
  }
 ],
 "metadata": {
  "kernelspec": {
   "display_name": "py310",
   "language": "python",
   "name": "python3"
  },
  "language_info": {
   "codemirror_mode": {
    "name": "ipython",
    "version": 3
   },
   "file_extension": ".py",
   "mimetype": "text/x-python",
   "name": "python",
   "nbconvert_exporter": "python",
   "pygments_lexer": "ipython3",
   "version": "3.10.16"
  }
 },
 "nbformat": 4,
 "nbformat_minor": 5
}
