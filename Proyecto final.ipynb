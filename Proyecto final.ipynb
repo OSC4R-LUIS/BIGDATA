{
 "cells": [
  {
   "cell_type": "markdown",
   "id": "d17c3e07",
   "metadata": {},
   "source": [
    "# **Proyecto Final - Lending Club**\n",
    "\n",
    "## **Curso:** Análisis de grandes volúmenes de datos\n",
    "\n",
    "## **Tecnológico de Monterrey**\n",
    "\n",
    "## Predicción de riesgo crediticio y segmentación de clientes\n",
    "\n",
    "## **Equipo :** 13\n",
    " **Integrantes :** \n",
    "- Kevin Balderas Sánchez – A01795149\n",
    "- Alan Jasso Arenas – A01383272\n",
    "- José Florencio Maguey Peralta – A01796727\n",
    "- Oscar Luis Guadarrama Jiménez – A01796245\n",
    "\n",
    "---"
   ]
  },
  {
   "cell_type": "markdown",
   "id": "8d7165d7",
   "metadata": {},
   "source": [
    "\n",
    "## **Introducción**\n",
    "\n",
    "Lending Club es una plataforma de préstamos entre particulares (peer-to-peer) en la que miles de personas solicitan financiamiento para diversos fines. Sin embargo, no todos los solicitantes cumplen con sus obligaciones de pago, lo que representa un riesgo financiero importante para los inversionistas.\n",
    "\n",
    "Este proyecto tiene como objetivo analizar un conjunto de datos reales de Lending Club y aplicar técnicas de aprendizaje automático para:\n",
    "\n",
    "- **Predecir** si un préstamo será pagado o no (clasificación supervisada).\n",
    "- **Agrupar** a los clientes según patrones comunes (clustering no supervisado).\n",
    "\n",
    "Para lograr esto, se seguirá un flujo estructurado que incluye exploración de datos, limpieza, creación de una muestra representativa, división de conjuntos de entrenamiento y prueba, entrenamiento de modelos, evaluación de resultados y conclusiones.\n",
    "\n",
    "El enfoque utilizado busca ser reproducible, escalable y fácilmente adaptable a otras plataformas de análisis de crédito.\n",
    "\n",
    "---"
   ]
  },
  {
   "cell_type": "markdown",
   "id": "48fd33a5",
   "metadata": {},
   "source": [
    "\n",
    "# **1. Inicialización del entorno**\n",
    "\n",
    "En esta sección se configura el entorno de desarrollo necesario para procesar grandes volúmenes de datos utilizando PySpark.\n",
    "\n",
    "Además, se importarán todas las librerías necesarias, agrupadas por funcionalidad: transformación de datos, modelado, evaluación y visualización.\n"
   ]
  },
  {
   "cell_type": "markdown",
   "id": "b0fcdb0a",
   "metadata": {},
   "source": [
    "## 1.1 Importación de librerías\n",
    "\n",
    "A continuación se realiza la importación de todas las librerías necesarias para el desarrollo del proyecto.\n",
    "\n",
    "Estas se encuentran organizadas por funcionalidad:\n",
    "\n",
    "- **Sesión Spark:** creación y configuración del entorno distribuido.\n",
    "- **Transformaciones:** funciones para manipulación y limpieza de datos.\n",
    "- **Preprocesamiento:** herramientas para preparar los datos antes de entrenar modelos.\n",
    "- **Modelado supervisado:** Random Forest.\n",
    "- **Modelado no supervisado:** K-means \n",
    "- **Evaluación de modelos:** métricas para clasificación binaria y multiclase.\n",
    "- **Visualización y análisis:** gráficas y análisis complementarios.\n",
    "- **Herramientas adicionales:** utilidades de `scikit-learn` para validación y métricas.\n"
   ]
  },
  {
   "cell_type": "code",
   "execution_count": 60,
   "id": "5b2af7d8",
   "metadata": {},
   "outputs": [],
   "source": [
    "# -------------------------\n",
    "# SESIÓN SPARK Y CONFIGURACIÓN\n",
    "# -------------------------\n",
    "from pyspark.sql import SparkSession\n",
    "\n",
    "# -------------------------\n",
    "# TRANSFORMACIONES EN SPARK\n",
    "# -------------------------\n",
    "from pyspark.sql import functions as F\n",
    "from pyspark.sql.functions import (\n",
    "    col, when, isnan, count, round, regexp_replace, expr, lit,\n",
    "    percentile_approx, first, sum, skewness, log1p,concat_ws\n",
    ")\n",
    "from functools import reduce\n",
    "from pyspark.sql.types import IntegerType\n",
    "from pyspark.sql import DataFrame\n",
    "\n",
    "# -------------------------\n",
    "# PREPROCESAMIENTO\n",
    "# -------------------------\n",
    "from pyspark.ml.feature import StringIndexer, VectorAssembler, OneHotEncoder\n",
    "from pyspark.ml import Pipeline\n",
    "\n",
    "# -------------------------\n",
    "# MODELOS SUPERVISADOS\n",
    "# -------------------------\n",
    "from pyspark.ml.classification import RandomForestClassifier\n",
    "\n",
    "# -------------------------\n",
    "# MODELOS NO SUPERVISADOS\n",
    "# -------------------------\n",
    "from pyspark.ml.clustering import KMeans\n",
    "\n",
    "# -------------------------\n",
    "# EVALUACIÓN DE MODELOS\n",
    "# -------------------------\n",
    "from pyspark.ml.evaluation import (\n",
    "    MulticlassClassificationEvaluator,\n",
    "    BinaryClassificationEvaluator,\n",
    "    ClusteringEvaluator\n",
    ")\n",
    "\n",
    "# -------------------------\n",
    "# ANÁLISIS Y VISUALIZACIÓN\n",
    "# -------------------------\n",
    "import pandas as pd\n",
    "import numpy as np \n",
    "import matplotlib.pyplot as plt\n",
    "import seaborn as sns\n",
    "\n",
    "# -------------------------\n",
    "# LIBRERÍAS ADICIONALES DE SKLEARN\n",
    "# -------------------------\n",
    "from sklearn.metrics import roc_curve, auc\n",
    "from sklearn.model_selection import StratifiedKFold\n",
    "\n"
   ]
  },
  {
   "cell_type": "markdown",
   "id": "ba943256",
   "metadata": {},
   "source": [
    "## 1.2 Creación de la sesión Spark\n",
    "\n",
    "Apache Spark requiere una sesión activa para poder ejecutar operaciones de análisis y procesamiento distribuido.\n",
    "\n",
    "En esta sub-sección se inicializa la sesión de Spark con configuraciones personalizadas para uso local. Estas configuraciones están optimizadas para aprovechar todos los núcleos de procesamiento disponibles y asignar suficiente memoria, lo cual es especialmente útil cuando se trabaja con grandes volúmenes de datos como los de Lending Club.\n",
    "\n",
    "Las configuraciones incluyen:\n",
    "\n",
    "- Nombre de la aplicación.\n",
    "- Modo de ejecución local (`local[*]`).\n",
    "- Asignación de memoria al driver y a los ejecutores.\n",
    "- Parámetros de paralelismo y particionamiento por defecto.\n",
    "\n"
   ]
  },
  {
   "cell_type": "code",
   "execution_count": 2,
   "id": "4ab14598",
   "metadata": {},
   "outputs": [
    {
     "data": {
      "text/html": [
       "\n",
       "            <div>\n",
       "                <p><b>SparkSession - in-memory</b></p>\n",
       "                \n",
       "        <div>\n",
       "            <p><b>SparkContext</b></p>\n",
       "\n",
       "            <p><a href=\"http://OscarGuadarrama:4040\">Spark UI</a></p>\n",
       "\n",
       "            <dl>\n",
       "              <dt>Version</dt>\n",
       "                <dd><code>v3.5.4</code></dd>\n",
       "              <dt>Master</dt>\n",
       "                <dd><code>local[*]</code></dd>\n",
       "              <dt>AppName</dt>\n",
       "                <dd><code>Proyecto Final</code></dd>\n",
       "            </dl>\n",
       "        </div>\n",
       "        \n",
       "            </div>\n",
       "        "
      ],
      "text/plain": [
       "<pyspark.sql.session.SparkSession at 0x1e8410ab1d0>"
      ]
     },
     "execution_count": 2,
     "metadata": {},
     "output_type": "execute_result"
    }
   ],
   "source": [
    "spark = SparkSession.builder \\\n",
    "    .appName(\"Proyecto Final\") \\\n",
    "    .master(\"local[*]\") \\\n",
    "    .config(\"spark.driver.memory\", \"48g\") \\\n",
    "    .config(\"spark.executor.memory\", \"48g\") \\\n",
    "    .config(\"spark.sql.shuffle.partitions\", \"32\") \\\n",
    "    .config(\"spark.default.parallelism\", \"32\") \\\n",
    "    .getOrCreate()\n",
    "spark"
   ]
  },
  {
   "cell_type": "markdown",
   "id": "024d85f6",
   "metadata": {},
   "source": [
    "# **2. Carga y exploración inicial de los datos**\n",
    "\n",
    "En esta sección se realiza la importación del conjunto de datos original de Lending Club y una primera exploración para entender su estructura.\n",
    "\n",
    "Este dataset contiene registros históricos de préstamos otorgados a través de la plataforma Lending Club, incluyendo múltiples variables relacionadas con los solicitantes (como nivel de ingresos, tipo de vivienda o antigüedad laboral) y con los préstamos (como monto solicitado, tasa de interés, estado del préstamo, entre otros).\n",
    "\n",
    "El objetivo principal de esta sección es:\n",
    "\n",
    "- Cargar el archivo `loan.csv` con datos reales.\n",
    "- Visualizar las primeras filas del dataset.\n",
    "- Analizar la estructura general del conjunto de datos: tipos de variables, número de registros, presencia de valores nulos, etc.\n",
    "- Obtener estadísticas descriptivas que permitan tener un panorama inicial del comportamiento de los datos.\n"
   ]
  },
  {
   "cell_type": "markdown",
   "id": "adfe36c9",
   "metadata": {},
   "source": [
    "## 2.1 Carga del dataset\n",
    "\n",
    "Para este proyecto se utilizará un archivo en formato `.csv` con datos históricos de préstamos proporcionados por la plataforma Lending Club.\n",
    "\n",
    "Este archivo contiene una gran variedad de variables que describen las características financieras y demográficas de los solicitantes, así como información sobre los préstamos otorgados y su estado final.\n",
    "\n",
    "En esta sub-sección se realiza la carga del archivo `loan.csv` utilizando PySpark. Para ello se emplean dos configuraciones clave:\n",
    "\n",
    "- `header=True`: para que Spark reconozca la primera fila como encabezado con nombres de columna.\n",
    "- `inferSchema=True`: para que Spark detecte automáticamente el tipo de dato de cada columna.\n",
    "\n",
    "Una vez cargado el archivo, se visualizarán las primeras filas del conjunto de datos y el esquema inferido.\n",
    "\n"
   ]
  },
  {
   "cell_type": "code",
   "execution_count": 3,
   "id": "319bf415",
   "metadata": {},
   "outputs": [
    {
     "name": "stdout",
     "output_type": "stream",
     "text": [
      "+----+---------+---------+-----------+---------------+----------+--------+-----------+-----+---------+--------------+----------+--------------+----------+-------------------+--------+-----------+----------+----+----+------------------+------------------+--------+----------+-----+-----------+----------------+--------------+----------------------+----------------------+--------+-------+---------+----------+---------+-------------------+---------+-------------+-----------+---------------+---------------+-------------+------------------+----------+-----------------------+------------+---------------+------------+------------------+--------------------------+---------------------------+-----------+----------------+----------------+---------+-------------------------+--------------+------------+-----------+-----------+-----------+-----------+-----------+------------------+------------+-------+-----------+-----------+----------+--------+----------------+------+-----------+------------+--------------------+-----------+--------------+-------+------------------------+-----------+------------------+--------------------+---------------------+--------------+--------+--------------------+------------------------+---------------------+------------------------------+---------------------+--------------+---------------+-----------+---------+---------+-------------+-------------+-------------------+--------+----------------+------------+------------------+------------------+--------------+----------------+--------------------+---------+---------------+-----------------+--------------+--------------------------+---------------+------------------------+----------------------+----------------+----------------+------------------+-------------------+---------------------+--------------------------------+----------------------------------+-----------------------------------+-------------+-------------+---------------+---------------+-------------+---------------+-------------------+-----------------+-----------------------+---------------+------------+--------------------+------------------------------------------+------------------------------+----------------------------+-------------------+--------------------+-------------------------+-----------------+---------------+-----------------+---------------------+---------------+\n",
      "|  id|member_id|loan_amnt|funded_amnt|funded_amnt_inv|      term|int_rate|installment|grade|sub_grade|     emp_title|emp_length|home_ownership|annual_inc|verification_status| issue_d|loan_status|pymnt_plan| url|desc|           purpose|             title|zip_code|addr_state|  dti|delinq_2yrs|earliest_cr_line|inq_last_6mths|mths_since_last_delinq|mths_since_last_record|open_acc|pub_rec|revol_bal|revol_util|total_acc|initial_list_status|out_prncp|out_prncp_inv|total_pymnt|total_pymnt_inv|total_rec_prncp|total_rec_int|total_rec_late_fee|recoveries|collection_recovery_fee|last_pymnt_d|last_pymnt_amnt|next_pymnt_d|last_credit_pull_d|collections_12_mths_ex_med|mths_since_last_major_derog|policy_code|application_type|annual_inc_joint|dti_joint|verification_status_joint|acc_now_delinq|tot_coll_amt|tot_cur_bal|open_acc_6m|open_act_il|open_il_12m|open_il_24m|mths_since_rcnt_il|total_bal_il|il_util|open_rv_12m|open_rv_24m|max_bal_bc|all_util|total_rev_hi_lim|inq_fi|total_cu_tl|inq_last_12m|acc_open_past_24mths|avg_cur_bal|bc_open_to_buy|bc_util|chargeoff_within_12_mths|delinq_amnt|mo_sin_old_il_acct|mo_sin_old_rev_tl_op|mo_sin_rcnt_rev_tl_op|mo_sin_rcnt_tl|mort_acc|mths_since_recent_bc|mths_since_recent_bc_dlq|mths_since_recent_inq|mths_since_recent_revol_delinq|num_accts_ever_120_pd|num_actv_bc_tl|num_actv_rev_tl|num_bc_sats|num_bc_tl|num_il_tl|num_op_rev_tl|num_rev_accts|num_rev_tl_bal_gt_0|num_sats|num_tl_120dpd_2m|num_tl_30dpd|num_tl_90g_dpd_24m|num_tl_op_past_12m|pct_tl_nvr_dlq|percent_bc_gt_75|pub_rec_bankruptcies|tax_liens|tot_hi_cred_lim|total_bal_ex_mort|total_bc_limit|total_il_high_credit_limit|revol_bal_joint|sec_app_earliest_cr_line|sec_app_inq_last_6mths|sec_app_mort_acc|sec_app_open_acc|sec_app_revol_util|sec_app_open_act_il|sec_app_num_rev_accts|sec_app_chargeoff_within_12_mths|sec_app_collections_12_mths_ex_med|sec_app_mths_since_last_major_derog|hardship_flag|hardship_type|hardship_reason|hardship_status|deferral_term|hardship_amount|hardship_start_date|hardship_end_date|payment_plan_start_date|hardship_length|hardship_dpd|hardship_loan_status|orig_projected_additional_accrued_interest|hardship_payoff_balance_amount|hardship_last_payment_amount|disbursement_method|debt_settlement_flag|debt_settlement_flag_date|settlement_status|settlement_date|settlement_amount|settlement_percentage|settlement_term|\n",
      "+----+---------+---------+-----------+---------------+----------+--------+-----------+-----+---------+--------------+----------+--------------+----------+-------------------+--------+-----------+----------+----+----+------------------+------------------+--------+----------+-----+-----------+----------------+--------------+----------------------+----------------------+--------+-------+---------+----------+---------+-------------------+---------+-------------+-----------+---------------+---------------+-------------+------------------+----------+-----------------------+------------+---------------+------------+------------------+--------------------------+---------------------------+-----------+----------------+----------------+---------+-------------------------+--------------+------------+-----------+-----------+-----------+-----------+-----------+------------------+------------+-------+-----------+-----------+----------+--------+----------------+------+-----------+------------+--------------------+-----------+--------------+-------+------------------------+-----------+------------------+--------------------+---------------------+--------------+--------+--------------------+------------------------+---------------------+------------------------------+---------------------+--------------+---------------+-----------+---------+---------+-------------+-------------+-------------------+--------+----------------+------------+------------------+------------------+--------------+----------------+--------------------+---------+---------------+-----------------+--------------+--------------------------+---------------+------------------------+----------------------+----------------+----------------+------------------+-------------------+---------------------+--------------------------------+----------------------------------+-----------------------------------+-------------+-------------+---------------+---------------+-------------+---------------+-------------------+-----------------+-----------------------+---------------+------------+--------------------+------------------------------------------+------------------------------+----------------------------+-------------------+--------------------+-------------------------+-----------------+---------------+-----------------+---------------------+---------------+\n",
      "|NULL|     NULL|     2500|       2500|         2500.0| 36 months|   13.56|      84.92|    C|       C1|          Chef| 10+ years|          RENT|     55000|       Not Verified|Dec-2018|    Current|         n|NULL|NULL|debt_consolidation|Debt consolidation|   109xx|        NY|18.24|          0|        Apr-2001|             1|                  NULL|                    45|       9|      1|     4341|      10.3|       34|                  w|  2386.02|      2386.02|     167.02|         167.02|         113.98|        53.04|               0.0|       0.0|                    0.0|    Feb-2019|          84.92|    Mar-2019|          Feb-2019|                         0|                       NULL|          1|      Individual|            NULL|     NULL|                     NULL|             0|           0|      16901|          2|          2|          1|          2|                 2|       12560|     69|          2|          7|      2137|      28|           42000|     1|         11|           2|                   9|       1878|         34360|    5.9|                     0.0|          0|             140.0|                 212|                    1|             1|       0|                   1|                    NULL|                    2|                          NULL|                    0|             2|              5|          3|        3|       16|            7|           18|                  5|       9|               0|           0|                 0|                 3|         100.0|             0.0|                   1|        0|          60124|            16901|         36500|                     18124|           NULL|                    NULL|                  NULL|            NULL|            NULL|              NULL|               NULL|                 NULL|                            NULL|                              NULL|                               NULL|            N|         NULL|           NULL|           NULL|         NULL|           NULL|               NULL|             NULL|                   NULL|           NULL|        NULL|                NULL|                                      NULL|                          NULL|                        NULL|               Cash|                   N|                     NULL|             NULL|           NULL|             NULL|                 NULL|           NULL|\n",
      "|NULL|     NULL|    30000|      30000|        30000.0| 60 months|   18.94|     777.23|    D|       D2|   Postmaster | 10+ years|      MORTGAGE|     90000|    Source Verified|Dec-2018|    Current|         n|NULL|NULL|debt_consolidation|Debt consolidation|   713xx|        LA|26.52|          0|        Jun-1987|             0|                    71|                    75|      13|      1|    12315|      24.2|       44|                  w| 29387.75|     29387.75|    1507.11|        1507.11|         612.25|       894.86|               0.0|       0.0|                    0.0|    Feb-2019|         777.23|    Mar-2019|          Feb-2019|                         0|                       NULL|          1|      Individual|            NULL|     NULL|                     NULL|             0|        1208|     321915|          4|          4|          2|          3|                 3|       87153|     88|          4|          5|       998|      57|           50800|     2|         15|           2|                  10|      24763|         13761|    8.3|                     0.0|          0|             163.0|                 378|                    4|             3|       3|                   4|                    NULL|                    4|                          NULL|                    0|             2|              4|          4|        9|       27|            8|           14|                  4|      13|               0|           0|                 0|                 6|          95.0|             0.0|                   1|        0|         372872|            99468|         15000|                     94072|           NULL|                    NULL|                  NULL|            NULL|            NULL|              NULL|               NULL|                 NULL|                            NULL|                              NULL|                               NULL|            N|         NULL|           NULL|           NULL|         NULL|           NULL|               NULL|             NULL|                   NULL|           NULL|        NULL|                NULL|                                      NULL|                          NULL|                        NULL|               Cash|                   N|                     NULL|             NULL|           NULL|             NULL|                 NULL|           NULL|\n",
      "|NULL|     NULL|     5000|       5000|         5000.0| 36 months|   17.97|     180.69|    D|       D1|Administrative|   6 years|      MORTGAGE|     59280|    Source Verified|Dec-2018|    Current|         n|NULL|NULL|debt_consolidation|Debt consolidation|   490xx|        MI|10.51|          0|        Apr-2011|             0|                  NULL|                  NULL|       8|      0|     4599|      19.1|       13|                  w|  4787.21|      4787.21|     353.89|         353.89|         212.79|       141.10|               0.0|       0.0|                    0.0|    Feb-2019|         180.69|    Mar-2019|          Feb-2019|                         0|                       NULL|          1|      Individual|            NULL|     NULL|                     NULL|             0|           0|     110299|          0|          1|          0|          2|                14|        7150|     72|          0|          2|         0|      35|           24100|     1|          5|           0|                   4|      18383|         13800|      0|                     0.0|          0|              87.0|                  92|                   15|            14|       2|                  77|                    NULL|                   14|                          NULL|                    0|             0|              3|          3|        3|        4|            6|            7|                  3|       8|               0|           0|                 0|                 0|         100.0|             0.0|                   0|        0|         136927|            11749|         13800|                     10000|           NULL|                    NULL|                  NULL|            NULL|            NULL|              NULL|               NULL|                 NULL|                            NULL|                              NULL|                               NULL|            N|         NULL|           NULL|           NULL|         NULL|           NULL|               NULL|             NULL|                   NULL|           NULL|        NULL|                NULL|                                      NULL|                          NULL|                        NULL|               Cash|                   N|                     NULL|             NULL|           NULL|             NULL|                 NULL|           NULL|\n",
      "|NULL|     NULL|     4000|       4000|         4000.0| 36 months|   18.94|     146.51|    D|       D2| IT Supervisor| 10+ years|      MORTGAGE|     92000|    Source Verified|Dec-2018|    Current|         n|NULL|NULL|debt_consolidation|Debt consolidation|   985xx|        WA|16.74|          0|        Feb-2006|             0|                  NULL|                  NULL|      10|      0|     5468|      78.1|       13|                  w|  3831.93|      3831.93|     286.71|         286.71|         168.07|       118.64|               0.0|       0.0|                    0.0|    Feb-2019|         146.51|    Mar-2019|          Feb-2019|                         0|                       NULL|          1|      Individual|            NULL|     NULL|                     NULL|             0|         686|     305049|          1|          5|          3|          5|                 5|       30683|     68|          0|          0|      3761|      70|            7000|     2|          4|           3|                   5|      30505|          1239|   75.2|                     0.0|          0|              62.0|                 154|                   64|             5|       3|                  64|                    NULL|                    5|                          NULL|                    0|             1|              2|          1|        2|        7|            2|            3|                  2|      10|               0|           0|                 0|                 3|         100.0|           100.0|                   0|        0|         385183|            36151|          5000|                     44984|           NULL|                    NULL|                  NULL|            NULL|            NULL|              NULL|               NULL|                 NULL|                            NULL|                              NULL|                               NULL|            N|         NULL|           NULL|           NULL|         NULL|           NULL|               NULL|             NULL|                   NULL|           NULL|        NULL|                NULL|                                      NULL|                          NULL|                        NULL|               Cash|                   N|                     NULL|             NULL|           NULL|             NULL|                 NULL|           NULL|\n",
      "|NULL|     NULL|    30000|      30000|        30000.0| 60 months|   16.14|     731.78|    C|       C4|      Mechanic| 10+ years|      MORTGAGE|     57250|       Not Verified|Dec-2018|    Current|         n|NULL|NULL|debt_consolidation|Debt consolidation|   212xx|        MD|26.35|          0|        Dec-2000|             0|                  NULL|                  NULL|      12|      0|      829|       3.6|       26|                  w| 29339.02|     29339.02|    1423.21|        1423.21|         660.98|       762.23|               0.0|       0.0|                    0.0|    Feb-2019|         731.78|    Mar-2019|          Feb-2019|                         0|                       NULL|          1|      Individual|            NULL|     NULL|                     NULL|             0|           0|     116007|          3|          5|          3|          5|                 4|       28845|     89|          2|          4|       516|      54|           23100|     1|          0|           0|                   9|       9667|          8471|    8.9|                     0.0|          0|              53.0|                 216|                    2|             2|       2|                   2|                    NULL|                   13|                          NULL|                    0|             2|              2|          3|        8|        9|            6|           15|                  2|      12|               0|           0|                 0|                 5|          92.3|             0.0|                   0|        0|         157548|            29674|          9300|                     32332|           NULL|                    NULL|                  NULL|            NULL|            NULL|              NULL|               NULL|                 NULL|                            NULL|                              NULL|                               NULL|            N|         NULL|           NULL|           NULL|         NULL|           NULL|               NULL|             NULL|                   NULL|           NULL|        NULL|                NULL|                                      NULL|                          NULL|                        NULL|               Cash|                   N|                     NULL|             NULL|           NULL|             NULL|                 NULL|           NULL|\n",
      "+----+---------+---------+-----------+---------------+----------+--------+-----------+-----+---------+--------------+----------+--------------+----------+-------------------+--------+-----------+----------+----+----+------------------+------------------+--------+----------+-----+-----------+----------------+--------------+----------------------+----------------------+--------+-------+---------+----------+---------+-------------------+---------+-------------+-----------+---------------+---------------+-------------+------------------+----------+-----------------------+------------+---------------+------------+------------------+--------------------------+---------------------------+-----------+----------------+----------------+---------+-------------------------+--------------+------------+-----------+-----------+-----------+-----------+-----------+------------------+------------+-------+-----------+-----------+----------+--------+----------------+------+-----------+------------+--------------------+-----------+--------------+-------+------------------------+-----------+------------------+--------------------+---------------------+--------------+--------+--------------------+------------------------+---------------------+------------------------------+---------------------+--------------+---------------+-----------+---------+---------+-------------+-------------+-------------------+--------+----------------+------------+------------------+------------------+--------------+----------------+--------------------+---------+---------------+-----------------+--------------+--------------------------+---------------+------------------------+----------------------+----------------+----------------+------------------+-------------------+---------------------+--------------------------------+----------------------------------+-----------------------------------+-------------+-------------+---------------+---------------+-------------+---------------+-------------------+-----------------+-----------------------+---------------+------------+--------------------+------------------------------------------+------------------------------+----------------------------+-------------------+--------------------+-------------------------+-----------------+---------------+-----------------+---------------------+---------------+\n",
      "only showing top 5 rows\n",
      "\n"
     ]
    }
   ],
   "source": [
    "# Cargar el dataset\n",
    "df = spark.read.option(\"header\", True).option(\"inferSchema\", True).csv(\"./loan.csv\")\n",
    "\n",
    "# Mostrar las primeras filas\n",
    "df.show(5)"
   ]
  },
  {
   "cell_type": "markdown",
   "id": "f154bc1b",
   "metadata": {},
   "source": [
    "## 2.2 Vista preliminar del dataset\n",
    "\n",
    "Después de cargar los datos, es fundamental realizar una exploración inicial para conocer la estructura general del dataset.\n",
    "\n",
    "En esta sub-sección se revisarán los siguientes aspectos:\n",
    "\n",
    "- Número total de registros (filas) y columnas.\n",
    "- Esquema del DataFrame, incluyendo nombre y tipo de dato de cada variable.\n",
    "- Presencia de valores nulos por columna.\n",
    "- Estadísticas descriptivas de las variables numéricas (media, desviación estándar, mínimo, máximo, etc.).\n",
    "\n",
    "Esta información servirá como base para las decisiones que se tomen en las etapas de limpieza, selección de variables y modelado posterior.\n"
   ]
  },
  {
   "cell_type": "code",
   "execution_count": 4,
   "id": "3a6225ed",
   "metadata": {},
   "outputs": [
    {
     "name": "stdout",
     "output_type": "stream",
     "text": [
      "Registros: 2260668 | Columnas: 145\n"
     ]
    }
   ],
   "source": [
    "#Número total de registros (filas) y columnas.\n",
    "filas = df.count()\n",
    "columnas = len(df.columns)\n",
    "print(f\"Registros: {filas} | Columnas: {columnas}\")\n"
   ]
  },
  {
   "cell_type": "code",
   "execution_count": 5,
   "id": "55e4f124",
   "metadata": {},
   "outputs": [
    {
     "name": "stdout",
     "output_type": "stream",
     "text": [
      "root\n",
      " |-- id: string (nullable = true)\n",
      " |-- member_id: string (nullable = true)\n",
      " |-- loan_amnt: integer (nullable = true)\n",
      " |-- funded_amnt: integer (nullable = true)\n",
      " |-- funded_amnt_inv: double (nullable = true)\n",
      " |-- term: string (nullable = true)\n",
      " |-- int_rate: double (nullable = true)\n",
      " |-- installment: double (nullable = true)\n",
      " |-- grade: string (nullable = true)\n",
      " |-- sub_grade: string (nullable = true)\n",
      " |-- emp_title: string (nullable = true)\n",
      " |-- emp_length: string (nullable = true)\n",
      " |-- home_ownership: string (nullable = true)\n",
      " |-- annual_inc: string (nullable = true)\n",
      " |-- verification_status: string (nullable = true)\n",
      " |-- issue_d: string (nullable = true)\n",
      " |-- loan_status: string (nullable = true)\n",
      " |-- pymnt_plan: string (nullable = true)\n",
      " |-- url: string (nullable = true)\n",
      " |-- desc: string (nullable = true)\n",
      " |-- purpose: string (nullable = true)\n",
      " |-- title: string (nullable = true)\n",
      " |-- zip_code: string (nullable = true)\n",
      " |-- addr_state: string (nullable = true)\n",
      " |-- dti: string (nullable = true)\n",
      " |-- delinq_2yrs: string (nullable = true)\n",
      " |-- earliest_cr_line: string (nullable = true)\n",
      " |-- inq_last_6mths: string (nullable = true)\n",
      " |-- mths_since_last_delinq: string (nullable = true)\n",
      " |-- mths_since_last_record: string (nullable = true)\n",
      " |-- open_acc: string (nullable = true)\n",
      " |-- pub_rec: string (nullable = true)\n",
      " |-- revol_bal: string (nullable = true)\n",
      " |-- revol_util: string (nullable = true)\n",
      " |-- total_acc: string (nullable = true)\n",
      " |-- initial_list_status: string (nullable = true)\n",
      " |-- out_prncp: string (nullable = true)\n",
      " |-- out_prncp_inv: string (nullable = true)\n",
      " |-- total_pymnt: string (nullable = true)\n",
      " |-- total_pymnt_inv: string (nullable = true)\n",
      " |-- total_rec_prncp: string (nullable = true)\n",
      " |-- total_rec_int: string (nullable = true)\n",
      " |-- total_rec_late_fee: string (nullable = true)\n",
      " |-- recoveries: string (nullable = true)\n",
      " |-- collection_recovery_fee: string (nullable = true)\n",
      " |-- last_pymnt_d: string (nullable = true)\n",
      " |-- last_pymnt_amnt: string (nullable = true)\n",
      " |-- next_pymnt_d: string (nullable = true)\n",
      " |-- last_credit_pull_d: string (nullable = true)\n",
      " |-- collections_12_mths_ex_med: string (nullable = true)\n",
      " |-- mths_since_last_major_derog: string (nullable = true)\n",
      " |-- policy_code: string (nullable = true)\n",
      " |-- application_type: string (nullable = true)\n",
      " |-- annual_inc_joint: string (nullable = true)\n",
      " |-- dti_joint: string (nullable = true)\n",
      " |-- verification_status_joint: string (nullable = true)\n",
      " |-- acc_now_delinq: string (nullable = true)\n",
      " |-- tot_coll_amt: string (nullable = true)\n",
      " |-- tot_cur_bal: string (nullable = true)\n",
      " |-- open_acc_6m: string (nullable = true)\n",
      " |-- open_act_il: string (nullable = true)\n",
      " |-- open_il_12m: string (nullable = true)\n",
      " |-- open_il_24m: string (nullable = true)\n",
      " |-- mths_since_rcnt_il: string (nullable = true)\n",
      " |-- total_bal_il: string (nullable = true)\n",
      " |-- il_util: string (nullable = true)\n",
      " |-- open_rv_12m: string (nullable = true)\n",
      " |-- open_rv_24m: string (nullable = true)\n",
      " |-- max_bal_bc: string (nullable = true)\n",
      " |-- all_util: string (nullable = true)\n",
      " |-- total_rev_hi_lim: string (nullable = true)\n",
      " |-- inq_fi: string (nullable = true)\n",
      " |-- total_cu_tl: string (nullable = true)\n",
      " |-- inq_last_12m: string (nullable = true)\n",
      " |-- acc_open_past_24mths: integer (nullable = true)\n",
      " |-- avg_cur_bal: string (nullable = true)\n",
      " |-- bc_open_to_buy: integer (nullable = true)\n",
      " |-- bc_util: string (nullable = true)\n",
      " |-- chargeoff_within_12_mths: double (nullable = true)\n",
      " |-- delinq_amnt: integer (nullable = true)\n",
      " |-- mo_sin_old_il_acct: double (nullable = true)\n",
      " |-- mo_sin_old_rev_tl_op: integer (nullable = true)\n",
      " |-- mo_sin_rcnt_rev_tl_op: integer (nullable = true)\n",
      " |-- mo_sin_rcnt_tl: integer (nullable = true)\n",
      " |-- mort_acc: integer (nullable = true)\n",
      " |-- mths_since_recent_bc: integer (nullable = true)\n",
      " |-- mths_since_recent_bc_dlq: integer (nullable = true)\n",
      " |-- mths_since_recent_inq: integer (nullable = true)\n",
      " |-- mths_since_recent_revol_delinq: integer (nullable = true)\n",
      " |-- num_accts_ever_120_pd: integer (nullable = true)\n",
      " |-- num_actv_bc_tl: integer (nullable = true)\n",
      " |-- num_actv_rev_tl: integer (nullable = true)\n",
      " |-- num_bc_sats: integer (nullable = true)\n",
      " |-- num_bc_tl: integer (nullable = true)\n",
      " |-- num_il_tl: integer (nullable = true)\n",
      " |-- num_op_rev_tl: integer (nullable = true)\n",
      " |-- num_rev_accts: integer (nullable = true)\n",
      " |-- num_rev_tl_bal_gt_0: integer (nullable = true)\n",
      " |-- num_sats: integer (nullable = true)\n",
      " |-- num_tl_120dpd_2m: integer (nullable = true)\n",
      " |-- num_tl_30dpd: integer (nullable = true)\n",
      " |-- num_tl_90g_dpd_24m: integer (nullable = true)\n",
      " |-- num_tl_op_past_12m: integer (nullable = true)\n",
      " |-- pct_tl_nvr_dlq: double (nullable = true)\n",
      " |-- percent_bc_gt_75: double (nullable = true)\n",
      " |-- pub_rec_bankruptcies: integer (nullable = true)\n",
      " |-- tax_liens: integer (nullable = true)\n",
      " |-- tot_hi_cred_lim: integer (nullable = true)\n",
      " |-- total_bal_ex_mort: integer (nullable = true)\n",
      " |-- total_bc_limit: integer (nullable = true)\n",
      " |-- total_il_high_credit_limit: integer (nullable = true)\n",
      " |-- revol_bal_joint: integer (nullable = true)\n",
      " |-- sec_app_earliest_cr_line: string (nullable = true)\n",
      " |-- sec_app_inq_last_6mths: integer (nullable = true)\n",
      " |-- sec_app_mort_acc: integer (nullable = true)\n",
      " |-- sec_app_open_acc: integer (nullable = true)\n",
      " |-- sec_app_revol_util: double (nullable = true)\n",
      " |-- sec_app_open_act_il: integer (nullable = true)\n",
      " |-- sec_app_num_rev_accts: integer (nullable = true)\n",
      " |-- sec_app_chargeoff_within_12_mths: integer (nullable = true)\n",
      " |-- sec_app_collections_12_mths_ex_med: integer (nullable = true)\n",
      " |-- sec_app_mths_since_last_major_derog: integer (nullable = true)\n",
      " |-- hardship_flag: string (nullable = true)\n",
      " |-- hardship_type: string (nullable = true)\n",
      " |-- hardship_reason: string (nullable = true)\n",
      " |-- hardship_status: string (nullable = true)\n",
      " |-- deferral_term: string (nullable = true)\n",
      " |-- hardship_amount: string (nullable = true)\n",
      " |-- hardship_start_date: string (nullable = true)\n",
      " |-- hardship_end_date: string (nullable = true)\n",
      " |-- payment_plan_start_date: string (nullable = true)\n",
      " |-- hardship_length: string (nullable = true)\n",
      " |-- hardship_dpd: string (nullable = true)\n",
      " |-- hardship_loan_status: string (nullable = true)\n",
      " |-- orig_projected_additional_accrued_interest: string (nullable = true)\n",
      " |-- hardship_payoff_balance_amount: string (nullable = true)\n",
      " |-- hardship_last_payment_amount: string (nullable = true)\n",
      " |-- disbursement_method: string (nullable = true)\n",
      " |-- debt_settlement_flag: string (nullable = true)\n",
      " |-- debt_settlement_flag_date: string (nullable = true)\n",
      " |-- settlement_status: string (nullable = true)\n",
      " |-- settlement_date: string (nullable = true)\n",
      " |-- settlement_amount: string (nullable = true)\n",
      " |-- settlement_percentage: string (nullable = true)\n",
      " |-- settlement_term: string (nullable = true)\n",
      "\n"
     ]
    }
   ],
   "source": [
    "# Imprimir el esquema del dataframe: nombres de columnas y tipos de datos\n",
    "df.printSchema()"
   ]
  },
  {
   "cell_type": "code",
   "execution_count": 6,
   "id": "66f786fa",
   "metadata": {},
   "outputs": [
    {
     "name": "stdout",
     "output_type": "stream",
     "text": [
      "+-------+---------+---------+-----------+---------------+----+--------+-----------+-----+---------+---------+----------+--------------+----------+-------------------+-------+-----------+----------+-------+-------+-------+-----+--------+----------+----+-----------+----------------+--------------+----------------------+----------------------+--------+-------+---------+----------+---------+-------------------+---------+-------------+-----------+---------------+---------------+-------------+------------------+----------+-----------------------+------------+---------------+------------+------------------+--------------------------+---------------------------+-----------+----------------+----------------+---------+-------------------------+--------------+------------+-----------+-----------+-----------+-----------+-----------+------------------+------------+-------+-----------+-----------+----------+--------+----------------+------+-----------+------------+--------------------+-----------+--------------+-------+------------------------+-----------+------------------+--------------------+---------------------+--------------+--------+--------------------+------------------------+---------------------+------------------------------+---------------------+--------------+---------------+-----------+---------+---------+-------------+-------------+-------------------+--------+----------------+------------+------------------+------------------+--------------+----------------+--------------------+---------+---------------+-----------------+--------------+--------------------------+---------------+------------------------+----------------------+----------------+----------------+------------------+-------------------+---------------------+--------------------------------+----------------------------------+-----------------------------------+-------------+-------------+---------------+---------------+-------------+---------------+-------------------+-----------------+-----------------------+---------------+------------+--------------------+------------------------------------------+------------------------------+----------------------------+-------------------+--------------------+-------------------------+-----------------+---------------+-----------------+---------------------+---------------+\n",
      "|id     |member_id|loan_amnt|funded_amnt|funded_amnt_inv|term|int_rate|installment|grade|sub_grade|emp_title|emp_length|home_ownership|annual_inc|verification_status|issue_d|loan_status|pymnt_plan|url    |desc   |purpose|title|zip_code|addr_state|dti |delinq_2yrs|earliest_cr_line|inq_last_6mths|mths_since_last_delinq|mths_since_last_record|open_acc|pub_rec|revol_bal|revol_util|total_acc|initial_list_status|out_prncp|out_prncp_inv|total_pymnt|total_pymnt_inv|total_rec_prncp|total_rec_int|total_rec_late_fee|recoveries|collection_recovery_fee|last_pymnt_d|last_pymnt_amnt|next_pymnt_d|last_credit_pull_d|collections_12_mths_ex_med|mths_since_last_major_derog|policy_code|application_type|annual_inc_joint|dti_joint|verification_status_joint|acc_now_delinq|tot_coll_amt|tot_cur_bal|open_acc_6m|open_act_il|open_il_12m|open_il_24m|mths_since_rcnt_il|total_bal_il|il_util|open_rv_12m|open_rv_24m|max_bal_bc|all_util|total_rev_hi_lim|inq_fi|total_cu_tl|inq_last_12m|acc_open_past_24mths|avg_cur_bal|bc_open_to_buy|bc_util|chargeoff_within_12_mths|delinq_amnt|mo_sin_old_il_acct|mo_sin_old_rev_tl_op|mo_sin_rcnt_rev_tl_op|mo_sin_rcnt_tl|mort_acc|mths_since_recent_bc|mths_since_recent_bc_dlq|mths_since_recent_inq|mths_since_recent_revol_delinq|num_accts_ever_120_pd|num_actv_bc_tl|num_actv_rev_tl|num_bc_sats|num_bc_tl|num_il_tl|num_op_rev_tl|num_rev_accts|num_rev_tl_bal_gt_0|num_sats|num_tl_120dpd_2m|num_tl_30dpd|num_tl_90g_dpd_24m|num_tl_op_past_12m|pct_tl_nvr_dlq|percent_bc_gt_75|pub_rec_bankruptcies|tax_liens|tot_hi_cred_lim|total_bal_ex_mort|total_bc_limit|total_il_high_credit_limit|revol_bal_joint|sec_app_earliest_cr_line|sec_app_inq_last_6mths|sec_app_mort_acc|sec_app_open_acc|sec_app_revol_util|sec_app_open_act_il|sec_app_num_rev_accts|sec_app_chargeoff_within_12_mths|sec_app_collections_12_mths_ex_med|sec_app_mths_since_last_major_derog|hardship_flag|hardship_type|hardship_reason|hardship_status|deferral_term|hardship_amount|hardship_start_date|hardship_end_date|payment_plan_start_date|hardship_length|hardship_dpd|hardship_loan_status|orig_projected_additional_accrued_interest|hardship_payoff_balance_amount|hardship_last_payment_amount|disbursement_method|debt_settlement_flag|debt_settlement_flag_date|settlement_status|settlement_date|settlement_amount|settlement_percentage|settlement_term|\n",
      "+-------+---------+---------+-----------+---------------+----+--------+-----------+-----+---------+---------+----------+--------------+----------+-------------------+-------+-----------+----------+-------+-------+-------+-----+--------+----------+----+-----------+----------------+--------------+----------------------+----------------------+--------+-------+---------+----------+---------+-------------------+---------+-------------+-----------+---------------+---------------+-------------+------------------+----------+-----------------------+------------+---------------+------------+------------------+--------------------------+---------------------------+-----------+----------------+----------------+---------+-------------------------+--------------+------------+-----------+-----------+-----------+-----------+-----------+------------------+------------+-------+-----------+-----------+----------+--------+----------------+------+-----------+------------+--------------------+-----------+--------------+-------+------------------------+-----------+------------------+--------------------+---------------------+--------------+--------+--------------------+------------------------+---------------------+------------------------------+---------------------+--------------+---------------+-----------+---------+---------+-------------+-------------+-------------------+--------+----------------+------------+------------------+------------------+--------------+----------------+--------------------+---------+---------------+-----------------+--------------+--------------------------+---------------+------------------------+----------------------+----------------+----------------+------------------+-------------------+---------------------+--------------------------------+----------------------------------+-----------------------------------+-------------+-------------+---------------+---------------+-------------+---------------+-------------------+-----------------+-----------------------+---------------+------------+--------------------+------------------------------------------+------------------------------+----------------------------+-------------------+--------------------+-------------------------+-----------------+---------------+-----------------+---------------------+---------------+\n",
      "|2260668|2260668  |0        |0          |0              |0   |0       |0          |0    |0        |166931   |0         |0             |4         |0                  |0      |0          |0         |2260667|2134600|1      |23323|2       |1         |1712|30         |30              |31            |1158341               |1901321               |110     |92     |54       |1834      |50       |17                 |17       |21           |13         |11             |9              |3            |3                 |2         |6                      |2433        |3              |1303383     |126               |188                       |1679672                    |80         |61              |2139751         |2139795  |2144813                  |191           |70146       |70177      |866036     |866060     |866079     |866090     |909895            |866100      |1068826|866114     |866110     |866115    |866341  |70273           |866122|866120     |866128      |50027               |70343      |74933         |76070  |399                     |225        |138970            |70192               |70216                |70238         |50005   |73392               |1740941                 |295413               |1520290                       |70264                |70267         |70274          |58588      |70274    |70269    |70269        |70275        |70274              |58588   |153656          |70276       |70274             |70274             |70430         |75378           |1604                |305      |70179          |49948            |49970         |70238                     |2152621        |2152627                 |2152622               |2152624         |2152632         |2154471           |2152638            |2152644              |2152645                         |2152645                           |2224719                            |249          |2249996      |2250008        |2250013        |2250032      |2250039        |2250044            |2250042          |2250042                |2250044        |2250048     |2250048             |2252240                                   |2250054                       |2250054                     |255                |193                 |2227510                  |2227527          |2227550        |2227574          |2227588              |2227592        |\n",
      "+-------+---------+---------+-----------+---------------+----+--------+-----------+-----+---------+---------+----------+--------------+----------+-------------------+-------+-----------+----------+-------+-------+-------+-----+--------+----------+----+-----------+----------------+--------------+----------------------+----------------------+--------+-------+---------+----------+---------+-------------------+---------+-------------+-----------+---------------+---------------+-------------+------------------+----------+-----------------------+------------+---------------+------------+------------------+--------------------------+---------------------------+-----------+----------------+----------------+---------+-------------------------+--------------+------------+-----------+-----------+-----------+-----------+-----------+------------------+------------+-------+-----------+-----------+----------+--------+----------------+------+-----------+------------+--------------------+-----------+--------------+-------+------------------------+-----------+------------------+--------------------+---------------------+--------------+--------+--------------------+------------------------+---------------------+------------------------------+---------------------+--------------+---------------+-----------+---------+---------+-------------+-------------+-------------------+--------+----------------+------------+------------------+------------------+--------------+----------------+--------------------+---------+---------------+-----------------+--------------+--------------------------+---------------+------------------------+----------------------+----------------+----------------+------------------+-------------------+---------------------+--------------------------------+----------------------------------+-----------------------------------+-------------+-------------+---------------+---------------+-------------+---------------+-------------------+-----------------+-----------------------+---------------+------------+--------------------+------------------------------------------+------------------------------+----------------------------+-------------------+--------------------+-------------------------+-----------------+---------------+-----------------+---------------------+---------------+\n",
      "\n"
     ]
    }
   ],
   "source": [
    "# Valores nulos por columna\n",
    "df.select([\n",
    "    count(when(col(c).isNull() | isnan(c), c)).alias(c)\n",
    "    for c in df.columns\n",
    "]).show(truncate=False)\n"
   ]
  },
  {
   "cell_type": "code",
   "execution_count": 7,
   "id": "2ed09e48",
   "metadata": {},
   "outputs": [
    {
     "name": "stdout",
     "output_type": "stream",
     "text": [
      "+-------+----+---------+------------------+------------------+------------------+----------+------------------+-----------------+-------+---------+--------------------+----------+--------------+------------------+-------------------+---------------+-----------+-----------+----+--------------------+--------------------+--------------------+--------------------+--------------------+------------------+-------------------+------------------+------------------+----------------------+----------------------+------------------+--------------------+--------------------+--------------------+--------------------+--------------------+-----------------+--------------------+----------------+--------------------+--------------------+--------------------+--------------------+--------------------+-----------------------+------------------+-----------------+------------------+------------------+--------------------------+---------------------------+------------------+------------------+------------------+------------------+-------------------------+-------------------+------------------+------------------+------------------+------------------+------------------+-----------------+------------------+-----------------+------------------+------------------+------------------+-----------------+------------------+-----------------+------------------+------------------+------------------+--------------------+------------------+------------------+------------------+------------------------+------------------+------------------+--------------------+---------------------+-----------------+------------------+--------------------+------------------------+---------------------+------------------------------+---------------------+------------------+------------------+------------------+-----------------+-----------------+-----------------+------------------+-------------------+------------------+--------------------+--------------------+-------------------+------------------+-----------------+-----------------+--------------------+-------------------+-----------------+-----------------+------------------+--------------------------+------------------+------------------------+----------------------+------------------+------------------+------------------+-------------------+---------------------+--------------------------------+----------------------------------+-----------------------------------+-------------+-------------+---------------+---------------+--------------------+------------------+-------------------+-----------------+-----------------------+--------------------+-----------------+--------------------+------------------------------------------+------------------------------+----------------------------+-------------------+--------------------+-------------------------+-----------------+---------------+------------------+---------------------+-----------------+\n",
      "|summary|  id|member_id|         loan_amnt|       funded_amnt|   funded_amnt_inv|      term|          int_rate|      installment|  grade|sub_grade|           emp_title|emp_length|home_ownership|        annual_inc|verification_status|        issue_d|loan_status| pymnt_plan| url|                desc|             purpose|               title|            zip_code|          addr_state|               dti|        delinq_2yrs|  earliest_cr_line|    inq_last_6mths|mths_since_last_delinq|mths_since_last_record|          open_acc|             pub_rec|           revol_bal|          revol_util|           total_acc| initial_list_status|        out_prncp|       out_prncp_inv|     total_pymnt|     total_pymnt_inv|     total_rec_prncp|       total_rec_int|  total_rec_late_fee|          recoveries|collection_recovery_fee|      last_pymnt_d|  last_pymnt_amnt|      next_pymnt_d|last_credit_pull_d|collections_12_mths_ex_med|mths_since_last_major_derog|       policy_code|  application_type|  annual_inc_joint|         dti_joint|verification_status_joint|     acc_now_delinq|      tot_coll_amt|       tot_cur_bal|       open_acc_6m|       open_act_il|       open_il_12m|      open_il_24m|mths_since_rcnt_il|     total_bal_il|           il_util|       open_rv_12m|       open_rv_24m|       max_bal_bc|          all_util| total_rev_hi_lim|            inq_fi|       total_cu_tl|      inq_last_12m|acc_open_past_24mths|       avg_cur_bal|    bc_open_to_buy|           bc_util|chargeoff_within_12_mths|       delinq_amnt|mo_sin_old_il_acct|mo_sin_old_rev_tl_op|mo_sin_rcnt_rev_tl_op|   mo_sin_rcnt_tl|          mort_acc|mths_since_recent_bc|mths_since_recent_bc_dlq|mths_since_recent_inq|mths_since_recent_revol_delinq|num_accts_ever_120_pd|    num_actv_bc_tl|   num_actv_rev_tl|       num_bc_sats|        num_bc_tl|        num_il_tl|    num_op_rev_tl|     num_rev_accts|num_rev_tl_bal_gt_0|          num_sats|    num_tl_120dpd_2m|        num_tl_30dpd| num_tl_90g_dpd_24m|num_tl_op_past_12m|   pct_tl_nvr_dlq| percent_bc_gt_75|pub_rec_bankruptcies|          tax_liens|  tot_hi_cred_lim|total_bal_ex_mort|    total_bc_limit|total_il_high_credit_limit|   revol_bal_joint|sec_app_earliest_cr_line|sec_app_inq_last_6mths|  sec_app_mort_acc|  sec_app_open_acc|sec_app_revol_util|sec_app_open_act_il|sec_app_num_rev_accts|sec_app_chargeoff_within_12_mths|sec_app_collections_12_mths_ex_med|sec_app_mths_since_last_major_derog|hardship_flag|hardship_type|hardship_reason|hardship_status|       deferral_term|   hardship_amount|hardship_start_date|hardship_end_date|payment_plan_start_date|     hardship_length|     hardship_dpd|hardship_loan_status|orig_projected_additional_accrued_interest|hardship_payoff_balance_amount|hardship_last_payment_amount|disbursement_method|debt_settlement_flag|debt_settlement_flag_date|settlement_status|settlement_date| settlement_amount|settlement_percentage|  settlement_term|\n",
      "+-------+----+---------+------------------+------------------+------------------+----------+------------------+-----------------+-------+---------+--------------------+----------+--------------+------------------+-------------------+---------------+-----------+-----------+----+--------------------+--------------------+--------------------+--------------------+--------------------+------------------+-------------------+------------------+------------------+----------------------+----------------------+------------------+--------------------+--------------------+--------------------+--------------------+--------------------+-----------------+--------------------+----------------+--------------------+--------------------+--------------------+--------------------+--------------------+-----------------------+------------------+-----------------+------------------+------------------+--------------------------+---------------------------+------------------+------------------+------------------+------------------+-------------------------+-------------------+------------------+------------------+------------------+------------------+------------------+-----------------+------------------+-----------------+------------------+------------------+------------------+-----------------+------------------+-----------------+------------------+------------------+------------------+--------------------+------------------+------------------+------------------+------------------------+------------------+------------------+--------------------+---------------------+-----------------+------------------+--------------------+------------------------+---------------------+------------------------------+---------------------+------------------+------------------+------------------+-----------------+-----------------+-----------------+------------------+-------------------+------------------+--------------------+--------------------+-------------------+------------------+-----------------+-----------------+--------------------+-------------------+-----------------+-----------------+------------------+--------------------------+------------------+------------------------+----------------------+------------------+------------------+------------------+-------------------+---------------------+--------------------------------+----------------------------------+-----------------------------------+-------------+-------------+---------------+---------------+--------------------+------------------+-------------------+-----------------+-----------------------+--------------------+-----------------+--------------------+------------------------------------------+------------------------------+----------------------------+-------------------+--------------------+-------------------------+-----------------+---------------+------------------+---------------------+-----------------+\n",
      "|  count|   0|        0|           2260668|           2260668|           2260668|   2260668|           2260668|          2260668|2260668|  2260668|             2093737|   2260668|       2260668|           2260664|            2260668|        2260668|    2260668|    2260668|   1|              126068|             2260667|             2237345|             2260666|             2260667|           2258956|            2260638|           2260638|           2260637|               1102327|                359347|           2260558|             2260576|             2260614|             2258834|             2260618|             2260651|          2260651|             2260647|         2260655|             2260657|             2260659|             2260665|             2260665|             2260666|                2260662|           2258235|          2260665|            957285|           2260542|                   2260480|                     580996|           2260588|           2260607|            120917|            120873|                   115855|            2260477|           2190522|           2190491|           1394632|           1394608|           1394589|          1394578|           1350773|          1394568|           1191842|           1394554|           1394558|          1394553|           1394327|          2190395|           1394546|           1394548|           1394540|             2210641|           2190325|           2185735|           2184598|                 2260269|           2260443|           2121698|             2190476|              2190452|          2190430|           2210663|             2187276|                  519727|              1965255|                        740378|              2190404|           2190401|           2190394|           2202080|          2190394|          2190399|          2190399|           2190393|            2190394|           2202080|             2107012|             2190392|            2190394|           2190394|          2190238|          2185290|             2259064|            2260363|          2190489|          2210720|           2210698|                   2190430|            108047|                  108041|                108046|            108044|            108036|            106197|             108030|               108024|                          108023|                            108023|                              35949|      2260419|        10672|          10660|          10655|               10636|             10629|              10624|            10626|                  10626|               10624|            10620|               10620|                                      8428|                         10614|                       10614|            2260413|             2260475|                    33158|            33141|          33118|             33094|                33080|            33076|\n",
      "|   mean|NULL|     NULL|15046.931227849467|15041.664056818605|15023.437623660864|      NULL|13.092912944313932|445.8076459258883|   NULL|     NULL|  3735011.6303973515|      NULL|          NULL| 77992.44637764235|            38000.0|           NULL|       NULL|       NULL|NULL|                NULL|               384.0|            Infinity|                 0.0|                 0.0|18.824907147958058|0.30721594910725347|  24.6573786407767|0.5773310703801159|     34.53784034709047|     72.29664191942811|11.612557687067126|  0.1982580308382419|  16657.444216524822|   50.85820401710487|  24.455913212538373|  2483.7183886255925|4446.589947159374|   4445.614550345491|11823.0611647582|  11805.334519742702|   9299.725356411947|  2386.9348202515325|  2.0752884031539716|  136.55476821623776|      22.88147751396741|2011.9038054678808|3364.039437703032|2639.3988263768592|3249.1497264424925|       0.16807584440865114|         44.728663574536235|1.0779180289542534| 632.3108227848124|123503.37636130983|20.337302004092077|       2342.2960300802984|0.04346015334964984|232.74691808050432|142486.82272168348| 1.102227908387488| 2.785386797993103| 0.808868785548541|1.572946087964158|21.235348210346146|35506.02996542993| 69.14029962939625|1.2908704515858858|2.8634188587622154|5806.368767446564| 57.03205109852358|34573.91351871559|1.0246979834971026| 1.477373281340307|2.0495705032272316|   4.521646436486069|  13547.7745743436|11394.263617501665| 57.89992044299265|    0.012538507584716687|12.372074411962611|125.73167708128113|  181.48448602039008|   14.023761305885726|8.297402336527531|1.5553885870437965|  24.844592543419303|       39.30127162914376|   7.0241154455783095|            35.781313059004994|   0.5002049850164627|3.6760510974931075| 5.629459357540242| 4.774177595727676|7.726393059878725|  8.4134064159087| 8.24649481669778|14.004613327380063|  5.577955381543229|11.628111149458693|6.449892074653585E-4|0.002816390856065946|0.08294626446201003|2.0767505754672446|94.11444263135267|42.43507966448448| 0.12824780528572896|0.04682079825231611|178234.6850242115|51021.07118766737|23193.133682212585|         43731.26470236437| 33610.51244365878|                   730.0|    1.8111822742165373|1.5386786864610713|11.467862564330408| 58.16198009359963| 3.0103026936961954|    12.53272420943494|            0.046351240013700785|                0.0775668144746952|                  36.93073520821164|          0.0|          0.0|            0.0|            0.0|  2.9997173544375353| 155.0066955620466|                0.0|              0.0|                   NULL|  2.9997173544375353|13.68642231225855|                NULL|                         454.8408022786612|            11628.036442099312|          193.60633091491567|               NULL|                NULL|                     NULL|             NULL|           NULL| 5030.565748298291|    47.77598608379968|13.14899410074119|\n",
      "| stddev|NULL|     NULL| 9190.245488232782| 9188.413022381998| 9192.331806640314|      NULL|4.8321142328722555|267.1737249936659|   NULL|     NULL|4.5064171815530404E7|      NULL|          NULL|112696.22136091407|               NULL|           NULL|       NULL|       NULL|NULL|                NULL|   543.0580079512685|                 NaN|                NULL|                NULL| 14.18377319930502| 0.8703772261110876|197.67945675130858|1.0378818909305612|     21.90185079348022|    26.480184765014883|  5.64234050584142|  0.5974927038248522|  22948.082560134604|  185.30574161757477|  104.00261134157155|  7083.5582125788715| 7547.81791993621|   7547.177005886723|9889.99558689764|   9885.149969655935|   8305.141219808309|  2666.4921097521355|    99.8746350180756|   730.8537371681334|     142.40842114735773|4927.8673478845585|5971.895756133403| 5242.816629415718| 6090.664230667657|         46.27254136196616|         132.70406138227884|31.000808164843352|2750.7457550760196| 74225.39038754735| 108.4134609479509|        4687.202371243795| 19.279231444666017| 8518.281488950772|160692.05138266023|187.04627127466986|7.4156810188580975|146.66666560720407|6.901819154664253|28.079678180967054|44097.22671481327|23.755781068613516|1.5905775900961678|134.08517207086018|5690.563320900499|20.904949242821303|36728.50433350596|10.681885867494445|2.6745650887262915|15.426001219594205|  3.1642305510837905|16474.075874904047|16599.532976067407|28.583499412866004|       6.059445383740177| 726.4983914846252|  53.3880255990836|   97.12319138961954|    17.53328852923706|9.209138621458806| 1.905237916058724|   32.31918055661988|      22.618789637762436|    5.965424345612141|            22.307677254993184|    1.350322486346698|2.3246559499495687|3.3828790430237294|3.0379241719842556|4.701435308499394|7.359113842750387|4.683944410164721| 8.038877961508115|  3.293450716028586| 5.644036256749396|0.028221399908377492|0.056311210601925274|0.49373846593814685|1.8307108699092165|  9.0368031148743|36.21616984315226|   0.370643286507262|   0.38336058248981|181574.7420174811|49911.37555949448|23006.566899727866|         45072.97471125267|28158.344178914707|       3264.659247149693|    387.23281104621975|1.7605188797941456| 6.628188797761655| 25.55475246529178| 3.2758718437321375|    8.151117955174128|             0.41149225018655483|               0.40799198427825595|                  23.92780553869814|          0.0|          0.0|            0.0|            0.0|0.029119352454922597|129.11313738312103|                0.0|              0.0|                   NULL|0.029119352454922597|9.728138400005635|                NULL|                         375.8307373768406|             7615.161122555067|          198.69436789430642|               NULL|                NULL|                     NULL|             NULL|           NULL|3692.0761003587895|    7.336153033254621| 8.19212337192081|\n",
      "|    min|NULL|     NULL|               500|               500|               0.0| 36 months|              5.31|             4.93|      A|       A1|               \\tCFO| reactors\"|       2 years|                 0|              38000|       Apr-2008|Charged Off|Charged Off|   n|\\t Loan for purch...|      After gradu...|       \\tcredit_card| \"\"set it and for...| American women u...|       Karen     \"|           BEST BUY|           Mike  \"|               809|   Capital One ($27...|    I am currently ...|           Carlos\"| I plan on elimin...| I'm sure)!!  Ple...| #450216.<br/> 55...| and the work we ...| I am working on ...|    I mean.<br/>\"| and I pay her tu...|    and opinions| extremely rare t...| I need to hit th...| I have listed on...| and continue to ...| as well as a sig...|    and I’ve never m...|                 0|                0|                 0|                 0|                         0|                          0|                 0|                 0|                 0|                 0|                        0|                  0|                 0|                 0|                 0|                 0|                 0|                0|                 0|                0|                 0|                 0|                 0|                0|                 0|                0|                 0|                 0|                 0|                   0|                 0|                 0|                 0|                     0.0|                 0|               0.0|                   0|                    0|                0|                 0|                   0|                       0|                    0|                             0|                    0|                 0|                 0|                 0|                0|                0|                0|                 0|                  0|                 0|                   0|                   0|                  0|                 0|              0.0|              0.0|                   0|                  0|                0|                0|                 0|                         0|                 0|                       0|                     0|                 0|                 0|               0.0|                  0|                    0|                               0|                                 0|                                  0|            0|            0|              0|              0|                   0|              0.64|                  0|                0|               Apr-2017|                   0|                0|             Current|                                      1.92|                      10008.88|                        0.01|               Cash|                Cash|                 Apr-2013|           ACTIVE|       Apr-2013|              1000|                  0.2|                0|\n",
      "|    25%|NULL|     NULL|              8000|              8000|            8000.0|      NULL|              9.49|           251.62|   NULL|     NULL|                 5.0|      NULL|          NULL|           46000.0|            38000.0|           NULL|       NULL|       NULL|NULL|                NULL|                 0.0|              2010.0|                 0.0|                 0.0|              11.9|                0.0|               0.0|               0.0|                  16.0|                  55.0|               8.0|                 0.0|              5949.0|                31.5|                15.0|                 5.1|              0.0|                 0.0|         4270.95|             4256.24|             2845.54|              693.43|                 0.0|                 0.0|                    0.0|               0.0|           308.64|               0.0|               0.0|                       0.0|                       27.0|               1.0|               0.0|           83100.0|             13.51|                      0.0|                0.0|               0.0|           29085.0|               0.0|               1.0|               0.0|              0.0|               7.0|           8692.0|              55.0|               0.0|               1.0|           2284.0|              43.0|          14700.0|               0.0|               0.0|               0.0|                   2|            3080.0|              1721|              35.4|                     0.0|                 0|              96.0|                 116|                    4|                3|                 0|                   6|                      21|                    2|                            17|                    0|                 2|                 3|                 3|                4|                3|                5|                 8|                  3|                 8|                   0|                   0|                  0|                 1|             91.3|              0.0|                   0|                  0|            50718|            20888|              8300|                     15000|             15094|                     0.0|                     0|                 0|                 7|              39.8|                  1|                    7|                               0|                                 0|                                 16|          0.0|          0.0|            0.0|            0.0|                 3.0|             59.37|                0.0|              0.0|                   NULL|                 3.0|              5.0|                NULL|                                    174.84|                       5627.73|                       43.78|               NULL|                NULL|                     NULL|             NULL|           NULL|            2227.0|                 45.0|              6.0|\n",
      "|    50%|NULL|     NULL|             12900|             12875|           12800.0|      NULL|             12.62|           377.95|   NULL|     NULL|                12.0|      NULL|          NULL|           65000.0|            38000.0|           NULL|       NULL|       NULL|NULL|                NULL|                 0.0|              2013.0|                 0.0|                 0.0|             17.84|                0.0|               0.0|               0.0|                  31.0|                  74.0|              11.0|                 0.0|             11322.0|                50.3|                22.0|                20.0|              0.0|                 0.0|         9057.93|             9041.51|             6818.65|             1485.16|                 0.0|                 0.0|                    0.0|               0.0|           588.45|             30.35|            339.84|                       0.0|                       44.0|               1.0|               1.0|          110000.0|             18.84|                      1.0|                0.0|               0.0|           79213.0|               1.0|               2.0|               0.0|              1.0|              13.0|          23123.0|              72.0|               1.0|               2.0|           4413.0|              58.0|          25400.0|               1.0|               0.0|               1.0|                   4|            7334.0|              5441|              60.2|                     0.0|                 0|             130.0|                 164|                    8|                6|                 1|                  14|                      37|                    5|                            33|                    0|                 3|                 5|                 4|                7|                6|                7|                12|                  5|                11|                   0|                   0|                  0|                 2|            100.0|             37.5|                   0|                  0|           114260|            37858|             16300|                     32691|             26506|                     0.0|                     0|                 1|                10|              60.2|                  2|                   11|                               0|                                 0|                                 36|          0.0|          0.0|            0.0|            0.0|                 3.0|            119.04|                0.0|              0.0|                   NULL|                 3.0|             15.0|                NULL|                                    352.56|                      10044.22|                      132.87|               NULL|                NULL|                     NULL|             NULL|           NULL|           4172.71|                 45.0|             14.0|\n",
      "|    75%|NULL|     NULL|             20000|             20000|           20000.0|      NULL|             15.99|           593.24|   NULL|     NULL|                91.0|      NULL|          NULL|           93000.0|            38000.0|           NULL|       NULL|       NULL|NULL|                NULL|               768.0|              5000.0|                 0.0|                 0.0|             24.49|                0.0|              10.7|               1.0|                  50.0|                  92.0|              14.0|                 0.0|             20242.0|                69.4|                31.0|                65.0|          6711.43|             6709.55|16703.8152308551|            16679.67|            13389.68|             3051.98|                 0.0|                 0.0|                    0.0|            550.11|          3533.26|           3405.27|           3758.77|                       0.0|                       62.0|               1.0|               1.0|          147500.0|             24.62|                    499.9|                0.0|               0.0|          213164.0|               1.0|               3.0|               1.0|              2.0|              24.0|          46087.0|              86.0|               2.0|               4.0|           7597.0|              72.0|          43200.0|               1.0|               2.0|               3.0|                   6|           18779.0|             14184|              83.1|                     0.0|                 0|             154.0|                 232|                   17|               11|                 3|                  30|                      57|                   11|                            51|                    0|                 5|                 7|                 6|               10|               11|               10|                18|                  7|                14|                   0|                   0|                  0|                 3|            100.0|             71.4|                   0|                  0|           257702|            64337|             30300|                     58794|             43757|                     0.0|                     1|                 2|                15|              78.6|                  4|                   17|                               0|                                 0|                                 56|          0.0|          0.0|            0.0|            0.0|                 3.0|            213.26|                0.0|              0.0|                   NULL|                 3.0|             22.0|                NULL|                                    622.59|                      16114.94|                      284.15|               NULL|                NULL|                     NULL|             NULL|           NULL|           6870.71|                 50.0|             18.0|\n",
      "|    max|NULL|     NULL|             40000|             40000|           40000.0| 60 months|             30.99|          1719.83|      G|       G5|              👨‍🍳 |       n/a|          RENT|          MORTGAGE|           Verified|Source Verified|   Oct-2015|          y|   n|~20K total in med...|             wedding|îîMY FIRST CA...|      small_business|             wedding|           wedding|     small_business|    small_business|    small_business|               wedding|        small_business|  home_improvement|    home_improvement|  debt_consolidation|              moving|      small_business|                   w|   small_business|               other|               w|savy debt consoli...|                   f|                   f|                   f|      small_business|   xperienceddebtorq...|                 f|                f|                 f|                 f|                         f|                          f|                 f|                 f|                 f|                 f|                        f|           Oct-2012|          Sep-2016|                 f|          Jun-2015|                 f|          Oct-2018|         Sep-2010|          Mar-2011|         Oct-2016|          Sep-2010|          Mar-2014|        Individual|         Nov-2012|        Individual|       Individual|          Oct-2016|        Individual|          Oct-2016|                  64|        Individual|            711140|        Individual|                  9108.0|            249925|             999.0|                 999|                  547|              382|                94|                 661|                     202|                   25|                           202|                   58|                50|                72|                71|               86|              159|               91|               151|                 65|               101|                   9|                   6|                 58|                32|            100.0|            100.0|                 100|                100|          9999999|          3408095|           1569000|                   2118996|           1110019|                Sep-2017|                127285|                27|                82|             434.3|                 43|                  106|                              21|                                23|                                185|            Y|            N|   UNEMPLOYMENT|              N|                   N|                 N|           Sep-2018|         Sep-2018|               Sep-2018|                   N|                N|                   N|                                         N|                             N|                           N|                  N|                   Y|                 Sep-2018|                N|       Sep-2018|                 N|                    Y|                N|\n",
      "+-------+----+---------+------------------+------------------+------------------+----------+------------------+-----------------+-------+---------+--------------------+----------+--------------+------------------+-------------------+---------------+-----------+-----------+----+--------------------+--------------------+--------------------+--------------------+--------------------+------------------+-------------------+------------------+------------------+----------------------+----------------------+------------------+--------------------+--------------------+--------------------+--------------------+--------------------+-----------------+--------------------+----------------+--------------------+--------------------+--------------------+--------------------+--------------------+-----------------------+------------------+-----------------+------------------+------------------+--------------------------+---------------------------+------------------+------------------+------------------+------------------+-------------------------+-------------------+------------------+------------------+------------------+------------------+------------------+-----------------+------------------+-----------------+------------------+------------------+------------------+-----------------+------------------+-----------------+------------------+------------------+------------------+--------------------+------------------+------------------+------------------+------------------------+------------------+------------------+--------------------+---------------------+-----------------+------------------+--------------------+------------------------+---------------------+------------------------------+---------------------+------------------+------------------+------------------+-----------------+-----------------+-----------------+------------------+-------------------+------------------+--------------------+--------------------+-------------------+------------------+-----------------+-----------------+--------------------+-------------------+-----------------+-----------------+------------------+--------------------------+------------------+------------------------+----------------------+------------------+------------------+------------------+-------------------+---------------------+--------------------------------+----------------------------------+-----------------------------------+-------------+-------------+---------------+---------------+--------------------+------------------+-------------------+-----------------+-----------------------+--------------------+-----------------+--------------------+------------------------------------------+------------------------------+----------------------------+-------------------+--------------------+-------------------------+-----------------+---------------+------------------+---------------------+-----------------+\n",
      "\n"
     ]
    }
   ],
   "source": [
    "df.summary().show()\n"
   ]
  },
  {
   "cell_type": "markdown",
   "id": "5566bcfe",
   "metadata": {},
   "source": [
    "## 2.3 Conversión inicial de tipos de datos\n",
    "\n",
    "Durante la carga automática del dataset, Spark puede asignar tipos de datos incorrectos a algunas columnas, especialmente cuando existen valores nulos o formatos inconsistentes.\n",
    "\n",
    "En esta sub-sección se realizará una conversión manual y controlada de los tipos de dato, asegurando que cada variable tenga el formato adecuado para su análisis posterior. Algunos de los casos más comunes a corregir son:\n",
    "\n",
    "- Columnas numéricas que aparecen como tipo `string`.\n",
    "- Fechas que se registran como `string` y deben convertirse a `date`.\n",
    "- Variables categóricas que se mantienen como `string`, pero que serán transformadas más adelante con codificadores.\n",
    "\n",
    "Este paso permitirá evitar errores en las siguientes fases del pipeline, como el preprocesamiento y el modelado.\n"
   ]
  },
  {
   "cell_type": "code",
   "execution_count": 8,
   "id": "f7f37b2e",
   "metadata": {},
   "outputs": [],
   "source": [
    "tipos_esperados = {\n",
    "    \"loan_amnt\": \"int\",\n",
    "    \"funded_amnt\": \"int\",\n",
    "    \"funded_amnt_inv\": \"double\",\n",
    "    \"term\": \"string\",\n",
    "    \"int_rate\": \"double\",\n",
    "    \"installment\": \"double\",\n",
    "    \"grade\": \"string\",\n",
    "    \"sub_grade\": \"string\",\n",
    "    \"emp_title\": \"string\",\n",
    "    \"emp_length\": \"string\",\n",
    "    \"home_ownership\": \"string\",\n",
    "    \"annual_inc\": \"double\",\n",
    "    \"verification_status\": \"string\",\n",
    "    \"issue_d\": \"string\",\n",
    "    \"loan_status\": \"string\",\n",
    "    \"pymnt_plan\": \"string\",\n",
    "    \"purpose\": \"string\",\n",
    "    \"title\": \"string\",\n",
    "    \"zip_code\": \"string\",\n",
    "    \"addr_state\": \"string\",\n",
    "    \"dti\": \"double\",\n",
    "    \"delinq_2yrs\": \"int\",\n",
    "    \"earliest_cr_line\": \"int\",\n",
    "    \"inq_last_6mths\": \"int\",\n",
    "    \"open_acc\": \"int\",\n",
    "    \"pub_rec\": \"int\",\n",
    "    \"revol_bal\": \"int\",\n",
    "    \"revol_util\": \"double\",\n",
    "    \"total_acc\": \"int\",\n",
    "    \"initial_list_status\": \"string\",\n",
    "    \"out_prncp\": \"int\",\n",
    "    \"out_prncp_inv\": \"double\",\n",
    "    \"total_pymnt\": \"double\",\n",
    "    \"total_pymnt_inv\": \"double\",\n",
    "    \"total_rec_prncp\": \"double\",\n",
    "    \"total_rec_int\": \"double\",\n",
    "    \"total_rec_late_fee\": \"double\",\n",
    "    \"recoveries\": \"double\",\n",
    "    \"collection_recovery_fee\": \"double\",\n",
    "    \"last_pymnt_d\": \"string\",\n",
    "    \"last_pymnt_amnt\": \"double\",\n",
    "    \"last_credit_pull_d\": \"string\",\n",
    "    \"collections_12_mths_ex_med\": \"int\",\n",
    "    \"policy_code\": \"int\",\n",
    "    \"application_type\": \"string\",\n",
    "    \"acc_now_delinq\": \"int\",\n",
    "    \"tot_coll_amt\": \"int\",\n",
    "    \"tot_cur_bal\": \"int\",\n",
    "    \"total_rev_hi_lim\": \"int\",\n",
    "    \"acc_open_past_24mths\": \"int\",\n",
    "    \"avg_cur_bal\": \"double\",\n",
    "    \"bc_open_to_buy\": \"int\",\n",
    "    \"bc_util\": \"double\",\n",
    "    \"chargeoff_within_12_mths\": \"double\",\n",
    "    \"delinq_amnt\": \"int\",\n",
    "    \"mo_sin_old_il_acct\": \"int\",\n",
    "    \"mo_sin_old_rev_tl_op\": \"int\",\n",
    "    \"mo_sin_rcnt_rev_tl_op\": \"int\",\n",
    "    \"mo_sin_rcnt_tl\": \"int\",\n",
    "    \"mort_acc\": \"int\",\n",
    "    \"mths_since_recent_bc\": \"int\",\n",
    "    \"mths_since_recent_inq\": \"int\",\n",
    "    \"num_accts_ever_120_pd\": \"int\",\n",
    "    \"num_actv_bc_tl\": \"int\",\n",
    "    \"num_actv_rev_tl\": \"int\",\n",
    "    \"num_bc_sats\": \"int\",\n",
    "    \"num_bc_tl\": \"int\",\n",
    "    \"num_il_tl\": \"int\",\n",
    "    \"num_op_rev_tl\": \"int\",\n",
    "    \"num_rev_accts\": \"int\",\n",
    "    \"num_rev_tl_bal_gt_0\": \"int\",\n",
    "    \"num_sats\": \"int\",\n",
    "    \"num_tl_120dpd_2m\": \"int\",\n",
    "    \"num_tl_30dpd\": \"int\",\n",
    "    \"num_tl_90g_dpd_24m\": \"int\",\n",
    "    \"num_tl_op_past_12m\": \"int\",\n",
    "    \"pct_tl_nvr_dlq\": \"double\",\n",
    "    \"percent_bc_gt_75\": \"double\",\n",
    "    \"pub_rec_bankruptcies\": \"int\",\n",
    "    \"tax_liens\": \"int\",\n",
    "    \"tot_hi_cred_lim\": \"int\",\n",
    "    \"total_bal_ex_mort\": \"int\",\n",
    "    \"total_bc_limit\": \"int\",\n",
    "    \"total_il_high_credit_limit\": \"int\",\n",
    "    \"hardship_flag\": \"string\",\n",
    "    \"disbursement_method\": \"string\",\n",
    "    \"debt_settlement_flag\": \"string\",\n",
    "}\n"
   ]
  },
  {
   "cell_type": "code",
   "execution_count": 9,
   "id": "15cfd900",
   "metadata": {},
   "outputs": [
    {
     "name": "stdout",
     "output_type": "stream",
     "text": [
      "Corrigiendo: annual_inc de string a double\n",
      "Corrigiendo: dti de string a double\n",
      "Corrigiendo: delinq_2yrs de string a int\n",
      "Corrigiendo: earliest_cr_line de string a int\n",
      "Corrigiendo: inq_last_6mths de string a int\n",
      "Corrigiendo: open_acc de string a int\n",
      "Corrigiendo: pub_rec de string a int\n",
      "Corrigiendo: revol_bal de string a int\n",
      "Corrigiendo: revol_util de string a double\n",
      "Corrigiendo: total_acc de string a int\n",
      "Corrigiendo: out_prncp de string a int\n",
      "Corrigiendo: out_prncp_inv de string a double\n",
      "Corrigiendo: total_pymnt de string a double\n",
      "Corrigiendo: total_pymnt_inv de string a double\n",
      "Corrigiendo: total_rec_prncp de string a double\n",
      "Corrigiendo: total_rec_int de string a double\n",
      "Corrigiendo: total_rec_late_fee de string a double\n",
      "Corrigiendo: recoveries de string a double\n",
      "Corrigiendo: collection_recovery_fee de string a double\n",
      "Corrigiendo: last_pymnt_amnt de string a double\n",
      "Corrigiendo: collections_12_mths_ex_med de string a int\n",
      "Corrigiendo: policy_code de string a int\n",
      "Corrigiendo: acc_now_delinq de string a int\n",
      "Corrigiendo: tot_coll_amt de string a int\n",
      "Corrigiendo: tot_cur_bal de string a int\n",
      "Corrigiendo: total_rev_hi_lim de string a int\n",
      "Corrigiendo: avg_cur_bal de string a double\n",
      "Corrigiendo: bc_util de string a double\n",
      "Corrigiendo: mo_sin_old_il_acct de double a int\n"
     ]
    }
   ],
   "source": [
    "# Corrección automática de tipos según tipos_esperados\n",
    "for columna, tipo_esperado in tipos_esperados.items():\n",
    "    if columna in dict(df.dtypes):\n",
    "        tipo_actual = dict(df.dtypes)[columna]\n",
    "        if tipo_actual != tipo_esperado:\n",
    "            print(f\"Corrigiendo: {columna} de {tipo_actual} a {tipo_esperado}\")\n",
    "            \n",
    "            # Limpieza de strings si es necesario para convertir a double\n",
    "            if tipo_esperado == \"double\" and tipo_actual == \"string\":\n",
    "                df = df.withColumn(columna, regexp_replace(col(columna), \"[,%$]\", \"\").cast(\"double\"))\n",
    "            else:\n",
    "                df = df.withColumn(columna, col(columna).cast(tipo_esperado))\n"
   ]
  },
  {
   "cell_type": "markdown",
   "id": "73cb1203",
   "metadata": {},
   "source": [
    "# **3. Limpieza y preprocesamiento**\n",
    "\n",
    "Una vez cargados y tipificados correctamente los datos, es necesario preparar el conjunto de datos para su análisis y modelado. Esta etapa es crucial para garantizar la calidad de los resultados y evitar errores durante el entrenamiento de los modelos.\n",
    "\n",
    "Las tareas que se llevarán a cabo en esta sección incluyen:\n",
    "\n",
    "- Eliminación de columnas irrelevantes, redundantes o con demasiados valores nulos.\n",
    "- Tratamiento de valores faltantes.\n",
    "- Transformación de variables categóricas.\n",
    "- Generación de nuevas variables (en caso necesario).\n",
    "- Normalización o escalado si se considera útil.\n",
    "- Preparación final del conjunto de datos con las variables seleccionadas para el modelado.\n",
    "\n",
    "Estas transformaciones permitirán reducir la complejidad del dataset, mejorar la calidad de los datos y facilitar el aprendizaje de los modelos que se implementarán posteriormente.\n"
   ]
  },
  {
   "cell_type": "markdown",
   "id": "662c69de",
   "metadata": {},
   "source": [
    "## 3.1 Eliminación de columnas con muchos valores nulos\n",
    "\n",
    "Uno de los primeros pasos fundamentales en la limpieza de datos es identificar y eliminar aquellas columnas que contienen un alto porcentaje de valores nulos.\n",
    "\n",
    "Las columnas con un exceso de valores faltantes suelen ser poco confiables o difíciles de imputar sin introducir sesgos significativos. En este proyecto se define un umbral del **30%**: todas las columnas que tengan más del 30% de valores nulos serán eliminadas.\n",
    "\n",
    "Esta decisión busca mantener la calidad de la información sin perder demasiados atributos útiles.\n"
   ]
  },
  {
   "cell_type": "code",
   "execution_count": 10,
   "id": "7cd09470",
   "metadata": {},
   "outputs": [
    {
     "name": "stdout",
     "output_type": "stream",
     "text": [
      "Columnas seleccionadas con <30% de nulos: 86\n"
     ]
    }
   ],
   "source": [
    "#ELminar columans con el 30% de vlaores nuloso \n",
    "# Calcular total de registros\n",
    "total_rows = df.count()\n",
    "\n",
    "# Calcular porcentaje de nulos por columna y quedarte con las que tienen menos del 20%\n",
    "col_porcentaje_nulos = [\n",
    "   (sum(when((col(c).isNull()) | (col(c) == ''), 1).otherwise(0)) / total_rows).alias(c)\n",
    "    for c in df.columns\n",
    "]\n",
    "\n",
    "# Generar DataFrame con porcentaje de nulos\n",
    "porcentaje_nulos_df = df.select(col_porcentaje_nulos)\n",
    "porcentaje_nulos = porcentaje_nulos_df.collect()[0].asDict()\n",
    "\n",
    "# Filtrar columnas que tienen menos de 20% de nulos\n",
    "columnas_validas = [k for k, v in porcentaje_nulos.items() if v < 0.3]\n",
    "\n",
    "# Seleccionar solo las columnas válidas\n",
    "df = df.select(*columnas_validas)\n",
    "\n",
    "print(f\"Columnas seleccionadas con <30% de nulos: {len(columnas_validas)}\")\n"
   ]
  },
  {
   "cell_type": "markdown",
   "id": "fcff3a61",
   "metadata": {},
   "source": [
    "## 3.2 Eliminación de columnas categóricas con alta cardinalidad\n",
    "\n",
    "Las columnas categóricas con demasiados valores únicos (alta cardinalidad) pueden ser problemáticas para los modelos de aprendizaje automático, especialmente si no aportan información útil o presentan una alta dispersión.\n",
    "\n",
    "En este proyecto, se define un umbral de **10,000 valores distintos**: todas las columnas categóricas que excedan este número serán eliminadas del conjunto de datos.\n",
    "\n",
    "Este umbral se basa en dos criterios:\n",
    "\n",
    "- Dificultad de codificación eficiente (OneHotEncoding o StringIndexer).\n",
    "- Posible irrelevancia de columnas con demasiadas categorías específicas (como títulos de empleo, nombres personalizados, etc.).\n",
    "\n",
    "La eliminación de estas columnas permite reducir la complejidad del dataset y mejorar el rendimiento del pipeline de procesamiento y modelado.\n"
   ]
  },
  {
   "cell_type": "code",
   "execution_count": 11,
   "id": "b13348d6",
   "metadata": {},
   "outputs": [
    {
     "name": "stdout",
     "output_type": "stream",
     "text": [
      "Columnas con alta cardinalidad (>10,000 categorías únicas):\n",
      "['emp_title', 'title']\n",
      "Número de columnas eliminadas: 2\n",
      "Número de columnas restantes: 84\n"
     ]
    }
   ],
   "source": [
    "# Identificar columnas de tipo string con más de 10,000 valores únicos\n",
    "columnas_texto_libre = []\n",
    "\n",
    "for c in df.columns:\n",
    "    if dict(df.dtypes)[c] == \"string\":\n",
    "        num_valores_unicos = df.select(c).distinct().count()\n",
    "        if num_valores_unicos > 10000:\n",
    "            columnas_texto_libre.append(c)\n",
    "\n",
    "# Mostrar las columnas identificadas\n",
    "print(\"Columnas con alta cardinalidad (>10,000 categorías únicas):\")\n",
    "print(columnas_texto_libre)\n",
    "\n",
    "# Eliminar las columnas del DataFrame\n",
    "df = df.drop(*columnas_texto_libre)\n",
    "\n",
    "print(f\"Número de columnas eliminadas: {len(columnas_texto_libre)}\")\n",
    "print(f\"Número de columnas restantes: {len(df.columns)}\")\n",
    "\n"
   ]
  },
  {
   "cell_type": "markdown",
   "id": "228808ff",
   "metadata": {},
   "source": [
    "## 3.3 Eliminación de columnas numéricas altamente correlacionadas\n",
    "\n",
    "Las variables numéricas altamente correlacionadas entre sí pueden introducir redundancia en el modelo y dificultar la interpretación de los resultados. Además, en algunos algoritmos como regresión logística, estas correlaciones pueden provocar problemas de multicolinealidad.\n",
    "\n",
    "Para mitigar esto, en esta sub-sección se calculará la **matriz de correlación de Pearson** entre todas las variables numéricas y se eliminarán aquellas columnas cuya correlación absoluta con otra columna sea **mayor a 0.95**.\n",
    "\n",
    "Este umbral busca conservar únicamente una de las dos variables fuertemente correlacionadas, reduciendo la dimensionalidad del conjunto de datos sin pérdida significativa de información.\n"
   ]
  },
  {
   "cell_type": "code",
   "execution_count": 12,
   "id": "c23721db",
   "metadata": {},
   "outputs": [
    {
     "name": "stdout",
     "output_type": "stream",
     "text": [
      "Alta correlación entre: loan_amnt y funded_amnt (r = 0.9998)\n",
      "Alta correlación entre: loan_amnt y funded_amnt_inv (r = 0.9990)\n",
      "Alta correlación entre: funded_amnt y funded_amnt_inv (r = 0.9993)\n",
      "Alta correlación entre: open_acc y num_sats (r = 0.9990)\n",
      "Alta correlación entre: out_prncp y out_prncp_inv (r = 0.9999)\n",
      "Alta correlación entre: total_pymnt y total_pymnt_inv (r = 0.9992)\n",
      "Alta correlación entre: total_pymnt y total_rec_prncp (r = 0.9671)\n",
      "Alta correlación entre: total_pymnt_inv y total_rec_prncp (r = 0.9665)\n",
      "Alta correlación entre: tot_cur_bal y tot_hi_cred_lim (r = 0.9793)\n",
      "Alta correlación entre: num_actv_rev_tl y num_rev_tl_bal_gt_0 (r = 0.9835)\n",
      "Columnas eliminadas por redundancia lineal: 8\n",
      "Total de columnas restantes: 76\n"
     ]
    }
   ],
   "source": [
    "# Seleccionar columnas numéricas del DataFrame\n",
    "columnas_numericas = [c for c, t in df.dtypes if t in (\"double\", \"int\")]\n",
    "\n",
    "# Tomar una muestra del 10% del dataset para evitar saturar memoria\n",
    "df_sample_pd = df.select(columnas_numericas).sample(False, 0.10, seed=1).toPandas()\n",
    "\n",
    "# Calcular matriz de correlación absoluta de Pearson\n",
    "cor_matrix = df_sample_pd.corr().abs()\n",
    "\n",
    "# Umbral para eliminar columnas altamente correlacionadas\n",
    "umbral = 0.95\n",
    "columnas_correladas = set()\n",
    "\n",
    "# Recorrer matriz de correlación y marcar columnas redundantes\n",
    "for i in range(len(cor_matrix.columns)):\n",
    "    for j in range(i + 1, len(cor_matrix.columns)):\n",
    "        col1 = cor_matrix.columns[i]\n",
    "        col2 = cor_matrix.columns[j]\n",
    "        if cor_matrix.iloc[i, j] > umbral:\n",
    "            print(f\"Alta correlación entre: {col1} y {col2} (r = {cor_matrix.iloc[i, j]:.4f})\")\n",
    "            columnas_correladas.add(col2)  # Conservamos col1, eliminamos col2\n",
    "\n",
    "# Eliminar columnas redundantes del DataFrame original\n",
    "df = df.drop(*list(columnas_correladas))\n",
    "\n",
    "# Mostrar resultados\n",
    "print(f\"Columnas eliminadas por redundancia lineal: {len(columnas_correladas)}\")\n",
    "print(f\"Total de columnas restantes: {len(df.columns)}\")\n"
   ]
  },
  {
   "cell_type": "markdown",
   "id": "d4e10877",
   "metadata": {},
   "source": [
    "## 3.4 Eliminación de columnas con baja varianza\n",
    "\n",
    "Las columnas con muy poca variación en sus valores no aportan información significativa a los modelos de aprendizaje automático, ya que no ayudan a diferenciar entre clases ni a establecer patrones útiles.\n",
    "\n",
    "En esta sub-sección se eliminarán:\n",
    "\n",
    "- Columnas numéricas cuya varianza sea igual a 0.\n",
    "- Columnas categóricas con una única categoría (baja varianza cualitativa).\n",
    "\n",
    "Estas columnas no solo son irrelevantes para el aprendizaje del modelo, sino que también pueden aumentar el tiempo de procesamiento y generar ruido.\n",
    "\n",
    "Este filtrado busca conservar únicamente aquellas variables que ofrecen información útil para la clasificación o segmentación.\n"
   ]
  },
  {
   "cell_type": "code",
   "execution_count": 13,
   "id": "576e5b14",
   "metadata": {},
   "outputs": [
    {
     "name": "stdout",
     "output_type": "stream",
     "text": [
      "term: 71.21% del dataset tiene ' 36 months'\n",
      "pymnt_plan: 99.97% del dataset tiene 'n'\n",
      "application_type: 94.65% del dataset tiene 'Individual'\n",
      "hardship_flag: 99.95% del dataset tiene 'N'\n",
      "disbursement_method: 96.53% del dataset tiene 'Cash'\n",
      "debt_settlement_flag: 98.53% del dataset tiene 'N'\n",
      "\n",
      "Columnas categóricas eliminadas por baja varianza: 6\n",
      "delinq_2yrs: 81.34% de los valores son '0'\n",
      "pub_rec: 84.16% de los valores son '0'\n",
      "total_rec_late_fee: 96.25% de los valores son '0.0'\n",
      "recoveries: 92.14% de los valores son '0.0'\n",
      "collection_recovery_fee: 92.52% de los valores son '0.0'\n",
      "collections_12_mths_ex_med: 98.33% de los valores son '0'\n",
      "policy_code: 99.99% de los valores son '1'\n",
      "acc_now_delinq: 99.60% de los valores son '0'\n",
      "tot_coll_amt: 82.11% de los valores son '0'\n",
      "chargeoff_within_12_mths: 99.22% de los valores son '0.0'\n",
      "delinq_amnt: 99.67% de los valores son '0'\n",
      "num_accts_ever_120_pd: 74.64% de los valores son '0'\n",
      "num_tl_120dpd_2m: 93.15% de los valores son '0'\n",
      "num_tl_30dpd: 96.63% de los valores son '0'\n",
      "num_tl_90g_dpd_24m: 91.70% de los valores son '0'\n",
      "pub_rec_bankruptcies: 87.90% de los valores son '0'\n",
      "tax_liens: 97.13% de los valores son '0'\n",
      "\n",
      "Columnas numéricas eliminadas por valor dominante: 17\n",
      "Total de columnas restantes: 53\n"
     ]
    }
   ],
   "source": [
    "# Umbral para considerar que una variable tiene baja varianza (70%)\n",
    "umbral = 0.70\n",
    "total_rows = df.count()\n",
    "\n",
    "# ---------------------------\n",
    "# Categóricas con baja varianza\n",
    "# ---------------------------\n",
    "cat_columns = [c for c, t in df.dtypes if t == \"string\"]\n",
    "columnas_baja_varianza = []\n",
    "\n",
    "for c in cat_columns:\n",
    "    top_valor = df.groupBy(c).count().orderBy(\"count\", ascending=False).first()\n",
    "    if top_valor and (top_valor[\"count\"] / total_rows) >= umbral:\n",
    "        print(f\"{c}: {top_valor['count'] / total_rows:.2%} del dataset tiene '{top_valor[c]}'\")\n",
    "        columnas_baja_varianza.append(c)\n",
    "\n",
    "# Eliminar columnas categóricas con baja varianza\n",
    "df = df.drop(*columnas_baja_varianza)\n",
    "print(f\"\\nColumnas categóricas eliminadas por baja varianza: {len(columnas_baja_varianza)}\")\n",
    "\n",
    "\n",
    "# ---------------------------\n",
    "# Numéricas con valor dominante (>70%)\n",
    "# ---------------------------\n",
    "numeric_columns = [c for c, t in df.dtypes if t in (\"double\", \"int\")]\n",
    "columnas_valor_dominante = []\n",
    "\n",
    "for c in numeric_columns:\n",
    "    valor_mas_frecuente = (\n",
    "        df.groupBy(c)\n",
    "        .count()\n",
    "        .orderBy(\"count\", ascending=False)\n",
    "        .first()\n",
    "    )\n",
    "\n",
    "    if valor_mas_frecuente:\n",
    "        valor = valor_mas_frecuente[0]\n",
    "        cuenta = valor_mas_frecuente[\"count\"]\n",
    "        porcentaje = cuenta / total_rows\n",
    "\n",
    "        if porcentaje >= umbral:\n",
    "            print(f\"{c}: {porcentaje:.2%} de los valores son '{valor}'\")\n",
    "            columnas_valor_dominante.append(c)\n",
    "\n",
    "# Eliminar columnas numéricas con valor dominante\n",
    "df = df.drop(*columnas_valor_dominante)\n",
    "print(f\"\\nColumnas numéricas eliminadas por valor dominante: {len(columnas_valor_dominante)}\")\n",
    "print(f\"Total de columnas restantes: {len(df.columns)}\")"
   ]
  },
  {
   "cell_type": "markdown",
   "id": "5767e513",
   "metadata": {},
   "source": [
    "## 3.5 Eliminación de columnas con fuga de información\n",
    "\n",
    "La fuga de información (data leakage) ocurre cuando se incluyen en el entrenamiento variables que contienen directa o indirectamente información sobre el resultado que se pretende predecir. Esto genera modelos artificialmente precisos en fase de entrenamiento, pero poco útiles en escenarios reales.\n",
    "\n",
    "En este proyecto se eliminarán todas las columnas que:\n",
    "\n",
    "- Contengan información que solo está disponible después del préstamo (como pagos realizados, saldos finales, o fechas de pago).\n",
    "- Estén altamente relacionadas con la variable objetivo (`loan_status`) por diseño.\n",
    "\n",
    "Este paso es crucial para asegurar que el modelo aprenda únicamente a partir de información disponible en el momento de la solicitud del préstamo, imitando una situación real.\n"
   ]
  },
  {
   "cell_type": "code",
   "execution_count": 14,
   "id": "41e0ecac",
   "metadata": {},
   "outputs": [
    {
     "name": "stdout",
     "output_type": "stream",
     "text": [
      "Columnas eliminadas por fuga de información: 3\n",
      "Total de columnas restantes en el DataFrame: 50\n"
     ]
    }
   ],
   "source": [
    "#Columnas eliminadas por contener información posterior al préstamo\n",
    "columnas_fuga_info = [\n",
    "    \"issue_d\",             # Fecha del préstamo\n",
    "    \"last_pymnt_d\",        # Fecha del último pago\n",
    "    \"last_credit_pull_d\",  # Última revisión de crédito\n",
    "]\n",
    "\n",
    "df = df.drop(*[c for c in columnas_fuga_info if c in df.columns])\n",
    "print(f\"Columnas eliminadas por fuga de información: {len(columnas_fuga_info)}\")\n",
    "print(f\"Total de columnas restantes en el DataFrame: {len(df.columns)}\")"
   ]
  },
  {
   "cell_type": "markdown",
   "id": "1f257521",
   "metadata": {},
   "source": [
    "## 3.6 Eliminación de columnas irrelevantes o redundantes\n",
    "\n",
    "Además de eliminar columnas con fuga de información, es importante revisar y eliminar variables que no aportan valor al análisis por otras razones, como:\n",
    "\n",
    "- **Irrelevancia:** columnas con información personal, metadatos técnicos o atributos poco explicativos.\n",
    "- **Redundancia:** variables que están representadas de forma más general o repetida en otras columnas.\n",
    "- **Diseño técnico:** variables calculadas automáticamente que no reflejan comportamientos reales ni tienen utilidad predictiva.\n",
    "\n",
    "La eliminación de estas columnas permite simplificar el conjunto de datos, reducir la dimensionalidad y evitar sesgos innecesarios en los modelos.\n"
   ]
  },
  {
   "cell_type": "code",
   "execution_count": 15,
   "id": "ab1fa165",
   "metadata": {},
   "outputs": [
    {
     "name": "stdout",
     "output_type": "stream",
     "text": [
      "Columnas eliminadas por irrelevancia justificada: 4\n",
      "Columnas eliminadas por redundancia técnica: 9\n",
      "Total de columnas restantes en el DataFrame: 37\n"
     ]
    }
   ],
   "source": [
    "# Columnas consideradas irrelevantes por diseño o redundancia obvia\n",
    "columnas_irrelevantes = [\n",
    "    \"zip_code\",           # Alta cardinalidad, dato personal\n",
    "    \"addr_state\",         # Baja capacidad explicativa\n",
    "    \"sub_grade\",          # Ya contenida en 'grade'\n",
    "    \"initial_list_status\" # Metadata técnica\n",
    "]\n",
    "\n",
    "df = df.drop(*[c for c in columnas_irrelevantes if c in df.columns])\n",
    "print(f\"Columnas eliminadas por irrelevancia justificada: {len(columnas_irrelevantes)}\")\n",
    "\n",
    "# Columnas redundantes por definición técnica\n",
    "columnas_a_eliminar_por_definicion = [\n",
    "    \"bc_open_to_buy\",\n",
    "    \"mo_sin_old_il_acct\",\n",
    "    \"mo_sin_old_rev_tl_op\",\n",
    "    \"mo_sin_rcnt_rev_tl_op\",\n",
    "    \"mo_sin_rcnt_tl\",\n",
    "    \"num_bc_tl\",\n",
    "    \"num_op_rev_tl\",\n",
    "    \"num_rev_accts\",\n",
    "    \"total_bc_limit\"\n",
    "]\n",
    "\n",
    "df = df.drop(*[c for c in columnas_a_eliminar_por_definicion if c in df.columns])\n",
    "print(f\"Columnas eliminadas por redundancia técnica: {len(columnas_a_eliminar_por_definicion)}\")\n",
    "print(f\"Total de columnas restantes en el DataFrame: {len(df.columns)}\")"
   ]
  },
  {
   "cell_type": "markdown",
   "id": "4037d17b",
   "metadata": {},
   "source": [
    "### 3.7 Imputación de valores faltantes\n",
    "\n",
    "Después de eliminar columnas con un alto porcentaje de valores nulos, aún pueden existir columnas que contienen algunos valores faltantes. Para asegurar la integridad del dataset y evitar errores en las etapas siguientes del pipeline, se procederá a imputar estos valores.\n",
    "\n",
    "Se utilizarán las siguientes estrategias:\n",
    "\n",
    "- **Para variables numéricas:** se imputará utilizando la **media** o la **mediana**, según la distribución de la variable.\n",
    "- **Para variables categóricas:** se imputará con la **moda** (valor más frecuente).\n",
    "\n",
    "Estas técnicas son simples pero efectivas, y permiten mantener una aproximación conservadora al comportamiento de cada variable.\n"
   ]
  },
  {
   "cell_type": "code",
   "execution_count": 16,
   "id": "6c606f8c",
   "metadata": {},
   "outputs": [
    {
     "name": "stdout",
     "output_type": "stream",
     "text": [
      "Valores nulos por columna:\n",
      "+---------+--------+-----------+-----+----------+--------------+----------+-------------------+-----------+-------+----+--------------+--------+---------+----------+---------+---------+-----------+-------------+---------------+-----------+----------------+--------------------+-----------+-------+--------+--------------------+---------------------+--------------+---------------+-----------+---------+------------------+--------------+----------------+-----------------+--------------------------+\n",
      "|loan_amnt|int_rate|installment|grade|emp_length|home_ownership|annual_inc|verification_status|loan_status|purpose|dti |inq_last_6mths|open_acc|revol_bal|revol_util|total_acc|out_prncp|total_pymnt|total_rec_int|last_pymnt_amnt|tot_cur_bal|total_rev_hi_lim|acc_open_past_24mths|avg_cur_bal|bc_util|mort_acc|mths_since_recent_bc|mths_since_recent_inq|num_actv_bc_tl|num_actv_rev_tl|num_bc_sats|num_il_tl|num_tl_op_past_12m|pct_tl_nvr_dlq|percent_bc_gt_75|total_bal_ex_mort|total_il_high_credit_limit|\n",
      "+---------+--------+-----------+-----+----------+--------------+----------+-------------------+-----------+-------+----+--------------+--------+---------+----------+---------+---------+-----------+-------------+---------------+-----------+----------------+--------------------+-----------+-------+--------+--------------------+---------------------+--------------+---------------+-----------+---------+------------------+--------------+----------------+-----------------+--------------------------+\n",
      "|0        |0       |0          |0    |0         |0             |5         |0                  |0          |1      |1967|200           |196     |105      |1877      |88       |97       |69         |19           |71             |70196      |70275           |50027               |70345      |76071  |50005   |73392               |295413               |70267         |70274          |58588      |70269    |70274             |70430         |75378           |49948            |70238                     |\n",
      "+---------+--------+-----------+-----+----------+--------------+----------+-------------------+-----------+-------+----+--------------+--------+---------+----------+---------+---------+-----------+-------------+---------------+-----------+----------------+--------------------+-----------+-------+--------+--------------------+---------------------+--------------+---------------+-----------+---------+------------------+--------------+----------------+-----------------+--------------------------+\n",
      "\n"
     ]
    }
   ],
   "source": [
    "# Mostrar número de valores nulos por columna\n",
    "print(\"Valores nulos por columna:\")\n",
    "df.select([\n",
    "    count(when(col(c).isNull(), c)).alias(c)\n",
    "    for c in df.columns\n",
    "]).show(truncate=False)\n"
   ]
  },
  {
   "cell_type": "code",
   "execution_count": 17,
   "id": "1e811bd1",
   "metadata": {},
   "outputs": [],
   "source": [
    "numeric_columns = [c for c, t in df.dtypes if t in (\"double\", \"int\")]\n",
    "# Imputación de variables numéricas con MEDIANA\n",
    "for col_name in numeric_columns:\n",
    "    mediana = df.approxQuantile(col_name, [0.5], 0.01)[0]\n",
    "    df = df.withColumn(\n",
    "        col_name,\n",
    "        when(col(col_name).isNull(), lit(mediana)).otherwise(col(col_name))\n",
    "    )\n",
    "cat_columns = [c for c, t in df.dtypes if t == \"string\"]\n",
    "# Imputación de variables categóricas con MODO (valor más frecuente)\n",
    "for col_name in cat_columns:\n",
    "    modo = (df.groupBy(col_name)\n",
    "                     .count()\n",
    "                     .orderBy(F.desc(\"count\"))\n",
    "                     .first()[0])\n",
    "    df = df.withColumn(\n",
    "        col_name,\n",
    "        when(col(col_name).isNull(), lit(modo)).otherwise(col(col_name))\n",
    "    )\n"
   ]
  },
  {
   "cell_type": "code",
   "execution_count": 18,
   "id": "6f308a66",
   "metadata": {},
   "outputs": [
    {
     "name": "stdout",
     "output_type": "stream",
     "text": [
      "Valores nulos por columna:\n",
      "+---------+--------+-----------+-----+----------+--------------+----------+-------------------+-----------+-------+---+--------------+--------+---------+----------+---------+---------+-----------+-------------+---------------+-----------+----------------+--------------------+-----------+-------+--------+--------------------+---------------------+--------------+---------------+-----------+---------+------------------+--------------+----------------+-----------------+--------------------------+\n",
      "|loan_amnt|int_rate|installment|grade|emp_length|home_ownership|annual_inc|verification_status|loan_status|purpose|dti|inq_last_6mths|open_acc|revol_bal|revol_util|total_acc|out_prncp|total_pymnt|total_rec_int|last_pymnt_amnt|tot_cur_bal|total_rev_hi_lim|acc_open_past_24mths|avg_cur_bal|bc_util|mort_acc|mths_since_recent_bc|mths_since_recent_inq|num_actv_bc_tl|num_actv_rev_tl|num_bc_sats|num_il_tl|num_tl_op_past_12m|pct_tl_nvr_dlq|percent_bc_gt_75|total_bal_ex_mort|total_il_high_credit_limit|\n",
      "+---------+--------+-----------+-----+----------+--------------+----------+-------------------+-----------+-------+---+--------------+--------+---------+----------+---------+---------+-----------+-------------+---------------+-----------+----------------+--------------------+-----------+-------+--------+--------------------+---------------------+--------------+---------------+-----------+---------+------------------+--------------+----------------+-----------------+--------------------------+\n",
      "|0        |0       |0          |0    |0         |0             |0         |0                  |0          |0      |0  |0             |0       |0        |0         |0        |0        |0          |0            |0              |0          |0               |0                   |0          |0      |0       |0                   |0                    |0             |0              |0          |0        |0                 |0             |0               |0                |0                         |\n",
      "+---------+--------+-----------+-----+----------+--------------+----------+-------------------+-----------+-------+---+--------------+--------+---------+----------+---------+---------+-----------+-------------+---------------+-----------+----------------+--------------------+-----------+-------+--------+--------------------+---------------------+--------------+---------------+-----------+---------+------------------+--------------+----------------+-----------------+--------------------------+\n",
      "\n"
     ]
    }
   ],
   "source": [
    "# Mostrar número de valores nulos por columna\n",
    "print(\"Valores nulos por columna:\")\n",
    "df.select([\n",
    "    count(when(col(c).isNull(), c)).alias(c)\n",
    "    for c in df.columns\n",
    "]).show(truncate=False)"
   ]
  },
  {
   "cell_type": "markdown",
   "id": "832636e8",
   "metadata": {},
   "source": [
    "## 3.8 Revisión de sesgos, outliers y transformaciones\n",
    "\n",
    "Una vez imputados los valores faltantes, es importante revisar la presencia de valores atípicos (**outliers**) y distribuciones sesgadas (**skewed distributions**) en las variables numéricas.\n",
    "\n",
    "En esta sub-sección se realiza un análisis combinado de:\n",
    "\n",
    "- **Asimetría (skewness):** para identificar variables con distribuciones fuertemente sesgadas (asimetría mayor a ±1).\n",
    "- **Outliers:** mediante el rango intercuartílico (IQR), para detectar variables con una cantidad significativa de valores extremos.\n",
    "\n",
    "Con base en este análisis, se toma una decisión automática para cada variable numérica:\n",
    "\n",
    "- **Aplicar transformación logarítmica** (`log1p`) en variables con alta asimetría positiva y más de 10,000 outliers.\n",
    "- **Eliminar outliers** si la variable tiene valores extremos pero no presenta alta asimetría.\n",
    "- **Conservar la variable tal como está** si no hay problemas detectados.\n",
    "\n",
    "Estas transformaciones ayudan a estabilizar la varianza, mejorar la distribución de los datos y aumentar el desempeño de los modelos de aprendizaje.\n"
   ]
  },
  {
   "cell_type": "code",
   "execution_count": 19,
   "id": "69966fb6",
   "metadata": {},
   "outputs": [
    {
     "name": "stdout",
     "output_type": "stream",
     "text": [
      "Columnas para log: ['installment', 'annual_inc', 'dti', 'inq_last_6mths', 'open_acc', 'revol_bal', 'total_acc', 'out_prncp', 'total_pymnt', 'total_rec_int', 'last_pymnt_amnt', 'tot_cur_bal', 'total_rev_hi_lim', 'acc_open_past_24mths', 'avg_cur_bal', 'mort_acc', 'mths_since_recent_bc', 'mths_since_recent_inq', 'num_actv_bc_tl', 'num_actv_rev_tl', 'num_bc_sats', 'num_il_tl', 'num_tl_op_past_12m', 'pct_tl_nvr_dlq', 'total_bal_ex_mort', 'total_il_high_credit_limit']\n",
      "Columnas para eliminar outliers: ['loan_amnt', 'int_rate', 'bc_util']\n",
      "Columnas para conservar: ['revol_util', 'percent_bc_gt_75']\n",
      "Transformaciones aplicadas: eliminación de outliers y log.\n"
     ]
    }
   ],
   "source": [
    "def eliminar_outliers_spark(df, columnas):\n",
    "    for nombre_col in columnas:\n",
    "        # Calcular Q1 y Q3\n",
    "        q1, q3 = df.approxQuantile(nombre_col, [0.25, 0.75], 0.01)\n",
    "        iqr = q3 - q1\n",
    "        limite_inferior = q1 - 1.5 * iqr\n",
    "        limite_superior = q3 + 1.5 * iqr\n",
    "\n",
    "        # Filtrar fuera del IQR\n",
    "        df = df.filter(\n",
    "            (col(nombre_col) >= limite_inferior) & (col(nombre_col) <= limite_superior)\n",
    "        )\n",
    "        \n",
    "    return df\n",
    "\n",
    "# 1. Calcular skewness (asimetría) para cada variable numérica\n",
    "skew_data = df.select([skewness(c).alias(c) for c in numeric_columns]).toPandas().T\n",
    "skew_data.columns = ['skewness']\n",
    "skew_data['feature'] = skew_data.index\n",
    "\n",
    "# 2. Identificar outliers usando el rango intercuartílico (IQR)\n",
    "outlier_info = []\n",
    "\n",
    "for col_name in numeric_columns:\n",
    "    q1, q3 = df.approxQuantile(col_name, [0.25, 0.75], 0.01)\n",
    "    iqr = q3 - q1\n",
    "    lower = q1 - 1.5 * iqr\n",
    "    upper = q3 + 1.5 * iqr\n",
    "    outlier_count = df.filter((col(col_name) < lower) | (col(col_name) > upper)).count()\n",
    "    outlier_info.append((col_name, outlier_count))\n",
    "\n",
    "outlier_df = pd.DataFrame(outlier_info, columns=[\"feature\", \"outlier_count\"])\n",
    "\n",
    "# 3. Fusionar skewness + outlier info\n",
    "merged = skew_data.merge(outlier_df, on=\"feature\")\n",
    "\n",
    "# 4. Clasificar columnas en 3 categorías: aplicar log, eliminar outliers o conservar\n",
    "merged[\"decision\"] = merged.apply(lambda row:\n",
    "    \"log\" if abs(row[\"skewness\"]) > 1.0 and row[\"outlier_count\"] > 10000 else\n",
    "    \"delete\" if row[\"outlier_count\"] > 0 and abs(row[\"skewness\"]) < 1.0 else\n",
    "    \"keep\", axis=1\n",
    ")\n",
    "\n",
    "# 5. Extraer listas por decisión\n",
    "cols_log = merged[merged[\"decision\"] == \"log\"][\"feature\"].tolist()\n",
    "cols_delete = merged[merged[\"decision\"] == \"delete\"][\"feature\"].tolist()\n",
    "cols_keep = merged[merged[\"decision\"] == \"keep\"][\"feature\"].tolist()\n",
    "\n",
    "# 6. Mostrar resumen de decisiones\n",
    "print(\"Columnas para log:\", cols_log)\n",
    "print(\"Columnas para eliminar outliers:\", cols_delete)\n",
    "print(\"Columnas para conservar:\", cols_keep)\n",
    "\n",
    "# elimina outliers según IQR.\n",
    "df_v1 = eliminar_outliers_spark(df, cols_delete)\n",
    "\n",
    "# Aplicar transformación logarítmica a columnas con alta asimetría y muchos outliers\n",
    "for c in cols_log:\n",
    "    df_v1 = df_v1.withColumn(c, log1p(col(c)))\n",
    "\n",
    "print(\"Transformaciones aplicadas: eliminación de outliers y log.\")\n"
   ]
  },
  {
   "cell_type": "markdown",
   "id": "307fce55",
   "metadata": {},
   "source": [
    "## 3.9 Observación final del dataset limpio\n",
    "\n",
    "Antes de pasar a la etapa de preprocesamiento para modelado, es importante validar el estado actual del conjunto de datos tras todas las tareas de limpieza realizadas.\n",
    "\n",
    "En esta sub-sección se observará:\n",
    "\n",
    "- Número total de filas y columnas restantes.\n",
    "- Número de columnas por tipo de dato.\n",
    "- Presencia residual de valores nulos (si los hubiera).\n",
    "- Distribución general de algunas variables clave.\n",
    "- Estadísticas descriptivas para variables numéricas\n",
    "- Estadísticas descriptivas para variables categoricas \n",
    "Este resumen final sirve como verificación de que el dataset se encuentra en condiciones óptimas para pasar a las fases de transformación, codificación y modelado.\n"
   ]
  },
  {
   "cell_type": "code",
   "execution_count": 20,
   "id": "395ee96a",
   "metadata": {},
   "outputs": [
    {
     "name": "stdout",
     "output_type": "stream",
     "text": [
      "Total de registros: 2178236\n",
      "Total de columnas: 37\n",
      "\n",
      "Conteo de columnas por tipo de dato:\n",
      " - double: 31\n",
      " - string: 6\n",
      "\n",
      "Valores nulos restantes por columna:\n",
      "+---------+--------+-----------+-----+----------+--------------+----------+-------------------+-----------+-------+---+--------------+--------+---------+----------+---------+---------+-----------+-------------+---------------+-----------+----------------+--------------------+-----------+-------+--------+--------------------+---------------------+--------------+---------------+-----------+---------+------------------+--------------+----------------+-----------------+--------------------------+\n",
      "|loan_amnt|int_rate|installment|grade|emp_length|home_ownership|annual_inc|verification_status|loan_status|purpose|dti|inq_last_6mths|open_acc|revol_bal|revol_util|total_acc|out_prncp|total_pymnt|total_rec_int|last_pymnt_amnt|tot_cur_bal|total_rev_hi_lim|acc_open_past_24mths|avg_cur_bal|bc_util|mort_acc|mths_since_recent_bc|mths_since_recent_inq|num_actv_bc_tl|num_actv_rev_tl|num_bc_sats|num_il_tl|num_tl_op_past_12m|pct_tl_nvr_dlq|percent_bc_gt_75|total_bal_ex_mort|total_il_high_credit_limit|\n",
      "+---------+--------+-----------+-----+----------+--------------+----------+-------------------+-----------+-------+---+--------------+--------+---------+----------+---------+---------+-----------+-------------+---------------+-----------+----------------+--------------------+-----------+-------+--------+--------------------+---------------------+--------------+---------------+-----------+---------+------------------+--------------+----------------+-----------------+--------------------------+\n",
      "|0        |0       |0          |0    |0         |0             |0         |0                  |0          |0      |2  |0             |0       |0        |0         |0        |0        |0          |0            |0              |0          |0               |0                   |0          |0      |0       |0                   |0                    |0             |0              |0          |0        |0                 |0             |0               |0                |0                         |\n",
      "+---------+--------+-----------+-----+----------+--------------+----------+-------------------+-----------+-------+---+--------------+--------+---------+----------+---------+---------+-----------+-------------+---------------+-----------+----------------+--------------------+-----------+-------+--------+--------------------+---------------------+--------------+---------------+-----------+---------+------------------+--------------+----------------+-----------------+--------------------------+\n",
      "\n",
      "Registros eliminados por contener valores nulos: 2\n",
      "Total de registros restantes: 2178234\n",
      "\n",
      " Vista de muestra del dataset final:\n",
      "+---------+--------+-----------------+-----+----------+--------------+------------------+-------------------+-----------+------------------+------------------+------------------+------------------+-----------------+----------+------------------+------------------+------------------+------------------+-----------------+------------------+------------------+--------------------+------------------+-------+------------------+--------------------+---------------------+------------------+------------------+------------------+------------------+------------------+-----------------+----------------+------------------+--------------------------+\n",
      "|loan_amnt|int_rate|      installment|grade|emp_length|home_ownership|        annual_inc|verification_status|loan_status|           purpose|               dti|    inq_last_6mths|          open_acc|        revol_bal|revol_util|         total_acc|         out_prncp|       total_pymnt|     total_rec_int|  last_pymnt_amnt|       tot_cur_bal|  total_rev_hi_lim|acc_open_past_24mths|       avg_cur_bal|bc_util|          mort_acc|mths_since_recent_bc|mths_since_recent_inq|    num_actv_bc_tl|   num_actv_rev_tl|       num_bc_sats|         num_il_tl|num_tl_op_past_12m|   pct_tl_nvr_dlq|percent_bc_gt_75| total_bal_ex_mort|total_il_high_credit_limit|\n",
      "+---------+--------+-----------------+-----+----------+--------------+------------------+-------------------+-----------+------------------+------------------+------------------+------------------+-----------------+----------+------------------+------------------+------------------+------------------+-----------------+------------------+------------------+--------------------+------------------+-------+------------------+--------------------+---------------------+------------------+------------------+------------------+------------------+------------------+-----------------+----------------+------------------+--------------------------+\n",
      "|   2500.0|   13.56|4.453416630760555|    C| 10+ years|          RENT|10.915106645867503|       Not Verified|    Current|debt_consolidation|2.9569914452375605|0.6931471805599453| 2.302585092994046|8.376090350438238|      10.3|3.5553480614894135|  7.77779262633883| 5.124083019936701| 3.989724513091998|4.453416630760555| 9.735187237104428|10.645448706505872|   2.302585092994046| 7.538494999413465|    5.9|               0.0|  0.6931471805599453|   1.0986122886681096|1.0986122886681096| 1.791759469228055|1.3862943611198906| 2.833213344056216|1.3862943611198906| 4.61512051684126|             0.0| 9.735187237104428|         9.805047479722875|\n",
      "|  30000.0|   18.94|6.657022110308558|    D| 10+ years|      MORTGAGE|11.407576060361786|    Source Verified|    Current|debt_consolidation| 3.314913013065143|               0.0| 2.639057329615259| 9.41865450904439|      24.2|3.8066624897703196|10.288341706740168| 7.318612490204678| 6.797784150766628|6.657022110308558|12.682045920928944|10.835671318412196|  2.3978952727983707|10.117146264639123|    8.3|1.3862943611198906|  1.6094379124341003|   1.6094379124341003|1.0986122886681096|1.6094379124341003|1.6094379124341003| 3.332204510175204|1.9459101490553132|4.564348191467836|             0.0|11.507601316813528|        11.451826355602378|\n",
      "|   5000.0|   17.97|5.202301938114349|    D|   6 years|      MORTGAGE|10.990044128923504|    Source Verified|    Current|debt_consolidation| 2.443216222733791|               0.0|2.1972245773362196|8.433811582477187|      19.1| 2.639057329615259| 8.473868066677865|5.8718078823042195| 4.956531035103055|5.202301938114349|11.610959205241594|10.090008612393838|  1.6094379124341003| 9.819236000088537|    0.0|1.0986122886681096|   4.356708826689592|     2.70805020110221|               0.0|1.3862943611198906|1.3862943611198906|1.6094379124341003|               0.0| 4.61512051684126|             0.0| 9.371608519572305|         9.210440366976517|\n",
      "|   4000.0|   18.94|4.993895970091957|    D| 10+ years|      MORTGAGE|11.429554725537322|    Source Verified|    Current|debt_consolidation|2.8758219768814333|               0.0|2.3978952727983707|8.606851063346772|      78.1| 2.639057329615259| 8.251142139090751| 5.661953028382361| 4.784487233761747|4.993895970091957|    12.62823097658| 8.853808274977197|   1.791759469228055|10.325678664559879|   75.2|1.3862943611198906|   4.174387269895637|    1.791759469228055|0.6931471805599453|1.0986122886681096|0.6931471805599453|2.0794415416798357|1.3862943611198906| 4.61512051684126|           100.0|10.495487551091115|        10.714084379851219|\n",
      "|  30000.0|   16.14|6.596845520411052|    C| 10+ years|      MORTGAGE|10.955200388512845|       Not Verified|    Current|debt_consolidation|3.3087165288679903|               0.0|2.5649493574615367|6.721425700790643|       3.6| 3.295836866004329|10.286707051696972|  7.26137255300912|6.6375594275376315|6.596845520411052|11.661414433227732|10.047631185616188|   2.302585092994046| 9.176576741823373|    8.9|1.0986122886681096|  1.0986122886681096|    2.639057329615259|1.0986122886681096|1.0986122886681096|1.3862943611198906| 2.302585092994046| 1.791759469228055|4.535820107853298|             0.0|10.298060219477868|        10.383843659485919|\n",
      "+---------+--------+-----------------+-----+----------+--------------+------------------+-------------------+-----------+------------------+------------------+------------------+------------------+-----------------+----------+------------------+------------------+------------------+------------------+-----------------+------------------+------------------+--------------------+------------------+-------+------------------+--------------------+---------------------+------------------+------------------+------------------+------------------+------------------+-----------------+----------------+------------------+--------------------------+\n",
      "only showing top 5 rows\n",
      "\n"
     ]
    }
   ],
   "source": [
    "# -----------------------------\n",
    "# 1. Número total de filas y columnas\n",
    "# -----------------------------\n",
    "num_filas = df_v1.count()\n",
    "num_columnas = len(df_v1.columns)\n",
    "print(f\"Total de registros: {num_filas}\")\n",
    "print(f\"Total de columnas: {num_columnas}\")\n",
    "\n",
    "# -----------------------------\n",
    "# 2. Conteo de columnas por tipo de dato\n",
    "# -----------------------------\n",
    "tipos = {}\n",
    "for col_name, tipo in df_v1.dtypes:\n",
    "    tipos[tipo] = tipos.get(tipo, 0) + 1\n",
    "\n",
    "print(\"\\nConteo de columnas por tipo de dato:\")\n",
    "for tipo, cantidad in tipos.items():\n",
    "    print(f\" - {tipo}: {cantidad}\")\n",
    "\n",
    "# -----------------------------\n",
    "# 3. Verificación de valores nulos residuales\n",
    "# -----------------------------\n",
    "print(\"\\nValores nulos restantes por columna:\")\n",
    "df_v1.select([\n",
    "    count(when(col(c).isNull(), c)).alias(c)\n",
    "    for c in df_v1.columns\n",
    "]).show(truncate=False)\n",
    "\n",
    "# Eliminar registros que aún contengan valores nulos\n",
    "filas_antes = df_v1.count()\n",
    "df_v1 = df_v1.na.drop()\n",
    "filas_despues = df_v1.count()\n",
    "\n",
    "print(f\"Registros eliminados por contener valores nulos: {filas_antes - filas_despues}\")\n",
    "print(f\"Total de registros restantes: {filas_despues}\")\n",
    "\n",
    "# -----------------------------\n",
    "# 4. Vista de muestra final\n",
    "# -----------------------------\n",
    "print(\"\\n Vista de muestra del dataset final:\")\n",
    "df_v1.show(5)\n"
   ]
  },
  {
   "cell_type": "code",
   "execution_count": 21,
   "id": "66fdd6c8",
   "metadata": {},
   "outputs": [
    {
     "name": "stdout",
     "output_type": "stream",
     "text": [
      "+-------+------------------+------------------+-----------------+------------------+------------------+------------------+------------------+-----------------+------------------+------------------+-----------------+------------------+------------------+-----------------+-----------------+-----------------+--------------------+------------------+-----------------+------------------+--------------------+---------------------+------------------+------------------+-----------------+-----------------+------------------+-----------------+------------------+-----------------+--------------------------+\n",
      "|summary|         loan_amnt|          int_rate|      installment|        annual_inc|               dti|    inq_last_6mths|          open_acc|        revol_bal|        revol_util|         total_acc|        out_prncp|       total_pymnt|     total_rec_int|  last_pymnt_amnt|      tot_cur_bal| total_rev_hi_lim|acc_open_past_24mths|       avg_cur_bal|          bc_util|          mort_acc|mths_since_recent_bc|mths_since_recent_inq|    num_actv_bc_tl|   num_actv_rev_tl|      num_bc_sats|        num_il_tl|num_tl_op_past_12m|   pct_tl_nvr_dlq|  percent_bc_gt_75|total_bal_ex_mort|total_il_high_credit_limit|\n",
      "+-------+------------------+------------------+-----------------+------------------+------------------+------------------+------------------+-----------------+------------------+------------------+-----------------+------------------+------------------+-----------------+-----------------+-----------------+--------------------+------------------+-----------------+------------------+--------------------+---------------------+------------------+------------------+-----------------+-----------------+------------------+-----------------+------------------+-----------------+--------------------------+\n",
      "|  count|           2260668|           2260668|          2260668|           2260668|           2260668|           2260668|           2260668|          2260668|           2260668|           2260668|          2260668|           2260668|           2260668|          2260668|          2260668|          2260668|             2260668|           2260668|          2260668|           2260668|             2260668|              2260668|           2260668|           2260668|          2260668|          2260668|           2260668|          2260668|           2260668|          2260668|                   2260668|\n",
      "|   mean|15046.931227849467|13.092912944313932|445.8076459258883| 77992.41764178556| 18.82394577178072|0.5772705235797561|11.612502587730706|16657.19078077807| 50.85740843414435|24.455804213621814|4446.191893281101|11822.973472407812|2386.9271048764376|3363.951979319016|140462.7999007373|34282.51656324591|   4.510102766085069|13350.002516512819|57.96385771815849|1.5431036313160535|  24.492525660556968|    6.759613972507241| 3.655037802985666| 5.609892297320969|4.754113828302077|8.338389803367853| 2.074364745287676|94.29780427732379| 42.27052810939124|50720.87362142517|        43376.193344622036|\n",
      "| stddev| 9190.245488232782|4.8321142328722555|267.1737249936659|112696.09839010402|14.177638654847282|1.0377474856957862| 5.642100174510157|22947.57975667556|185.22879932400207|104.00058533723833|7547.543553848145| 9889.857392021577| 2666.482232412956|5971.822367429097|158581.1308582765| 36189.7115108801|    3.12996436685645|16253.248125367303|28.10055860961502|1.8858183821744454|   31.84828272179687|   5.6037009942654565|2.2912484835085536|3.3316761250268145|3.000822062962409|7.255936189745496|1.8020811672053074|8.953500879720787|35.618289900867545|49397.30584957712|           44411.537693459|\n",
      "|    min|             500.0|              5.31|             4.93|               0.0|              -1.0|               0.0|               0.0|              0.0|               0.0|               0.0|              0.0|               0.0|               0.0|              0.0|              0.0|              0.0|                 0.0|               0.0|              0.0|               0.0|                 0.0|                  0.0|               0.0|               0.0|              0.0|              0.0|               0.0|              0.0|               0.0|              0.0|                       0.0|\n",
      "|    max|           40000.0|             30.99|          1719.83|             1.1E8|             999.0|             809.0|             101.0|        2904836.0|          152002.0|           89832.0|          57451.0|   63296.877868241|          149527.0|         42192.05|        9971659.0|        9999999.0|                64.0|          958084.0|            339.6|              94.0|               661.0|                 25.0|              50.0|              72.0|             71.0|            159.0|              32.0|            100.0|             100.0|        3408095.0|                 2118996.0|\n",
      "+-------+------------------+------------------+-----------------+------------------+------------------+------------------+------------------+-----------------+------------------+------------------+-----------------+------------------+------------------+-----------------+-----------------+-----------------+--------------------+------------------+-----------------+------------------+--------------------+---------------------+------------------+------------------+-----------------+-----------------+------------------+-----------------+------------------+-----------------+--------------------------+\n",
      "\n"
     ]
    }
   ],
   "source": [
    "#Estadísticas descriptivas para variables numéricas\n",
    "numeric_columns = [col.name for col in df.schema.fields if col.dataType.simpleString() != 'string']\n",
    "df_numerics = df.select(numeric_columns)\n",
    "df_numerics.describe().show()"
   ]
  },
  {
   "cell_type": "code",
   "execution_count": 22,
   "id": "80143af9",
   "metadata": {},
   "outputs": [
    {
     "name": "stdout",
     "output_type": "stream",
     "text": [
      "+-----+------+\n",
      "|grade| count|\n",
      "+-----+------+\n",
      "|    B|663557|\n",
      "|    C|650053|\n",
      "|    A|433027|\n",
      "|    D|324424|\n",
      "|    E|135639|\n",
      "|    F| 41800|\n",
      "|    G| 12168|\n",
      "+-----+------+\n",
      "\n",
      "+----------+------+\n",
      "|emp_length| count|\n",
      "+----------+------+\n",
      "| 10+ years|748005|\n",
      "|   2 years|203676|\n",
      "|  < 1 year|189988|\n",
      "|   3 years|180753|\n",
      "|    1 year|148403|\n",
      "|       n/a|146907|\n",
      "|   5 years|139698|\n",
      "|   4 years|136605|\n",
      "|   6 years|102628|\n",
      "|   7 years| 92695|\n",
      "|   8 years| 91914|\n",
      "|   9 years| 79395|\n",
      "| reactors\"|     1|\n",
      "+----------+------+\n",
      "\n",
      "+--------------+-------+\n",
      "|home_ownership|  count|\n",
      "+--------------+-------+\n",
      "|      MORTGAGE|1111449|\n",
      "|          RENT| 894929|\n",
      "|           OWN| 253057|\n",
      "|           ANY|    996|\n",
      "|         OTHER|    182|\n",
      "|          NONE|     54|\n",
      "|       2 years|      1|\n",
      "+--------------+-------+\n",
      "\n",
      "+-------------------+------+\n",
      "|verification_status| count|\n",
      "+-------------------+------+\n",
      "|    Source Verified|886230|\n",
      "|       Not Verified|744806|\n",
      "|           Verified|629631|\n",
      "|              38000|     1|\n",
      "+-------------------+------+\n",
      "\n",
      "+--------------------+-------+\n",
      "|         loan_status|  count|\n",
      "+--------------------+-------+\n",
      "|          Fully Paid|1041952|\n",
      "|             Current| 919695|\n",
      "|         Charged Off| 261654|\n",
      "|  Late (31-120 days)|  21897|\n",
      "|     In Grace Period|   8952|\n",
      "|   Late (16-30 days)|   3737|\n",
      "|Does not meet the...|   1988|\n",
      "|Does not meet the...|    761|\n",
      "|             Default|     31|\n",
      "|            Oct-2015|      1|\n",
      "+--------------------+-------+\n",
      "\n",
      "+--------------------+-------+\n",
      "|             purpose|  count|\n",
      "+--------------------+-------+\n",
      "|  debt_consolidation|1277791|\n",
      "|         credit_card| 516926|\n",
      "|    home_improvement| 150440|\n",
      "|               other| 139413|\n",
      "|      major_purchase|  50429|\n",
      "|             medical|  27481|\n",
      "|      small_business|  24659|\n",
      "|                 car|  24009|\n",
      "|            vacation|  15525|\n",
      "|              moving|  15402|\n",
      "|               house|  14131|\n",
      "|             wedding|   2351|\n",
      "|    renewable_energy|   1445|\n",
      "|         educational|    412|\n",
      "| and also pay off...|      1|\n",
      "| and transparent ...|      1|\n",
      "| so that our comp...|      1|\n",
      "| which is $250 a ...|      1|\n",
      "| hopefully in tim...|      1|\n",
      "| as we affectiona...|      1|\n",
      "+--------------------+-------+\n",
      "only showing top 20 rows\n",
      "\n"
     ]
    }
   ],
   "source": [
    "#Estadísticas descriptivas para variables categoricas \n",
    "cat_columns = [col.name for col in df.schema.fields if col.dataType.simpleString() == 'string']\n",
    "df_strings = df.select(cat_columns)\n",
    "for col_name in cat_columns:\n",
    "    total_distintos = df.select(col_name).distinct().count()\n",
    "    df_strings.groupBy(col_name).count().orderBy(\"count\", ascending=False).show()"
   ]
  },
  {
   "cell_type": "markdown",
   "id": "cf486558",
   "metadata": {},
   "source": [
    "# **4. Construcción de la muestra representativa (M)**\n",
    "\n",
    "En esta sección se construirá una muestra representativa (`M`) a partir del conjunto original de datos, con el objetivo de facilitar el entrenamiento de modelos sin perder la diversidad ni las proporciones clave de la población.\n",
    "\n",
    "Para ello, se realizarán las siguientes etapas:\n",
    "\n",
    "1. **Agrupación de categorías poco frecuentes** en las variables `home_ownership` y `purpose`, con el fin de reducir la complejidad del análisis y evitar combinaciones con muy baja representatividad.\n",
    "\n",
    "2. **Identificación de combinaciones significativas** entre las variables `purpose`, `home_ownership` y `verification_status`, seleccionando únicamente aquellas con más de 50,000 registros para garantizar solidez estadística.\n",
    "\n",
    "3. **Aplicación de muestreo aleatorio** del 20% sobre cada combinación válida, generando subconjuntos balanceados (`Mi`) que capturan la estructura poblacional de forma proporcional.\n",
    "\n",
    "4. **Unión de los subconjuntos `Mi`** para conformar la muestra final `M`, la cual será utilizada en las siguientes etapas del proceso de modelado.\n",
    "\n",
    "Este procedimiento permite reducir el volumen total de datos manteniendo la calidad y representatividad necesarias para entrenar modelos de aprendizaje automático de manera eficiente.\n"
   ]
  },
  {
   "cell_type": "markdown",
   "id": "3707fe69",
   "metadata": {},
   "source": [
    "## 4.1 Agrupación de categorías relevantes\n",
    "\n",
    "Para reducir la dimensionalidad de las variables categóricas y facilitar una mejor caracterización de la población, se agruparon algunas categorías de baja frecuencia en nuevas clases.\n",
    "\n",
    "- En `home_ownership`, se agruparon todas las categorías poco frecuentes en una nueva categoría llamada `OTHER`.\n",
    "- En `purpose`, se unificaron propósitos similares en grupos temáticos: `debt_related`, `large_expense`, `personal_use`, `life_event` y `other`.\n"
   ]
  },
  {
   "cell_type": "code",
   "execution_count": 23,
   "id": "27a0d0a7",
   "metadata": {},
   "outputs": [],
   "source": [
    "# Agrupar categorías frecuentes en 'home_ownership'\n",
    "categorias_frecuentes = ['MORTGAGE', 'RENT', 'OWN']\n",
    "df_v1 = df_v1.withColumn(\n",
    "    \"home_ownership\",\n",
    "    when(col(\"home_ownership\").isin(categorias_frecuentes), col(\"home_ownership\"))\n",
    "    .otherwise(\"OTHER\")\n",
    ")\n",
    "\n",
    "# Agrupar categorías en 'purpose'\n",
    "df_v1 = df_v1.withColumn(\n",
    "    \"purpose\",\n",
    "    when(col(\"purpose\").isin(\"debt_consolidation\", \"credit_card\"), \"debt_related\")\n",
    "    .when(col(\"purpose\").isin(\"home_improvement\", \"major_purchase\"), \"large_expense\")\n",
    "    .when(col(\"purpose\").isin(\"small_business\", \"car\", \"vacation\", \"house\"), \"personal_use\")\n",
    "    .when(col(\"purpose\").isin(\"medical\", \"wedding\", \"moving\"), \"life_event\")\n",
    "    .otherwise(\"other\")\n",
    ")"
   ]
  },
  {
   "cell_type": "markdown",
   "id": "47d1083d",
   "metadata": {},
   "source": [
    "## 4.2 Identificación de combinaciones válidas\n",
    "\n",
    "Se generaron todas las combinaciones posibles entre las variables `purpose`, `home_ownership` y `verification_status`. Posteriormente, se calcularon sus frecuencias relativas y absolutas.\n",
    "\n",
    "Solo se consideraron aquellas combinaciones con **más de 50,000 registros** para garantizar una muestra robusta y representativa.\n"
   ]
  },
  {
   "cell_type": "code",
   "execution_count": 24,
   "id": "a7965300",
   "metadata": {},
   "outputs": [
    {
     "name": "stdout",
     "output_type": "stream",
     "text": [
      "Combinaciones posibles: 61\n",
      "+-------------+--------------+-------------------+----------+----------------+\n",
      "|purpose      |home_ownership|verification_status|frecuencia|probabilidad (%)|\n",
      "+-------------+--------------+-------------------+----------+----------------+\n",
      "|debt_related |MORTGAGE      |Source Verified    |313275    |14.38           |\n",
      "|debt_related |RENT          |Source Verified    |293686    |13.48           |\n",
      "|debt_related |MORTGAGE      |Not Verified       |278403    |12.78           |\n",
      "|debt_related |MORTGAGE      |Verified           |245792    |11.28           |\n",
      "|debt_related |RENT          |Not Verified       |237892    |10.92           |\n",
      "|debt_related |RENT          |Verified           |180049    |8.27            |\n",
      "|debt_related |OWN           |Source Verified    |72772     |3.34            |\n",
      "|debt_related |OWN           |Not Verified       |62590     |2.87            |\n",
      "|large_expense|MORTGAGE      |Not Verified       |50961     |2.34            |\n",
      "|large_expense|MORTGAGE      |Source Verified    |47233     |2.17            |\n",
      "|debt_related |OWN           |Verified           |47093     |2.16            |\n",
      "|large_expense|MORTGAGE      |Verified           |31301     |1.44            |\n",
      "|other        |RENT          |Source Verified    |27800     |1.28            |\n",
      "|other        |MORTGAGE      |Source Verified    |19894     |0.91            |\n",
      "|other        |RENT          |Not Verified       |18799     |0.86            |\n",
      "|other        |MORTGAGE      |Not Verified       |18023     |0.83            |\n",
      "|other        |RENT          |Verified           |17412     |0.8             |\n",
      "|other        |MORTGAGE      |Verified           |15524     |0.71            |\n",
      "|personal_use |RENT          |Source Verified    |14333     |0.66            |\n",
      "|large_expense|RENT          |Source Verified    |14071     |0.65            |\n",
      "+-------------+--------------+-------------------+----------+----------------+\n",
      "only showing top 20 rows\n",
      "\n"
     ]
    }
   ],
   "source": [
    "total = df_v1.count()\n",
    "\n",
    "combinaciones = df_v1.groupBy('purpose', 'home_ownership','verification_status') \\\n",
    "    .count() \\\n",
    "    .withColumnRenamed(\"count\", \"frecuencia\") \\\n",
    "    .withColumn(\"probabilidad (%)\", round((col(\"frecuencia\") / total) * 100, 2)) \\\n",
    "    .orderBy(\"frecuencia\", ascending=False)\n",
    "\n",
    "print(\"Combinaciones posibles:\", combinaciones.count())\n",
    "combinaciones.show(truncate=False)"
   ]
  },
  {
   "cell_type": "markdown",
   "id": "bc7ac0dd",
   "metadata": {},
   "source": [
    "## 4.3 Muestreo aleatorio de subconjuntos `Mi`\n",
    "\n",
    "A cada combinación válida se le aplicó un muestreo aleatorio del 20% sin reemplazo (`fraction=0.2`), obteniendo un subconjunto `Mi` por cada combinación.\n",
    "\n",
    "Estos subconjuntos fueron almacenados en una lista para su posterior consolidación."
   ]
  },
  {
   "cell_type": "code",
   "execution_count": 25,
   "id": "04d430e3",
   "metadata": {},
   "outputs": [
    {
     "name": "stdout",
     "output_type": "stream",
     "text": [
      "Número de subconjuntos Mi generados: 8\n"
     ]
    }
   ],
   "source": [
    "# Definir umbral mínimo de registros para considerar una combinación válida\n",
    "UMBRAL = 60000\n",
    "\n",
    "# Filtrar las combinaciones que superan el umbral\n",
    "combinaciones_validas = df_v1.groupBy(\"purpose\", \"home_ownership\", \"verification_status\") \\\n",
    "    .count() \\\n",
    "    .filter(col(\"count\") > UMBRAL) \\\n",
    "    .collect()\n",
    "\n",
    "# Crear lista para almacenar cada subconjunto Mi\n",
    "muestras = []\n",
    "\n",
    "# Aplicar muestreo del 20% a cada combinación válida y agregarla a la lista\n",
    "for fila in combinaciones_validas:\n",
    "    p, h, v = fila[\"purpose\"], fila[\"home_ownership\"], fila[\"verification_status\"]\n",
    "    \n",
    "    mi = df_v1.filter(\n",
    "        (col(\"purpose\") == p) &\n",
    "        (col(\"home_ownership\") == h) &\n",
    "        (col(\"verification_status\") == v)\n",
    "    )\n",
    "    \n",
    "    mi = mi.sample(withReplacement=False, fraction=0.2, seed=1)\n",
    "    muestras.append(mi)\n",
    "\n",
    "# Confirmar cuántos subconjuntos se generaron\n",
    "print(\"Número de subconjuntos Mi generados:\", len(muestras))\n"
   ]
  },
  {
   "cell_type": "markdown",
   "id": "e6873882",
   "metadata": {},
   "source": [
    "### 4.4 Unión de subconjuntos y validación de la muestra `M`\n",
    "\n",
    "La muestra representativa `M` se construyó como la unión de todos los subconjuntos `Mi`.\n",
    "\n",
    "Finalmente, se validó que la distribución de combinaciones en `M` reflejara las proporciones generales de la población original."
   ]
  },
  {
   "cell_type": "code",
   "execution_count": 26,
   "id": "fbad7d69",
   "metadata": {},
   "outputs": [
    {
     "name": "stdout",
     "output_type": "stream",
     "text": [
      "Total de registros en la muestra M: 337414\n",
      "+------------+--------------+-------------------+-----+\n",
      "|purpose     |home_ownership|verification_status|count|\n",
      "+------------+--------------+-------------------+-----+\n",
      "|debt_related|MORTGAGE      |Source Verified    |62736|\n",
      "|debt_related|RENT          |Source Verified    |58884|\n",
      "|debt_related|MORTGAGE      |Not Verified       |55790|\n",
      "|debt_related|MORTGAGE      |Verified           |49197|\n",
      "|debt_related|RENT          |Not Verified       |47630|\n",
      "|debt_related|RENT          |Verified           |35982|\n",
      "|debt_related|OWN           |Source Verified    |14604|\n",
      "|debt_related|OWN           |Not Verified       |12591|\n",
      "+------------+--------------+-------------------+-----+\n",
      "\n"
     ]
    }
   ],
   "source": [
    "# Unión final para obtener M\n",
    "M = muestras[0]\n",
    "for mi in muestras[1:]:\n",
    "    M = M.union(mi)\n",
    "\n",
    "print(\"Total de registros en la muestra M:\", M.count())\n",
    "\n",
    "# Verifica distribución\n",
    "M.groupBy(\"purpose\", \"home_ownership\", \"verification_status\").count().orderBy(\"count\", ascending=False).show(truncate=False)"
   ]
  },
  {
   "cell_type": "markdown",
   "id": "cad8f222",
   "metadata": {},
   "source": [
    "# **5. Preparación del Dataset para Modelado**\n",
    "\n",
    "Para asegurar una correcta preparación del dataset sin fugas de información, se siguió este flujo:\n",
    "\n",
    "1. **Transformación de la variable objetivo**: se creó una columna binaria `label` a partir de `loan_status`, donde 1 indica riesgo y 0 no riesgo.\n",
    "\n",
    "2. **División del dataset**: se separó la muestra representativa `M` en conjuntos `train` (80%) y `test` (20%) mediante una partición estratificada.\n",
    "\n",
    "3. **Definición del pipeline**: se construyó un pipeline con `StringIndexer` para codificar variables categóricas y `VectorAssembler` para generar el vector `features`.\n",
    "\n",
    "4. **Entrenamiento del pipeline**: el pipeline se entrenó únicamente con `train` y luego se aplicó a `test`.\n",
    "\n",
    "Con esto, ambos conjuntos quedaron listos para el entrenamiento de modelos supervisados y no supervisados.\n"
   ]
  },
  {
   "cell_type": "markdown",
   "id": "97b0d5db",
   "metadata": {},
   "source": [
    "## 5.1 Transformación de la variable objetivo \n",
    "\n",
    "La variable `loan_status` indica el estado final del préstamo otorgado. Esta columna contiene múltiples categorías textuales como:\n",
    "\n",
    "- *Fully Paid* (Pagado completamente)\n",
    "- *Charged Off* (Incobrable)\n",
    "- *Default* (Incumplimiento)\n",
    "- *Late* (Atrasado)\n",
    "\n",
    "Para el entrenamiento de un modelo de clasificación binaria, esta variable será transformada en una columna numérica llamada **`loan_status`**, con los siguientes valores:\n",
    "\n",
    "- `0` → Préstamo sin riesgo (ej. *Fully Paid*)\n",
    "- `1` → Préstamo con riesgo (ej. *Charged Off*, *Default*, *Late*)\n",
    "\n",
    "Esta conversión permitirá usarla como variable objetivo (`loan_status`) en algoritmos de clasificación supervisada.\n"
   ]
  },
  {
   "cell_type": "code",
   "execution_count": 27,
   "id": "1deb8f5c",
   "metadata": {},
   "outputs": [
    {
     "name": "stdout",
     "output_type": "stream",
     "text": [
      "+-----------+------+\n",
      "|loan_status| count|\n",
      "+-----------+------+\n",
      "|          0|293454|\n",
      "|          1| 43960|\n",
      "+-----------+------+\n",
      "\n"
     ]
    }
   ],
   "source": [
    "# Definir los valores considerados como préstamos con riesgo\n",
    "valores_riesgo = [ \"Late (16-30 days)\", \"In Grace Period\",\n",
    "        \"Charged Off\", \"Default\", \"Late (31-120 days)\",\n",
    "        \"Does not meet the credit policy. Status:Fully Paid\",\n",
    "        \"Does not meet the credit policy. Status:Charged Off\",\n",
    "        \"Oct-2015\",None]\n",
    "\n",
    "# Crear una nueva columna binaria 'label':\n",
    "# - 1 si el préstamo representa riesgo\n",
    "# - 0 si fue pagado completamente u otro estado sin riesgo\n",
    "M = M.withColumn(\n",
    "    \"loan_status\",\n",
    "    when(col(\"loan_status\").isin(valores_riesgo), 1).otherwise(0)\n",
    ")\n",
    "\n",
    "# Verificar la distribución de clases en la variable objetivo\n",
    "M.groupBy(\"loan_status\").count().orderBy(\"loan_status\").show()\n"
   ]
  },
  {
   "cell_type": "markdown",
   "id": "6ff69684",
   "metadata": {},
   "source": [
    "## 5.2 División del dataset en Train/Test\n",
    "Una vez generada la muestra representativa `M` a partir de las particiones válidas `Mi` (seleccionadas con base en un umbral mínimo de 50,000 registros por combinación), se procede a dividir cada subconjunto `Mi` en dos partes:\n",
    "\n",
    "- `Tri`: subconjunto de entrenamiento\n",
    "- `Tsi`: subconjunto de prueba\n",
    "\n",
    "Con el objetivo de mantener la representatividad y evitar sesgos, se implementa una estrategia de partición aleatoria estratificada, garantizando que:\n",
    "\n",
    "- No exista traslape entre `Tri` y `Tsi`, es decir, `Tri ∩ Tsi = ∅`.\n",
    "- La unión de todas las particiones (`Tri ∪ Tsi`) sea equivalente a la muestra total `M`.\n",
    "- Se preserve la proporción original de la variable objetivo (`label`) dentro de ambos subconjuntos.\n",
    "\n",
    "La proporción utilizada para la división es:\n",
    "\n",
    "- **80% para el conjunto de entrenamiento (`Train`)**\n",
    "- **20% para el conjunto de prueba (`Test`)**\n",
    "\n",
    "A continuación, se muestra el código utilizado para realizar dicha partición.características.\n"
   ]
  },
  {
   "cell_type": "code",
   "execution_count": 28,
   "id": "dc39750a",
   "metadata": {},
   "outputs": [
    {
     "name": "stdout",
     "output_type": "stream",
     "text": [
      "Tamaño del conjunto de entrenamiento: 270048\n",
      "Tamaño del conjunto de prueba: 67366\n",
      "\n",
      "Distribución de clases en entrenamiento:\n",
      "+-----------+------+\n",
      "|loan_status| count|\n",
      "+-----------+------+\n",
      "|          0|234902|\n",
      "|          1| 35146|\n",
      "+-----------+------+\n",
      "\n",
      "\n",
      "Distribución de clases en prueba:\n",
      "+-----------+-----+\n",
      "|loan_status|count|\n",
      "+-----------+-----+\n",
      "|          0|58552|\n",
      "|          1| 8814|\n",
      "+-----------+-----+\n",
      "\n"
     ]
    }
   ],
   "source": [
    "# Crear listas para almacenar subconjuntos\n",
    "# Cachear la muestra M antes de usarla varias veces\n",
    "M = M.cache()\n",
    "M.count()  # fuerza evaluación y almacenamiento en memoria\n",
    "\n",
    "# Crear listas para subconjuntos\n",
    "train_subsets = []\n",
    "test_subsets = []\n",
    "\n",
    "# Dividir cada combinación válida en 80% Train / 20% Test\n",
    "for fila in combinaciones_validas:\n",
    "    p, h, v = fila[\"purpose\"], fila[\"home_ownership\"], fila[\"verification_status\"]\n",
    "    \n",
    "    mi = M.filter(\n",
    "        (col(\"purpose\") == p) &\n",
    "        (col(\"home_ownership\") == h) &\n",
    "        (col(\"verification_status\") == v)\n",
    "    )\n",
    "    \n",
    "    tri, tsi = mi.randomSplit([0.8, 0.2], seed=42)\n",
    "    train_subsets.append(tri)\n",
    "    test_subsets.append(tsi)\n",
    "\n",
    "# Unir todos los subconjuntos con reduce\n",
    "train = reduce(DataFrame.union, train_subsets).cache()\n",
    "test = reduce(DataFrame.union, test_subsets).cache()\n",
    "\n",
    "# Forzar evaluación y mostrar tamaños\n",
    "print(\"Tamaño del conjunto de entrenamiento:\", train.count())\n",
    "print(\"Tamaño del conjunto de prueba:\", test.count())\n",
    "\n",
    "# Verificar distribución de clases\n",
    "print(\"\\nDistribución de clases en entrenamiento:\")\n",
    "train.groupBy(\"loan_status\").count().orderBy(\"loan_status\").show()\n",
    "\n",
    "print(\"\\nDistribución de clases en prueba:\")\n",
    "test.groupBy(\"loan_status\").count().orderBy(\"loan_status\").show()"
   ]
  },
  {
   "cell_type": "markdown",
   "id": "53a4396d",
   "metadata": {},
   "source": [
    "## 5.3 Definición del pipeline de transformación\n",
    "\n",
    "Para preparar los datos para los modelos de aprendizaje, se construye un pipeline compuesto por dos transformadores:\n",
    "\n",
    "- **`StringIndexer`**: convierte variables categóricas en índices numéricos.\n",
    "- **`VectorAssembler`**: combina variables numéricas e indexadas en una sola columna `features`.\n",
    "\n",
    "Este pipeline se entrenará únicamente con el conjunto `train`, y luego se aplicará a ambos subconjuntos (`train` y `test`) para garantizar una transformación consistente y sin fugas de información.\n",
    "\n",
    "\n"
   ]
  },
  {
   "cell_type": "code",
   "execution_count": 29,
   "id": "d55196c9",
   "metadata": {},
   "outputs": [],
   "source": [
    "# Definir las variables categóricas a codificar\n",
    "variables_categoricas = [\"home_ownership\", \"verification_status\", \"purpose\", \"grade\", \"emp_length\"]\n",
    "columnas_indexadas = [f\"{col}_idx\" for col in variables_categoricas]\n",
    "\n",
    "# Crear los indexadores\n",
    "indexers = [\n",
    "    StringIndexer(inputCol=col, outputCol=f\"{col}_idx\", handleInvalid=\"keep\")\n",
    "    for col in variables_categoricas\n",
    "]\n",
    "\n",
    "# Identificar variables numéricas útiles\n",
    "columnas_numericas = [\n",
    "    c for c in train.columns\n",
    "    if c not in variables_categoricas + [\"loan_status\", \"label\", \"features\"]\n",
    "    and train.schema[c].dataType.simpleString() in ['double', 'int']\n",
    "]\n",
    "\n",
    "# Combinar columnas categóricas indexadas + numéricas\n",
    "columnas_input_features = columnas_indexadas + columnas_numericas\n",
    "\n",
    "# Crear ensamblador\n",
    "assembler = VectorAssembler(\n",
    "    inputCols=columnas_input_features,\n",
    "    outputCol=\"features\"\n",
    ")\n",
    "\n",
    "# Definir pipeline completo\n",
    "pipeline = Pipeline(stages=indexers + [assembler])\n"
   ]
  },
  {
   "cell_type": "markdown",
   "id": "7ce95ecd",
   "metadata": {},
   "source": [
    "## 5.4 Entrenamiento del pipeline\n",
    "\n",
    "El pipeline definido previamente se entrena utilizando exclusivamente el conjunto `train`. Esto asegura que las transformaciones aplicadas (como el mapeo de categorías o la estructura del vector de entrada) no estén influenciadas por datos del conjunto de prueba, evitando así fugas de información.\n",
    "\n",
    "Una vez entrenado, el mismo pipeline se reutilizará para transformar ambos conjuntos de forma consistente.\n",
    "\n"
   ]
  },
  {
   "cell_type": "code",
   "execution_count": 30,
   "id": "8fd0962d",
   "metadata": {},
   "outputs": [],
   "source": [
    "# Entrenar el pipeline únicamente con el conjunto de entrenamiento\n",
    "pipeline_model = pipeline.fit(train)"
   ]
  },
  {
   "cell_type": "markdown",
   "id": "f381ce01",
   "metadata": {},
   "source": [
    "## 5.5 Transformación de conjuntos de entrenamiento y prueba\n",
    "\n",
    "Con el pipeline ya entrenado, se procede a transformar tanto el conjunto de entrenamiento como el de prueba. Esto asegura que ambos conjuntos sean tratados de forma idéntica, utilizando las mismas reglas de codificación y ensamblado de características.\n",
    "\n",
    "El resultado final es un dataset preparado con una columna `features` que puede ser utilizada directamente por los algoritmos de aprendizaje automático.\n"
   ]
  },
  {
   "cell_type": "code",
   "execution_count": 31,
   "id": "1ff4bc20",
   "metadata": {},
   "outputs": [
    {
     "name": "stdout",
     "output_type": "stream",
     "text": [
      "Vista previa de los datos transformados:\n",
      "+----------------------------------------------------------------------------------------------------------------------------------------------------------------------------------------------------------------------------------------------------------------------------------------------------------------------------------------------------------------------------------------------------------------------------------------------------------------------------------------------------------------------------------+-----------+\n",
      "|features                                                                                                                                                                                                                                                                                                                                                                                                                                                                                                                          |loan_status|\n",
      "+----------------------------------------------------------------------------------------------------------------------------------------------------------------------------------------------------------------------------------------------------------------------------------------------------------------------------------------------------------------------------------------------------------------------------------------------------------------------------------------------------------------------------------+-----------+\n",
      "|[2.0,0.0,0.0,2.0,0.0,1000.0,6.46,3.4544221428994533,10.933124826700707,2.2607208888953467,0.0,2.0794415416798357,8.932080438103307,25.2,3.091042453358316,6.856461984594587,4.125843229281472,2.422144328051685,3.4544221428994533,9.302828391411333,10.308985993422082,1.3862943611198906,7.357556200910353,28.3,0.6931471805599453,2.833213344056216,2.639057329615259,1.6094379124341003,1.791759469228055,1.6094379124341003,2.5649493574615367,0.0,4.61512051684126,0.0,9.302828391411333,8.699681400989514]                 |0          |\n",
      "|[2.0,0.0,0.0,3.0,0.0,1000.0,17.97,3.61469455592456,11.002116507732017,3.091042453358316,0.0,2.3978952727983707,9.713597426242222,74.5,3.4339872044851463,6.86484777797086,4.266615783162554,3.354455119110024,3.61469455592456,10.37061204103102,10.007892611890918,1.6094379124341003,8.068402958569699,99.2,1.0986122886681096,3.6635616461296463,2.0794415416798357,1.3862943611198906,1.791759469228055,1.3862943611198906,2.5649493574615367,0.6931471805599453,4.581901559048737,100.0,10.37061204103102,10.398366704472432]|0          |\n",
      "|[2.0,0.0,0.0,1.0,0.0,1400.0,15.02,3.902982260775997,11.418625774449598,2.9569914452375605,0.0,2.1972245773362196,9.486607541612665,55.2,2.302585092994046,7.198931240688173,4.573989068504517,3.5406694269487495,3.902982260775997,10.44787366982408,10.081675578048475,1.0986122886681096,8.368693183097793,89.3,0.0,4.189654742026425,2.639057329615259,1.3862943611198906,1.9459101490553132,1.3862943611198906,1.3862943611198906,0.0,4.61512051684126,100.0,10.44787366982408,10.686612539214305]                            |0          |\n",
      "+----------------------------------------------------------------------------------------------------------------------------------------------------------------------------------------------------------------------------------------------------------------------------------------------------------------------------------------------------------------------------------------------------------------------------------------------------------------------------------------------------------------------------------+-----------+\n",
      "only showing top 3 rows\n",
      "\n"
     ]
    }
   ],
   "source": [
    "# Aplicar el pipeline transformado a ambos conjuntos\n",
    "train = pipeline_model.transform(train)\n",
    "test = pipeline_model.transform(test)\n",
    "\n",
    "# Verificar resultado\n",
    "print(\"Vista previa de los datos transformados:\")\n",
    "train.select(\"features\", \"loan_status\").show(3, truncate=False)"
   ]
  },
  {
   "cell_type": "markdown",
   "id": "e96746f7",
   "metadata": {},
   "source": [
    "# **6. Entrenamiento de Modelos de Aprendizaje**\n",
    "\n",
    "En esta sección se entrenan dos enfoques de aprendizaje automático utilizando los conjuntos `train` y `test` generados previamente:\n",
    "\n",
    "- **Aprendizaje supervisado**, orientado a predecir el riesgo crediticio a través de la variable binaria `label` (derivada de `loan_status`).\n",
    "- **Aprendizaje no supervisado**, enfocado en identificar patrones de agrupamiento entre clientes con características similares.\n",
    "\n",
    "Ambos enfoques fueron seleccionados por su eficiencia, escalabilidad en entornos distribuidos y su implementación nativa en PySpark.  \n",
    "Cada modelo se desarrollará paso a paso conforme al siguiente esquema:\n",
    "\n",
    "## Modelos Supervisados\n",
    "- Selección del algoritmo\n",
    "- Entrenamiento base\n",
    "- Validación cruzada\n",
    "- Ajuste de hiperparámetros\n",
    "\n",
    "## Modelos No Supervisados\n",
    "- Clustering (KMeans, GMM, etc.)\n",
    "- Determinación del número óptimo de clusters\n",
    "- Evaluación de agrupamientos (Silhouette Score)\n",
    "\n",
    "A continuación, se describe el desarrollo de cada uno.\n"
   ]
  },
  {
   "cell_type": "markdown",
   "id": "925cc5aa",
   "metadata": {},
   "source": [
    "## 6.1 Modelos Supervisados\n",
    "\n",
    "El objetivo del enfoque supervisado es construir un modelo capaz de predecir si un cliente representa un riesgo de incumplimiento de pago, utilizando como variable objetivo `label` (binaria).\n",
    "\n",
    "Para este fin, se seleccionó el algoritmo **Random Forest Classifier**, por sus ventajas en clasificación binaria, su capacidad para manejar conjuntos con variables categóricas y numéricas, y su bajo riesgo de sobreajuste.\n",
    "\n",
    "El flujo de trabajo seguido incluye:\n",
    "\n",
    "- **Selección del algoritmo**: se eligió `RandomForestClassifier` por su robustez y eficiencia.\n",
    "- **Entrenamiento base**: se entrena un modelo inicial sin ajuste para establecer una línea base de desempeño.\n",
    "- **Validación cruzada**: se evalúa la estabilidad del modelo usando un enfoque `k-fold`.\n",
    "- **Ajuste de hiperparámetros**: se exploran diferentes configuraciones para mejorar el rendimiento del modelo.\n",
    "\n",
    "A continuación, se describe la implementación de cada una de estas etapas.\n"
   ]
  },
  {
   "cell_type": "markdown",
   "id": "7bc21671",
   "metadata": {},
   "source": [
    "### 6.1.1 Selección del algoritmo\n",
    "\n",
    "Se seleccionó el algoritmo **Random Forest Classifier** por sus ventajas en problemas de clasificación binaria, especialmente en contextos con variables mixtas (categóricas y numéricas), y por su tolerancia a datos no lineales y desbalanceados.\n",
    "\n",
    "Este algoritmo permite construir múltiples árboles de decisión y combinar sus resultados para mejorar la precisión general y reducir la varianza del modelo.\n",
    "\n",
    "Para este proyecto, se usará la implementación de `RandomForestClassifier` disponible en PySpark MLlib, que permite su ejecución distribuida en grandes volúmenes de datos.\n"
   ]
  },
  {
   "cell_type": "code",
   "execution_count": 63,
   "id": "c4151e69",
   "metadata": {},
   "outputs": [],
   "source": [
    "# Instanciar el modelo con una configuración base\n",
    "rf = RandomForestClassifier(\n",
    "    featuresCol=\"features\",\n",
    "    labelCol=\"loan_status\",\n",
    "    predictionCol=\"prediction\",\n",
    "    probabilityCol=\"probability\",\n",
    "    rawPredictionCol=\"rawPrediction\",\n",
    "    numTrees=50,\n",
    "    maxDepth=5,\n",
    "    seed=1\n",
    ")\n"
   ]
  },
  {
   "cell_type": "markdown",
   "id": "7b3b69ae",
   "metadata": {},
   "source": [
    "### 6.1.2 Entrenamiento base\n",
    "\n",
    "Una vez instanciado el modelo `RandomForestClassifier`, se entrena una versión inicial utilizando únicamente el conjunto `train` preprocesado. El objetivo de este paso es establecer una línea base de rendimiento sin ajuste de hiperparámetros.\n",
    "\n",
    "El modelo se entrena sobre la columna `features`, utilizando la variable `loan_status` como objetivo. Posteriormente, se evalúa su desempeño sobre el conjunto `test`.\n"
   ]
  },
  {
   "cell_type": "code",
   "execution_count": 64,
   "id": "e575689a",
   "metadata": {},
   "outputs": [
    {
     "name": "stdout",
     "output_type": "stream",
     "text": [
      "+-----------+----------+----------------------------------------+\n",
      "|loan_status|prediction|probability                             |\n",
      "+-----------+----------+----------------------------------------+\n",
      "|0          |0.0       |[0.8540794681830627,0.14592053181693726]|\n",
      "|0          |0.0       |[0.8879601414376993,0.11203985856230073]|\n",
      "|0          |0.0       |[0.8929054576364018,0.10709454236359824]|\n",
      "|0          |0.0       |[0.9117783072703965,0.08822169272960342]|\n",
      "|0          |0.0       |[0.8991017874638739,0.10089821253612608]|\n",
      "+-----------+----------+----------------------------------------+\n",
      "only showing top 5 rows\n",
      "\n"
     ]
    }
   ],
   "source": [
    "# Entrenar el modelo con el conjunto de entrenamiento\n",
    "modelo_base = rf.fit(train)\n",
    "\n",
    "# Realizar predicciones sobre el conjunto de prueba\n",
    "predicciones_base = modelo_base.transform(test)\n",
    "\n",
    "# Vista previa de resultados\n",
    "predicciones_base.select(\"loan_status\", \"prediction\", \"probability\").show(5, truncate=False)\n"
   ]
  },
  {
   "cell_type": "markdown",
   "id": "42841f7a",
   "metadata": {},
   "source": [
    "### 6.1.3 Validación cruzada (StratifiedKFold)\n",
    "\n",
    "Para evaluar la estabilidad y capacidad de generalización del modelo supervisado, se implementó una estrategia de **validación cruzada estratificada (k-fold)**. Este procedimiento permite medir el desempeño del modelo en distintos subconjuntos del dataset sin comprometer su imparcialidad, ayudando a prevenir el sobreajuste.\n",
    "\n",
    "El procedimiento seguido fue:\n",
    "\n",
    "- Se aplicó `StratifiedKFold` con `k = 5`, asegurando que cada fold conserve la proporción original de clases en la variable objetivo `loan_status`.\n",
    "- A cada observación se le asignó una etiqueta (`fold`) del 0 al 4 indicando su grupo correspondiente.\n",
    "- Para cada fold:\n",
    "  - Se entrena un modelo `RandomForestClassifier` usando 4/5 partes del conjunto (`train`).\n",
    "  - Se prueba el modelo sobre el fold restante (`test`).\n",
    "  - Se calculan métricas tanto en entrenamiento como en validación.\n",
    "  - Se genera una matriz de confusión por fold.\n",
    "\n",
    "#### Métricas utilizadas:\n",
    "\n",
    "- **Accuracy**: proporción de predicciones correctas sobre el total de observaciones.\n",
    "- **Precision**: de los casos que el modelo predijo como positivos, ¿cuántos eran realmente positivos?\n",
    "- **Recall** (sensibilidad): de todos los positivos reales, ¿cuántos logró identificar el modelo?\n",
    "- **F1 Score**: media armónica entre Precision y Recall, útil en contextos de clases desbalanceadas.\n",
    "- **AUC (Área bajo la curva ROC)**: mide la capacidad del modelo para distinguir entre clases. Un valor cercano a 1 indica excelente desempeño.\n",
    "\n",
    "Estas métricas permiten tener una visión completa del comportamiento del modelo y su capacidad para generalizar en distintos subconjuntos. Además, el análisis de su comportamiento entre entrenamiento y validación ayuda a detectar posibles signos de sobreajuste.\n",
    "\n"
   ]
  },
  {
   "cell_type": "code",
   "execution_count": 65,
   "id": "3342599e",
   "metadata": {},
   "outputs": [
    {
     "name": "stdout",
     "output_type": "stream",
     "text": [
      "fold  loan_status\n",
      "0     0              58691\n",
      "      1               8792\n",
      "1     0              58691\n",
      "      1               8792\n",
      "2     0              58691\n",
      "      1               8792\n",
      "3     0              58691\n",
      "      1               8792\n",
      "4     0              58690\n",
      "      1               8792\n",
      "dtype: int64\n"
     ]
    }
   ],
   "source": [
    "# Convertir solo la columna de label a pandas para estratificación\n",
    "df_pd = M.toPandas()\n",
    "df_pd[\"fold\"] = -1\n",
    "\n",
    "# Crear los folds estratificados\n",
    "k = 5\n",
    "skf = StratifiedKFold(n_splits=k, shuffle=True, random_state=1)\n",
    "for fold, (_, val_idx) in enumerate(skf.split(X=df_pd, y=df_pd[\"loan_status\"])):\n",
    "    df_pd.loc[val_idx, \"fold\"] = fold\n",
    "\n",
    "print(df_pd.groupby([\"fold\", \"loan_status\"]).size())\n",
    "df_pd.to_csv('muestra_M_fold.csv', index=False)\n",
    "df_folds =  spark.read.csv(\"muestra_M_fold.csv\", header=True, inferSchema=True)\n"
   ]
  },
  {
   "cell_type": "code",
   "execution_count": 66,
   "id": "f9a8ff82",
   "metadata": {},
   "outputs": [],
   "source": [
    "# 1. Detectar columnas categóricas\n",
    "columnas_categoricas = [c for c, dtype in df_folds.dtypes if dtype == 'string' and c not in ['fold', 'loan_status']]\n",
    "\n",
    "# 2. Indexar y codificar\n",
    "indexers = [StringIndexer(inputCol=col, outputCol=col + \"_idx\", handleInvalid=\"keep\") for col in columnas_categoricas]\n",
    "encoders = [OneHotEncoder(inputCol=col + \"_idx\", outputCol=col + \"_vec\") for col in columnas_categoricas]\n",
    "\n",
    "# 3. Crear lista de columnas finales para ensamblar (numéricas + codificadas)\n",
    "columnas_numericas = [c for c in df_folds.columns if c not in columnas_categoricas + ['fold', 'loan_status']]\n",
    "columnas_finales = columnas_numericas + [col + \"_vec\" for col in columnas_categoricas]\n",
    "target = \"loan_status\"\n",
    "\n",
    "# 4. Ensamblar features\n",
    "assembler = VectorAssembler(inputCols=columnas_finales, outputCol=\"features\")\n",
    "\n",
    "# 5. Construir Pipeline de preprocesamiento\n",
    "pipeline = Pipeline(stages=indexers + encoders + [assembler])\n",
    "\n",
    "# 6. Ejecutar pipeline\n",
    "df_folds_as = pipeline.fit(df_folds).transform(df_folds)"
   ]
  },
  {
   "cell_type": "code",
   "execution_count": 67,
   "id": "2f6cd721",
   "metadata": {},
   "outputs": [],
   "source": [
    "evaluator_auc = BinaryClassificationEvaluator(labelCol=\"loan_status\", rawPredictionCol=\"rawPrediction\", metricName=\"areaUnderROC\")\n",
    "evaluator_acc = MulticlassClassificationEvaluator(labelCol=\"loan_status\", predictionCol=\"prediction\", metricName=\"accuracy\")\n",
    "evaluator_f1 = MulticlassClassificationEvaluator(labelCol=\"loan_status\", predictionCol=\"prediction\", metricName=\"f1\")\n",
    "evaluator_precision = MulticlassClassificationEvaluator(labelCol=\"loan_status\", predictionCol=\"prediction\", metricName=\"weightedPrecision\")\n",
    "evaluator_recall = MulticlassClassificationEvaluator(labelCol=\"loan_status\", predictionCol=\"prediction\", metricName=\"weightedRecall\")\n"
   ]
  },
  {
   "cell_type": "code",
   "execution_count": 68,
   "id": "ea7e32ab",
   "metadata": {},
   "outputs": [
    {
     "name": "stdout",
     "output_type": "stream",
     "text": [
      "\n",
      "Entrenando Fold 0\n",
      "Fold 0 AUC: 0.9520 | Accuracy: 0.9298 | F1: 0.9186 | Precision: 0.9343 | Recall: 0.9298 | Train_Accuracy: 0.9322 | Train_F1: 0.9217\n",
      "\n",
      "Entrenando Fold 1\n",
      "Fold 1 AUC: 0.9518 | Accuracy: 0.9294 | F1: 0.9177 | Precision: 0.9343 | Recall: 0.9294 | Train_Accuracy: 0.9317 | Train_F1: 0.9209\n",
      "\n",
      "Entrenando Fold 2\n",
      "Fold 2 AUC: 0.9524 | Accuracy: 0.9274 | F1: 0.9150 | Precision: 0.9325 | Recall: 0.9274 | Train_Accuracy: 0.9292 | Train_F1: 0.9175\n",
      "\n",
      "Entrenando Fold 3\n",
      "Fold 3 AUC: 0.9548 | Accuracy: 0.9256 | F1: 0.9123 | Precision: 0.9310 | Recall: 0.9256 | Train_Accuracy: 0.9268 | Train_F1: 0.9140\n",
      "\n",
      "Entrenando Fold 4\n",
      "Fold 4 AUC: 0.9525 | Accuracy: 0.9246 | F1: 0.9111 | Precision: 0.9301 | Recall: 0.9246 | Train_Accuracy: 0.9272 | Train_F1: 0.9146\n"
     ]
    }
   ],
   "source": [
    "resultados_folds = []\n",
    "matrices_confusion = []\n",
    "\n",
    "for i in range(k):\n",
    "    print(f\"\\nEntrenando Fold {i}\")\n",
    "    try:\n",
    "        # Separar conjuntos\n",
    "        train_df = df_folds_as.filter(col(\"fold\") != i)\n",
    "        test_df = df_folds_as.filter(col(\"fold\") == i)\n",
    "\n",
    "        # Modelo\n",
    "        rf = RandomForestClassifier(\n",
    "            labelCol=\"loan_status\",\n",
    "            featuresCol=\"features\",\n",
    "            numTrees=50,\n",
    "            maxDepth=10,\n",
    "            seed=1\n",
    "        )\n",
    "        modelo = rf.fit(train_df)\n",
    "\n",
    "        # Predicciones\n",
    "        pred_train = modelo.transform(train_df)\n",
    "        predicciones = modelo.transform(test_df)\n",
    "        # Métricas de validación\n",
    "        auc = evaluator_auc.evaluate(predicciones)\n",
    "        acc = evaluator_acc.evaluate(predicciones)\n",
    "        f1 = evaluator_f1.evaluate(predicciones)\n",
    "        precision = evaluator_precision.evaluate(predicciones)\n",
    "        recall = evaluator_recall.evaluate(predicciones)\n",
    "\n",
    "        # Métricas de entrenamiento\n",
    "        acc_train = evaluator_acc.evaluate(pred_train)\n",
    "        f1_train = evaluator_f1.evaluate(pred_train)\n",
    "\n",
    "        # Guardar resultados\n",
    "        resultados_folds.append({\n",
    "            \"fold\": i,\n",
    "            \"AUC\": auc,\n",
    "            \"Accuracy\": acc,\n",
    "            \"F1\": f1,\n",
    "            \"Precision\": precision,\n",
    "            \"Recall\": recall,\n",
    "            \"Train_Accuracy\": acc_train,\n",
    "            \"Train_F1\": f1_train\n",
    "        })\n",
    "\n",
    "        # Matriz de confusión\n",
    "        matriz = predicciones.groupBy(\"loan_status\", \"prediction\").count().orderBy(\"loan_status\", \"prediction\")\n",
    "        matrices_confusion.append(matriz)\n",
    "\n",
    "        print(f\"Fold {i} AUC: {auc:.4f} | Accuracy: {acc:.4f} | F1: {f1:.4f} | Precision: {precision:.4f} | Recall: {recall:.4f} | Train_Accuracy: {acc_train:.4f} | Train_F1: {f1_train:.4f}\")\n",
    "    except Exception as e:\n",
    "        print(f\"Error en Fold {i}: {e}\")"
   ]
  },
  {
   "cell_type": "markdown",
   "id": "03426991",
   "metadata": {},
   "source": [
    "### 6.1.4 Visualización de Resultados\n",
    "\n",
    "En esta sección se presentan las visualizaciones generadas a partir de los resultados obtenidos durante la experimentación con validación cruzada. Las métricas evaluadas en cada fold permiten observar la estabilidad del modelo, así como identificar posibles variaciones en su rendimiento.\n",
    "\n",
    "A continuación, se muestran las gráficas más relevantes:\n",
    "\n",
    "- **Boxplot de métricas (Accuracy, F1, Precision, Recall)**.\n",
    "- **Grafica de barras (Accuracy, F1, Precision, Recall)** por fold.\n",
    "- **Curva ROC promedio** del modelo, tomando los valores de predicción en cada iteración.\n",
    "- **Matriz de confusión consolidada**, sumando los errores de clasificación acumulados.\n",
    "\n",
    "Estas visualizaciones permiten identificar si el modelo presenta inestabilidad, sobreajuste o sesgo hacia alguna de las clases, complementando el análisis numérico realizado "
   ]
  },
  {
   "cell_type": "code",
   "execution_count": 69,
   "id": "9da23a1b",
   "metadata": {},
   "outputs": [
    {
     "data": {
      "image/png": "[encoded data removed]",
      "text/plain": [
       "<Figure size 640x480 with 1 Axes>"
      ]
     },
     "metadata": {},
     "output_type": "display_data"
    }
   ],
   "source": [
    "acc_test = [fold['Accuracy'] for fold in resultados_folds]\n",
    "acc_train = [fold['Train_Accuracy'] for fold in resultados_folds]\n",
    "\n",
    "f1_test = [fold['F1'] for fold in resultados_folds]\n",
    "f1_train = [fold['Train_F1'] for fold in resultados_folds]\n",
    "\n",
    "recall_test = [fold['Recall'] for fold in resultados_folds]\n",
    "precision_test = [fold['Precision'] for fold in resultados_folds]\n",
    "\n",
    "dict_met = {\"acc_test\":acc_test, \"acc_train\":acc_train, \"f1_test\":f1_test, \"f1_train\":f1_train, \"recall\":recall_test, \"precision\":precision_test}\n",
    "plt.boxplot(dict_met.values(), boxprops=dict(color='blue'), whiskerprops=dict(color='red'), capprops=dict(color='green'), medianprops=dict(color='orange'), flierprops=dict(markerfacecolor='red', marker='o'), tick_labels=dict_met.keys())\n",
    "plt.title('Boxlpots de métricas clasificación')\n",
    "plt.xlabel('Métricas')\n",
    "plt.ylabel('Valor')\n",
    "plt.show()"
   ]
  },
  {
   "cell_type": "code",
   "execution_count": 70,
   "id": "848a03d8",
   "metadata": {},
   "outputs": [
    {
     "data": {
      "image/png": "[encoded data removed]",
      "text/plain": [
       "<Figure size 2400x600 with 3 Axes>"
      ]
     },
     "metadata": {},
     "output_type": "display_data"
    }
   ],
   "source": [
    "df_metrics = pd.DataFrame(resultados_folds)\n",
    "\n",
    "fig, axes = plt.subplots(1, 3, figsize=(24, 6))\n",
    "plt.subplots_adjust(wspace=0.4)\n",
    "axes = axes.ravel()\n",
    "\n",
    "metrics = ['Accuracy', 'F1', 'Precision']\n",
    "\n",
    "for metric, ax in zip(metrics, axes):\n",
    "    sns.barplot(\n",
    "        data=df_metrics,\n",
    "        x='fold',\n",
    "        y=metric,\n",
    "        hue='fold',\n",
    "        ax=ax,\n",
    "        palette='Blues_d',\n",
    "        legend=False\n",
    "    )\n",
    "    ax.set_title(f'{metric} por Fold', fontsize=14)\n",
    "    ax.set_xlabel('Fold')\n",
    "    ax.set_ylabel(metric)\n",
    "    ax.set_ylim(0.90, 0.97)\n",
    "    ax.bar_label(ax.containers[0], fmt='%.3f')\n",
    "\n",
    "plt.suptitle('Comparación de métricas por Fold', fontsize=16)\n",
    "plt.show()\n"
   ]
  },
  {
   "cell_type": "code",
   "execution_count": 72,
   "id": "de632841",
   "metadata": {},
   "outputs": [
    {
     "data": {
      "image/png": "[encoded data removed]",
      "text/plain": [
       "<Figure size 800x600 with 1 Axes>"
      ]
     },
     "metadata": {},
     "output_type": "display_data"
    },
    {
     "name": "stdout",
     "output_type": "stream",
     "text": [
      "Área bajo la curva ROC (AUC) en el conjunto de entrenamiento: 0.9626\n"
     ]
    }
   ],
   "source": [
    "# Obtener resumen del modelo entrenado\n",
    "trainingSummary = modelo.summary\n",
    "\n",
    "# Convertir a Pandas la curva ROC\n",
    "lrROC = trainingSummary.roc.toPandas()\n",
    "\n",
    "# Graficar la curva ROC\n",
    "plt.figure(figsize=(8,6))\n",
    "plt.plot(lrROC['FPR'], lrROC['TPR'], label=\"ROC Curve\", color='blue')\n",
    "plt.plot([0, 1], [0, 1], 'k--', label=\"Random Classifier\")\n",
    "plt.xlabel('False Positive Rate')\n",
    "plt.ylabel('True Positive Rate')\n",
    "plt.title('Curva ROC del modelo (entrenamiento)')\n",
    "plt.legend(loc='lower right')\n",
    "plt.grid(True)\n",
    "plt.show()\n",
    "\n",
    "# Mostrar el valor de AUC\n",
    "print(f'Área bajo la curva ROC (AUC) en el conjunto de entrenamiento: {trainingSummary.areaUnderROC:.4f}')\n"
   ]
  },
  {
   "cell_type": "markdown",
   "id": "6aff0914",
   "metadata": {},
   "source": [
    "## 6.2 Modelos No Supervisados – Clustering\n",
    "\n",
    "En esta sección se implementa un modelo de **aprendizaje no supervisado**, específicamente el algoritmo de **KMeans**, con el objetivo de descubrir agrupamientos naturales entre los clientes, sin utilizar etiquetas (`loan_status`) durante el entrenamiento.\n",
    "\n",
    "Este tipo de análisis es útil para detectar **segmentos homogéneos** en la población, lo cual puede ser aprovechado en estrategias como personalización de productos, evaluación de riesgo o marketing dirigido.\n",
    "\n",
    "Evaluación: Silhouette Score\n",
    "\n",
    "Dado que no se cuenta con una variable objetivo para comparar los resultados, la calidad del agrupamiento se evalúa mediante la métrica:\n",
    "\n",
    "- **Silhouette Score**: Indica qué tan similares son los elementos dentro de un mismo clúster y qué tan distintos son con respecto a otros clústeres. Sus valores van de -1 a 1, donde:\n",
    "  - **+1**: agrupamientos bien definidos.\n",
    "  - **0**: solapamiento entre clústeres.\n",
    "  - **−1**: asignaciones incorrectas.\n",
    "\n",
    "La evaluación se realiza con `ClusteringEvaluator` de PySpark, diseñado para funcionar de forma eficiente sobre grandes volúmenes de datos distribuidos.\n",
    "\n",
    "---\n",
    "\n",
    "En las siguientes celdas se muestra el código utilizado para entrenar el modelo KMeans y seleccionar el número óptimo de clústeres mediante la comparación de Silhouette Scores."
   ]
  },
  {
   "cell_type": "markdown",
   "id": "9c0ebad3",
   "metadata": {},
   "source": [
    "#### 6.2.1 Clustering con K-Means\n",
    "\n",
    "El modelo de clustering K-Means busca dividir el conjunto de datos en `k` grupos (clusters), donde cada grupo contiene registros con características similares entre sí y diferentes de los otros grupos.\n",
    "\n",
    "Para este proyecto:\n",
    "\n",
    "- Se entrenó un modelo con **k = 3** clusters.\n",
    "- El modelo fue aplicado sobre el conjunto `Train`, ya codificado y ensamblado previamente.\n",
    "- Se generó una columna `prediction` con el número de clúster asignado a cada registro.\n"
   ]
  },
  {
   "cell_type": "code",
   "execution_count": 73,
   "id": "bb058b69",
   "metadata": {},
   "outputs": [
    {
     "name": "stdout",
     "output_type": "stream",
     "text": [
      "+-----------------------------------------------------------------------------------------------------------------------------------------------------------------------------------------------------------------------------------------------------------------------------------------------------------------------------------------------------------------------------------------------------------------------------------------------------------------------------------------------------------------------------------+----------+\n",
      "|features                                                                                                                                                                                                                                                                                                                                                                                                                                                                                                                           |prediction|\n",
      "+-----------------------------------------------------------------------------------------------------------------------------------------------------------------------------------------------------------------------------------------------------------------------------------------------------------------------------------------------------------------------------------------------------------------------------------------------------------------------------------------------------------------------------------+----------+\n",
      "|[2.0,0.0,0.0,2.0,0.0,1000.0,6.46,3.4544221428994533,10.933124826700707,2.2607208888953467,0.0,2.0794415416798357,8.932080438103307,25.2,3.091042453358316,6.856461984594587,4.125843229281472,2.422144328051685,3.4544221428994533,9.302828391411333,10.308985993422082,1.3862943611198906,7.357556200910353,28.3,0.6931471805599453,2.833213344056216,2.639057329615259,1.6094379124341003,1.791759469228055,1.6094379124341003,2.5649493574615367,0.0,4.61512051684126,0.0,9.302828391411333,8.699681400989514]                  |0         |\n",
      "|[2.0,0.0,0.0,3.0,0.0,1000.0,17.97,3.61469455592456,11.002116507732017,3.091042453358316,0.0,2.3978952727983707,9.713597426242222,74.5,3.4339872044851463,6.86484777797086,4.266615783162554,3.354455119110024,3.61469455592456,10.37061204103102,10.007892611890918,1.6094379124341003,8.068402958569699,99.2,1.0986122886681096,3.6635616461296463,2.0794415416798357,1.3862943611198906,1.791759469228055,1.3862943611198906,2.5649493574615367,0.6931471805599453,4.581901559048737,100.0,10.37061204103102,10.398366704472432] |0         |\n",
      "|[2.0,0.0,0.0,1.0,0.0,1400.0,15.02,3.902982260775997,11.418625774449598,2.9569914452375605,0.0,2.1972245773362196,9.486607541612665,55.2,2.302585092994046,7.198931240688173,4.573989068504517,3.5406694269487495,3.902982260775997,10.44787366982408,10.081675578048475,1.0986122886681096,8.368693183097793,89.3,0.0,4.189654742026425,2.639057329615259,1.3862943611198906,1.9459101490553132,1.3862943611198906,1.3862943611198906,0.0,4.61512051684126,100.0,10.44787366982408,10.686612539214305]                             |0         |\n",
      "|[2.0,0.0,0.0,1.0,10.0,2000.0,13.56,4.23309149689756,11.082157933374816,3.6459719531026598,0.0,2.4849066497880004,9.690046776683303,95.0,3.044522437723423,7.554334823725748,4.90786401606031,3.7882721979919713,4.23309149689756,11.149326605958672,9.741027444837728,1.9459101490553132,8.751632702472298,95.0,1.0986122886681096,3.4339872044851463,2.833213344056216,1.3862943611198906,1.3862943611198906,1.3862943611198906,2.639057329615259,1.3862943611198906,4.61512051684126,100.0,11.149326605958672,11.351441294042747]|0         |\n",
      "|[2.0,0.0,0.0,4.0,4.0,2100.0,23.4,4.415582293202092,10.099753105042092,1.3376291891386096,0.0,1.0986122886681096,7.029087564149662,70.5,1.3862943611198906,7.588829878307813,5.49495265798145,4.77676777941907,4.415582293202092,7.029087564149662,7.3783837129967145,0.0,6.336825731146441,94.0,0.0,3.4011973816621555,1.791759469228055,0.6931471805599453,0.6931471805599453,0.6931471805599453,0.6931471805599453,0.0,4.61512051684126,100.0,7.029087564149662,0.0]                                                             |0         |\n",
      "+-----------------------------------------------------------------------------------------------------------------------------------------------------------------------------------------------------------------------------------------------------------------------------------------------------------------------------------------------------------------------------------------------------------------------------------------------------------------------------------------------------------------------------------+----------+\n",
      "only showing top 5 rows\n",
      "\n"
     ]
    }
   ],
   "source": [
    "# Crear el modelo con k=3\n",
    "kmeans_3 = KMeans(featuresCol=\"features\", k=3, seed=1)\n",
    "\n",
    "# Entrenar el modelo con el conjunto ya transformado (puede ser 'train' o 'M')\n",
    "modelo_kmeans_3 = kmeans_3.fit(train)\n",
    "\n",
    "# Aplicar el modelo al conjunto\n",
    "predicciones_kmeans_3 = modelo_kmeans_3.transform(train)\n",
    "\n",
    "# Mostrar algunas filas con el clúster asignado\n",
    "predicciones_kmeans_3.select(\"features\", \"prediction\").show(5, truncate=False)\n"
   ]
  },
  {
   "cell_type": "markdown",
   "id": "39eb9abb",
   "metadata": {},
   "source": [
    "#### 6.2.2 Determinación del número óptimo de clusters\n",
    "\n",
    "Para verificar si el valor `k = 3` es adecuado, se probaron varios valores de `k` (entre 2 y 6) y se compararon los resultados utilizando una métrica de calidad."
   ]
  },
  {
   "cell_type": "code",
   "execution_count": 74,
   "id": "f6e4bf3b",
   "metadata": {},
   "outputs": [
    {
     "name": "stdout",
     "output_type": "stream",
     "text": [
      "Silhouette Score para k = 2: 0.7825\n",
      "Silhouette Score para k = 3: 0.7428\n",
      "Silhouette Score para k = 4: 0.7231\n",
      "Silhouette Score para k = 5: 0.7027\n",
      "Silhouette Score para k = 6: 0.7494\n"
     ]
    }
   ],
   "source": [
    "# Evaluador de Silhouette\n",
    "evaluator = ClusteringEvaluator(featuresCol=\"features\", predictionCol=\"prediction\", metricName=\"silhouette\")\n",
    "\n",
    "# Evaluar para distintos valores de k\n",
    "resultados_silhouette = []\n",
    "\n",
    "for k in range(2, 7):  # de k=2 a k=6\n",
    "    kmeans = KMeans(featuresCol=\"features\", k=k, seed=1)\n",
    "    modelo = kmeans.fit(train)\n",
    "    pred = modelo.transform(train)\n",
    "    silhouette = evaluator.evaluate(pred)\n",
    "    \n",
    "    resultados_silhouette.append((k, silhouette))\n",
    "    print(f\"Silhouette Score para k = {k}: {silhouette:.4f}\")\n"
   ]
  },
  {
   "cell_type": "markdown",
   "id": "f654203d",
   "metadata": {},
   "source": [
    "#### 6.2.3 Evaluación de agrupamientos (Silhouette Score)\n",
    "\n",
    "La métrica utilizada fue el **Silhouette Score**, que indica qué tan bien definidos están los grupos formados:\n",
    "\n",
    "- Valores cercanos a **1** indican clústeres bien separados.\n",
    "- Valores cercanos a **0** indican grupos con fronteras poco claras.\n",
    "- Valores negativos sugieren agrupamientos incorrectos.\n",
    "\n",
    "La evaluación se realizó usando el módulo `ClusteringEvaluator` de PySpark, optimizado para entornos distribuidos."
   ]
  },
  {
   "cell_type": "code",
   "execution_count": 75,
   "id": "19d03cc7",
   "metadata": {},
   "outputs": [
    {
     "data": {
      "image/png": "[encoded data removed]",
      "text/plain": [
       "<Figure size 600x400 with 1 Axes>"
      ]
     },
     "metadata": {},
     "output_type": "display_data"
    }
   ],
   "source": [
    "# Convertir resultados a DataFrame de pandas\n",
    "df_silhouette = pd.DataFrame(resultados_silhouette, columns=[\"k\", \"silhouette_score\"])\n",
    "\n",
    "# Graficar\n",
    "plt.figure(figsize=(6, 4))\n",
    "plt.plot(df_silhouette[\"k\"], df_silhouette[\"silhouette_score\"], marker='o')\n",
    "plt.title(\"Silhouette Score por número de clusters\")\n",
    "plt.xlabel(\"Número de clusters (k)\")\n",
    "plt.ylabel(\"Silhouette Score\")\n",
    "plt.grid(True)\n",
    "plt.show()\n"
   ]
  }
 ],
 "metadata": {
  "kernelspec": {
   "display_name": "Actividad0",
   "language": "python",
   "name": "python3"
  },
  "language_info": {
   "codemirror_mode": {
    "name": "ipython",
    "version": 3
   },
   "file_extension": ".py",
   "mimetype": "text/x-python",
   "name": "python",
   "nbconvert_exporter": "python",
   "pygments_lexer": "ipython3",
   "version": "3.12.9"
  }
 },
 "nbformat": 4,
 "nbformat_minor": 5
}
